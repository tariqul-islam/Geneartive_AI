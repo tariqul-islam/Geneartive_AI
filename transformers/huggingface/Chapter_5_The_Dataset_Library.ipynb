{
 "cells": [
  {
   "cell_type": "markdown",
   "id": "33cf1e03",
   "metadata": {},
   "source": [
    "<h1>Working with local and remote datasets</h1>\n",
    "\n",
    "Let’s start by loading a dataset from local files; later we’ll see how to do the same with remote files.\n",
    "\n",
    "<h2>Loading a local dataset</h2>\n",
    "\n",
    "For this example we’ll use the SQuAD-it dataset, which is a large-scale dataset for question answering in Italian.\n",
    "\n",
    "The training and test splits are hosted on GitHub, so we can download them with a simple wget command:"
   ]
  },
  {
   "cell_type": "code",
   "execution_count": 1,
   "id": "baf92f84",
   "metadata": {},
   "outputs": [
    {
     "name": "stdout",
     "output_type": "stream",
     "text": [
      "--2024-01-07 12:17:06--  https://github.com/crux82/squad-it/raw/master/SQuAD_it-train.json.gz\n",
      "Resolving github.com (github.com)... 140.82.113.4\n",
      "Connecting to github.com (github.com)|140.82.113.4|:443... connected.\n",
      "HTTP request sent, awaiting response... 302 Found\n",
      "Location: https://raw.githubusercontent.com/crux82/squad-it/master/SQuAD_it-train.json.gz [following]\n",
      "--2024-01-07 12:17:07--  https://raw.githubusercontent.com/crux82/squad-it/master/SQuAD_it-train.json.gz\n",
      "Resolving raw.githubusercontent.com (raw.githubusercontent.com)... 185.199.109.133, 185.199.110.133, 185.199.111.133, ...\n",
      "Connecting to raw.githubusercontent.com (raw.githubusercontent.com)|185.199.109.133|:443... connected.\n",
      "HTTP request sent, awaiting response... 200 OK\n",
      "Length: 7725286 (7.4M) [application/octet-stream]\n",
      "Saving to: ‘SQuAD_it-train.json.gz’\n",
      "\n",
      "SQuAD_it-train.json 100%[===================>]   7.37M  9.07MB/s    in 0.8s    \n",
      "\n",
      "2024-01-07 12:17:08 (9.07 MB/s) - ‘SQuAD_it-train.json.gz’ saved [7725286/7725286]\n",
      "\n",
      "--2024-01-07 12:17:08--  https://github.com/crux82/squad-it/raw/master/SQuAD_it-test.json.gz\n",
      "Resolving github.com (github.com)... 140.82.112.4\n",
      "Connecting to github.com (github.com)|140.82.112.4|:443... connected.\n",
      "HTTP request sent, awaiting response... 302 Found\n",
      "Location: https://raw.githubusercontent.com/crux82/squad-it/master/SQuAD_it-test.json.gz [following]\n",
      "--2024-01-07 12:17:08--  https://raw.githubusercontent.com/crux82/squad-it/master/SQuAD_it-test.json.gz\n",
      "Resolving raw.githubusercontent.com (raw.githubusercontent.com)... 185.199.108.133, 185.199.111.133, 185.199.110.133, ...\n",
      "Connecting to raw.githubusercontent.com (raw.githubusercontent.com)|185.199.108.133|:443... connected.\n",
      "HTTP request sent, awaiting response... 200 OK\n",
      "Length: 1051245 (1.0M) [application/octet-stream]\n",
      "Saving to: ‘SQuAD_it-test.json.gz’\n",
      "\n",
      "SQuAD_it-test.json. 100%[===================>]   1.00M  5.77MB/s    in 0.2s    \n",
      "\n",
      "2024-01-07 12:17:09 (5.77 MB/s) - ‘SQuAD_it-test.json.gz’ saved [1051245/1051245]\n",
      "\n"
     ]
    }
   ],
   "source": [
    "!wget https://github.com/crux82/squad-it/raw/master/SQuAD_it-train.json.gz\n",
    "!wget https://github.com/crux82/squad-it/raw/master/SQuAD_it-test.json.gz"
   ]
  },
  {
   "cell_type": "code",
   "execution_count": 2,
   "id": "8b78c79d",
   "metadata": {},
   "outputs": [
    {
     "name": "stdout",
     "output_type": "stream",
     "text": [
      "SQuAD_it-test.json.gz:\t 87.5% -- replaced with SQuAD_it-test.json\n",
      "SQuAD_it-train.json.gz:\t 82.3% -- replaced with SQuAD_it-train.json\n"
     ]
    }
   ],
   "source": [
    "!gzip -dkv SQuAD_it-*.json.gz"
   ]
  },
  {
   "cell_type": "code",
   "execution_count": 3,
   "id": "119abfbe",
   "metadata": {},
   "outputs": [
    {
     "data": {
      "application/vnd.jupyter.widget-view+json": {
       "model_id": "17fceb6e198f4248a203bc18d9cb8526",
       "version_major": 2,
       "version_minor": 0
      },
      "text/plain": [
       "Generating train split: 0 examples [00:00, ? examples/s]"
      ]
     },
     "metadata": {},
     "output_type": "display_data"
    }
   ],
   "source": [
    "from datasets import load_dataset\n",
    "\n",
    "squad_it_dataset = load_dataset(\"json\", data_files=\"SQuAD_it-train.json\", field=\"data\")"
   ]
  },
  {
   "cell_type": "code",
   "execution_count": 12,
   "id": "c3acc631",
   "metadata": {},
   "outputs": [
    {
     "data": {
      "text/plain": [
       "DatasetDict({\n",
       "    train: Dataset({\n",
       "        features: ['title', 'paragraphs'],\n",
       "        num_rows: 442\n",
       "    })\n",
       "})"
      ]
     },
     "execution_count": 12,
     "metadata": {},
     "output_type": "execute_result"
    }
   ],
   "source": [
    "squad_it_dataset"
   ]
  },
  {
   "cell_type": "code",
   "execution_count": 14,
   "id": "ac91517b",
   "metadata": {},
   "outputs": [
    {
     "data": {
      "text/plain": [
       "{'title': 'Torcia per le Olimpiadi estive 2008',\n",
       " 'paragraphs': [{'context': 'La staffetta torcia delle Olimpiadi estive 2008 è stata eseguita dal 24 marzo all\\' 8 agosto 2008, prima delle Olimpiadi estive 2008, con il tema \"Un mondo, un sogno\". I piani per il relè sono stati annunciati il 26 aprile 2007, a Pechino, in Cina. La staffetta, chiamata anche dagli organizzatori come il \"Viaggio di Armonia\", è durata 129 giorni e ha portato la torcia 137.000 km (85.000 mi) - la distanza più lunga di qualsiasi staffetta torcia olimpica da quando la tradizione è stata iniziata prima delle Olimpiadi estive del 1936.',\n",
       "   'qas': [{'answers': [{'answer_start': 336, 'text': '129 giorni'}],\n",
       "     'id': '56d89c3ebfea0914004b76f2',\n",
       "     'question': 'Quanti giorni ha portato la torcia olimpica prima delle Olimpiadi estive del 2008?'},\n",
       "    {'answers': [{'answer_start': 146, 'text': 'Un mondo, un sogno'}],\n",
       "     'id': '56d89c3ebfea0914004b76f4',\n",
       "     'question': 'Qual era il tema del relè torcia?'},\n",
       "    {'answers': [{'answer_start': 306, 'text': 'Viaggio di Armonia'}],\n",
       "     'id': '56d89c3ebfea0914004b76f5',\n",
       "     'question': \"Cosa l' hanno definito gli organizzatori del relè torcia?\"},\n",
       "    {'answers': [{'answer_start': 146, 'text': 'Un mondo, un sogno'}],\n",
       "     'id': '56daf2b6e7c41114004b4b6a',\n",
       "     'question': 'Qual era lo slogan olimpico del 2008?'},\n",
       "    {'answers': [{'answer_start': 305, 'text': '\"Viaggio di Armonia\"'}],\n",
       "     'id': '56daf2b6e7c41114004b4b6c',\n",
       "     'question': 'Qual è stato il relè torcia definito dagli organizzatori?'},\n",
       "    {'answers': [{'answer_start': 382, 'text': '85.000 mi'}],\n",
       "     'id': '56daf2b6e7c41114004b4b6d',\n",
       "     'question': 'Quanti chilometri è stata trasmessa la torcia olimpica?'}]},\n",
       "  {'context': \"Dopo essere stata illuminata nella città natale dei giochi olimpici di Olimpia, in Grecia, il 24 marzo, la torcia si è recata allo stadio Panathinaiko di Atene e poi a Pechino, arrivando il 31 marzo. Da Pechino, la torcia stava seguendo un percorso che attraversava sei continenti. La torcia ha visitato le città lungo la Via della Seta, simbolo di antichi legami tra la Cina e il resto del mondo. La staffetta comprendeva anche una salita con la fiamma verso la cima del Monte Everest al confine tra Nepal e Tibet, Cina dal lato cinese, che è stato chiuso appositamente per l' evento.\",\n",
       "   'qas': [{'answers': [{'answer_start': 322, 'text': 'Via della Seta'}],\n",
       "     'id': '56d89fbcbfea0914004b76fd',\n",
       "     'question': 'La torcia era sulla strada per simboleggiare i legami storici tra la Cina e il mondo?'},\n",
       "    {'answers': [{'answer_start': 472, 'text': 'Monte Everest'}],\n",
       "     'id': '56daf3b2e7c41114004b4b7e',\n",
       "     'question': 'Quale montagna è stata occupata la torcia?'}]},\n",
       "  {'context': \"In molte città lungo il percorso nordamericano ed europeo, la staffetta della torcia è stata contestata da sostenitori dell' indipendenza tibetana, dei diritti degli animali e del gioco d' azzardo legale online, e da persone che protestavano contro i diritti umani della Cina, con il risultato di scontri in alcune delle località della staffetta. Queste proteste, che andavano da centinaia di persone a San Francisco, a nessuno effettivamente a Pyongyang, costrinsero la via della staffetta della torcia a essere cambiata o accorciata in diverse occasioni. La torcia è stata spenta più volte durante la tappa parigina per motivi di sicurezza, e una volta in segno di protesta a Parigi.\",\n",
       "   'qas': [{'answers': [{'answer_start': 380, 'text': 'centinaia'}],\n",
       "     'id': '56d8a0ddbfea0914004b7706',\n",
       "     'question': 'Quante persone hanno protestato sulla fiaccola di San Francisco?'},\n",
       "    {'answers': [{'answer_start': 420, 'text': 'nessuno effettivamente'}],\n",
       "     'id': '56d8a0ddbfea0914004b7707',\n",
       "     'question': 'Quante persone hanno protestato alla fiaccola Pyongyang?'},\n",
       "    {'answers': [{'answer_start': 229, 'text': 'protesta'}],\n",
       "     'id': '56daf4e0e7c41114004b4b9b',\n",
       "     'question': 'Cosa stavano facendo alcuni gruppi lungo il percorso della torcia che non era favorevole alle Olimpiadi?'}]},\n",
       "  {'context': 'Gli attacchi alla torcia di Londra e Parigi sono stati descritti come \"spregevoli\" dal governo cinese, condannandoli come \"sconvolgimenti deliberati che non hanno pensato allo spirito olimpico o alle leggi della Gran Bretagna e della Francia\" e che \"offuscano l\\' alto spirito olimpico\", e hanno promesso che avrebbero continuato con la staffetta e non permettere alle proteste di \"ostacolare lo spirito olimpico\". Le controprotezioni su larga scala da parte di cinesi stranieri e stranieri stranieri cittadini cinesi è diventato prevalente in segmenti più tardi della staffetta. A San Francisco, il numero dei sostenitori era molto più elevato del numero dei manifestanti e in Australia, Giappone, Corea del Sud, i controprotester hanno sopraffatto i manifestanti. Un paio di schermaglie tra i manifestanti e i sostenitori sono stati riportati. Non sono state osservate grandi proteste in America Latina, Africa e Asia Occidentale della staffetta torcia.',\n",
       "   'qas': [{'answers': [{'answer_start': 776, 'text': 'schermaglie'}],\n",
       "     'id': '56daf68de7c41114004b4bc1',\n",
       "     'question': 'Che cosa si dice che si sia verificato tra alcuni sostenitori e manifestanti?'},\n",
       "    {'answers': [{'answer_start': 889,\n",
       "       'text': 'America Latina, Africa e Asia Occidentale'}],\n",
       "     'id': '56daf68de7c41114004b4bc2',\n",
       "     'question': 'Quali sono state le tre aree del globo in cui le proteste non sono state considerate grandi?'}]},\n",
       "  {'context': 'Spinto dai caotici relè della torcia in Europa Occidentale e Nord America, il presidente del Comitato Olimpico Internazionale, Jacques Rogge, ha descritto la situazione come una \"crisi\" per l\\' organizzazione e ha dichiarato che tutti gli atleti che mostrano bandiere tibetane nelle sedi olimpiche potrebbero essere espulsi dai giochi. anche se ha smesso di non cancellare del tutto il relè nonostante le chiamate a farlo da alcuni membri del CIO. Il risultato del relè ha influenzato la decisione del CIO di eliminare i relè globali nelle prossime edizioni dei giochi.',\n",
       "   'qas': [{'answers': [{'answer_start': 127, 'text': 'Jacques Rogge'}],\n",
       "     'id': '56d8a84abfea0914004b7719',\n",
       "     'question': 'Chi è il presidente del Comitato olimpico internazionale?'},\n",
       "    {'answers': [{'answer_start': 520, 'text': 'relè globali'}],\n",
       "     'id': '56d8a84abfea0914004b771d',\n",
       "     'question': 'A causa dei problemi relè, il CIO ha deciso di non avere più che cosa in Olimpiadi successive?'},\n",
       "    {'answers': [{'answer_start': 127, 'text': 'Jacques Rogge'}],\n",
       "     'id': '56daf993e7c41114004b4bed',\n",
       "     'question': 'Qual è il nome dell\\' uomo che ha detto la protesta della staffetta della torcia come \"crisi\"?'}]},\n",
       "  {'context': 'Nel giugno 2008, il Comitato Organizzatore dei Giochi di Pechino ha annunciato che la prevista staffetta internazionale della torcia per i Giochi Paraolimpici era stata cancellata. Il Comitato ha dichiarato che la staffetta veniva cancellata per consentire al governo cinese di \"concentrarsi sui lavori di soccorso e soccorso\" in seguito al terremoto del Sichuan.',\n",
       "   'qas': [{'answers': [{'answer_start': 139, 'text': 'Giochi Paraolimpici'}],\n",
       "     'id': '56d8d444bfea0914004b7723',\n",
       "     'question': 'Il relè torcia internazionale è stato annullato per quale evento nel giugno 2008?'},\n",
       "    {'answers': [{'answer_start': 139, 'text': 'Giochi Paraolimpici'}],\n",
       "     'id': '56dafa15e7c41114004b4bf5',\n",
       "     'question': 'Per quali eventi ha deciso di non tenere il relè torcia?'}]},\n",
       "  {'context': 'La torcia olimpica si basa su rotoli tradizionali e utilizza un design tradizionale cinese noto come \"Lucky Cloud\". È realizzato in alluminio. È alta 72 centimetri e pesa 985 grammi. La torcia è progettata per rimanere illuminata con 65 chilometri orari (37 miglia orarie) di vento e sotto la pioggia fino a 50 millimetri (2 pollici) all\\' ora. Per accendere e spegnere la fiamma viene utilizzata una chiave di accensione. La torcia è alimentata da lattine di propano. Ciascuna lattina accenderà la torcia per 15 minuti. È progettato da un team di Lenovo Group. La Torcia è progettata in riferimento al tradizionale concetto cinese dei 5 elementi che compongono l\\' intero universo.',\n",
       "   'qas': [{'answers': [{'answer_start': 102, 'text': 'Lucky Cloud'}],\n",
       "     'id': '56d8d4e7bfea0914004b7727',\n",
       "     'question': 'Qual è il design cinese utilizzato sulla torcia olimpica?'},\n",
       "    {'answers': [{'answer_start': 396, 'text': 'una chiave di accensione'}],\n",
       "     'id': '56d8d4e7bfea0914004b7729',\n",
       "     'question': 'Che cosa serve per accendere la fiamma sulla Torcia Olimpica?'},\n",
       "    {'answers': [{'answer_start': 102, 'text': 'Lucky Cloud'}],\n",
       "     'id': '56dafad1e7c41114004b4bf9',\n",
       "     'question': 'Quale velocità del vento la fiamma della torcia rimane ancora accesa in MPH?'},\n",
       "    {'answers': [{'answer_start': 151, 'text': '2'}],\n",
       "     'id': '56dafad1e7c41114004b4bfa',\n",
       "     'question': \"Quanta pioggia in pollici all' ora la torcia può rimanere accesa?\"}]},\n",
       "  {'context': \"A livello internazionale, la fiaccola e il suo accompagnatore hanno viaggiato in un Air China Airbus A330 (registrato B-6075) noleggiato, dipinto nei colori rosso e giallo dei Giochi Olimpici. Air China è stata scelta dai comitati di Pechino del gioco olimpico come vettore olimpico designato nel marzo 2008 per la sua partecipazione di lunga data alla causa olimpica. L' aereo ha percorso un totale di 137.000 km (85.000 mi) per una durata di 130 giorni attraverso 21 paesi e regioni.\",\n",
       "   'qas': [{'answers': [{'answer_start': 157, 'text': 'rosso e giallo'}],\n",
       "     'id': '56d8d5babfea0914004b7736',\n",
       "     'question': 'Quale colore era il piano charter?'},\n",
       "    {'answers': [{'answer_start': 297, 'text': 'marzo 2008'}],\n",
       "     'id': '56d8d5babfea0914004b7737',\n",
       "     'question': 'Quando è stato deciso che Air China sarebbe stata il vettore ufficiale della torcia?'},\n",
       "    {'answers': [{'answer_start': 444, 'text': '130 giorni'}],\n",
       "     'id': '56d8d5babfea0914004b7739',\n",
       "     'question': \"Quanti giorni ha viaggiato l' aereo?\"},\n",
       "    {'answers': [{'answer_start': 94, 'text': 'Airbus A330'}],\n",
       "     'id': '56dafc53e7c41114004b4c07',\n",
       "     'question': 'In quale tipo di aereo ha viaggiato il team Torch?'},\n",
       "    {'answers': [{'answer_start': 157, 'text': 'rosso e giallo'}],\n",
       "     'id': '56dafc53e7c41114004b4c08',\n",
       "     'question': \"Quali colori è stato dipinto l' aereo?\"},\n",
       "    {'answers': [{'answer_start': 84, 'text': 'Air China'}],\n",
       "     'id': '56dafc53e7c41114004b4c09',\n",
       "     'question': 'Qual era il nome della compagnia aerea che ha trasportato la Torcia Olimpica?'},\n",
       "    {'answers': [{'answer_start': 444, 'text': '130'}],\n",
       "     'id': '56dafc53e7c41114004b4c0a',\n",
       "     'question': \"Quanti giorni ha trascorso l' aereo con il team Torch?\"},\n",
       "    {'answers': [{'answer_start': 466, 'text': '21'}],\n",
       "     'id': '56dafc53e7c41114004b4c0b',\n",
       "     'question': \"Quanti luoghi diversi sono stati visitati dall' aereo che ha preso la Torcia?\"}]},\n",
       "  {'context': \"Il percorso ha trasportato la torcia attraverso sei continenti da marzo 2008 a maggio 2008 fino ad agosto 2008. Il percorso previsto originariamente prevedeva una fermata a Taipei tra Ho Chi Minh City e Hong Kong, ma c' era disaccordo a Pechino e Taipei sulla lingua usata per descrivere se si trattava di una parte internazionale o nazionale del percorso. Mentre i comitati olimpici della Cina e di Taipei cinese hanno raggiunto un consenso iniziale sull' approccio, il governo della Repubblica cinese è intervenuto a Taiwan, affermando che questa collocazione potrebbe essere interpretata come un' implicazione alla quale si oppone. Il Comitato Organizzatore di Pechino ha tentato di proseguire i negoziati, ma sono sorte ulteriori controversie sulla bandiera o sull' inno della Repubblica Cinese lungo la rotta delle torce di 24 km a Taiwan. Alla scadenza di mezzanotte per la conclusione dei negoziati il 21 settembre 2007, Taiwan e la Cina non sono riusciti a trovare un accordo sulla questione del Torch Relay. Alla fine, entrambi i lati dello Stretto di Taiwan hanno deciso di eliminare la gamba Taipei.\",\n",
       "   'qas': [{'answers': [{'answer_start': 48, 'text': 'sei'}],\n",
       "     'id': '56d8d809dc89441400fdb326',\n",
       "     'question': 'Quanti continenti ha visitato la torcia?'},\n",
       "    {'answers': [{'answer_start': 173, 'text': 'Taipei'}],\n",
       "     'id': '56d8d809dc89441400fdb327',\n",
       "     'question': 'Qual era la fermata che doveva succedere tra Ho Chi Minh City e Hong Kong?'},\n",
       "    {'answers': [{'answer_start': 52, 'text': 'continenti'}],\n",
       "     'id': '56db003ae7c41114004b4c11',\n",
       "     'question': 'Il percorso della torcia ha coperto sei cosa?'},\n",
       "    {'answers': [{'answer_start': 837, 'text': 'Taiwan.'}],\n",
       "     'id': '56db003ae7c41114004b4c12',\n",
       "     'question': 'Quali sono stati i due luoghi che Taiwan non ha voluto considerare uguali nella lingua della descrizione del percorso della torcia?'},\n",
       "    {'answers': [{'answer_start': 829, 'text': '24'}],\n",
       "     'id': '56db003ae7c41114004b4c14',\n",
       "     'question': 'Quanti chilometri doveva percorrere la torcia attraverso Taiwan?'}]},\n",
       "  {'context': 'Grecia: Il 24 marzo 2008, la fiamma olimpica è stata accesa a Olimpia, in Grecia, dove si svolgevano gli antichi Giochi Olimpici. L\\' attrice Maria Nafpliotou, nel ruolo di Alta Sacerdote, ha acceso la torcia del primo tedoforo, medaglia d\\' argento delle Olimpiadi estive del 2004 a taekwondo Alexandros Nikolaidis dalla Grecia, che ha consegnato la fiamma al secondo tedoforo, campione olimpico nel seno femminile Luo Xuejuan dalla Cina. In seguito ai recenti disordini in Tibet, tre membri di Reporter senza frontiere, tra cui Robert Ménard, hanno violato la sicurezza e hanno tentato di sconvolgere un discorso di Liu Qi, il capo del comitato organizzatore olimpico di Pechino durante la cerimonia per l\\' illuminazione della torcia a Olimpia, in Grecia. La Repubblica popolare cinese lo ha definito un \"vergognoso\" tentativo di sabotare le Olimpiadi. Il 30 marzo 2008 ad Atene, in occasione delle cerimonie di consegna della fiaccola da parte dei funzionari greci agli organizzatori dei giochi di Pechino, i manifestanti hanno gridato \"Tibet libero\" e striscioni spiegati; circa 10 dei 15 manifestanti sono stati arrestati dalla polizia. Dopo il ritiro, le proteste sono continuate a livello internazionale, con scontri particolarmente violenti con la polizia in Nepal.',\n",
       "   'qas': [{'answers': [{'answer_start': 11, 'text': '24 marzo 2008'}],\n",
       "     'id': '56d8d8d0dc89441400fdb330',\n",
       "     'question': 'In quale data si è accesa la fiamma olimpica?'},\n",
       "    {'answers': [{'answer_start': 292, 'text': 'Alexandros Nikolaidis'}],\n",
       "     'id': '56d8d8d0dc89441400fdb332',\n",
       "     'question': 'Chi è stato il primo a portare la torcia?'},\n",
       "    {'answers': [{'answer_start': 141, 'text': 'Maria Nafpliotou'}],\n",
       "     'id': '56d8d8d0dc89441400fdb333',\n",
       "     'question': 'Chi ha inizialmente acceso la torcia olimpica?'},\n",
       "    {'answers': [{'answer_start': 856, 'text': '30 marzo 2008'}],\n",
       "     'id': '56d8d8d0dc89441400fdb334',\n",
       "     'question': 'Quando hanno urlato i dimostranti per liberare il Tibet?'},\n",
       "    {'answers': [{'answer_start': 141, 'text': 'Maria Nafpliotou'}],\n",
       "     'id': '56db0184e7c41114004b4c1c',\n",
       "     'question': 'Qual è il nome della donna che ha acceso la torcia per i nuovi giochi?'},\n",
       "    {'answers': [{'answer_start': 240, 'text': 'argento'}],\n",
       "     'id': '56db0184e7c41114004b4c1d',\n",
       "     'question': 'Quale medaglia ha ricevuto il primo tedoforo dai giochi precedenti?'},\n",
       "    {'answers': [{'answer_start': 292, 'text': 'Alexandros Nikolaidis'}],\n",
       "     'id': '56db0184e7c41114004b4c1e',\n",
       "     'question': 'Qual è il nome del primo tedoforo per le Olimpiadi del 2008?'},\n",
       "    {'answers': [{'answer_start': 1265, 'text': 'Nepal'}],\n",
       "     'id': '56db0184e7c41114004b4c1f',\n",
       "     'question': 'Quale luogo ha avuto problemi violenti di polizia con i manifestanti?'}]},\n",
       "  {'context': 'Cina: In Cina, la torcia è stata accolta per la prima volta dal membro del Comitato permanente del Politburo Zhou Yongkang e dal Consigliere di Stato Liu Yandong. Successivamente è stato trasmesso al segretario generale del CPC Hu Jintao. A partire dal 1° maggio Carrefour ha iniziato a diffondere tra i cinesi, nel fine settimana del 12 aprile, attraverso la messaggistica mobile e le chat room online, un appello a boicottare l\\' ipermercato francese Carrefour, accusando il principale azionista della società, il Gruppo LVMH, di donare fondi al Dalai Lama. Ci sono stati anche appelli a estendere il boicottaggio per includere i beni di lusso francesi e prodotti cosmetici. Secondo il Washington Times il 15 aprile, tuttavia, il governo cinese ha tentato di \"calmare la situazione\" attraverso la censura:\"Tutti i commenti pubblicati sul popolare forum Internet Sohu. com forum Sohu. com relativi ad un boicottaggio di Carrefour sono stati cancellati\". I manifestanti cinesi hanno organizzato boicottaggi della catena francese Carrefour in grandi città cinesi, tra cui Kunming, Hefei e Wuhan, accusando la nazione francese di cospirazione filosecessionista e razzismo anti-cinese.',\n",
       "   'qas': [{'answers': [{'answer_start': 512, 'text': 'il Gruppo LVMH'}],\n",
       "     'id': '56d8d9cddc89441400fdb33c',\n",
       "     'question': 'Chi era il principale azionista di Carrefour?'},\n",
       "    {'answers': [{'answer_start': 1070, 'text': 'Kunming'}],\n",
       "     'id': '56d8d9cddc89441400fdb33e',\n",
       "     'question': \"Dove sono stati bloccati gli anti-protester dall' accesso a un negozio Carrefour con bandiere cinesi?\"},\n",
       "    {'answers': [{'answer_start': 512, 'text': 'il Gruppo LVMH'}],\n",
       "     'id': '56db02f4e7c41114004b4c38',\n",
       "     'question': 'Chi si dice che abbia dato denaro al Dalai Lama?'},\n",
       "    {'answers': [{'answer_start': 798, 'text': 'censura'}],\n",
       "     'id': '56db02f4e7c41114004b4c39',\n",
       "     'question': 'Quale metodo ha utilizzato il governo cinese per alleviare la situazione di boicottaggio?'},\n",
       "    {'answers': [{'answer_start': 263, 'text': 'Carrefour'}],\n",
       "     'id': '56db02f4e7c41114004b4c3a',\n",
       "     'question': 'Quale società francese è stata boicottata?'}]},\n",
       "  {'context': 'In risposta alle dimostrazioni, un editoriale del People\\'s Daily ha esortato il popolo cinese a \"esprimere il proprio entusiasmo patriottico con calma e razionalità, e ad esprimere le aspirazioni patriottiche in modo ordinato e legale\".',\n",
       "   'qas': [{'answers': [{'answer_start': 50, 'text': \"People's Daily\"}],\n",
       "     'id': '56d8da16dc89441400fdb344',\n",
       "     'question': 'In quale pubblicazione il popolo cinese ha chiesto di essere ordinato e legale a causa delle proteste e delle manifestazioni?'},\n",
       "    {'answers': [{'answer_start': 50, 'text': \"People's Daily\"}],\n",
       "     'id': '56db0372e7c41114004b4c4b',\n",
       "     'question': 'Qual è il nome della pubblicazione in cui si raccomandava al popolo cinese di essere calmo e razionale sul patriottismo?'},\n",
       "    {'answers': [{'answer_start': 228, 'text': 'legale'}],\n",
       "     'id': '56db0372e7c41114004b4c4c',\n",
       "     'question': 'Al popolo cinese è stato detto di mostrare il patriottismo in modo ordinato e in che modo?'}]},\n",
       "  {'context': 'Kazakistan: Il primo tedoforo ad Almaty, dove la torcia olimpica è arrivata per la prima volta il 2 aprile, è stato il presidente del Kazakistan Nursultan Nazarbaev. Il percorso si snodava 20 km dallo stadio Medeo fino a Piazza Astana. Secondo quanto riferito, gli attivisti uiguri sarebbero stati arrestati e alcuni sarebbero stati espulsi in Cina.',\n",
       "   'qas': [{'answers': [{'answer_start': 33, 'text': 'Almaty'}],\n",
       "     'id': '56d8dab9dc89441400fdb346',\n",
       "     'question': 'Quale sito vergine ha visitato la torcia il 2 aprile?'},\n",
       "    {'answers': [{'answer_start': 145, 'text': 'Nursultan Nazarbaev'}],\n",
       "     'id': '56d8dab9dc89441400fdb347',\n",
       "     'question': 'Chi è stato il primo a ricevere la torcia ad Almaty?'},\n",
       "    {'answers': [{'answer_start': 116,\n",
       "       'text': 'il presidente del Kazakistan'}],\n",
       "     'id': '56d8dab9dc89441400fdb348',\n",
       "     'question': 'Chi è Nursultan Nazarbaev?'},\n",
       "    {'answers': [{'answer_start': 221, 'text': 'Piazza Astana'}],\n",
       "     'id': '56d8dab9dc89441400fdb349',\n",
       "     'question': 'Il percorso di Almaty è andato dallo stadio Medeo a dove?'},\n",
       "    {'answers': [{'answer_start': 0, 'text': 'Kazakistan'}],\n",
       "     'id': '56db0495e7c41114004b4c4f',\n",
       "     'question': 'A quale paese è arrivata per la prima volta la torcia?'},\n",
       "    {'answers': [{'answer_start': 145, 'text': 'Nursultan Nazarbaev'}],\n",
       "     'id': '56db0495e7c41114004b4c50',\n",
       "     'question': 'Qual è il nome del presidente che è stato il primo tedoforo di Almaty?'},\n",
       "    {'answers': [{'answer_start': 189, 'text': '20'}],\n",
       "     'id': '56db0495e7c41114004b4c52',\n",
       "     'question': 'Qual è stata la distanza in chilometri per il percorso in Kazakistan?'}]},\n",
       "  {'context': 'Turchia: La staffetta della torcia a Istanbul, svoltasi il 3 aprile, è iniziata su piazza Sultanahmet e terminata in piazza Taksim. Gli uiguri che vivono in Turchia hanno protestato contro il trattamento cinese dei loro compatrioti che vivono nello Xinjiang. Molti manifestanti che hanno cercato di interrompere la staffetta sono stati prontamente arrestati dalla polizia.',\n",
       "   'qas': [{'answers': [{'answer_start': 59, 'text': '3 aprile'}],\n",
       "     'id': '56d8dc9cdc89441400fdb350',\n",
       "     'question': 'Quando è stata la torcia a Istanbul?'},\n",
       "    {'answers': [{'answer_start': 117, 'text': 'piazza Taksim'}],\n",
       "     'id': '56d8dc9cdc89441400fdb351',\n",
       "     'question': 'Dove è finita la torcia a Istanbul?'},\n",
       "    {'answers': [{'answer_start': 83, 'text': 'piazza Sultanahmet'}],\n",
       "     'id': '56d8dc9cdc89441400fdb352',\n",
       "     'question': 'Dove è partita la torcia a Istanbul?'},\n",
       "    {'answers': [{'answer_start': 37, 'text': 'Istanbul'}],\n",
       "     'id': '56db0a87e7c41114004b4cb1',\n",
       "     'question': 'Quale città era la torcia olimpica il 3 aprile?'},\n",
       "    {'answers': [{'answer_start': 83, 'text': 'piazza Sultanahmet'}],\n",
       "     'id': '56db0a87e7c41114004b4cb2',\n",
       "     'question': 'Qual è il nome del luogo nella città dove la staffetta della torcia è iniziata in Turchia?'},\n",
       "    {'answers': [{'answer_start': 117, 'text': 'piazza Taksim'}],\n",
       "     'id': '56db0a87e7c41114004b4cb3',\n",
       "     'question': 'Dove è terminato il relè torcia in Turchia?'}]},\n",
       "  {'context': 'Russia: Il 5 aprile la torcia olimpica è arrivata a San Pietroburgo, Russia. La lunghezza del percorso della staffetta della torcia in città era di 20 km, con partenza da Piazza della Vittoria e arrivo a Piazza del Palazzo. Icona delle arti marziali miste e ex campione campione PRIDE Heavyweight Fedor Emelianenko era uno dei portatori della torcia. Questo gli dà la distinzione di essere il primo combattente attivo MMA a portare la fiamma olimpica.',\n",
       "   'qas': [{'answers': [{'answer_start': 204, 'text': 'Piazza del Palazzo'}],\n",
       "     'id': '56d8dd47dc89441400fdb35a',\n",
       "     'question': 'Dove è terminato il percorso della torcia a San Pietroburgo?'},\n",
       "    {'answers': [{'answer_start': 297, 'text': 'Fedor Emelianenko'}],\n",
       "     'id': '56d8dd47dc89441400fdb35b',\n",
       "     'question': 'Chi è il primo combattente MMA a partecipare al trasporto della torcia olimpica?'},\n",
       "    {'answers': [{'answer_start': 52, 'text': 'San Pietroburgo'}],\n",
       "     'id': '56d8dd47dc89441400fdb35c',\n",
       "     'question': 'Dove in Russia è stata la prima fermata per la staffetta?'},\n",
       "    {'answers': [{'answer_start': 171, 'text': 'Piazza della Vittoria'}],\n",
       "     'id': '56db0c05e7c41114004b4cca',\n",
       "     'question': 'Quale posizione della città ha iniziato la staffetta torcia in Russia?'}]},\n",
       "  {'context': 'Gran Bretagna: La fiaccolata a Londra, la città ospitante delle Olimpiadi estive 2012, il 6 aprile ha avuto inizio al Wembley Stadium, ha attraversato la City di Londra e si è conclusa all\\' O2 Arena nella parte orientale della città. La tappa di 48 km (30 miglia) ha richiesto in totale sette ore e mezza per concludersi, e ha suscitato proteste da parte di sostenitori dell\\' indipendenza filo-ibetana e dei diritti umani, che hanno indotto a modificare il percorso previsto e a un trasferimento non programmato su un autobus, che è stato poi brevemente fermato dai manifestanti. Il ministro degli Interni Jacqui Smith ha ufficialmente denunciato al Comitato Organizzatore di Pechino lo svolgimento delle guardie di sicurezza cinesi rivestite con tuta. I funzionari cinesi, visti i manifestanti che stavano maneggiando, sono stati descritti sia dal sindaco di Londra Ken Livingstone che da Lord Coe, presidente del Comitato Olimpico di Londra come \"teppisti\". Un documento informativo della polizia metropolitana ha rivelato che la sicurezza per il relè torcia costo £ 750.000 £ e la partecipazione del team di sicurezza cinese era stato concordato in anticipo, nonostante il sindaco affermando:\"Non sapevamo in anticipo questi teppisti erano dai servizi di sicurezza. Se avessi saputo così, avremmo detto no\".',\n",
       "   'qas': [{'answers': [{'answer_start': 31, 'text': 'Londra'}],\n",
       "     'id': '56d8decfdc89441400fdb362',\n",
       "     'question': 'Quale città ha ospitato le Olimpiadi estive 2012?'},\n",
       "    {'answers': [{'answer_start': 90, 'text': '6 aprile'}],\n",
       "     'id': '56d8decfdc89441400fdb363',\n",
       "     'question': 'Quando è iniziato il percorso della torcia a Londra?'},\n",
       "    {'answers': [{'answer_start': 31, 'text': 'Londra'}],\n",
       "     'id': '56db0ce9e7c41114004b4cd3',\n",
       "     'question': 'Quale città ha tenuto le Olimpiadi nel 2012?'},\n",
       "    {'answers': [{'answer_start': 118, 'text': 'Wembley Stadium'}],\n",
       "     'id': '56db0ce9e7c41114004b4cd4',\n",
       "     'question': 'Dove è iniziata la staffetta torcia a Londra per le Olimpiadi del 2008?'},\n",
       "    {'answers': [{'answer_start': 190, 'text': 'O2 Arena'}],\n",
       "     'id': '56db0ce9e7c41114004b4cd5',\n",
       "     'question': 'Dove è finito il relè a Londra?'},\n",
       "    {'answers': [{'answer_start': 253, 'text': '30 mi'}],\n",
       "     'id': '56db0ce9e7c41114004b4cd6',\n",
       "     'question': 'Quanti chilometri era la staffetta in Inghilterra?'}]},\n",
       "  {'context': 'Degli 80 tedofori di Londra, Sir Steve Redgrave, che ha iniziato la staffetta, ha detto ai media che aveva ricevuto e-mail per chiedere di boicottare l\\' evento e potrebbe \"vedere perché vorrebbero fare un problema\" di esso. Francesca Martinez e Richard Vaughan hanno rifiutato di portare la torcia, mentre Konnie Huq ha deciso di portarla e anche parlare contro la Cina. Il deputato filo-tibetano Norman Baker ha chiesto a tutti i portatori di riconsiderare. Sotto la pressione di entrambe le direzioni, il Primo Ministro Gordon Brown ha dato il benvenuto alla torcia fuori 10 Downing Street senza tenerla o toccarla. Il relè di Londra vedeva la torcia circondata da quello che la BBC descriveva come \"un anello di protezione mobile\". Le proteste sono iniziate non appena Redgrave ha iniziato l\\' evento, portando ad almeno trentacinque arresti. In Ladbroke Grove un dimostratore ha tentato di strappare la torcia a Konnie Huq in una lotta momentanea, e in un incidente a parte, un estintore è stato messo in moto vicino alla torcia. L\\' ambasciatore cinese ha portato la torcia attraverso Chinatown dopo un cambio di rotta non pubblicizzato tra preoccupazioni per la sicurezza. La torcia ha fatto una mossa imprevista su un autobus lungo Fleet Street, tra preoccupazioni di sicurezza e sforzi per eludere i manifestanti. Nel tentativo di contrastare i manifestanti pro-Tibet e dimostrare il loro sostegno alle Olimpiadi di Pechino del 2008, più di 2.000 cinesi si sono anche riuniti sulla rotta della torcia e hanno dimostrato con cartelli, striscioni e bandiere cinesi.',\n",
       "   'qas': [{'answers': [{'answer_start': 6, 'text': '80'}],\n",
       "     'id': '56d8df98dc89441400fdb36c',\n",
       "     'question': 'Quanti tedofori hanno preso parte alla tratta di Londra?'},\n",
       "    {'answers': [{'answer_start': 29, 'text': 'Sir Steve Redgrave'}],\n",
       "     'id': '56d8df98dc89441400fdb36d',\n",
       "     'question': 'Chi è stato il primo a detenere la torcia per la tratta di Londra?'},\n",
       "    {'answers': [{'answer_start': 245, 'text': 'Richard Vaughan'}],\n",
       "     'id': '56d8df98dc89441400fdb36e',\n",
       "     'question': 'Insieme a Francesca Martinez, che ha deciso di non portare la torcia?'},\n",
       "    {'answers': [{'answer_start': 507, 'text': 'Primo Ministro Gordon Brown'}],\n",
       "     'id': '56d8df98dc89441400fdb36f',\n",
       "     'question': 'Chi era fuori a 10 Downing Street per dare il benvenuto alla torcia senza toccarla?'},\n",
       "    {'answers': [{'answer_start': 29, 'text': 'Sir Steve Redgrave'}],\n",
       "     'id': '56db0de5e7c41114004b4cdd',\n",
       "     'question': 'Chi ha ricevuto e-mail chiedendogli di boicottare il relè torcia?'},\n",
       "    {'answers': [{'answer_start': 6, 'text': '80'}],\n",
       "     'id': '56db0de5e7c41114004b4cde',\n",
       "     'question': 'Quante persone hanno portato la torcia in Inghilterra per le Olimpiadi del 2008?'},\n",
       "    {'answers': [{'answer_start': 224,\n",
       "       'text': 'Francesca Martinez e Richard Vaughan'}],\n",
       "     'id': '56db0de5e7c41114004b4cdf',\n",
       "     'question': 'Quali due persone in Inghilterra hanno rifiutato di portare la torcia?'},\n",
       "    {'answers': [{'answer_start': 574, 'text': '10 Downing Street'}],\n",
       "     'id': '56db0de5e7c41114004b4ce0',\n",
       "     'question': 'Dove ha accolto la torcia Gordon Brown?'},\n",
       "    {'answers': [{'answer_start': 848, 'text': 'Ladbroke Grove'}],\n",
       "     'id': '56db0de5e7c41114004b4ce1',\n",
       "     'question': 'Dove si è tentato di prendere la torcia?'}]},\n",
       "  {'context': 'Francia: La piedistallo a Parigi, il 7 aprile, è iniziata al primo livello della Torre Eiffel e terminata allo Stade Charléty. Inizialmente la staffetta avrebbe dovuto coprire 28 km, ma è stata accorciata su richiesta dei funzionari cinesi a seguito di proteste diffuse da parte di attivisti filo-ibet e per i diritti umani, che hanno ripetutamente tentato di interrompere, ostacolare o fermare la processione. Una cerimonia in programma al municipio è stata annullata su richiesta delle autorità cinesi e, anche su richiesta delle autorità cinesi, la torcia ha terminato la staffetta con l\\' autobus invece di essere trasportata dagli atleti. I funzionari della città di Parigi avevano annunciato piani per salutare la fiamma olimpica con protesta pacifica quando la torcia doveva raggiungere la capitale francese. Il governo della città ha allegato al municipio un banner che recitava \"Parigi difende i diritti umani in tutto il mondo\", nel tentativo di promuovere i valori \"di tutta l\\' umanità e dei diritti umani\". I membri di Reporter senza frontiere si sono dimostrati in gran numero a protestare. Si stima che circa 3.000 poliziotti francesi proteggessero la staffetta della torcia olimpica mentre parteva dalla Torre Eiffel e attraversava Parigi in mezzo alla minaccia di proteste. Le diffuse proteste pro-Tibet, tra cui il tentativo da parte di più dimostratori di spegnere la fiamma con acqua o estintori, hanno spinto le autorità di relè a spegnere la fiamma cinque volte (secondo le autorità di polizia di Parigi) e a caricare la torcia su un autobus, su richiesta dei funzionari cinesi. Questo è stato poi negato dal Ministero degli Affari Esteri cinese, nonostante i filmati video trasmessi dalla rete televisiva francese France 2 che mostravano l\\' estinzione della torcia da parte degli addetti cinesi. Le fiamme di riserva sono sempre con il relè per accendere la torcia. Il francese judoka e il tedoforo David Douillet hanno espresso il suo fastidio per la fiamma cinese che ha spento la torcia che stava per consegnare a Teddy Riner:\"Capisco che abbiano paura di tutto, ma questo è solo fastidioso. Hanno spento la fiamma nonostante il fatto che non c\\' era alcun rischio, e hanno potuto vedere e lo sapevano.',\n",
       "   'qas': [{'answers': [{'answer_start': 78, 'text': 'la Torre Eiffel'}],\n",
       "     'id': '56d8e071dc89441400fdb377',\n",
       "     'question': 'Dove è iniziato il percorso di Parigi per la staffetta della torcia?'},\n",
       "    {'answers': [{'answer_start': 592, 'text': 'autobus in'}],\n",
       "     'id': '56d8e071dc89441400fdb379',\n",
       "     'question': 'Anziché essere trasportata da un atleta, come ha fatto la torcia a terminare il suo percorso a Parigi?'},\n",
       "    {'answers': [{'answer_start': 2038, 'text': 'Teddy Riner'}],\n",
       "     'id': '56d8e071dc89441400fdb37a',\n",
       "     'question': 'La fiamma della torcia è stata spenta quando David Douillet era pronto a consegnarla a chi?'},\n",
       "    {'answers': [{'answer_start': 37, 'text': '7 aprile'}],\n",
       "     'id': '56db0f17e7c41114004b4ce7',\n",
       "     'question': 'Quale data di inizio del relè torcia in Francia?'},\n",
       "    {'answers': [{'answer_start': 26, 'text': 'Parigi'}],\n",
       "     'id': '56db0f17e7c41114004b4ce8',\n",
       "     'question': 'A quale città in Francia è partito il relè della torcia?'},\n",
       "    {'answers': [{'answer_start': 81, 'text': 'Torre Eiffel'}],\n",
       "     'id': '56db0f17e7c41114004b4ce9',\n",
       "     'question': 'Dove è nata la staffetta della torcia nella città di Parigi?'},\n",
       "    {'answers': [{'answer_start': 1122, 'text': '3.000'}],\n",
       "     'id': '56db0f17e7c41114004b4cea',\n",
       "     'question': 'Quanti poliziotti avrebbero protetto la torcia in Francia?'},\n",
       "    {'answers': [{'answer_start': 1469, 'text': 'cinque'}],\n",
       "     'id': '56db0f17e7c41114004b4ceb',\n",
       "     'question': 'Quante volte la torcia messa fuori in Francia è morta per motivi di sicurezza?'}]},\n",
       "  {'context': 'I funzionari cinesi hanno annullato la cerimonia della staffetta della torcia in mezzo a interruzioni, tra cui una bandiera tibetana volata da una finestra nel municipio da funzionari del partito verde. Il terzo tedoforo della gamba parigina, Jin Jing, disabile e portatore della torcia su una sedia a rotelle, è stato più volte assalito da manifestanti non identificati, apparentemente provenienti dal campo indipendente pro-Tibet. Nelle interviste, Jin Jing ha detto che lei è stata \"tirata, graffiata\" e \"calciata\", ma che lei \"non ha sentito il dolore al momento\". Ha ricevuto elogi dall\\' etnia cinese in tutto il mondo come \"Angel in Wheelchair\".',\n",
       "   'qas': [{'answers': [{'answer_start': 243, 'text': 'Jin Jing'}],\n",
       "     'id': '56d8e127dc89441400fdb381',\n",
       "     'question': 'Quale fiaccola era in sedia a rotelle?'},\n",
       "    {'answers': [{'answer_start': 630, 'text': 'Angel in Wheelchair'}],\n",
       "     'id': '56d8e127dc89441400fdb383',\n",
       "     'question': 'Che cosa è stato chiamato Jin Jing dai cinesi etnici?'},\n",
       "    {'answers': [{'answer_start': 243, 'text': 'Jin Jing'}],\n",
       "     'id': '56db1b38e7c41114004b4d2a',\n",
       "     'question': 'Qual è il nome del portatore handicappato della torcia?'},\n",
       "    {'answers': [{'answer_start': 630, 'text': 'Angel in Wheelchair'}],\n",
       "     'id': '56db1b38e7c41114004b4d2b',\n",
       "     'question': \"Che cosa ha definito il portatore della torcia disabile l' etnia cinese?\"},\n",
       "    {'answers': [{'answer_start': 173,\n",
       "       'text': 'funzionari del partito verde'}],\n",
       "     'id': '56db1b38e7c41114004b4d2d',\n",
       "     'question': 'Chi ha messo una bandiera tibetana fuori dalla finestra del municipio?'}]},\n",
       "  {'context': 'Reporter senza frontiere hanno organizzato diverse proteste simboliche, tra cui scalare la Torre Eiffel per appendere uno striscione di protesta da esso, e appendere uno striscione identico alla cattedrale di Notre Dame.',\n",
       "   'qas': [{'answers': [{'answer_start': 0,\n",
       "       'text': 'Reporter senza frontiere'}],\n",
       "     'id': '56d8e18ddc89441400fdb38a',\n",
       "     'question': 'Quale organizzazione ha pianificato diverse proteste?'},\n",
       "    {'answers': [{'answer_start': 88, 'text': 'la Torre Eiffel'}],\n",
       "     'id': '56d8e18ddc89441400fdb38b',\n",
       "     'question': 'Che cosa ha fatto Reporter senza frontiere per mettere un banner di protesta su di esso?'},\n",
       "    {'answers': [{'answer_start': 0, 'text': 'Reporter senza frontiere'}],\n",
       "     'id': '56db1ba8e7c41114004b4d3a',\n",
       "     'question': 'Chi ha scalato la Torre Eiffel per appendere uno striscione di protesta?'},\n",
       "    {'answers': [{'answer_start': 195, 'text': 'cattedrale di Notre Dame'}],\n",
       "     'id': '56db1ba8e7c41114004b4d3b',\n",
       "     'question': \"Dove c' era un' altra copia dello striscione della Torre Eiffel?\"}]},\n",
       "  {'context': 'Diverse centinaia di manifestanti pro-Tibet si sono riuniti al Trocadéro con striscioni e bandiere tibetane e sono rimasti lì per una protesta pacifica, mai avvicinandosi alla staffetta della torcia stessa. Tra questi c\\' era anche Jane Birkin, che ha parlato ai media della \"mancanza di libertà di parola\" in Cina. Erano presenti anche Thupten Gyatso, presidente della comunità tibetana francese, che invitava i manifestanti a favore di Tibet a \"rimanere calmi, non violenti, pacifici\".',\n",
       "   'qas': [{'answers': [{'answer_start': 231, 'text': 'Jane Birkin'}],\n",
       "     'id': '56d8e40fdc89441400fdb392',\n",
       "     'question': 'Chi ha parlato ai media della mancanza di libertà di parola in Cina?'},\n",
       "    {'answers': [{'answer_start': 336, 'text': 'Thupten Gyatso'}],\n",
       "     'id': '56d8e40fdc89441400fdb393',\n",
       "     'question': 'Chi è il presidente della comunità tibetana francese che ha esortato i manifestanti a rimanere pacifici?'},\n",
       "    {'answers': [{'answer_start': 63, 'text': 'Trocadéro'}],\n",
       "     'id': '56db1cbee7c41114004b4d5d',\n",
       "     'question': 'Dove si sono riuniti i manifestanti filo-tibetani?'},\n",
       "    {'answers': [{'answer_start': 231, 'text': 'Jane Birkin'}],\n",
       "     'id': '56db1cbee7c41114004b4d5f',\n",
       "     'question': 'Chi, della protesta Trocadéro, ha parlato con i media?'},\n",
       "    {'answers': [{'answer_start': 287, 'text': 'libertà di parola'}],\n",
       "     'id': '56db1cbee7c41114004b4d60',\n",
       "     'question': 'Che cosa mancava alla persona che parlava con i media a Trocadéro la Cina?'}]},\n",
       "  {'context': 'Anche i parlamentari francesi e altri politici francesi hanno organizzato una protesta. Tutti i partiti politici del Parlamento - UMP, Socialisti, Nuovo Centro, Comunisti, Movimento Democratico (centro) e Verdi - hanno chiesto insieme una pausa nella sessione dell\\' Assemblea Nazionale, che è stata concessa, in modo che i parlamentari possano uscire e dispiegare uno striscione che recita \"Rispetto dei diritti umani in Cina\". L\\' allenatore che conteneva la torcia ha superato l\\' Assemblea Nazionale e i parlamentari di protesta riuniti, che gridarono \"Libertà per il Tibet\"! diverse volte come è passato.',\n",
       "   'qas': [{'answers': [{'answer_start': 248,\n",
       "       'text': \"la sessione dell' Assemblea Nazionale\"}],\n",
       "     'id': '56d8e49edc89441400fdb399',\n",
       "     'question': 'Che cosa hanno chiesto i partiti politici?'},\n",
       "    {'answers': [{'answer_start': 391,\n",
       "       'text': 'Rispetto dei diritti umani in Cina'}],\n",
       "     'id': '56d8e49edc89441400fdb39a',\n",
       "     'question': \"Qual è stato il testo sulla bandiera che i politici hanno scatenato all' esterno?\"},\n",
       "    {'answers': [{'answer_start': 251,\n",
       "       'text': \"sessione dell' Assemblea Nazionale\"}],\n",
       "     'id': '56db1df1e7c41114004b4d7f',\n",
       "     'question': 'Tutte le fazioni politiche francesi hanno chiesto una sospensione temporanea di cosa?'},\n",
       "    {'answers': [{'answer_start': 391,\n",
       "       'text': 'Rispetto dei diritti umani in Cina'}],\n",
       "     'id': '56db1df1e7c41114004b4d80',\n",
       "     'question': \"Perché il banner ha detto che è stato svelato durante l' arresto temporaneo?\"}]},\n",
       "  {'context': 'La polizia francese è stata criticata per il modo in cui ha gestito gli eventi e in particolare per aver confiscato le bandiere tibetane ai manifestanti. Il giornale Libération ha commentato:\"La polizia ha fatto così tanto che solo ai cinesi è stata concessa la libertà di espressione. La bandiera tibetana era vietata ovunque tranne che sul Trocadéro\". Il ministro degli Interni Michèle Alliot-Marie ha successivamente dichiarato che la polizia non era stata incaricata di farlo e che aveva agito di propria iniziativa.',\n",
       "   'qas': [{'answers': [{'answer_start': 166, 'text': 'Libération'}],\n",
       "     'id': '56d8e547dc89441400fdb3a1',\n",
       "     'question': 'Quale giornale ha riferito che solo i cinesi potevano esprimersi?'},\n",
       "    {'answers': [{'answer_start': 380, 'text': 'Michèle Alliot-Marie'}],\n",
       "     'id': '56d8e547dc89441400fdb3a3',\n",
       "     'question': \"Chi era il ministro dell' Interno?\"},\n",
       "    {'answers': [{'answer_start': 119, 'text': 'bandiere tibetane'}],\n",
       "     'id': '56db1f11e7c41114004b4d9b',\n",
       "     'question': \"Che cosa hanno tratto le forze dell' ordine francesi dai manifestanti?\"},\n",
       "    {'answers': [{'answer_start': 380, 'text': 'Michèle Alliot-Marie'}],\n",
       "     'id': '56db1f11e7c41114004b4d9d',\n",
       "     'question': 'Chi ha detto che la polizia ha agito da sola prendendo le bandiere?'}]},\n",
       "  {'context': 'Stati Uniti d\\' America: il 9 aprile scorso si è svolta a San Francisco, California, la tappa nordamericana del relè torcia. Il giorno in cui i funzionari della staffetta hanno deviato la torcia verso un percorso senza preavviso. L\\' inizio è stato al McCovey Cove, dove Norman Bellingham del Comitato Olimpico degli Stati Uniti d\\' America ha dato la torcia al primo tedoforo, cinese 1992 campione olimpico nuoto campione olimpico Lin Li. La prevista cerimonia di chiusura a Justin Herman Plaza è stata annullata e, invece, si è tenuta una cerimonia all\\' aeroporto internazionale di San Francisco, dove la torcia doveva partire per Buenos Aires. I cambiamenti di rotta ha permesso la corsa per evitare un gran numero di sostenitori della Cina e manifestanti contro la Cina. Come la gente ha scoperto che non ci sarebbe stata alcuna cerimonia di chiusura a Justin Herman Plaza, ci sono state reazioni arrabbiate. Un dimostratore è stato citato per dire che i cambiamenti di rotta sono stati uno sforzo per \"contrastare qualsiasi protesta organizzata che era stata pianificata\". Il presidente Aaron Peskin, critico del sindaco Gavin Newsom, ha detto che si trattava di un \"piano cinico per compiacere il Dipartimento di Stato Bush e il governo cinese a causa dell\\' incredibile influenza del denaro\". Newsom, d\\' altra parte, ha detto che si sentiva \"nell\\' interesse di tutti\" e che credeva che alla gente fosse stato \"concesso il diritto di protestare e sostenere la torcia\" nonostante i cambiamenti di rotta. Peter Ueberroth, capo del Comitato Olimpico degli Stati Uniti, ha elogiato i cambiamenti di rotta, dicendo:\"La città di San Francisco, da una prospettiva globale, sarà applaudito\". Le persone che hanno visto la torcia sono state sorprese e applaudite come mostrato dal video live di CBS e NBC. Il costo per la città per ospitare l\\' evento è stato stimato in 726.400 USD, di cui quasi la metà è stata recuperata dalla raccolta fondi privata.',\n",
       "   'qas': [{'answers': [{'answer_start': 57, 'text': 'San Francisco'}],\n",
       "     'id': '56d8e665dc89441400fdb3aa',\n",
       "     'question': 'Da dove è partita la torcia è partita la rotta nordamericana?'},\n",
       "    {'answers': [{'answer_start': 553,\n",
       "       'text': 'aeroporto internazionale di San Francisco'}],\n",
       "     'id': '56d8e665dc89441400fdb3ac',\n",
       "     'question': 'La fine del percorso è stato cambiato da Justin Herman plaza a cosa?'},\n",
       "    {'answers': [{'answer_start': 1505, 'text': 'Peter Ueberroth'}],\n",
       "     'id': '56d8e665dc89441400fdb3ad',\n",
       "     'question': 'Chi era il capo del Comitato Olimpico degli Stati Uniti?'},\n",
       "    {'answers': [{'answer_start': 57, 'text': 'San Francisco'}],\n",
       "     'id': '56d8e665dc89441400fdb3ae',\n",
       "     'question': 'Quale città degli Stati Uniti ha tenuto il relè Torcia Olimpica 2008?'},\n",
       "    {'answers': [{'answer_start': 27, 'text': '9 aprile'}],\n",
       "     'id': '56db205be7c41114004b4dbd',\n",
       "     'question': 'Qual è stata la data del relè negli Stati Uniti?'},\n",
       "    {'answers': [{'answer_start': 269, 'text': 'Norman Bellingham'}],\n",
       "     'id': '56db205be7c41114004b4dbe',\n",
       "     'question': 'Qual è il nome della persona che ha consegnato la torcia al tedoforo negli Stati Uniti 2008 staffetta olimpica?'},\n",
       "    {'answers': [{'answer_start': 473, 'text': 'Justin Herman Plaza'}],\n",
       "     'id': '56db205be7c41114004b4dbf',\n",
       "     'question': \"Qual è il nome del luogo in cui è stato annullato l' evento finale del relè?\"}]},\n",
       "  {'context': 'Il 1° aprile 2008, il Consiglio delle autorità di vigilanza di San Francisco ha approvato una risoluzione che affronta le questioni dei diritti umani quando la torcia olimpica di Pechino arriva a San Francisco il 9 aprile. La risoluzione accoglierebbe con favore la fiaccola con \"allarme e protesta per il mancato rispetto da parte della Cina delle solenni promesse fatte in passato alla comunità internazionale, compresi i cittadini di San Francisco, di porre fine alle gravi e persistenti violazioni dei diritti umani in Cina e nel Tibet occupato\".',\n",
       "   'qas': [{'answers': [{'answer_start': 22,\n",
       "       'text': 'Consiglio delle autorità di vigilanza di San Francisco'}],\n",
       "     'id': '56db2356e7c41114004b4dfc',\n",
       "     'question': 'Chi ha approvato la risoluzione?'}]},\n",
       "  {'context': 'Alcuni sostenitori del Tibet, del Darfur e della pratica spirituale Falun Gong, hanno previsto di protestare contro l\\' arrivo della fiaccola il 9 aprile a San Francisco. La Cina aveva già chiesto di accorciare la rotta della torcia a San Francisco. Il 7 aprile 2008, due giorni prima dell\\' effettiva staffetta della torcia, tre attivisti che trasportavano bandiere tibetane hanno scalato i cavi sospesi del Golden Gate Bridge per dispiegare due striscioni, uno dei quali diceva \"One World, One Dream\". Tibet Libero\", e l\\' altro,\"Tibet Libero\\' 08\". Tra questi c\\' è stato Laurel Sutherlin, residente a San Francisco, che ha parlato con l\\' emittente televisiva locale KPIX-CBS5 dal vivo da un cellulare, esortando il Comitato Olimpico Internazionale a chiedere alla Cina di non permettere alla torcia di passare attraverso il Tibet. \"Sutherlin ha detto che era preoccupato che la rotta programmata della torcia attraverso il Tibet avrebbe portato a ulteriori arresti e i funzionari cinesi avrebbero usato la forza per soffocare il dissenso\".',\n",
       "   'qas': [{'answers': [{'answer_start': 407, 'text': 'Golden Gate Bridge'}],\n",
       "     'id': '56d8e7d8dc89441400fdb3bd',\n",
       "     'question': 'Il 7 aprile 2008 tre manifestanti hanno salito su cosa appendere due striscioni?'},\n",
       "    {'answers': [{'answer_start': 665, 'text': 'KPIX-CBS5'}],\n",
       "     'id': '56d8e7d8dc89441400fdb3be',\n",
       "     'question': 'Laurel Sutherlin ha parlato a quale emittente televisiva delle sue preoccupazioni?'},\n",
       "    {'answers': [{'answer_start': 173, 'text': 'Cina'}],\n",
       "     'id': '56db2495e7c41114004b4e05',\n",
       "     'question': 'Chi ha chiesto che il percorso della staffetta di San Francisco sia abbreviato?'},\n",
       "    {'answers': [{'answer_start': 407, 'text': 'Golden Gate Bridge'}],\n",
       "     'id': '56db2495e7c41114004b4e06',\n",
       "     'question': 'Quale ponte famoso aveva due striscioni appesi da parte dei manifestanti?'},\n",
       "    {'answers': [{'answer_start': 570, 'text': 'Laurel Sutherlin'}],\n",
       "     'id': '56db2495e7c41114004b4e07',\n",
       "     'question': 'Chi ha parlato con la stazione KPIX-CBS5 delle proteste banner ponte?'},\n",
       "    {'answers': [{'answer_start': 324, 'text': 'tre'}],\n",
       "     'id': '56db2495e7c41114004b4e09',\n",
       "     'question': 'Quanti attivisti possono essere accusati di crimini per la acrobazia del ponte?'}]},\n",
       "  {'context': 'Argentina: La fiaccolata a Buenos Aires, Argentina, svoltasi l\\' 11 aprile, è iniziata con una mostra artistica all\\' anfiteatro Lola Mora di Costanera Sur. Alla fine dello spettacolo il sindaco di Buenos Aires Mauricio Macri ha consegnato la torcia al primo tedoforo, Carlos Espínola. La tappa è terminata al Circolo ippico di Buenos Aires nel quartiere Palermo, l\\' ultima fiaccolata è Gabriela Sabatini. Il percorso di 13,8 km comprendeva punti di riferimento come l\\' obelisco e Plaza de Mayo. La giornata è stata segnata da diverse proteste pro-Tibet, che includevano un gigantesco striscione che leggeva \"Free Tibet\", e una \"torcia per i diritti umani\" alternativa che veniva illuminata dai manifestanti e sfilava lungo la strada che la fiamma doveva percorrere. La maggior parte di queste proteste erano pacifiche in natura e la torcia non è stata ostacolata. Anche gli immigrati cinesi si sono rivelati favorevoli ai Giochi, ma tra i due gruppi sono state segnalate solo piccole risse. Corridori circondati da file di sicurezza ha portato la fiamma olimpica passato migliaia di argentini giubilanti nel relè più senza problemi torcia in quasi una settimana. La gente ha attraversato il percorso della sfilata con i coriandoli mentre banche, uffici governativi e aziende hanno preso una vacanza estemporanea di mezza giornata per l\\' unica tappa latinoamericana sul viaggio della fiamma dei cinque continenti.',\n",
       "   'qas': [{'answers': [{'answer_start': 64, 'text': '11 aprile'}],\n",
       "     'id': '56d8e922dc89441400fdb3ce',\n",
       "     'question': 'Quando è iniziata la staffetta della torcia olimpica a Buenos Aires?'},\n",
       "    {'answers': [{'answer_start': 113, 'text': \"l' anfiteatro Lola Mora\"}],\n",
       "     'id': '56d8e922dc89441400fdb3cf',\n",
       "     'question': 'Dove è iniziato il percorso della torcia a Buenos Aires?'},\n",
       "    {'answers': [{'answer_start': 209, 'text': 'Mauricio Macri'}],\n",
       "     'id': '56d8e922dc89441400fdb3d0',\n",
       "     'question': 'Chi era il sindaco di Buenos Aires?'},\n",
       "    {'answers': [{'answer_start': 27, 'text': 'Buenos Aires'}],\n",
       "     'id': '56db2841e7c41114004b4e4f',\n",
       "     'question': 'Dove è iniziata la staffetta della torcia olimpica in Argentina?'},\n",
       "    {'answers': [{'answer_start': 209, 'text': 'Mauricio Macri'}],\n",
       "     'id': '56db2841e7c41114004b4e51',\n",
       "     'question': 'Qual è il nome del sindaco che ha tramandato la torcia al primo portatore in Argentina?'},\n",
       "    {'answers': [{'answer_start': 267, 'text': 'Carlos Espínola'}],\n",
       "     'id': '56db2841e7c41114004b4e52',\n",
       "     'question': 'Chi è stato il primo portatore della torcia in Argentina?'},\n",
       "    {'answers': [{'answer_start': 1219, 'text': 'coriandoli'}],\n",
       "     'id': '56db2841e7c41114004b4e53',\n",
       "     'question': 'Cosa è stato sparato lungo il percorso in alcuni luoghi?'}]},\n",
       "  {'context': 'Gli attivisti argentini hanno detto ad una conferenza stampa che non cercheranno di sfumare la fiamma della torcia come hanno fatto i manifestanti a Parigi e Londra. \"Voglio annunciare che non spegneremo la torcia olimpica\", ha detto l\\' attivista pro-Tibet Jorge Carcavallo. \"Realizzeremo azioni a sorpresa in tutta la città di Buenos Aires, ma tutte saranno pacifiche\". Tra le altre attività, i manifestanti organizzarono una marcia alternativa che andò dall\\' Obelisco al municipio, con la loro \"torcia per i diritti umani\".',\n",
       "   'qas': [{'answers': [{'answer_start': 455,\n",
       "       'text': \"dall' Obelisco al municipio\"}],\n",
       "     'id': '56d9618ddc89441400fdb3da',\n",
       "     'question': 'Quale itinerario era previsto per una marcia alternativa?'},\n",
       "    {'answers': [{'answer_start': 257, 'text': 'Jorge Carcavallo'}],\n",
       "     'id': '56db2941e7c41114004b4e6b',\n",
       "     'question': 'Qual è il nome del manifestante che ha detto che non avrebbe tentato di spegnere la torcia?'},\n",
       "    {'answers': [{'answer_start': 461, 'text': 'Obelisco al municipio'}],\n",
       "     'id': '56db2941e7c41114004b4e6c',\n",
       "     'question': \"Dove si è svolta l' altra marcia?\"},\n",
       "    {'answers': [{'answer_start': 497, 'text': 'torcia per i diritti umani'}],\n",
       "     'id': '56db2941e7c41114004b4e6d',\n",
       "     'question': 'Qual è stato il nome dato alla torcia portata sulla marcia alternativa?'}]},\n",
       "  {'context': 'Il direttore generale di HRTR, Susan Prager, è anche il direttore della comunicazione di \"Friends of Falun Gong\", un\\' organizzazione non governativa finanziata da fmr. La moglie del Congresso Tom Lanto e l\\' Ambasciatore Mark Palmer del NED. Un grande arretramento per l\\' evento è stato causato dal calciatore Diego Maradona, in programma di aprire la staffetta attraverso Buenos Aires, tirando fuori nel tentativo di evitare la polemica olimpica. Cercando di evitare le scene che hanno rovinato la staffetta nel Regno Unito, Francia e Stati Uniti, il governo della città ha progettato una complessa sicurezza operativa per proteggere la staffetta torcia, coinvolgendo 1200 agenti di polizia e 3000 altre persone, compresi dipendenti pubblici e volontari. Nel complesso, le proteste erano pacifiche in natura, anche se ci sono stati alcuni incidenti come il lancio di vari palloncini d\\' acqua nel tentativo di spegnere la fiamma olimpica, e piccoli scontri tra i manifestanti olimpici e sostenitori delle comunità di immigrati cinesi.',\n",
       "   'qas': [{'answers': [{'answer_start': 31, 'text': 'Susan Prager'}],\n",
       "     'id': '56d96652dc89441400fdb3e2',\n",
       "     'question': 'Chi era il direttore generale di HRTR?'},\n",
       "    {'answers': [{'answer_start': 90, 'text': 'Friends of Falun Gong'}],\n",
       "     'id': '56d96652dc89441400fdb3e3',\n",
       "     'question': 'Qual è stato il non profitto finanziato da Mark Palmer?'},\n",
       "    {'answers': [{'answer_start': 309, 'text': 'Diego Maradona'}],\n",
       "     'id': '56d96652dc89441400fdb3e4',\n",
       "     'question': 'Quale calciatore ha deciso di non essere un tedoforo a causa della controversia?'},\n",
       "    {'answers': [{'answer_start': 668, 'text': '1200'}],\n",
       "     'id': '56d96652dc89441400fdb3e5',\n",
       "     'question': 'Quanti agenti di polizia erano in servizio per evitare controversie lungo il percorso della torcia?'},\n",
       "    {'answers': [{'answer_start': 90, 'text': 'Friends of Falun Gong'}],\n",
       "     'id': '56db2b7fe7c41114004b4e8d',\n",
       "     'question': 'Di cosa è responsabile della comunicazione Susan Prager?'},\n",
       "    {'answers': [{'answer_start': 309, 'text': 'Diego Maradona'}],\n",
       "     'id': '56db2b7fe7c41114004b4e8e',\n",
       "     'question': 'Quale star del calcio ha sostenuto fuori a causa di polemiche relè?'},\n",
       "    {'answers': [{'answer_start': 668, 'text': '1200'}],\n",
       "     'id': '56db2b7fe7c41114004b4e8f',\n",
       "     'question': \"Quanti agenti di polizia facevano parte dell' operazione di sicurezza?\"}]},\n",
       "  {'context': \"Tanzania: Dar es Salaam è stata l' unica tappa della torcia in Africa, il 13 aprile. La staffetta è iniziata presso il grande terminal della TAZARA Railway, che è stato il più grande progetto di aiuti stranieri della Cina degli anni' 70, e ha continuato per 5 km attraverso la città vecchia fino allo Stadio Nazionale Benjamin Mkapa a Temeke, costruito con l' aiuto cinese nel 2005. La torcia è stata accesa dal vicepresidente Ali Mohamed Shein. Circa un migliaio di persone hanno seguito la staffetta, sventolando la bandiera olimpica. L' unico esempio noto di protesta è stato il ritiro del Premio Nobel per la pace Wangari Maathai dalla lista dei tedofori, in segno di protesta contro le violazioni dei diritti umani in Tibet.\",\n",
       "   'qas': [{'answers': [{'answer_start': 10, 'text': 'Dar es Salaam'}],\n",
       "     'id': '56d966bbdc89441400fdb3ec',\n",
       "     'question': \"Dov' era l' unica destinazione africana per la torcia?\"},\n",
       "    {'answers': [{'answer_start': 10, 'text': 'Dar es Salaam'}],\n",
       "     'id': '56d966bbdc89441400fdb3ee',\n",
       "     'question': \"Dov' era il posto solitario in cui si trovava la staffetta in Africa?\"},\n",
       "    {'answers': [{'answer_start': 141, 'text': 'TAZARA'}],\n",
       "     'id': '56db2c84e7c41114004b4ea7',\n",
       "     'question': 'Qual è il nome della ferrovia da cui è nata la staffetta della torcia olimpica in Africa?'},\n",
       "    {'answers': [{'answer_start': 301,\n",
       "       'text': 'Stadio Nazionale Benjamin Mkapa'}],\n",
       "     'id': '56db2c84e7c41114004b4ea8',\n",
       "     'question': 'Dove è terminato il relè in Africa?'},\n",
       "    {'answers': [{'answer_start': 217, 'text': 'Cina'}],\n",
       "     'id': '56db2c84e7c41114004b4ea9',\n",
       "     'question': 'Quale paese ha pagato per lo stadio con i fondi degli aiuti?'}]},\n",
       "  {'context': \"Sultanato di Oman: Muscat era l' unica tappa della torcia in Medio Oriente, il 14 aprile. Il relè copriva 20 km. Non sono state segnalate proteste o incidenti. Uno dei tedofori era l' attrice siriana Sulaf Fawakherji.\",\n",
       "   'qas': [{'answers': [{'answer_start': 19, 'text': 'Muscat'}],\n",
       "     'id': '56d9670fdc89441400fdb3f6',\n",
       "     'question': \"Quale posizione in Medio Oriente era l' unica zona visitata dalla torcia?\"},\n",
       "    {'answers': [{'answer_start': 200, 'text': 'Sulaf Fawakherji'}],\n",
       "     'id': '56d9670fdc89441400fdb3f9',\n",
       "     'question': \"Dov' era l' unico posto in cui la torcia olimpica è stata trasportata in Medio Oriente?\"},\n",
       "    {'answers': [{'answer_start': 106, 'text': '20'}],\n",
       "     'id': '56db2ce6e7c41114004b4ebf',\n",
       "     'question': 'A che punto si trovava la staffetta in chilometri in Medio Oriente?'},\n",
       "    {'answers': [{'answer_start': 200, 'text': 'Sulaf Fawakherji'}],\n",
       "     'id': '56db2ce6e7c41114004b4ec0',\n",
       "     'question': \"Qual è il nome dell' attrice siriana che ha portato la torcia?\"}]},\n",
       "  {'context': 'Pakistan: la torcia olimpica ha raggiunto Islamabad per la prima volta in assoluto il 16 aprile. Il presidente Pervez Musharraf e il primo ministro Yousaf Raza Gillani hanno preso la parola alla cerimonia di apertura della staffetta. La sicurezza era elevata, per quello che un giornale chiamava la \"gamba più sensibile\" del viaggio olimpico della torcia. Inizialmente la staffetta avrebbe dovuto trasportare la torcia intorno a Islamabad, ma l\\' intera staffetta è stata cancellata a causa di preoccupazioni di sicurezza per quanto riguarda \"minacce militanti o proteste contro la Cina\", e sostituita da una cerimonia all\\' interno con la torcia portata intorno alla pista dello Jinnah Stadium. Nel timore delle violente proteste e degli attentati dinamitardi, la staffetta della torcia in Pakistan ha avuto luogo in uno stadio a porte chiuse. Anche se la staffetta era dietro porte chiuse, migliaia di poliziotti e soldati presidiarono la fiamma. Di conseguenza, non si sono verificati incidenti.',\n",
       "   'qas': [{'answers': [{'answer_start': 133,\n",
       "       'text': 'primo ministro Yousaf Raza Gillani'}],\n",
       "     'id': '56d967bbdc89441400fdb401',\n",
       "     'question': 'Chi è intervenuto alla cerimonia di apertura a Islamabad oltre al Presidente Musharraf?'},\n",
       "    {'answers': [{'answer_start': 42, 'text': 'Islamabad'}],\n",
       "     'id': '56d967bbdc89441400fdb402',\n",
       "     'question': 'Dove è iniziata la staffetta della torcia olimpica in Pakistan?'},\n",
       "    {'answers': [{'answer_start': 42, 'text': 'Islamabad'}],\n",
       "     'id': '56db2d05e7c41114004b4ec5',\n",
       "     'question': \"Invece di un relè traditinale, dov' era la traccia che la torcia portava in Pakistan?\"}]},\n",
       "  {'context': 'India: a causa delle preoccupazioni per le proteste pro-Tibet, il relè attraverso Nuova Delhi il 17 aprile è stato tagliato a soli 2,3 km (meno di 1,5 miglia), che è stato condiviso tra 70 corridori. Si è concluso alla Porta dell\\' India. L\\' evento è stato pacifico a causa del fatto che il pubblico non è stato permesso alla staffetta. Un totale di cinque tedofori previsti - Kiran Bedi, Soha Ali Khan, Sachin Tendulkar, Bhaichung Bhutia e Sunil Gavaskar - si sono ritirati dall\\' evento, citando \"motivi personali\"o, nel caso di Bhutia, esplicitamente intenzionati a \"schierarsi accanto al popolo tibetano e alla sua lotta\" e a protestare contro la \"repressione\" della RPC in Tibet. Capitano nazionale indiano di calcio, Baichung Bhutia ha rifiutato di prendere parte alla gamba indiana della staffetta torcia, citando preoccupazioni sul Tibet. Bhutia, che è Sikkimese, è il primo atleta a rifiutare di correre con la torcia. La star del cinema indiano Aamir Khan afferma sul suo blog personale che i \"Giochi Olimpici non appartengono alla Cina\" e conferma di aver preso parte alla staffetta della torcia \"con una preghiera nel cuore per il popolo tibetano e per tutte le persone in tutto il mondo che sono vittime di violazioni dei diritti umani\". Anche Rahul Gandhi, figlio del presidente del Congresso Sonia Gandhi e marzaiola della famiglia Nehru-Gandhi, si rifiutò di portare la torcia.',\n",
       "   'qas': [{'answers': [{'answer_start': 721, 'text': 'Baichung Bhutia'}],\n",
       "     'id': '56d96856dc89441400fdb40a',\n",
       "     'question': 'Quale capitano di calcio non ha partecipato alla staffetta per mostrare sostegno al Tibet?'},\n",
       "    {'answers': [{'answer_start': 349, 'text': 'cinque'}],\n",
       "     'id': '56d96856dc89441400fdb40b',\n",
       "     'question': 'Quanti tedofori non hanno partecipato a causa delle loro preoccupazioni per il Tibet?'},\n",
       "    {'answers': [{'answer_start': 82, 'text': 'Nuova Delhi'}],\n",
       "     'id': '56d96856dc89441400fdb40c',\n",
       "     'question': 'Dove è avvenuto il relè torcia in India?'},\n",
       "    {'answers': [{'answer_start': 186, 'text': '70'}],\n",
       "     'id': '56db2f9be7c41114004b4efa',\n",
       "     'question': 'Quanti portatori della torcia sono stati utilizzati in India?'},\n",
       "    {'answers': [{'answer_start': 349, 'text': 'cinque'}],\n",
       "     'id': '56db2f9be7c41114004b4efb',\n",
       "     'question': 'Quanti portatori hanno deciso di non partecipare?'},\n",
       "    {'answers': [{'answer_start': 721, 'text': 'Baichung Bhutia'}],\n",
       "     'id': '56db2f9be7c41114004b4efc',\n",
       "     'question': 'Qual è il nome del calciatore che ha rifiutato di far parte della staffetta?'}]},\n",
       "  {'context': 'Al riparo dalle proteste, le autorità indiane hanno deciso di accorciare il percorso della staffetta a Nuova Delhi, e gli hanno dato la sicurezza normalmente associata alle celebrazioni della festa della Repubblica, che sono considerati obiettivi terroristici. Le aspettative dell\\' intelligence cinese nei confronti dei punti del percorso della staffetta che sarebbero particolarmente \"vulnerabili\" ai manifestanti sono state presentate all\\' ambasciatore indiano a Pechino, Nirupama Sen. I media indiani hanno risposto con rabbia alla notizia che l\\' ambasciatrice, un\\' illustre signora diplomatica, è stata convocata al Ministero degli Esteri alle 2 del mattino, e la notizia è stata successivamente smentita da fonti anonime a Delhi. I media indiani hanno riferito che il ministro del Commercio indiano, Kamal Nath, ha cancellato un viaggio ufficiale a Pechino in segno di protesta, anche se sia Nath che fonti cinesi lo hanno negato.',\n",
       "   'qas': [{'answers': [{'answer_start': 192,\n",
       "       'text': 'festa della Repubblica'}],\n",
       "     'id': '56d96901dc89441400fdb412',\n",
       "     'question': 'La sicurezza data al relè torcia a Nuova Delhi ricorda la sicurezza di cosa?'},\n",
       "    {'answers': [{'answer_start': 474, 'text': 'Nirupama Sen'}],\n",
       "     'id': '56d96901dc89441400fdb413',\n",
       "     'question': 'I cinesi hanno presentato un elenco di luoghi vulnerabili relè a chi?'},\n",
       "    {'answers': [{'answer_start': 773,\n",
       "       'text': 'ministro del Commercio indiano'}],\n",
       "     'id': '56d96901dc89441400fdb414',\n",
       "     'question': 'Chi avrebbe cancellato un viaggio a Pechino in segno di protesta?'},\n",
       "    {'answers': [{'answer_start': 805, 'text': 'Kamal Nath'}],\n",
       "     'id': '56db30ebe7c41114004b4f03',\n",
       "     'question': 'Chi avrebbe cancellato un viaggio ufficiale in Cina per protesta?'},\n",
       "    {'answers': [{'answer_start': 192, 'text': 'festa della Repubblica'}],\n",
       "     'id': '56db30ebe7c41114004b4f05',\n",
       "     'question': 'La staffetta olimpica aveva le stesse precauzioni di sicurezza prese come altro giorno speciale?'}]},\n",
       "  {'context': 'L\\' India ha respinto le richieste cinesi che il percorso della torcia sia libero della comunità indiana di 150.000 persone in esilio tibetano, con la quale hanno richiesto il divieto della congregazione nei pressi del percorso di 3 km. In risposta funzionari indiani ha detto che l\\' India era una democrazia, e \"un divieto totale di proteste era fuori questione\". In contraddizione con altri rapporti, anche i funzionari indiani hanno rifiutato il permesso all\\'\"Olympic Holy Flame Protection Unit\". L\\' effetto combinato è un \"rapido deterioramento\" delle relazioni tra India e Cina. Nel frattempo, il governo tibetano in esilio, che ha sede in India, ha dichiarato di non sostenere l\\' interruzione della staffetta della torcia olimpica.',\n",
       "   'qas': [{'answers': [{'answer_start': 107, 'text': '150.000'}],\n",
       "     'id': '56d969badc89441400fdb418',\n",
       "     'question': 'Quante persone costituivano la comunità tibetana in esilio?'},\n",
       "    {'answers': [{'answer_start': 293, 'text': 'una democrazia'}],\n",
       "     'id': '56d969badc89441400fdb419',\n",
       "     'question': \"L' India ha rifiutato la richiesta della Cina di evitare l' esilio della comunità tibetana perché ha detto che l' India è quello che?\"},\n",
       "    {'answers': [{'answer_start': 3, 'text': 'India'}],\n",
       "     'id': '56d969badc89441400fdb41a',\n",
       "     'question': \"Dov' è il governo tibetano in esilio?\"},\n",
       "    {'answers': [{'answer_start': 107, 'text': '150.000'}],\n",
       "     'id': '56db3241e7c41114004b4f27',\n",
       "     'question': 'Quanti esuli tibetani si dice siano in India?'},\n",
       "    {'answers': [{'answer_start': 333, 'text': 'proteste'}],\n",
       "     'id': '56db3241e7c41114004b4f28',\n",
       "     'question': \"Un divieto all' ingrosso di ciò che è stato negato?\"},\n",
       "    {'answers': [{'answer_start': 462,\n",
       "       'text': 'Olympic Holy Flame Protection Unit'}],\n",
       "     'id': '56db3241e7c41114004b4f29',\n",
       "     'question': \"Quale gruppo olimpico è stato negato dall' India?\"},\n",
       "    {'answers': [{'answer_start': 555, 'text': 'relazioni'}],\n",
       "     'id': '56db3241e7c41114004b4f2a',\n",
       "     'question': 'Che cosa si è deteriorato tra India e Cina?'},\n",
       "    {'answers': [{'answer_start': 598,\n",
       "       'text': 'il governo tibetano in esilio'}],\n",
       "     'id': '56db3241e7c41114004b4f2b',\n",
       "     'question': 'Chi ha detto di non sostenere le interruzioni dei relè?'}]},\n",
       "  {'context': 'L\\' attivista sociale indiana nota e un funzionario del Servizio di polizia indiano (IPS) in pensione Kiran Bedi ha rifiutato di partecipare dicendo \"lei non vuole correre nell\\' evento come\\' donna in gabbia\\'\". Il 15 aprile, l\\' attrice di Bollywood Soha Ali Khan ha tirato fuori dalla staffetta della torcia olimpica, citando \"motivi personali molto forti\".',\n",
       "   'qas': [{'answers': [{'answer_start': 101, 'text': 'Kiran Bedi'}],\n",
       "     'id': '56d96a31dc89441400fdb420',\n",
       "     'question': 'Chi non voleva partecipare alla staffetta come \"donna in gabbia\"?'},\n",
       "    {'answers': [{'answer_start': 55, 'text': 'Servizio di polizia indiano'}],\n",
       "     'id': '56d96a31dc89441400fdb421',\n",
       "     'question': 'Da dove si è ritirata Bedi?'},\n",
       "    {'answers': [{'answer_start': 247, 'text': 'Soha Ali Khan'}],\n",
       "     'id': '56d96a31dc89441400fdb422',\n",
       "     'question': 'Quale attrice ha deciso di non partecipare il 15 aprile?'},\n",
       "    {'answers': [{'answer_start': 247, 'text': 'Soha Ali Khan'}],\n",
       "     'id': '56db3337e7c41114004b4f31',\n",
       "     'question': 'Quale attrice si è staccata dalla partecipazione alla staffetta?'},\n",
       "    {'answers': [{'answer_start': 247, 'text': 'Soha Ali Khan'}],\n",
       "     'id': '56db3337e7c41114004b4f32',\n",
       "     'question': \"Dov' è stata organizzata una protesta sulla staffetta olimpica in India?\"}]},\n",
       "  {'context': 'Thailandia: La staffetta 18 aprile attraverso Bangkok è stata la prima visita della fiamma olimpica in Thailandia. Il relè copriva poco più di 10 km e comprendeva la Chinatown di Bangkok. La torcia è stata portata oltre il Monumento alla Democrazia, Palazzo Chitralada e una serie di altri punti di riferimento della città. M.R. Narisa Chakrabongse, presidente della Green World Foundation (GWF), si è ritirata dalla cerimonia della fiaccolata, protestando contro le azioni della Cina in Tibet. Erano presenti diverse centinaia di manifestanti, insieme ai tifosi olimpici. Le autorità thailandesi hanno minacciato di arrestare i manifestanti stranieri e di vietarne il futuro ingresso in Thailandia. Una coalizione di gruppi thailandesi per i diritti umani ha annunciato che avrebbe organizzato una \"piccola manifestazione\" durante la staffetta, e diverse centinaia di persone hanno effettivamente preso parte alle proteste, affrontando i sostenitori di Pechino. Inteso tedoforo Mom Rajawongse Narissara Chakrabongse boicottato la staffetta, per protestare contro le azioni della Cina in Tibet. A Bangkok, gli studenti hanno detto ai media che l\\' ambasciata cinese ha fornito loro i mezzi di trasporto e ha dato loro camicie da indossare.',\n",
       "   'qas': [{'answers': [{'answer_start': 324,\n",
       "       'text': 'M.R. Narisa Chakrabongse'}],\n",
       "     'id': '56d96ab0dc89441400fdb42a',\n",
       "     'question': \"Il percorso della staffetta era un po' più lungo di quanti chilometri?\"},\n",
       "    {'answers': [{'answer_start': 629, 'text': 'manifestanti stranieri'}],\n",
       "     'id': '56d96ab0dc89441400fdb42b',\n",
       "     'question': 'A chi è stato detto che sarebbe stato loro vietato di rientrare in Thailandia?'}]},\n",
       "  {'context': \"Malesia: L' evento si è tenuto nella capitale Kuala Lumpur il 21 aprile. Il percorso di 16,5 km è iniziato dalla storica Piazza dell' Indipendenza, passato davanti a diversi punti di riferimento della città prima di finire alle icone delle Torri Gemelle Petronas. Tra i punti di riferimento, la fiamma olimpica è passata accanto a casa del Parlamento, Moschea Nazionale, Torre KL e stadio Merdeka. Un team di 1000 persone della polizia malese ha sorvegliato l' evento e accompagnato i tedofori. L' ultima volta che si tenne in Malesia una staffetta di torcia olimpica fu l' edizione di Tokyo del 1964.\",\n",
       "   'qas': [{'answers': [{'answer_start': 46, 'text': 'Kuala Lumpur'}],\n",
       "     'id': '56d96b3edc89441400fdb431',\n",
       "     'question': 'Dove è iniziato il percorso in Malesia?'},\n",
       "    {'answers': [{'answer_start': 596, 'text': '1964'}],\n",
       "     'id': '56d96b3edc89441400fdb433',\n",
       "     'question': \"Prima dei giochi del 2008, quando ha visto la Malesia vedere l' ultima volta una staffetta di torcia olimpica?\"},\n",
       "    {'answers': [{'answer_start': 596, 'text': '1964'}],\n",
       "     'id': '56d96b3edc89441400fdb434',\n",
       "     'question': \"Qual è la posizione dell' inizio del relè in Malesia?\"},\n",
       "    {'answers': [{'answer_start': 596, 'text': '1964'}],\n",
       "     'id': '56db3546e7c41114004b4f47',\n",
       "     'question': \"Quale anno è stato l' ultimo evento in Malesia?\"},\n",
       "    {'answers': [{'answer_start': 409, 'text': '1000'}],\n",
       "     'id': '56db3546e7c41114004b4f48',\n",
       "     'question': \"Quanti poliziotti speciali hanno protetto l' evento della staffetta?\"}]},\n",
       "  {'context': 'Pochi giorni prima che i sostenitori della staffetta del Falun Gong dimostrassero davanti all\\' ambasciata cinese nella capitale malese. Fino a 1.000 persone provenienti dall\\' unità speciale di polizia dovevano essere impiegate il giorno del relè. Una famiglia giapponese con cittadinanza malese e il loro bambino di 5 anni che sventolava una bandiera tibetana sono stati colpiti da un gruppo di cittadini cinesi con manganelli in plastica pieni d\\' aria e atterriti da una folla di cittadini cinesi durante il confronto in Piazza Indipendenza dove la staffetta ha iniziato, e il gruppo cinese gridò:\"Taiwan e Tibet appartengono alla Cina\". Più tardi durante il giorno, i volontari cinesi hanno tolto con forza cartelli da altri due malesi che protestavano alla staffetta.',\n",
       "   'qas': [{'answers': [{'answer_start': 57, 'text': 'Falun Gong'}],\n",
       "     'id': '56d96bdbdc89441400fdb43a',\n",
       "     'question': \"Quali sostenitori hanno protestato presso l' ambasciata cinese in Malesia?\"},\n",
       "    {'answers': [{'answer_start': 57, 'text': 'Falun Gong'}],\n",
       "     'id': '56db3639e7c41114004b4f4f',\n",
       "     'question': \"Sostenitori di ciò che ha dimostrato all' ambasciata cinese in Malesia?\"},\n",
       "    {'answers': [{'answer_start': 709, 'text': 'cartelli'}],\n",
       "     'id': '56db3639e7c41114004b4f53',\n",
       "     'question': 'Cosa hanno preso i volontari cinesi da due manifestanti malesi?'}]},\n",
       "  {'context': 'Indonesia: la fiamma olimpica ha raggiunto Giacarta il 22 aprile. La staffetta originale di 20 km attraverso Giacarta è stata cancellata a causa di \"preoccupazioni per la sicurezza\", su richiesta dell\\' ambasciata cinese, e la torcia è stata invece portata intorno allo stadio principale della città, come era stato a Islamabad. Diverse decine di manifestanti pro-Tibet si sono radunati vicino allo stadio e sono stati dispersi dalla polizia. L\\' evento si è svolto per le strade intorno allo stadio principale della città. La cancellazione della staffetta attraverso la città stessa è stata decisa per motivi di sicurezza e su richiesta dell\\' ambasciata cinese. All\\' interno dello stadio sono stati ammessi solo invitati e giornalisti. Le proteste si sono svolte fuori dallo stadio.',\n",
       "   'qas': [{'answers': [{'answer_start': 722, 'text': 'giornalisti'}],\n",
       "     'id': '56d96c56dc89441400fdb443',\n",
       "     'question': 'Insieme alle persone invitate, chi erano le uniche altre persone consentite nello stadio?'},\n",
       "    {'answers': [{'answer_start': 43, 'text': 'Giacarta'}],\n",
       "     'id': '56d96c56dc89441400fdb444',\n",
       "     'question': 'Dove è iniziato il relè torcia in Indonesia?'},\n",
       "    {'answers': [{'answer_start': 92, 'text': '20'}],\n",
       "     'id': '56db36f7e7c41114004b4f59',\n",
       "     'question': 'Quanti chilometri sono stati cancellati?'},\n",
       "    {'answers': [{'answer_start': 149,\n",
       "       'text': 'preoccupazioni per la sicurezza'}],\n",
       "     'id': '56db36f7e7c41114004b4f5a',\n",
       "     'question': 'Perché non è stata presa la prima via?'}]},\n",
       "  {'context': \"Australia: L' evento si è tenuto a Canberra, territorio della capitale australiana, il 24 aprile, e ha coperto circa 16 km delle aree centrali di Canberra, dal Reconciliation Place al Commonwealth Park. Al suo arrivo a Canberra, la fiamma olimpica è stata presentata dai funzionari cinesi al locale anziano aborigeno Agnes Shea, del popolo Ngunnawal. Ella, a sua volta, offrì loro un bastone di messaggio, come dono di pace e accoglienza. Centinaia di manifestanti pro-Tibet e migliaia di studenti cinesi avrebbero partecipato. La polizia federale australiana ha tenuto separati dimostranti e contro-demostratori dalla polizia federale australiana. I preparativi per l' evento sono stati compromessi da un disaccordo sul ruolo dei vigili del fuoco cinesi, con funzionari australiani e cinesi che hanno dibattuto pubblicamente sulle loro funzioni e prerogative durante una conferenza stampa.\",\n",
       "   'qas': [{'answers': [{'answer_start': 317, 'text': 'Agnes Shea'}],\n",
       "     'id': '56d96d01dc89441400fdb44c',\n",
       "     'question': 'Che cosa ha dato Agnes Shea ai cinesi in cambio?'},\n",
       "    {'answers': [{'answer_start': 760,\n",
       "       'text': 'funzionari australiani e cinesi'}],\n",
       "     'id': '56d96d01dc89441400fdb44d',\n",
       "     'question': 'Chi ha pubblicamente discusso in una conferenza stampa?'},\n",
       "    {'answers': [{'answer_start': 35, 'text': 'Canberra'}],\n",
       "     'id': '56d96d01dc89441400fdb44e',\n",
       "     'question': 'Dove si è tenuta la staffetta in Australia?'},\n",
       "    {'answers': [{'answer_start': 117, 'text': '16'}],\n",
       "     'id': '56db37c5e7c41114004b4f63',\n",
       "     'question': 'Quanti chilometri era la rotta in Australia?'},\n",
       "    {'answers': [{'answer_start': 117, 'text': '16'}],\n",
       "     'id': '56db37c5e7c41114004b4f64',\n",
       "     'question': \"Qual è stata la posizione dell' inizio del percorso della torcia olimpica in Australia?\"},\n",
       "    {'answers': [{'answer_start': 531,\n",
       "       'text': 'polizia federale australiana'}],\n",
       "     'id': '56db37c5e7c41114004b4f65',\n",
       "     'question': 'Chi ha tenuto separati i manifestanti?'}]},\n",
       "  {'context': 'In seguito agli eventi di Olimpia, è stato riferito che la Cina ha chiesto l\\' autorizzazione a schierare il personale dell\\' Esercito di Liberazione del Popolo lungo la via della staffetta per proteggere la fiamma di Canberra. Le autorità australiane hanno dichiarato che tale richiesta, qualora venisse presentata, sarebbe stata respinta. Ufficiali cinesi etichettati una voce. Alla polizia australiana è stato conferito il potere di perquisire gli spettatori della staffetta, a seguito di una chiamata dell\\' Associazione cinese degli studenti e degli studiosi affinché gli studenti cinesi australiani \"vadano a difendere la nostra sacra torcia\" contro \"la schiuma degenerata etnica e i separatisti anti-cina\". Tony Goh, presidente del Consiglio australiano delle organizzazioni cinesi, ha detto che ACCO starebbe portando \"migliaia\" di dimostranti pro Pechino a Canberra in autobus, per sostenere la staffetta torcia. Zhang Rongan, uno studente cinese australiano che organizzava manifestazioni a favore di Pechino, ha dichiarato alla stampa che i diplomatici cinesi stavano assistendo all\\' organizzazione di autobus, pasti e alloggi per i dimostranti pro-pechino, aiutandoli ad organizzare uno \"spettacolo pacifico di forza\". Il ministro degli Esteri Stephen Smith ha detto che i funzionari cinesi stavano esortando i sostenitori a \"alzarsi e mettere un punto di vista\", ma che non aveva alcuna obiezione ad esso fino a quando sono rimasti pacifici.',\n",
       "   'qas': [{'answers': [{'answer_start': 108,\n",
       "       'text': \"personale dell' Esercito di Liberazione del Popolo\"}],\n",
       "     'id': '56d96e76dc89441400fdb454',\n",
       "     'question': 'Chi ha voluto schierare i cinesi a Canberra per proteggere la fiamma?'},\n",
       "    {'answers': [{'answer_start': 632, 'text': 'sacra torcia'}],\n",
       "     'id': '56d96e76dc89441400fdb456',\n",
       "     'question': 'agli studenti cinesi australiani è stato detto di difendere che cosa contro la schiuma e separatisti?'},\n",
       "    {'answers': [{'answer_start': 711, 'text': 'Tony Goh'}],\n",
       "     'id': '56d96e76dc89441400fdb457',\n",
       "     'question': 'Chi era il presidente del Consiglio australiano delle organizzazioni cinesi?'},\n",
       "    {'answers': [{'answer_start': 1253, 'text': 'Stephen Smith'}],\n",
       "     'id': '56d96e76dc89441400fdb458',\n",
       "     'question': 'Chi era il ministro degli Esteri che ha detto di essere a posto con le proteste, purché pacifiche?'},\n",
       "    {'answers': [{'answer_start': 383, 'text': 'polizia australiana'}],\n",
       "     'id': '56db3994e7c41114004b4f6e',\n",
       "     'question': 'Chi ha ricevuto il permesso di perquisire i partecipanti del relè?'},\n",
       "    {'answers': [{'answer_start': 711, 'text': 'Tony Goh'}],\n",
       "     'id': '56db3994e7c41114004b4f6f',\n",
       "     'question': 'Chi ha detto che migliaia di sostenitori a favore di Pechino sarebbero stati coinvolti?'},\n",
       "    {'answers': [{'answer_start': 919, 'text': 'Zhang Rongan'}],\n",
       "     'id': '56db3994e7c41114004b4f70',\n",
       "     'question': 'Chi ha detto ai media che i diplomatici cinesi stavano organizzando uno \"spettacolo pacifico di forza\"?'},\n",
       "    {'answers': [{'answer_start': 1253, 'text': 'Stephen Smith'}],\n",
       "     'id': '56db3994e7c41114004b4f71',\n",
       "     'question': 'Chi era il ministro degli Esteri che ha indicato i funzionari cinesi che volevano aiutare i manifestanti a mostrare il loro punto di vista?'}]},\n",
       "  {'context': 'Lin Hatfield Dodds, la tedoforo intenzionale, si è ritirata dall\\' evento, spiegando che desiderava esprimere preoccupazione per i precedenti della Cina in materia di diritti umani. Il ministro degli Esteri Stephen Smith ha detto che la sua decisione era \"un ottimo esempio di pacificamente fare un punto\".',\n",
       "   'qas': [{'answers': [{'answer_start': 0, 'text': 'Lin Hatfield Dodds'}],\n",
       "     'id': '56d96ec6dc89441400fdb45e',\n",
       "     'question': 'Chi si è ritirato come tedoforo a causa delle sue preoccupazioni sui diritti umani?'},\n",
       "    {'answers': [{'answer_start': 184,\n",
       "       'text': 'ministro degli Esteri Stephen Smith'}],\n",
       "     'id': '56d96ec6dc89441400fdb45f',\n",
       "     'question': 'Chi ha detto che il ritiro di Dodds è stato un buon esempio di protesta pacifica?'},\n",
       "    {'answers': [{'answer_start': 0, 'text': 'Lin Hatfield Dodds'}],\n",
       "     'id': '56db6be6e7c41114004b50d1',\n",
       "     'question': 'Chi si è ritirato dalla torcia?'},\n",
       "    {'answers': [{'answer_start': 206, 'text': 'Stephen Smith'}],\n",
       "     'id': '56db6be6e7c41114004b50d3',\n",
       "     'question': 'Chi è stato il ministro degli Esteri che ha detto che la sua decisione era un buon esempio di pacificamente prendere posizione?'}]},\n",
       "  {'context': 'Fino a 600 manifestanti pro-Tibet dovevano partecipare alla staffetta, insieme a 2.000-10.000 sostenitori cinesi. Prendendo atto dell\\' alto numero di sostenitori cinesi, Ted Quinlan, capo del comitato di staffetta della torcia di Canberra, ha dichiarato:\"Non ci aspettavamo questa reazione da parte della comunità cinese. Si tratta ovviamente di un piano ben coordinato per prendere il giorno per peso di numeri. Ma abbiamo assicurazioni che sarà fatto pacificamente\". Inoltre, il primo ministro australiano dell\\' ACT, Jon Stanhope, ha confermato che l\\' ambasciata cinese era strettamente coinvolta per garantire che \"i dimostranti pro-cina superassero di gran lunga gli attivisti tibetani\". Nuoto freestyle australiano e cinque volte medaglia d\\' oro olimpica Ian Thorpe Ian ha concluso la gamba australiana della staffetta torcia 24 aprile 2008, toccando la fiamma per accendere un calderone dopo una corsa che è stata solo marginalmente segnata da proteste. La gente ha dimostrato sia per la Cina che per il Tibet. Almeno cinque persone sono state arrestate durante la staffetta della torcia. La polizia ha detto \"i cinque sono stati arrestati per aver interferito con l\\' evento sotto poteri speciali promulgati a seguito di massicce proteste contro la politica cinese nei confronti del Tibet\".',\n",
       "   'qas': [{'answers': [{'answer_start': 7, 'text': '600'}],\n",
       "     'id': '56d96fb4dc89441400fdb464',\n",
       "     'question': 'Quanti sostenitori del Tibet si aspettavano a Canberra di protestare?'},\n",
       "    {'answers': [{'answer_start': 551, 'text': \"l' ambasciata cinese\"}],\n",
       "     'id': '56d96fb4dc89441400fdb465',\n",
       "     'question': \"Il primo ministro dell' ACT Jon Stanhope ha detto quale organizzazione intendeva garantire che i sostenitori cinesi superassero i tibetani?\"},\n",
       "    {'answers': [{'answer_start': 760, 'text': 'Ian Thorpe'}],\n",
       "     'id': '56d96fb4dc89441400fdb466',\n",
       "     'question': \"Quale atleta ha portato la torcia per l' ultima tappa?\"},\n",
       "    {'answers': [{'answer_start': 0, 'text': 'Fino a 600'}],\n",
       "     'id': '56db6c7ce7c41114004b50d7',\n",
       "     'question': 'Quanti sostenitori del Tibet dovevano presenziare alla staffetta della torcia?'},\n",
       "    {'answers': [{'answer_start': 170, 'text': 'Ted Quinlan'}],\n",
       "     'id': '56db6c7ce7c41114004b50d9',\n",
       "     'question': 'Chi non si aspettava tale reazione da parte della comunità cinese?'},\n",
       "    {'answers': [{'answer_start': 551, 'text': \"l' ambasciata cinese\"}],\n",
       "     'id': '56db6c7ce7c41114004b50da',\n",
       "     'question': 'Chi è stato coinvolto affinché i dimostranti pro cinesi superassero i manifestanti tibetani?'}]},\n",
       "  {'context': \"Giappone: L' evento si è tenuto a Nagano, che ha ospitato le Olimpiadi Invernali del 1998, il 26 aprile. Il tempio buddista giapponese Zenk -ji, originariamente previsto come punto di partenza per la staffetta olimpica della torcia a Nagano, si rifiutò di ospitare la torcia e tirò fuori i piani della staffetta, tra speculazioni che i monaci simpatizzavano con i manifestanti del governo anti-cinese. nonché il rischio di sconvolgimento dovuto a manifestazioni violente. Parti dell' edificio principale del tempio Zenk? -ji (Zenk? -ji Hond?), ricostruito nel 1707 e uno dei tesori nazionali del Giappone, è stato poi vandalizzato con vernice spray. Un nuovo punto di partenza, in precedenza sede di un edificio comunale e ora parcheggio, è stato scelto dalla città. Un evento che la città aveva pianificato di tenere al Minami Nagano Sports Park dopo la staffetta torcia è stato anche annullato per preoccupazione circa le perturbazioni causate da manifestanti che protestavano contro la recente repressione cinese in Tibet. Migliaia di poliziotti antisommossa sono stati mobilitati per proteggere la torcia lungo il suo percorso. Lo spettacolo della forza ha tenuto sotto controllo la maggior parte dei manifestanti, ma gli slogan gridati dai dimostranti pro-Cina o pro-Tibet, dai nazionalisti giapponesi e dalle organizzazioni per i diritti umani hanno inondato l' aria. Cinque uomini sono stati arrestati e quattro feriti in mezzo a scene di violenza della folla. Il percorso della torcia era pieno di manifestanti per lo più pacifici. Il pubblico non è stato autorizzato al parcheggio dove è partito il relè. Dopo che i monaci Zenkoji hanno tenuto una cerimonia di preghiera per le vittime dei recenti eventi in Tibet. Più di 100 agenti di polizia correvano con la fiaccola e la polizia antisommossa allineava le strade, mentre tre elicotteri volavano sopra. Solo due guardie cinesi sono state autorizzate ad accompagnare la torcia a causa della preoccupazione del Giappone per il loro trattamento dei manifestanti in precedenti antenne. Un uomo con bandiera tibetana ha cercato di fermare la torcia all' inizio della staffetta, ma è stato trascinato via dalla polizia. Alcune uova crude sono state gettate anche dalla folla.\",\n",
       "   'qas': [{'answers': [{'answer_start': 34, 'text': 'Nagano'}],\n",
       "     'id': '56d97098dc89441400fdb46c',\n",
       "     'question': 'Chi ha ospitato le Olimpiadi invernali del 1998?'},\n",
       "    {'answers': [{'answer_start': 34, 'text': 'Nagano'}],\n",
       "     'id': '56db6d76e7c41114004b50e1',\n",
       "     'question': 'Quali Olimpiadi ha ospitato Nagano?'},\n",
       "    {'answers': [{'answer_start': 700, 'text': 'un edificio comunale'}],\n",
       "     'id': '56db6d76e7c41114004b50e3',\n",
       "     'question': \"Quando i monaci uscirono dall' evento, dov' era il nuovo punto di partenza per il relè?\"},\n",
       "    {'answers': [{'answer_start': 1869, 'text': 'due'}],\n",
       "     'id': '56db6d76e7c41114004b50e4',\n",
       "     'question': 'Quante guardie cinesi sono state autorizzate ad andare con la torcia?'}]},\n",
       "  {'context': 'Corea del Sud: L\\' evento si è tenuto a Seul, che ha ospitato le Olimpiadi estive del 1988, il 27 aprile. Choi Seung-kook e Park Won-sun hanno boicottato l\\' evento per protestare contro la repressione del governo cinese in Tibet. Più di 8.000 poliziotti antisommossa sono stati schierati per sorvegliare il percorso di 24 chilometri iniziato nel Parco Olimpico, costruito quando Seoul ha ospitato i Giochi estivi del 1988. Il giorno della staffetta della torcia a Seul, gli studenti cinesi si sono scontrati con i manifestanti, lanciando rocce, bottiglie e pugni. Un defettore nordcoreano, il cui fratello si è defunto in Cina ma è stato catturato e giustiziato dalla RPDC, ha tentato di infiammarsi per protestare contro il trattamento riservato dalla Cina ai rifugiati nordcoreani. Ha versato benzina su se stesso, ma la polizia lo circondò rapidamente e lo portò via. Altri due manifestanti hanno cercato di prendere d\\' assalto la torcia, ma sono falliti. La lotta scoppiò vicino all\\' inizio della staffetta tra un gruppo di 500 sostenitori cinesi e circa 50 manifestanti che portavano uno striscione che recitava:\"Libera i rifugiati nordcoreani in Cina\". Gli studenti hanno gettato pietre e bottiglie d\\' acqua, dato che circa 2.500 poliziotti hanno cercato di tenere separati i gruppi. La polizia ha detto che hanno arrestato cinque persone, tra cui uno studente cinese che è stato arrestato per presunto lancio di rocce. Migliaia di cinesi hanno seguito la fiaccola durante il suo viaggio di 4,5 ore, un po\\' di canto,\"Go China, go Olympics\"! Alla fine della staffetta, gli studenti cinesi sono diventati violenti e i media coreani hanno riferito che stavano \"linciando\" tutti coloro che erano in disaccordo con loro. Un uomo di polizia è stato anche precipitato in ospedale dopo essere stato attaccato da studenti cinesi. Il 29 aprile, il segretario di giustizia Kim Kyung Han ha detto al primo ministro che troverà \"ogni singolo cinese coinvolto e lo condurrà alla giustizia\".',\n",
       "   'qas': [{'answers': [{'answer_start': 378, 'text': 'Seoul'}],\n",
       "     'id': '56d97163dc89441400fdb476',\n",
       "     'question': \"Dove si è tenuto l' evento del relè torcia in Corea del Sud?\"},\n",
       "    {'answers': [{'answer_start': 345, 'text': 'Parco Olimpico'}],\n",
       "     'id': '56d97163dc89441400fdb479',\n",
       "     'question': \"Dov' era il punto di partenza del relè?\"},\n",
       "    {'answers': [{'answer_start': 473, 'text': 'studenti cinesi'}],\n",
       "     'id': '56d97163dc89441400fdb47a',\n",
       "     'question': 'Chi è diventato violento durante il percorso della staffetta e ha ricevuto la promessa di deportazione quando è stato catturato?'},\n",
       "    {'answers': [{'answer_start': 39, 'text': 'Seul'}],\n",
       "     'id': '56db6df1e7c41114004b50eb',\n",
       "     'question': \"Dove si è svolto l' evento relè in Corea del Sud?\"}]},\n",
       "  {'context': 'Corea del Nord: L\\' evento si è tenuto a Pyongyang il 28 aprile. Era la prima volta che la torcia olimpica si è recata in Corea del Nord. Una folla di migliaia di fiori di carta rosa ondeggiare fiori e piccole bandiere con il logo Olimpiadi di Pechino sono stati organizzati dal regime autoritario guardato l\\' inizio della staffetta a Pyongyang, alcune sventolando bandiere cinesi. L\\' evento è stato presieduto dal capo del parlamento del paese, Kim Yong Nam. Il Nord, alleato della Cina, è stato critico nei confronti dei disordini della fiaccola altrove e ha sostenuto Pechino nelle sue azioni contro le proteste in Tibet. Kim passò la fiaccola al primo corridore Pak Du Ik, che ha giocato nella squadra di calcio della Corea del Nord del 1966, iniziando il percorso di 19 chilometri attraverso Pyongyang. La staffetta è iniziata dalla grande fiamma scolpita dell\\' obelisco della Torre Juche, che commemora l\\' ideologia nazionale di Juche, o \"autosufficienza\", creata dal presidente fondatore del paese Kim Il Sung, padre del leader Kim Jong Il, che non ha partecipato.',\n",
       "   'qas': [{'answers': [{'answer_start': 665, 'text': 'Pak Du Ik'}],\n",
       "     'id': '56d971ebdc89441400fdb481',\n",
       "     'question': 'Chi è stato il primo tedoforo della Corea del Nord?'},\n",
       "    {'answers': [{'answer_start': 878, 'text': 'la Torre Juche'}],\n",
       "     'id': '56d971ebdc89441400fdb482',\n",
       "     'question': 'Dove è partito il relè?'},\n",
       "    {'answers': [{'answer_start': 40, 'text': 'Pyongyang'}],\n",
       "     'id': '56d971ebdc89441400fdb484',\n",
       "     'question': \"Dove si è tenuto l' evento relè in Corea del Nord?\"},\n",
       "    {'answers': [{'answer_start': 796, 'text': 'Pyongyang.'}],\n",
       "     'id': '56db6e95e7c41114004b50f5',\n",
       "     'question': \"Che data ha avuto luogo l' evento del relè torcia?\"},\n",
       "    {'answers': [{'answer_start': 665, 'text': 'Pak Du Ik'}],\n",
       "     'id': '56db6e95e7c41114004b50f7',\n",
       "     'question': 'Chi era il primo corridore con la torcia?'}]},\n",
       "  {'context': 'L\\' Organizzazione delle Nazioni Unite e la sua agenzia per l\\' infanzia UNICEF hanno ritirato il loro personale, dicendo che non era sicuro che l\\' evento avrebbe aiutato la sua missione di aumentare la consapevolezza delle condizioni per i bambini e tra le preoccupazioni che la staffetta sarebbe stato utilizzato come una trovata di propaganda. \"E\\' stato inconciliabile\", ha detto un funzionario delle Nazioni Unite che è stato informato sugli argomenti. La Corea del Nord è spesso annoverata tra i peggiori autori di violazioni dei diritti umani nel mondo.',\n",
       "   'qas': [{'answers': [{'answer_start': 71, 'text': 'UNICEF'}],\n",
       "     'id': '56db6f0ce7c41114004b50ff',\n",
       "     'question': \"Qual è l' agenzia per i bambini dell' Organizzazione delle Nazioni Unite?\"},\n",
       "    {'answers': [{'answer_start': 93, 'text': 'il loro personale'}],\n",
       "     'id': '56db6f0ce7c41114004b5100',\n",
       "     'question': 'Entrambe le organizzazioni hanno ritirato cosa?'},\n",
       "    {'answers': [{'answer_start': 458, 'text': 'Corea del Nord'}],\n",
       "     'id': '56db6f0ce7c41114004b5102',\n",
       "     'question': 'Chi è spesso annoverato tra i peggiori autori di violazioni dei diritti umani al mondo?'}]},\n",
       "  {'context': 'Vietnam: L\\' evento si è tenuto a Ho Chi Minh City il 29 aprile. Circa 60 fiaccoleeri hanno portato la torcia dal centro del Teatro dell\\' Opera al Military Zone 7 Competition Hall Stadium vicino all\\' aeroporto internazionale di Tan Son Nhat lungo un percorso segreto. Il Vietnam è coinvolto in una disputa territoriale con la Cina (e altri paesi) per la sovranità delle isole Spratly e Paracel; le tensioni sono recentemente aumentate? a seguito di notizie secondo cui il governo cinese aveva istituito una città a livello di contea di nome Sansha nei territori contestati, con il risultato di manifestazioni anti-cinesi nel dicembre 2007 a Hanoi e Ho Chi Minh City. Tuttavia, per sostenere le sue relazioni con la Cina, il governo vietnamita ha cercato attivamente di smettere di protestare durante la staffetta della torcia, con il primo ministro Nguy? n T T? n D? n ng avvertendo le agenzie governative che le \"forze ostili\" potrebbero tentare di interrompere la staffetta della torcia.',\n",
       "   'qas': [{'answers': [{'answer_start': 70, 'text': '60'}],\n",
       "     'id': '56d972eadc89441400fdb48f',\n",
       "     'question': 'Quanti tedofori portavano la torcia in Vietnam?'},\n",
       "    {'answers': [{'answer_start': 70, 'text': '60'}],\n",
       "     'id': '56d972eadc89441400fdb490',\n",
       "     'question': \"Dove è iniziato l' evento della torcia in Vietnam?\"},\n",
       "    {'answers': [{'answer_start': 33, 'text': 'Ho Chi Minh City'}],\n",
       "     'id': '56d972eadc89441400fdb492',\n",
       "     'question': \"Dov' è stato l' evento della torcia in Vietnam?\"},\n",
       "    {'answers': [{'answer_start': 366, 'text': 'le isole Spratly e Paracel'}],\n",
       "     'id': '56db6ae2e7c41114004b50bd',\n",
       "     'question': 'Quali sono le aree coinvolte nella controversia tra Vietnam e Cina?'},\n",
       "    {'answers': [{'answer_start': 540, 'text': 'Sansha'}],\n",
       "     'id': '56db6ae2e7c41114004b50be',\n",
       "     'question': 'Il governo cinese ha stabilito quale città in questa zona controversa?'}]},\n",
       "  {'context': 'Prima del rally, sette manifestanti anticina sono stati arrestati ad Hanoi dopo aver dispiegato una bandiera e gridato \"Boycott le Olimpiadi di Pechino\" attraverso un megafono in un mercato. Un vietnamita americano è stato deportato per aver pianificato le proteste contro la torcia, mentre un prominente blogger, i? u Cày (nome reale Nguy? n V? n H? n H? i), che ha blogato sulle proteste in tutto il mondo e che ha chiesto dimostrazioni in Vietnam, è stato arrestato con l\\' accusa di evasione fiscale. Fuori dal Vietnam, vi sono state proteste da parte di vietnamiti stranieri a Parigi, San Francisco e Canberra. Lê Minh Phi? u, un tedoforo che è uno studente di legge vietnamita che studia in Francia, ha scritto una lettera al presidente del Comitato Olimpico Internazionale protestando contro la \"politicizzazione delle Olimpiadi in Cina\", citando le mappe della staffetta della torcia sul sito ufficiale delle Olimpiadi di Pechino che ritrae le isole controverse come territorio cinese e l\\' ha pubblicata sul suo blog. Un giorno prima dell\\' inizio della staffetta, il sito ufficiale sembrava essere stato aggiornato per eliminare le isole contestate e segnare le rivendicazioni marittime della Cina nel Mar Cinese Meridionale.',\n",
       "   'qas': [{'answers': [{'answer_start': 17, 'text': 'sette'}],\n",
       "     'id': '56d973fedc89441400fdb498',\n",
       "     'question': 'Quante persone che protestavano contro la Cina sono state arrestate ad Hanoi prima della manifestazione?'}]},\n",
       "  {'context': \"Hong Kong: l' evento si è tenuto il 2 maggio a Hong Kong. Nella cerimonia tenutasi presso il Centro culturale di Hong Kong a Tsim Sha Tsui, il capo dell' esecutivo Donald Tsang ha consegnato la torcia al primo tedoforo, medaglia olimpica Lee Lai Shan. La staffetta della torcia ha poi attraversato Nathan Road, Lantau Link, Sha Tin (attraversato il fiume Shing Mun attraverso una dragon boat, mai utilizzata prima nella storia dei relè olimpici della torcia), Victoria Harbour (attraversato da Tin Hau, una nave VIP gestita dal Dipartimento Marittimo) prima di terminare in Golden Bauhinia Square a Wan Chai. Un totale di 120 tedofori sono stati selezionati per partecipare all' evento, composto da celebrità, atleti e politici del campo a favore di Pechino. Nessun politico del campo filodemocratico è stato selezionato come tedoforo. Un tedoforo non poteva partecipare a causa del ritardo del volo. E' stato stimato che più di 200.000 spettatori sono usciti e hanno visto la staffetta. Molti sostenitori entusiasti indossavano camicie rosse e sventolavano grandi bandiere cinesi. Secondo il segretario di Hong Kong per l' amministrazione Henry Tang, 3.000 poliziotti sono stati dispiegati per garantire l' ordine.\",\n",
       "   'qas': [{'answers': [{'answer_start': 238, 'text': 'Lee Lai Shan'}],\n",
       "     'id': '56d9749adc89441400fdb4a1',\n",
       "     'question': \"Dov' è iniziato l' evento della torcia a Hong Kong?\"},\n",
       "    {'answers': [{'answer_start': 622, 'text': '120'}],\n",
       "     'id': '56d9749adc89441400fdb4a3',\n",
       "     'question': \"Quanti tedofori hanno partecipato all' evento relay di Hong Kong?\"},\n",
       "    {'answers': [{'answer_start': 36, 'text': '2 maggio'}],\n",
       "     'id': '56d9749adc89441400fdb4a4',\n",
       "     'question': \"Quando si è svolto l' evento relay a Hong Kong?\"},\n",
       "    {'answers': [{'answer_start': 164, 'text': 'Donald Tsang'}],\n",
       "     'id': '56db7092e7c41114004b5107',\n",
       "     'question': 'Chi ha consegnato la torcia a Lee Lai Shan, il primo tedoforo?'},\n",
       "    {'answers': [{'answer_start': 164, 'text': 'Donald Tsang'}],\n",
       "     'id': '56db7092e7c41114004b5108',\n",
       "     'question': 'Che cosa è stato usato per trasportare la torcia attraverso il fiume Shing Mun?'},\n",
       "    {'answers': [{'answer_start': 622, 'text': '120'}],\n",
       "     'id': '56db7092e7c41114004b5109',\n",
       "     'question': 'Quanti tedofori portavano la torcia?'},\n",
       "    {'answers': [{'answer_start': 622, 'text': '120'}],\n",
       "     'id': '56db7092e7c41114004b510a',\n",
       "     'question': 'I tedofori includevano atleti, celebrità e chi?'}]},\n",
       "  {'context': 'Ci sono state diverse proteste lungo il percorso della staffetta torcia. I membri dell\\' Alleanza di Hong Kong a sostegno dei movimenti patriottici democratici in Cina, tra cui l\\' attivista filodemocratico Szeto Wah, hanno sventolato le fiamme olimpiche gonfiabili di plastica nuove, che hanno detto simboleggiato la democrazia. Volevano rendere conto delle proteste di piazza Tienanmen del 1989 e dell\\' attuazione della democrazia a Hong Kong. Anche l\\' attivista politico e membro del Consiglio legislativo Leung Kwok-hung (Longhair) si è unito alla protesta, dicendo:\"Sono molto orgoglioso che a Hong Kong abbiamo ancora persone abbastanza coraggiose da poter parlare\". Gli attivisti della Pro-democrazia sono stati sopraffatti da una folla di fiaccole sostenitori con insulti come \"correre il cane\",\"traditore\",\"uscire\", e \"Amo il Partito Comunista\". Allo stesso tempo, circa 10 membri del Fronte civile per i diritti umani avevano striscioni arancioni che chiedevano miglioramenti dei diritti umani e suffragio universale. Gli spettatori stavano dicendo \"Non sei cinese\"? in putonghua mandarino come hanno cercato di coprire le bandiere arancione con una grande bandiera nazionale cinese. Una donna aveva un segno arancione che diceva:\"Fiamma olimpica per la democrazia\", mentre un uomo portava un manifesto con un carro armato e lo slogan \"Un mondo, due sogni\". Christina Chan, studentessa universitaria ed ex radio ospite della RDHK, ha avvolto intorno al suo corpo la bandiera tibetana del leone di neve e successivamente ha cominciato a sventolarla.',\n",
       "   'qas': [{'answers': [{'answer_start': 1366, 'text': 'Christina Chan'}],\n",
       "     'id': '56d97560dc89441400fdb4ac',\n",
       "     'question': 'Questo gruppo voleva rendere conto di quale evento del 1989?'},\n",
       "    {'answers': [{'answer_start': 1366, 'text': 'Christina Chan'}],\n",
       "     'id': '56d97560dc89441400fdb4ad',\n",
       "     'question': \"Chi ha avvolto intorno al suo corpo una bandiera tibetana e poi l' ha sventolata?\"},\n",
       "    {'answers': [{'answer_start': 507, 'text': 'Leung Kwok-hung'}],\n",
       "     'id': '56db70ebe7c41114004b5112',\n",
       "     'question': 'Chi era orgoglioso che Hong Kong abbia ancora persone coraggiose a parlare?'}]},\n",
       "  {'context': 'Il gruppo di democrazia color arancione, guidato dallo scultore danese Jens Galschiøt, in origine intendeva unirsi alla staffetta dell\\' Alleanza di Hong Kong e dipingere il \"pilastro della vergogna\", una struttura da lui costruita a Hong Kong per commemorare le proteste di piazza Tienanmen del 1989. Tuttavia, il 26 aprile 2008 a Galschiøt e ad altre due persone è stato negato l\\' ingresso a Hong Kong il 26 aprile 2008 per \"motivi legati all\\' immigrazione\" e sono state costrette a lasciare Hong Kong. In risposta, Lee Cheuk Cheuk Yan, vice presidente dell\\' Alleanza di Hong Kong a sostegno dei movimenti patriottici democratici in Cina, ha detto:\"E\\' scandaloso che il governo è disposto a sacrificare l\\' immagine di Hong Kong a causa della staffetta torcia\". L\\' attrice di Hollywood Mia Farrow è stata anche brevemente interrogata all\\' aeroporto di Hong Kong, anche se i funzionari le hanno permesso di entrare. Più tardi ha tenuto un discorso per criticare le relazioni della Cina con il Sudan a Hong Kong, poiché c\\' era anche una piccola minoranza di persone che protestavano per il ruolo della Cina nella crisi del Darfur.',\n",
       "   'qas': [{'answers': [{'answer_start': 174,\n",
       "       'text': 'pilastro della vergogna'}],\n",
       "     'id': '56d97631dc89441400fdb4b5',\n",
       "     'question': 'Che cosa ha costruito Galschiøt a Hong Kong in riferimento alle proteste di piazza Tienanmen?'},\n",
       "    {'answers': [{'answer_start': 786, 'text': 'Mia Farrow'}],\n",
       "     'id': '56d97631dc89441400fdb4b7',\n",
       "     'question': \"Quale attrice americana è stata interrogata all' aeroporto di Hong Kong?\"},\n",
       "    {'answers': [{'answer_start': 174, 'text': 'pilastro della vergogna'}],\n",
       "     'id': '56db715ce7c41114004b511b',\n",
       "     'question': 'Quale struttura ha costruito Jens Galschiøt per monumentalizzare le proteste di piazza Tianamen nel 1989?'},\n",
       "    {'answers': [{'answer_start': 786, 'text': 'Mia Farrow'}],\n",
       "     'id': '56db715ce7c41114004b511d',\n",
       "     'question': 'Quale attrice americana inizialmente si è tenuta e poi ha tenuto un discorso su Cina e Sudan?'}]},\n",
       "  {'context': \"Macao: l' evento si è tenuto a Macao il 3 maggio. Era la prima volta che la torcia olimpica si era recata a Macao. Una cerimonia si è svolta a Macau Fisherman's Wharf. In seguito, la torcia ha attraversato Macau, passando per una serie di punti di riferimento tra cui il Tempio A-Ma, la Torre di Macau, il Ponte Governador Nobre de Carvalho, il Ponte de Sai Van, il Centro Culturale Macau, lo Stadio di Macau e poi di nuovo sul molo del Pescatore per la cerimonia di chiusura. Parti del percorso vicino alle rovine di San Paolo e Taipa sono state accorciate a causa di grandi folle di sostenitori che bloccano le strette strade. A questo evento hanno partecipato in totale 120 tedofori, tra cui il magnate del casinò Stanley Ho. Leong Hong Man e Leong Heng Teng Teng sono stati rispettivamente il primo e l' ultimo portatore di torcia nel relè. Un articolo pubblicato su Macao Daily News criticava che l' elenco dei tedofori non poteva rappresentare pienamente i macanesi e che c' erano troppi non atleti tra i tedofori. (alcuni dei quali già portatori di altri eventi sportivi) 3 maggio. Quando ha visitato la torcia a Macao? Molo del pescatore di Macao.\",\n",
       "   'qas': [{'answers': [{'answer_start': 143,\n",
       "       'text': \"Macau Fisherman's Wharf\"}],\n",
       "     'id': '56d976addc89441400fdb4bf',\n",
       "     'question': 'Chi è stato il primo tedoforo di Macao?'},\n",
       "    {'answers': [{'answer_start': 998, 'text': 'atleti'}],\n",
       "     'id': '56d976addc89441400fdb4c0',\n",
       "     'question': \"Un articolo di giornale ha criticato che non c' erano abbastanza di che tipo di persona tra i portatori di fiaccole?\"},\n",
       "    {'answers': [{'answer_start': 729, 'text': 'Leong Hong Man'}],\n",
       "     'id': '56d976addc89441400fdb4c1',\n",
       "     'question': 'Quanti tedofori portavano la torcia a Macao?'},\n",
       "    {'answers': [{'answer_start': 717, 'text': 'Stanley Ho'}],\n",
       "     'id': '56db74aae7c41114004b512d',\n",
       "     'question': \"Quale magnate del casinò ha partecipato all' evento del relè torcia?\"},\n",
       "    {'answers': [{'answer_start': 871, 'text': 'Macao Daily News'}],\n",
       "     'id': '56db74aae7c41114004b512e',\n",
       "     'question': 'Quale pubblicazione era insoddisfatta della quantità di tedofori non attivi?'}]},\n",
       "  {'context': 'Un residente di Macao è stato arrestato il 26 aprile per aver inviato un messaggio su cyberctm. com incoraggiando le persone a interrompere la staffetta. Entrambi i forum Internet orchidbbs. com e cyberctm. com sono stati spenti dal 2 al 4 maggio.',\n",
       "   'qas': [{'answers': [{'answer_start': 180, 'text': 'orchidbbs'}],\n",
       "     'id': '56d97744dc89441400fdb4cb',\n",
       "     'question': 'Oltre a cyberctm'},\n",
       "    {'answers': [{'answer_start': 0, 'text': 'Un residente di Macao'}],\n",
       "     'id': '56db756ce7c41114004b513d',\n",
       "     'question': 'Chi è stato arrestato il 26 aprile per aver inviato un messaggio online?'},\n",
       "    {'answers': [{'answer_start': 86, 'text': 'cyberctm'}],\n",
       "     'id': '56db756ce7c41114004b513e',\n",
       "     'question': 'Dove è stato inviato il messaggio?'}]},\n",
       "  {'context': \"Cina: La torcia è tornata in Cina per la prima volta da aprile. La torcia è arrivata a Sanya, Hainan il 4 maggio con celebrazioni cui hanno partecipato funzionari del Comitato Olimpico Internazionale (CIO) e grandi nomi cinesi come Jackie Chan. L' intera staffetta attraverso la Cina continentale è stato in gran parte un successo con molte persone che hanno accolto con favore l' arrivo della torcia lungo il percorso.\",\n",
       "   'qas': [{'answers': [{'answer_start': 232, 'text': 'Jackie Chan'}],\n",
       "     'id': '56d9779ddc89441400fdb4d1',\n",
       "     'question': \"Quando era l' ultima volta che la torcia era stata in Cina?\"},\n",
       "    {'answers': [{'answer_start': 232, 'text': 'Jackie Chan'}],\n",
       "     'id': '56db75c2e7c41114004b5148',\n",
       "     'question': 'Quale attore ha partecipato alle celebrazioni?'}]},\n",
       "  {'context': 'La copertura degli eventi da parte dei media è stata esaminata durante la trasmissione. Copertura mediatica cinese del relè torcia è stata distinta in vari modi rispetto alla copertura altrove. I giornalisti occidentali di Pechino hanno descritto la copertura mediatica cinese come parziale e censurata (ad esempio quando i media cinesi non hanno trasmesso Reporters Without Borders\\' interruzione della cerimonia di illuminazione della torcia), mentre i cittadini cinesi hanno a loro volta accusato la copertura mediatica occidentale di essere parziali. Il giornale francese Libération è stato criticato dall\\' agenzia di stampa statale cinese Xinhua per la sua asserita parzialità di notizie; Xinhua ha suggerito che la Libération aveva bisogno di \"uno schiaffo pungente in faccia\" per aver \"insultato la fiamma olimpica\" e \"sostenuto una manciata di sabotatori\".',\n",
       "   'qas': [{'answers': [{'answer_start': 282, 'text': 'parziale e censurata'}],\n",
       "     'id': '56d97bf6dc89441400fdb4d4',\n",
       "     'question': 'La copertura cinese di eventi torcia relè eventi è stato accusato da reporter occidentali come essere quello che è?'},\n",
       "    {'answers': [{'answer_start': 575, 'text': 'Libération'}],\n",
       "     'id': '56d97bf6dc89441400fdb4d6',\n",
       "     'question': \"Quale giornale francese è stato accusato di essere distorto dall' agenzia di stampa cinese Xinhua?\"},\n",
       "    {'answers': [{'answer_start': 88, 'text': 'copertura mediatica'}],\n",
       "     'id': '56db7278e7c41114004b5123',\n",
       "     'question': 'Cosa era sotto esame?'},\n",
       "    {'answers': [{'answer_start': 293, 'text': 'censurata'}],\n",
       "     'id': '56db7278e7c41114004b5124',\n",
       "     'question': 'Copertura in Cina è segnalato per essere parziale e che cosa?'},\n",
       "    {'answers': [{'answer_start': 357, 'text': 'Reporters Without Borders'}],\n",
       "     'id': '56db7278e7c41114004b5125',\n",
       "     'question': 'Quale organizzazione ha interrotto il relè e non è stato trasmesso dai media cinesi?'},\n",
       "    {'answers': [{'answer_start': 575, 'text': 'Libération'}],\n",
       "     'id': '56db7278e7c41114004b5126',\n",
       "     'question': 'Cinese State Press ha detto che cosa giornale francese è stato falsato?'},\n",
       "    {'answers': [{'answer_start': 851, 'text': 'sabotatori'}],\n",
       "     'id': '56db7278e7c41114004b5127',\n",
       "     'question': 'La stampa di Stato cinese ha detto che il giornale francese stava sostenendo una manciata di cosa?'}]},\n",
       "  {'context': 'In risposta alle proteste a favore di Tibet e dei diritti umani, i media cinesi si sono concentrati sui manifestanti più dirompenti, facendo riferimento ad esempio a \"un numero molto ridotto di secessionisti indipendentisti tibetani\" e a una manciata di cosiddetti attivisti delle ONG per i diritti umani \"intenti a\" sconvolgere e sabotare i Giochi olimpici di Pechino \". Tuttavia, i media cinesi hanno pubblicato articoli su folle che sostengono la staffetta torcia.',\n",
       "   'qas': [{'answers': [{'answer_start': 102,\n",
       "       'text': 'i manifestanti più dirompenti'}],\n",
       "     'id': '56d97c68dc89441400fdb4dc',\n",
       "     'question': 'Su cosa si sono concentrati i media cinesi per quanto riguarda i manifestanti dei diritti umani?'}]},\n",
       "  {'context': 'Xinhua e CCTV hanno citato spettatori della staffetta che hanno condannato le proteste, in misura maggiore rispetto alla maggior parte dei media occidentali, ma non hanno citato alcun punto di vista alternativo, senza fornire alcuna copertura di sostegno alle proteste da parte di alcuni cittadini comuni nei paesi occidentali. Ha citato atleti che hanno espresso l\\' orgoglio di partecipare ai relays, in misura maggiore rispetto ai media occidentali, ma non quelli che, come Marie-José Pérec, hanno espresso comprensione e sostegno per i manifestanti. Il Comitato Organizzatore di Pechino per i Giochi ha parlato dei \"volti sorridenti di anziani, bambini e artisti per le strade\", di londinesi che si rallegrano e sostengono. Xinhua ha detto che i manifestanti erano \"radicali\" che \"calpestavano i diritti umani\" e le cui attività sono state condannate dal \"popolo del mondo che ama cordialmente lo spirito olimpico\".',\n",
       "   'qas': [{'answers': [{'answer_start': 476, 'text': 'Marie-José Pérec'}],\n",
       "     'id': '56d97d10dc89441400fdb4df',\n",
       "     'question': 'Quale atleta è stato ignorato dai media per sostenere i manifestanti?'},\n",
       "    {'answers': [{'answer_start': 769, 'text': 'radicali'}],\n",
       "     'id': '56d97d10dc89441400fdb4e0',\n",
       "     'question': 'Che cosa ha chiamato i manifestanti Xinhua?'},\n",
       "    {'answers': [{'answer_start': 476, 'text': 'Marie-José Pérec'}],\n",
       "     'id': '56db76b7e7c41114004b5153',\n",
       "     'question': 'Quale atleta ha mostrato sostegno per la gente che protesta?'},\n",
       "    {'answers': [{'answer_start': 0, 'text': 'Xinhua'}],\n",
       "     'id': '56db76b7e7c41114004b5154',\n",
       "     'question': 'Quale pubblicazione ha detto che i manifestanti calpestano i diritti umani?'}]},\n",
       "  {'context': 'Anche i rapporti sul relè Delhi erano distinti. Nonostante Kiran Bedi, Soha Ali Khan, Sachin Tendulkar e Bhaichung Bhutia nonostante i tedofori intenzionati tutti ritirandosi dall\\' evento, il sito ufficiale cinese per la staffetta ha riferito \"indiani torchbearers voto di correre per lo spirito delle Olimpiadi\", e citato i tedofori Manavjit Singh Sandhu, Abhinav Bindra, Ayaan Ali Khan e Rajinder spirito delle Olimpiadi.',\n",
       "   'qas': []},\n",
       "  {'context': 'Alcuni media occidentali hanno riferito di accuse cinesi di pregiudizi dei media occidentali. Il Daily Telegraph ha pubblicato un articolo di opinione dell\\' ambasciatore cinese nel Regno Unito, Fu Ying, che ha accusato i media occidentali di \"demonizzare\" la Cina durante la loro copertura dei relè torcia. Il Telegrafo ha anche chiesto ai suoi lettori di inviare le loro opinioni in risposta alla domanda \"L\\' Occidente demonizza la Cina\"? La BBC ha riferito su una dimostrazione a Sydney da parte degli australiani cinesi \"dando voce al sostegno di Pechino in mezzo alle polemiche sul Tibet\" e protestando contro ciò che essi vedevano come pregiudizi dei media occidentali. Il rapporto ha mostrato dimostranti che portavano cartelli che recitano \"Vergogna su alcuni media occidentali\",\"BBC CNN menzogne troppo\" e \"Stop media distorsione! Un dimostratore intervistato dalla BBC ha dichiarato:\"Ho visto alcune notizie dalla CNN, dalla BBC, da alcuni media[inaudibili] e sono solo mentire\". Libération ha anche riferito di essere stato accusato di parzialità dai media cinesi.',\n",
       "   'qas': [{'answers': [{'answer_start': 989, 'text': 'Libération'}],\n",
       "     'id': '56d97e69dc89441400fdb4eb',\n",
       "     'question': 'Quale giornale francese ha accusato i media cinesi di parzialità?'},\n",
       "    {'answers': [{'answer_start': 194, 'text': 'Fu Ying'}],\n",
       "     'id': '56db779ee7c41114004b5164',\n",
       "     'question': \"Chi era l' ambasciatore cinese nel Regno Unito?\"},\n",
       "    {'answers': [{'answer_start': 989, 'text': 'Libération'}],\n",
       "     'id': '56db779ee7c41114004b5167',\n",
       "     'question': 'Quale altro giornale è stato accusato di parzialità?'}]},\n",
       "  {'context': 'Il 17 aprile, Xinhua ha condannato ciò che ha chiamato \"la copertura distorta dei disordini di Lhasa e la staffetta olimpica della torcia da parte della statunitense Cable News Network (CNN)\". Lo stesso giorno, il governo cinese ha invitato la CNN a \"scusarsi\" per aver presumibilmente insultato il popolo cinese e per aver \"tentato di incitare il popolo cinese contro il governo\". CNN ha rilasciato una dichiarazione il 14 aprile, ha risposto alla Cina\\' teppisti e gooni\\' commento da Jack Cafferty.',\n",
       "   'qas': [{'answers': [{'answer_start': 186, 'text': 'CNN'}],\n",
       "     'id': '56d9868bdc89441400fdb4ee',\n",
       "     'question': 'Chi ha accusato la Xinhua di segnalazione distorta il 17 aprile?'},\n",
       "    {'answers': [{'answer_start': 186, 'text': 'CNN'}],\n",
       "     'id': '56db785ee7c41114004b516d',\n",
       "     'question': 'Chi è stato accusato di pregiudizi il 17 aprile dalla Xinhua?'},\n",
       "    {'answers': [{'answer_start': 211, 'text': 'il governo cinese'}],\n",
       "     'id': '56db785ee7c41114004b516e',\n",
       "     'question': 'Chi ha voluto chiedere scusa alla CNN per il suo insulto al popolo cinese?'}]},\n",
       "  {'context': 'Il 19 aprile, la BBC ha riferito che 1.300 persone si erano riunite al di fuori degli edifici della BBC a Manchester e Londra, protestando contro ciò che hanno descritto come pregiudizi dei media occidentali. Diversi giorni prima, la BBC aveva pubblicato un articolo intitolato \"Le sfide di segnalazione in Cina\", rispondendo alle critiche precedenti. Paul Danahar della BBC ha osservato che il popolo cinese era ora \"in grado di accedere al sito web della BBC News per la prima volta, dopo anni di severa censura\", e che \"molti erano critici nei confronti della nostra copertura\". Egli ha ricordato ai lettori il ricordo della censura in Cina e ha aggiunto:\"Le persone che criticano i media per la loro copertura in Tibet dovrebbero riconoscere che ci era e ci viene ancora proibito di riferirci\".',\n",
       "   'qas': [{'answers': [{'answer_start': 352, 'text': 'Paul Danahar'}],\n",
       "     'id': '56d987b2dc89441400fdb4f5',\n",
       "     'question': 'Chi ha dichiarato che il popolo cinese potrebbe accedere al sito della BBC dopo anni di inattività?'},\n",
       "    {'answers': [{'answer_start': 37, 'text': '1.300'}],\n",
       "     'id': '56db78b8e7c41114004b5172',\n",
       "     'question': 'Quante persone si sono riunite per protestare in questi due edifici?'},\n",
       "    {'answers': [{'answer_start': 352, 'text': 'Paul Danahar'}],\n",
       "     'id': '56db78b8e7c41114004b5173',\n",
       "     'question': 'Chi ha commentato che il popolo cinese può guardare il sito di notizie della BBC per la prima volta?'},\n",
       "    {'answers': [{'answer_start': 717, 'text': 'Tibet'}],\n",
       "     'id': '56db78b8e7c41114004b5174',\n",
       "     'question': 'Dove è vietato alla BBC di riferire?'}]},\n",
       "  {'context': 'Il 20 aprile, il People\\'s Daily ha pubblicato un rapporto intitolato \"Overseas Chinese rally contro la copertura mediatica distorta, per le Olimpiadi\". Sono state incluse immagini di persone cinesi che hanno manifestato in Francia, Regno Unito, Germania e Stati Uniti. Un\\' immagine mostrava manifestanti cinesi in possesso di un segno che affermava, erroneamente, che la BBC non aveva riferito su Jin Jing. Il People\\'s Daily ha citato un manifestante che ha affermato la \"BBC su alcuni dei recenti eventi ha fuorviato il pubblico britannico e il resto del mondo, fornendo rapporti intensivi non veritieri e una copertura distorta\".',\n",
       "   'qas': [{'answers': [{'answer_start': 17, 'text': \"People's Daily\"}],\n",
       "     'id': '56d98814dc89441400fdb4fa',\n",
       "     'question': 'Chi ha pubblicato il 20 aprile \"Rally cinese d\\' oltremare contro una copertura mediatica distorta\"?'},\n",
       "    {'answers': [{'answer_start': 17, 'text': \"People's Daily\"}],\n",
       "     'id': '56db78e9e7c41114004b5179',\n",
       "     'question': 'Quale pubblicazione ha pubblicato un rapporto sul rally cinese contro i pregiudizi mediatici?'}]},\n",
       "  {'context': 'Il 4 aprile, è stato riferito che il governo cinese avrebbe gestito un sito web anti-CNNN che critica la copertura della rete via cavo sugli eventi recenti. Il sito sostiene di essere stato creato da un cittadino di Pechino. Tuttavia, i corrispondenti stranieri a Pechino ha espresso il sospetto che Anti-cnn potrebbe essere un semi-governo fatto sito web. Un portavoce del governo cinese ha insistito sul fatto che il sito è stato istituito spontaneamente da un cittadino cinese arrabbiato per la copertura mediatica.',\n",
       "   'qas': [{'answers': [{'answer_start': 68, 'text': 'un sito web anti-CNN'}],\n",
       "     'id': '56d98886dc89441400fdb4fe',\n",
       "     'question': 'Che cosa ha riferito il governo cinese il 4 aprile?'},\n",
       "    {'answers': [{'answer_start': 200, 'text': 'un cittadino di Pechino'}],\n",
       "     'id': '56d98886dc89441400fdb4ff',\n",
       "     'question': 'Chi avrebbe creato il sito?'},\n",
       "    {'answers': [{'answer_start': 200, 'text': 'un cittadino di Pechino'}],\n",
       "     'id': '56db792ce7c41114004b517e',\n",
       "     'question': 'Chi si prende il credito per la creazione del sito?'},\n",
       "    {'answers': [{'answer_start': 237, 'text': 'corrispondenti stranieri'}],\n",
       "     'id': '56db792ce7c41114004b517f',\n",
       "     'question': 'Chi pensava che il governo fosse coinvolto nel sito web?'}]},\n",
       "  {'context': 'Il Comitato Organizzatore Olimpico di Pechino ha inviato una squadra di 30 assistenti disarmati selezionati dalla Polizia Armata Popolare per scortare la fiamma durante tutto il suo viaggio. Secondo il Times asiatico, giurato come il \"Giochi Olimpici di Pechino Sacra unità di protezione fiamma\" durante una cerimonia nell\\' agosto 2007, il loro compito principale è quello di mantenere la fiamma olimpica acceso per tutto il viaggio e di contribuire a trasferire la fiamma tra le torce, le lanterne e i calderoni. Indossano tute abbinate blu e sono destinate ad accompagnare la torcia in ogni sua fase. Uno degli assistenti di torcia, soprannominato \"Secondo Fratello di destra\", ha sviluppato un importante fan-base online, in particolare tra le cittadine cinesi.',\n",
       "   'qas': [{'answers': [{'answer_start': 72, 'text': '30'}],\n",
       "     'id': '56d98906dc89441400fdb502',\n",
       "     'question': 'Quanti assistenti hanno accompagnato la fiamma durante i suoi viaggi?'},\n",
       "    {'answers': [{'answer_start': 324, 'text': 'agosto 2007'}],\n",
       "     'id': '56d98906dc89441400fdb503',\n",
       "     'question': 'Quando hanno prestato giuramento i 30 membri del team?'},\n",
       "    {'answers': [{'answer_start': 72, 'text': '30'}],\n",
       "     'id': '56db7a68e7c41114004b5183',\n",
       "     'question': \"Quanti assistenti sono stati utilizzati dalla Polizia Armata del Popolo per l' intero viaggio della fiamma?\"},\n",
       "    {'answers': [{'answer_start': 324, 'text': 'agosto 2007'}],\n",
       "     'id': '56db7a68e7c41114004b5185',\n",
       "     'question': 'Quando hanno prestato giuramento questi 30 anni?'}]},\n",
       "  {'context': 'In Cina, a partire dal 1° maggio, nel fine settimana del 12 aprile, un appello all\\' ipermercato francese Carrefour a boicottare l\\' ipermercato francese Carrefour ha iniziato a diffondere tra i cinesi attraverso la messaggistica mobile e le chat room online, accusando il principale azionista della società, il Gruppo LVMH, di donare fondi al Dalai Lama. Ci sono stati anche appelli a estendere il boicottaggio per includere i beni di lusso francesi e prodotti cosmetici. I manifestanti cinesi hanno organizzato boicottaggi della catena francese Carrefour in grandi città cinesi, tra cui Kunming, Hefei e Wuhan, accusando la nazione francese di cospirazione filosecessionista e razzismo anti-cinese. Alcune bandiere francesi bruciate, alcune hanno aggiunto Swastika (a causa delle sue conotaions con il nazismo) alla bandiera francese, e diffondere brevi messaggi online che richiedono grandi proteste di fronte ai consolati francesi e ambasciata. Alcuni acquirenti che hanno insistito per entrare in uno dei negozi Carrefour a Kunming sono stati bloccati da boicottaggiatori brandendo grandi bandiere cinesi e colpiti da bottiglie d\\' acqua. Centinaia di persone si unirono ai raduni antifrancesi a Pechino, Wuhan, Hefei, Kunming e Qingdao, che si diffusero rapidamente in altre città come Xi\\' an, Harbin e Jinan. Carrefour ha negato qualsiasi sostegno o coinvolgimento nella questione tibetana, e ha avuto il suo personale nei suoi negozi cinesi indossare uniformi abbelliti con la bandiera nazionale cinese e tappi con insegne olimpiche e così come le parole \"Pechino 2008\" per mostrare il suo sostegno per i giochi. Lo sforzo ha dovuto essere interrotto quando il BOCOG ha ritenuto illegale l\\' uso di insegne olimpiche ufficiali e una violazione del diritto d\\' autore.',\n",
       "   'qas': [{'answers': [{'answer_start': 105, 'text': 'Carrefour'}],\n",
       "     'id': '56d98998dc89441400fdb518',\n",
       "     'question': 'Quale azienda francese è stata boicottata?'},\n",
       "    {'answers': [{'answer_start': 310, 'text': 'Gruppo LVMH'}],\n",
       "     'id': '56d98998dc89441400fdb519',\n",
       "     'question': 'Carrefour è stato boicottato a causa di quale azionista?'},\n",
       "    {'answers': [{'answer_start': 813, 'text': 'la bandiera francese'}],\n",
       "     'id': '56d98998dc89441400fdb51b',\n",
       "     'question': 'Cosa è stato bruciato durante questi boicottaggi?'},\n",
       "    {'answers': [{'answer_start': 310, 'text': 'Gruppo LVMH'}],\n",
       "     'id': '56db7bd2e7c41114004b5192',\n",
       "     'question': 'Chi è stato accusato di aver aiutato il Dalai Lama?'}]},\n",
       "  {'context': 'In risposta alle manifestazioni, il governo cinese ha tentato di calmare la situazione, temendo che le proteste potessero andare incontro a spirale, come è accaduto negli ultimi anni, comprese le proteste antigiapponesi del 2005. I media e i commenti dello Stato cominciarono a chiedere calma, come un editoriale nel People\\'s Daily, che esortava il popolo cinese ad \"esprimere il loro entusiasmo patriottico con calma e razionalità, ed esprimere l\\' aspirazione patriottica in modo ordinato e legale\". Il governo ha anche iniziato a pattugliare e censurare i forum internet come Sohu. com, con commenti relativi al boicottaggio Carrefour rimosso.',\n",
       "   'qas': [{'answers': [{'answer_start': 317, 'text': \"People's Daily\"}],\n",
       "     'id': '56d98a32dc89441400fdb523',\n",
       "     'question': 'Quale giornale ha esortato i cittadini a protestare pacificamente?'},\n",
       "    {'answers': [{'answer_start': 578, 'text': 'Sohu'}],\n",
       "     'id': '56d98a32dc89441400fdb524',\n",
       "     'question': 'Quale sito web aveva citato il boicottaggio dei Carrefour rimosso dal governo?'},\n",
       "    {'answers': [{'answer_start': 33, 'text': 'il governo cinese'}],\n",
       "     'id': '56db7c39e7c41114004b519c',\n",
       "     'question': 'Chi ha rimosso i commenti di Boicottaggio Carrefour da alcuni siti web?'}]},\n",
       "  {'context': 'In Giappone, il sindaco di Nagano, Shoichi Washizawa ha detto che è diventato un \"grande fastidio\" per la città di ospitare la staffetta torcia prima della gamba Nagano. Gli aiutanti di Washizawa hanno detto che l\\' osservazione del sindaco non era criticare la staffetta stessa, ma le potenziali interruzioni e confusione che la circondano. Un dipendente della città dell\\' ufficio comunale di Nagano ridicolizzò le proteste in Europa, ha detto:\"Stanno facendo qualcosa di stupido\", in un\\' intervista televisiva. La città di Nagano si scusò ufficialmente più tardi e spiegò quello che aveva voluto dire era:\"Tali proteste violente non erano facili da accettare\".',\n",
       "   'qas': [{'answers': [{'answer_start': 35, 'text': 'Shoichi Washizawa'}],\n",
       "     'id': '56d98b11dc89441400fdb534',\n",
       "     'question': 'Chi era il sindaco di Nagano?'},\n",
       "    {'answers': [{'answer_start': 82, 'text': 'grande fastidio'}],\n",
       "     'id': '56d98b11dc89441400fdb535',\n",
       "     'question': 'Come si è riferita Washizawa alla città con la staffetta della torcia?'},\n",
       "    {'answers': [{'answer_start': 35, 'text': 'Shoichi Washizawa'}],\n",
       "     'id': '56db7c94e7c41114004b51a5',\n",
       "     'question': 'Chi era il sindaco di Nagano?'},\n",
       "    {'answers': [{'answer_start': 82, 'text': 'grande fastidio'}],\n",
       "     'id': '56db7c94e7c41114004b51a6',\n",
       "     'question': \"Che cosa ha definito l' opportunità per Nagano di ospitare l' evento della torcia?\"}]},\n",
       "  {'context': 'La fiamma olimpica dovrebbe rimanere accesa per tutta la staffetta. Quando la Torcia si spegne di notte, in aereo, in condizioni meteorologiche avverse o durante le manifestazioni di protesta (come le varie occasioni a Parigi), la Fiamma Olimpica viene tenuta accesa in un set di 8 lanterne.',\n",
       "   'qas': []},\n",
       "  {'context': \"Un sindacato ha in programma di protestare presso la staffetta per migliorare le condizioni di vita. Il legislatore di Hong Kong Michael Mak Kwok-fung e l' attivista Chan Cheong, entrambi membri della Lega dei socialdemocratici, non hanno potuto entrare a Macao.\",\n",
       "   'qas': []},\n",
       "  {'context': 'I media cinesi hanno anche riferito su Jin Jing, che il sito ufficiale cinese torcia relè sito web cinese ha descritto come \"eroico\" e un \"angelo\", mentre i media occidentali inizialmente ha dato la sua piccola menzione - nonostante una pretesa cinese che \"l\\' atleta paralimpico cinese Jin Jing ha raccolto molta attenzione da parte dei media\".',\n",
       "   'qas': [{'answers': [{'answer_start': 39, 'text': 'Jin Jing'}],\n",
       "     'id': '56db772fe7c41114004b515f',\n",
       "     'question': 'Quale atleta ha chiamato un angelo il sito ufficiale?'},\n",
       "    {'answers': [{'answer_start': 157, 'text': 'media occidentali'}],\n",
       "     'id': '56db772fe7c41114004b5160',\n",
       "     'question': 'Quali media hanno dato poco risalto a Jin Jing?'}]},\n",
       "  {'context': 'Due squadre supplementari di 40 assistenti ciascuno accompagneranno la fiamma lungo il percorso della Cina continentale. Questo accordo ha tuttavia suscitato diverse polemiche.',\n",
       "   'qas': [{'answers': [{'answer_start': 0, 'text': 'Due'}],\n",
       "     'id': '56db7a9ee7c41114004b518d',\n",
       "     'question': \"Quante altre squadre saranno d' aiuto per il percorso della Cina continentale?\"},\n",
       "    {'answers': [{'answer_start': 29, 'text': '40'}],\n",
       "     'id': '56db7a9ee7c41114004b518e',\n",
       "     'question': 'Quanti sono i membri di ciascuna di queste due squadre?'}]}]}"
      ]
     },
     "execution_count": 14,
     "metadata": {},
     "output_type": "execute_result"
    }
   ],
   "source": []
  },
  {
   "cell_type": "markdown",
   "id": "93e47567",
   "metadata": {},
   "source": [
    "Great, we’ve loaded our first local dataset! But while this worked for the training set, what we really want is to include both the train and test splits in a single DatasetDict object so we can apply Dataset.map() functions across both splits at once. To do this, we can provide a dictionary to the data_files argument that maps each split name to a file associated with that split:"
   ]
  },
  {
   "cell_type": "code",
   "execution_count": 15,
   "id": "5f7c3f58",
   "metadata": {},
   "outputs": [
    {
     "data": {
      "application/vnd.jupyter.widget-view+json": {
       "model_id": "22ea885a858f420f89e50e454deb8155",
       "version_major": 2,
       "version_minor": 0
      },
      "text/plain": [
       "Generating train split: 0 examples [00:00, ? examples/s]"
      ]
     },
     "metadata": {},
     "output_type": "display_data"
    },
    {
     "data": {
      "application/vnd.jupyter.widget-view+json": {
       "model_id": "80c7be15830f43d6a56d413f144b2484",
       "version_major": 2,
       "version_minor": 0
      },
      "text/plain": [
       "Generating test split: 0 examples [00:00, ? examples/s]"
      ]
     },
     "metadata": {},
     "output_type": "display_data"
    },
    {
     "data": {
      "text/plain": [
       "DatasetDict({\n",
       "    train: Dataset({\n",
       "        features: ['title', 'paragraphs'],\n",
       "        num_rows: 442\n",
       "    })\n",
       "    test: Dataset({\n",
       "        features: ['title', 'paragraphs'],\n",
       "        num_rows: 48\n",
       "    })\n",
       "})"
      ]
     },
     "execution_count": 15,
     "metadata": {},
     "output_type": "execute_result"
    }
   ],
   "source": [
    "data_files = {\"train\": \"SQuAD_it-train.json\", \"test\": \"SQuAD_it-test.json\"}\n",
    "squad_it_dataset = load_dataset(\"json\", data_files=data_files, field=\"data\")\n",
    "squad_it_dataset"
   ]
  },
  {
   "cell_type": "markdown",
   "id": "7879d5a2",
   "metadata": {},
   "source": [
    "The loading scripts in 🤗 Datasets actually support automatic decompression of the input files, so we could have skipped the use of gzip by pointing the data_files argument directly to the compressed files:"
   ]
  },
  {
   "cell_type": "code",
   "execution_count": 16,
   "id": "686162c1",
   "metadata": {},
   "outputs": [
    {
     "data": {
      "application/vnd.jupyter.widget-view+json": {
       "model_id": "11714379e9904108ac320e591859fac5",
       "version_major": 2,
       "version_minor": 0
      },
      "text/plain": [
       "Generating train split: 0 examples [00:00, ? examples/s]"
      ]
     },
     "metadata": {},
     "output_type": "display_data"
    },
    {
     "data": {
      "application/vnd.jupyter.widget-view+json": {
       "model_id": "1ee7ee7781e5424c9fd93adb3488477e",
       "version_major": 2,
       "version_minor": 0
      },
      "text/plain": [
       "Generating test split: 0 examples [00:00, ? examples/s]"
      ]
     },
     "metadata": {},
     "output_type": "display_data"
    }
   ],
   "source": [
    "data_files = {\"train\": \"SQuAD_it-train.json.gz\", \"test\": \"SQuAD_it-test.json.gz\"}\n",
    "squad_it_dataset = load_dataset(\"json\", data_files=data_files, field=\"data\")"
   ]
  },
  {
   "cell_type": "markdown",
   "id": "d58007e8",
   "metadata": {},
   "source": [
    "<h2>Loading a remote dataset</h2>\n",
    "\n",
    "If you’re working as a data scientist or coder in a company, there’s a good chance the datasets you want to analyze are stored on some remote server. Fortunately, loading remote files is just as simple as loading local ones! Instead of providing a path to local files, we point the data_files argument of load_dataset() to one or more URLs where the remote files are stored. For example, for the SQuAD-it dataset hosted on GitHub, we can just point data_files to the SQuAD_it-*.json.gz URLs as follows:"
   ]
  },
  {
   "cell_type": "code",
   "execution_count": 17,
   "id": "875049f8",
   "metadata": {},
   "outputs": [
    {
     "data": {
      "application/vnd.jupyter.widget-view+json": {
       "model_id": "7c4d2dea04094255b8220a00ca0c6fbc",
       "version_major": 2,
       "version_minor": 0
      },
      "text/plain": [
       "Downloading data:   0%|          | 0.00/7.73M [00:00<?, ?B/s]"
      ]
     },
     "metadata": {},
     "output_type": "display_data"
    },
    {
     "data": {
      "application/vnd.jupyter.widget-view+json": {
       "model_id": "af7785c4c99442ecbb3d4e8f70f5e591",
       "version_major": 2,
       "version_minor": 0
      },
      "text/plain": [
       "Downloading data:   0%|          | 0.00/1.05M [00:00<?, ?B/s]"
      ]
     },
     "metadata": {},
     "output_type": "display_data"
    },
    {
     "data": {
      "application/vnd.jupyter.widget-view+json": {
       "model_id": "04e42ba1f584417ba1db1f3df412b1ad",
       "version_major": 2,
       "version_minor": 0
      },
      "text/plain": [
       "Generating train split: 0 examples [00:00, ? examples/s]"
      ]
     },
     "metadata": {},
     "output_type": "display_data"
    },
    {
     "data": {
      "application/vnd.jupyter.widget-view+json": {
       "model_id": "2091d927066e4331bac31cf31f3c92bc",
       "version_major": 2,
       "version_minor": 0
      },
      "text/plain": [
       "Generating test split: 0 examples [00:00, ? examples/s]"
      ]
     },
     "metadata": {},
     "output_type": "display_data"
    }
   ],
   "source": [
    "url = \"https://github.com/crux82/squad-it/raw/master/\"\n",
    "data_files = {\n",
    "    \"train\": url + \"SQuAD_it-train.json.gz\",\n",
    "    \"test\": url + \"SQuAD_it-test.json.gz\",\n",
    "}\n",
    "squad_it_dataset = load_dataset(\"json\", data_files=data_files, field=\"data\")"
   ]
  },
  {
   "cell_type": "markdown",
   "id": "3b26ac85",
   "metadata": {},
   "source": [
    "<h1>Slicing and dicing our data</h1>"
   ]
  },
  {
   "cell_type": "code",
   "execution_count": 18,
   "id": "68cebc93",
   "metadata": {},
   "outputs": [
    {
     "name": "stdout",
     "output_type": "stream",
     "text": [
      "--2024-01-07 12:38:32--  https://archive.ics.uci.edu/ml/machine-learning-databases/00462/drugsCom_raw.zip\n",
      "Resolving archive.ics.uci.edu (archive.ics.uci.edu)... 128.195.10.252\n",
      "Connecting to archive.ics.uci.edu (archive.ics.uci.edu)|128.195.10.252|:443... connected.\n",
      "HTTP request sent, awaiting response... 200 OK\n",
      "Length: unspecified\n",
      "Saving to: ‘drugsCom_raw.zip’\n",
      "\n",
      "drugsCom_raw.zip        [  <=>               ]  41.00M  4.77MB/s    in 7.6s    \n",
      "\n",
      "2024-01-07 12:38:40 (5.40 MB/s) - ‘drugsCom_raw.zip’ saved [42989872]\n",
      "\n",
      "Archive:  drugsCom_raw.zip\n",
      "  inflating: drugsComTest_raw.tsv    \n",
      "  inflating: drugsComTrain_raw.tsv   \n"
     ]
    }
   ],
   "source": [
    "!wget \"https://archive.ics.uci.edu/ml/machine-learning-databases/00462/drugsCom_raw.zip\"\n",
    "!unzip drugsCom_raw.zip"
   ]
  },
  {
   "cell_type": "markdown",
   "id": "e401819c",
   "metadata": {},
   "source": [
    "Since TSV is just a variant of CSV that uses tabs instead of commas as the separator, we can load these files by using the csv loading script and specifying the delimiter argument in the load_dataset() function as follows:"
   ]
  },
  {
   "cell_type": "code",
   "execution_count": 19,
   "id": "4e8d3907",
   "metadata": {},
   "outputs": [
    {
     "data": {
      "application/vnd.jupyter.widget-view+json": {
       "model_id": "0eaeeac7548542c1bde77c3f6b48f760",
       "version_major": 2,
       "version_minor": 0
      },
      "text/plain": [
       "Generating train split: 0 examples [00:00, ? examples/s]"
      ]
     },
     "metadata": {},
     "output_type": "display_data"
    },
    {
     "data": {
      "application/vnd.jupyter.widget-view+json": {
       "model_id": "53d0ab7dbcb54a18940aa1c1a0d8715f",
       "version_major": 2,
       "version_minor": 0
      },
      "text/plain": [
       "Generating test split: 0 examples [00:00, ? examples/s]"
      ]
     },
     "metadata": {},
     "output_type": "display_data"
    }
   ],
   "source": [
    "from datasets import load_dataset\n",
    "\n",
    "data_files = {\"train\": \"drugsComTrain_raw.tsv\", \"test\": \"drugsComTest_raw.tsv\"}\n",
    "# \\t is the tab character in Python\n",
    "drug_dataset = load_dataset(\"csv\", data_files=data_files, delimiter=\"\\t\")"
   ]
  },
  {
   "cell_type": "code",
   "execution_count": 22,
   "id": "ba3f7c71",
   "metadata": {},
   "outputs": [
    {
     "data": {
      "text/plain": [
       "DatasetDict({\n",
       "    train: Dataset({\n",
       "        features: ['Unnamed: 0', 'drugName', 'condition', 'review', 'rating', 'date', 'usefulCount'],\n",
       "        num_rows: 161297\n",
       "    })\n",
       "    test: Dataset({\n",
       "        features: ['Unnamed: 0', 'drugName', 'condition', 'review', 'rating', 'date', 'usefulCount'],\n",
       "        num_rows: 53766\n",
       "    })\n",
       "})"
      ]
     },
     "execution_count": 22,
     "metadata": {},
     "output_type": "execute_result"
    }
   ],
   "source": [
    "drug_dataset"
   ]
  },
  {
   "cell_type": "code",
   "execution_count": 23,
   "id": "de3ba35f",
   "metadata": {},
   "outputs": [
    {
     "data": {
      "text/plain": [
       "{'Unnamed: 0': [87571, 178045, 80482],\n",
       " 'drugName': ['Naproxen', 'Duloxetine', 'Mobic'],\n",
       " 'condition': ['Gout, Acute', 'ibromyalgia', 'Inflammatory Conditions'],\n",
       " 'review': ['\"like the previous person mention, I&#039;m a strong believer of aleve, it works faster for my gout than the prescription meds I take. No more going to the doctor for refills.....Aleve works!\"',\n",
       "  '\"I have taken Cymbalta for about a year and a half for fibromyalgia pain. It is great\\r\\nas a pain reducer and an anti-depressant, however, the side effects outweighed \\r\\nany benefit I got from it. I had trouble with restlessness, being tired constantly,\\r\\ndizziness, dry mouth, numbness and tingling in my feet, and horrible sweating. I am\\r\\nbeing weaned off of it now. Went from 60 mg to 30mg and now to 15 mg. I will be\\r\\noff completely in about a week. The fibro pain is coming back, but I would rather deal with it than the side effects.\"',\n",
       "  '\"I have been taking Mobic for over a year with no side effects other than an elevated blood pressure.  I had severe knee and ankle pain which completely went away after taking Mobic.  I attempted to stop the medication however pain returned after a few days.\"'],\n",
       " 'rating': [9.0, 3.0, 10.0],\n",
       " 'date': ['September 2, 2015', 'November 7, 2011', 'June 5, 2013'],\n",
       " 'usefulCount': [36, 13, 128]}"
      ]
     },
     "execution_count": 23,
     "metadata": {},
     "output_type": "execute_result"
    }
   ],
   "source": [
    "drug_sample = drug_dataset[\"train\"].shuffle(seed=42).select(range(1000))\n",
    "# Peek at the first few examples\n",
    "drug_sample[:3]"
   ]
  },
  {
   "cell_type": "markdown",
   "id": "45f784d2",
   "metadata": {},
   "source": [
    "Note that we’ve fixed the seed in Dataset.shuffle() for reproducibility purposes. Dataset.select() expects an iterable of indices, so we’ve passed range(1000) to grab the first 1,000 examples from the shuffled dataset. From this sample we can already see a few quirks in our dataset:\n",
    "\n",
    "1. The Unnamed: 0 column looks suspiciously like an anonymized ID for each patient.\n",
    "2. The condition column includes a mix of uppercase and lowercase labels.\n",
    "3. The reviews are of varying length and contain a mix of Python line separators (\\r\\n) as well as HTML character codes like &\\#039;.\n",
    "\n",
    "Let’s see how we can use 🤗 Datasets to deal with each of these issues. To test the patient ID hypothesis for the Unnamed: 0 column, we can use the Dataset.unique() function to verify that the number of IDs matches the number of rows in each split:"
   ]
  },
  {
   "cell_type": "code",
   "execution_count": 27,
   "id": "63de481a",
   "metadata": {},
   "outputs": [
    {
     "name": "stdout",
     "output_type": "stream",
     "text": [
      "train\n",
      "test\n"
     ]
    },
    {
     "data": {
      "text/plain": [
       "set()"
      ]
     },
     "execution_count": 27,
     "metadata": {},
     "output_type": "execute_result"
    }
   ],
   "source": [
    "unique_0 = []\n",
    "for split in drug_dataset.keys():\n",
    "    print(split)\n",
    "    assert len(drug_dataset[split]) == len(drug_dataset[split].unique(\"Unnamed: 0\"))\n",
    "    unique_0.append(drug_dataset[split].unique(\"Unnamed: 0\"))\n",
    "    #Does this actually mean patient id? or mean:\n",
    "    #1. each ID has only one review\n",
    "    #2. each review is assigned a unique id\n",
    "\n",
    "set(unique_0[0]).intersection(unique_0[1])\n",
    "#Empy set indiates train/test split also do not have any ids in common.\n",
    "#it seams #2 is a safer assumption/unless stated otherwise in the dataset."
   ]
  },
  {
   "cell_type": "code",
   "execution_count": 28,
   "id": "5cb1e49a",
   "metadata": {},
   "outputs": [
    {
     "data": {
      "text/plain": [
       "DatasetDict({\n",
       "    train: Dataset({\n",
       "        features: ['patient_id', 'drugName', 'condition', 'review', 'rating', 'date', 'usefulCount'],\n",
       "        num_rows: 161297\n",
       "    })\n",
       "    test: Dataset({\n",
       "        features: ['patient_id', 'drugName', 'condition', 'review', 'rating', 'date', 'usefulCount'],\n",
       "        num_rows: 53766\n",
       "    })\n",
       "})"
      ]
     },
     "execution_count": 28,
     "metadata": {},
     "output_type": "execute_result"
    }
   ],
   "source": [
    "#Assuming they are patient id we rename\n",
    "drug_dataset = drug_dataset.rename_column(\n",
    "    original_column_name=\"Unnamed: 0\", new_column_name=\"patient_id\"\n",
    ")\n",
    "drug_dataset"
   ]
  },
  {
   "cell_type": "code",
   "execution_count": 32,
   "id": "918c2acc",
   "metadata": {},
   "outputs": [
    {
     "name": "stdout",
     "output_type": "stream",
     "text": [
      "3436\n",
      "161297\n"
     ]
    }
   ],
   "source": [
    "print(len(drug_dataset['train'].unique('drugName')))\n",
    "print(len(drug_dataset['train'].unique('patient_id')))"
   ]
  },
  {
   "cell_type": "code",
   "execution_count": 33,
   "id": "3791e860",
   "metadata": {},
   "outputs": [
    {
     "data": {
      "application/vnd.jupyter.widget-view+json": {
       "model_id": "442428bff3a04d84bcbaea9057d2acef",
       "version_major": 2,
       "version_minor": 0
      },
      "text/plain": [
       "Map:   0%|          | 0/161297 [00:00<?, ? examples/s]"
      ]
     },
     "metadata": {},
     "output_type": "display_data"
    },
    {
     "ename": "AttributeError",
     "evalue": "'NoneType' object has no attribute 'lower'",
     "output_type": "error",
     "traceback": [
      "\u001b[0;31m---------------------------------------------------------------------------\u001b[0m",
      "\u001b[0;31mAttributeError\u001b[0m                            Traceback (most recent call last)",
      "Cell \u001b[0;32mIn[33], line 5\u001b[0m\n\u001b[1;32m      1\u001b[0m \u001b[38;5;28;01mdef\u001b[39;00m \u001b[38;5;21mlowercase_condition\u001b[39m(example):\n\u001b[1;32m      2\u001b[0m     \u001b[38;5;28;01mreturn\u001b[39;00m {\u001b[38;5;124m\"\u001b[39m\u001b[38;5;124mcondition\u001b[39m\u001b[38;5;124m\"\u001b[39m: example[\u001b[38;5;124m\"\u001b[39m\u001b[38;5;124mcondition\u001b[39m\u001b[38;5;124m\"\u001b[39m]\u001b[38;5;241m.\u001b[39mlower()}\n\u001b[0;32m----> 5\u001b[0m \u001b[43mdrug_dataset\u001b[49m\u001b[38;5;241;43m.\u001b[39;49m\u001b[43mmap\u001b[49m\u001b[43m(\u001b[49m\u001b[43mlowercase_condition\u001b[49m\u001b[43m)\u001b[49m\n",
      "File \u001b[0;32m~/py39/lib/python3.9/site-packages/datasets/dataset_dict.py:868\u001b[0m, in \u001b[0;36mDatasetDict.map\u001b[0;34m(self, function, with_indices, with_rank, input_columns, batched, batch_size, drop_last_batch, remove_columns, keep_in_memory, load_from_cache_file, cache_file_names, writer_batch_size, features, disable_nullable, fn_kwargs, num_proc, desc)\u001b[0m\n\u001b[1;32m    865\u001b[0m \u001b[38;5;28;01mif\u001b[39;00m cache_file_names \u001b[38;5;129;01mis\u001b[39;00m \u001b[38;5;28;01mNone\u001b[39;00m:\n\u001b[1;32m    866\u001b[0m     cache_file_names \u001b[38;5;241m=\u001b[39m {k: \u001b[38;5;28;01mNone\u001b[39;00m \u001b[38;5;28;01mfor\u001b[39;00m k \u001b[38;5;129;01min\u001b[39;00m \u001b[38;5;28mself\u001b[39m}\n\u001b[1;32m    867\u001b[0m \u001b[38;5;28;01mreturn\u001b[39;00m DatasetDict(\n\u001b[0;32m--> 868\u001b[0m     {\n\u001b[1;32m    869\u001b[0m         k: dataset\u001b[38;5;241m.\u001b[39mmap(\n\u001b[1;32m    870\u001b[0m             function\u001b[38;5;241m=\u001b[39mfunction,\n\u001b[1;32m    871\u001b[0m             with_indices\u001b[38;5;241m=\u001b[39mwith_indices,\n\u001b[1;32m    872\u001b[0m             with_rank\u001b[38;5;241m=\u001b[39mwith_rank,\n\u001b[1;32m    873\u001b[0m             input_columns\u001b[38;5;241m=\u001b[39minput_columns,\n\u001b[1;32m    874\u001b[0m             batched\u001b[38;5;241m=\u001b[39mbatched,\n\u001b[1;32m    875\u001b[0m             batch_size\u001b[38;5;241m=\u001b[39mbatch_size,\n\u001b[1;32m    876\u001b[0m             drop_last_batch\u001b[38;5;241m=\u001b[39mdrop_last_batch,\n\u001b[1;32m    877\u001b[0m             remove_columns\u001b[38;5;241m=\u001b[39mremove_columns,\n\u001b[1;32m    878\u001b[0m             keep_in_memory\u001b[38;5;241m=\u001b[39mkeep_in_memory,\n\u001b[1;32m    879\u001b[0m             load_from_cache_file\u001b[38;5;241m=\u001b[39mload_from_cache_file,\n\u001b[1;32m    880\u001b[0m             cache_file_name\u001b[38;5;241m=\u001b[39mcache_file_names[k],\n\u001b[1;32m    881\u001b[0m             writer_batch_size\u001b[38;5;241m=\u001b[39mwriter_batch_size,\n\u001b[1;32m    882\u001b[0m             features\u001b[38;5;241m=\u001b[39mfeatures,\n\u001b[1;32m    883\u001b[0m             disable_nullable\u001b[38;5;241m=\u001b[39mdisable_nullable,\n\u001b[1;32m    884\u001b[0m             fn_kwargs\u001b[38;5;241m=\u001b[39mfn_kwargs,\n\u001b[1;32m    885\u001b[0m             num_proc\u001b[38;5;241m=\u001b[39mnum_proc,\n\u001b[1;32m    886\u001b[0m             desc\u001b[38;5;241m=\u001b[39mdesc,\n\u001b[1;32m    887\u001b[0m         )\n\u001b[1;32m    888\u001b[0m         \u001b[38;5;28;01mfor\u001b[39;00m k, dataset \u001b[38;5;129;01min\u001b[39;00m \u001b[38;5;28mself\u001b[39m\u001b[38;5;241m.\u001b[39mitems()\n\u001b[1;32m    889\u001b[0m     }\n\u001b[1;32m    890\u001b[0m )\n",
      "File \u001b[0;32m~/py39/lib/python3.9/site-packages/datasets/dataset_dict.py:869\u001b[0m, in \u001b[0;36m<dictcomp>\u001b[0;34m(.0)\u001b[0m\n\u001b[1;32m    865\u001b[0m \u001b[38;5;28;01mif\u001b[39;00m cache_file_names \u001b[38;5;129;01mis\u001b[39;00m \u001b[38;5;28;01mNone\u001b[39;00m:\n\u001b[1;32m    866\u001b[0m     cache_file_names \u001b[38;5;241m=\u001b[39m {k: \u001b[38;5;28;01mNone\u001b[39;00m \u001b[38;5;28;01mfor\u001b[39;00m k \u001b[38;5;129;01min\u001b[39;00m \u001b[38;5;28mself\u001b[39m}\n\u001b[1;32m    867\u001b[0m \u001b[38;5;28;01mreturn\u001b[39;00m DatasetDict(\n\u001b[1;32m    868\u001b[0m     {\n\u001b[0;32m--> 869\u001b[0m         k: \u001b[43mdataset\u001b[49m\u001b[38;5;241;43m.\u001b[39;49m\u001b[43mmap\u001b[49m\u001b[43m(\u001b[49m\n\u001b[1;32m    870\u001b[0m \u001b[43m            \u001b[49m\u001b[43mfunction\u001b[49m\u001b[38;5;241;43m=\u001b[39;49m\u001b[43mfunction\u001b[49m\u001b[43m,\u001b[49m\n\u001b[1;32m    871\u001b[0m \u001b[43m            \u001b[49m\u001b[43mwith_indices\u001b[49m\u001b[38;5;241;43m=\u001b[39;49m\u001b[43mwith_indices\u001b[49m\u001b[43m,\u001b[49m\n\u001b[1;32m    872\u001b[0m \u001b[43m            \u001b[49m\u001b[43mwith_rank\u001b[49m\u001b[38;5;241;43m=\u001b[39;49m\u001b[43mwith_rank\u001b[49m\u001b[43m,\u001b[49m\n\u001b[1;32m    873\u001b[0m \u001b[43m            \u001b[49m\u001b[43minput_columns\u001b[49m\u001b[38;5;241;43m=\u001b[39;49m\u001b[43minput_columns\u001b[49m\u001b[43m,\u001b[49m\n\u001b[1;32m    874\u001b[0m \u001b[43m            \u001b[49m\u001b[43mbatched\u001b[49m\u001b[38;5;241;43m=\u001b[39;49m\u001b[43mbatched\u001b[49m\u001b[43m,\u001b[49m\n\u001b[1;32m    875\u001b[0m \u001b[43m            \u001b[49m\u001b[43mbatch_size\u001b[49m\u001b[38;5;241;43m=\u001b[39;49m\u001b[43mbatch_size\u001b[49m\u001b[43m,\u001b[49m\n\u001b[1;32m    876\u001b[0m \u001b[43m            \u001b[49m\u001b[43mdrop_last_batch\u001b[49m\u001b[38;5;241;43m=\u001b[39;49m\u001b[43mdrop_last_batch\u001b[49m\u001b[43m,\u001b[49m\n\u001b[1;32m    877\u001b[0m \u001b[43m            \u001b[49m\u001b[43mremove_columns\u001b[49m\u001b[38;5;241;43m=\u001b[39;49m\u001b[43mremove_columns\u001b[49m\u001b[43m,\u001b[49m\n\u001b[1;32m    878\u001b[0m \u001b[43m            \u001b[49m\u001b[43mkeep_in_memory\u001b[49m\u001b[38;5;241;43m=\u001b[39;49m\u001b[43mkeep_in_memory\u001b[49m\u001b[43m,\u001b[49m\n\u001b[1;32m    879\u001b[0m \u001b[43m            \u001b[49m\u001b[43mload_from_cache_file\u001b[49m\u001b[38;5;241;43m=\u001b[39;49m\u001b[43mload_from_cache_file\u001b[49m\u001b[43m,\u001b[49m\n\u001b[1;32m    880\u001b[0m \u001b[43m            \u001b[49m\u001b[43mcache_file_name\u001b[49m\u001b[38;5;241;43m=\u001b[39;49m\u001b[43mcache_file_names\u001b[49m\u001b[43m[\u001b[49m\u001b[43mk\u001b[49m\u001b[43m]\u001b[49m\u001b[43m,\u001b[49m\n\u001b[1;32m    881\u001b[0m \u001b[43m            \u001b[49m\u001b[43mwriter_batch_size\u001b[49m\u001b[38;5;241;43m=\u001b[39;49m\u001b[43mwriter_batch_size\u001b[49m\u001b[43m,\u001b[49m\n\u001b[1;32m    882\u001b[0m \u001b[43m            \u001b[49m\u001b[43mfeatures\u001b[49m\u001b[38;5;241;43m=\u001b[39;49m\u001b[43mfeatures\u001b[49m\u001b[43m,\u001b[49m\n\u001b[1;32m    883\u001b[0m \u001b[43m            \u001b[49m\u001b[43mdisable_nullable\u001b[49m\u001b[38;5;241;43m=\u001b[39;49m\u001b[43mdisable_nullable\u001b[49m\u001b[43m,\u001b[49m\n\u001b[1;32m    884\u001b[0m \u001b[43m            \u001b[49m\u001b[43mfn_kwargs\u001b[49m\u001b[38;5;241;43m=\u001b[39;49m\u001b[43mfn_kwargs\u001b[49m\u001b[43m,\u001b[49m\n\u001b[1;32m    885\u001b[0m \u001b[43m            \u001b[49m\u001b[43mnum_proc\u001b[49m\u001b[38;5;241;43m=\u001b[39;49m\u001b[43mnum_proc\u001b[49m\u001b[43m,\u001b[49m\n\u001b[1;32m    886\u001b[0m \u001b[43m            \u001b[49m\u001b[43mdesc\u001b[49m\u001b[38;5;241;43m=\u001b[39;49m\u001b[43mdesc\u001b[49m\u001b[43m,\u001b[49m\n\u001b[1;32m    887\u001b[0m \u001b[43m        \u001b[49m\u001b[43m)\u001b[49m\n\u001b[1;32m    888\u001b[0m         \u001b[38;5;28;01mfor\u001b[39;00m k, dataset \u001b[38;5;129;01min\u001b[39;00m \u001b[38;5;28mself\u001b[39m\u001b[38;5;241m.\u001b[39mitems()\n\u001b[1;32m    889\u001b[0m     }\n\u001b[1;32m    890\u001b[0m )\n",
      "File \u001b[0;32m~/py39/lib/python3.9/site-packages/datasets/arrow_dataset.py:592\u001b[0m, in \u001b[0;36mtransmit_tasks.<locals>.wrapper\u001b[0;34m(*args, **kwargs)\u001b[0m\n\u001b[1;32m    590\u001b[0m     \u001b[38;5;28mself\u001b[39m: \u001b[38;5;124m\"\u001b[39m\u001b[38;5;124mDataset\u001b[39m\u001b[38;5;124m\"\u001b[39m \u001b[38;5;241m=\u001b[39m kwargs\u001b[38;5;241m.\u001b[39mpop(\u001b[38;5;124m\"\u001b[39m\u001b[38;5;124mself\u001b[39m\u001b[38;5;124m\"\u001b[39m)\n\u001b[1;32m    591\u001b[0m \u001b[38;5;66;03m# apply actual function\u001b[39;00m\n\u001b[0;32m--> 592\u001b[0m out: Union[\u001b[38;5;124m\"\u001b[39m\u001b[38;5;124mDataset\u001b[39m\u001b[38;5;124m\"\u001b[39m, \u001b[38;5;124m\"\u001b[39m\u001b[38;5;124mDatasetDict\u001b[39m\u001b[38;5;124m\"\u001b[39m] \u001b[38;5;241m=\u001b[39m \u001b[43mfunc\u001b[49m\u001b[43m(\u001b[49m\u001b[38;5;28;43mself\u001b[39;49m\u001b[43m,\u001b[49m\u001b[43m \u001b[49m\u001b[38;5;241;43m*\u001b[39;49m\u001b[43margs\u001b[49m\u001b[43m,\u001b[49m\u001b[43m \u001b[49m\u001b[38;5;241;43m*\u001b[39;49m\u001b[38;5;241;43m*\u001b[39;49m\u001b[43mkwargs\u001b[49m\u001b[43m)\u001b[49m\n\u001b[1;32m    593\u001b[0m datasets: List[\u001b[38;5;124m\"\u001b[39m\u001b[38;5;124mDataset\u001b[39m\u001b[38;5;124m\"\u001b[39m] \u001b[38;5;241m=\u001b[39m \u001b[38;5;28mlist\u001b[39m(out\u001b[38;5;241m.\u001b[39mvalues()) \u001b[38;5;28;01mif\u001b[39;00m \u001b[38;5;28misinstance\u001b[39m(out, \u001b[38;5;28mdict\u001b[39m) \u001b[38;5;28;01melse\u001b[39;00m [out]\n\u001b[1;32m    594\u001b[0m \u001b[38;5;28;01mfor\u001b[39;00m dataset \u001b[38;5;129;01min\u001b[39;00m datasets:\n\u001b[1;32m    595\u001b[0m     \u001b[38;5;66;03m# Remove task templates if a column mapping of the template is no longer valid\u001b[39;00m\n",
      "File \u001b[0;32m~/py39/lib/python3.9/site-packages/datasets/arrow_dataset.py:557\u001b[0m, in \u001b[0;36mtransmit_format.<locals>.wrapper\u001b[0;34m(*args, **kwargs)\u001b[0m\n\u001b[1;32m    550\u001b[0m self_format \u001b[38;5;241m=\u001b[39m {\n\u001b[1;32m    551\u001b[0m     \u001b[38;5;124m\"\u001b[39m\u001b[38;5;124mtype\u001b[39m\u001b[38;5;124m\"\u001b[39m: \u001b[38;5;28mself\u001b[39m\u001b[38;5;241m.\u001b[39m_format_type,\n\u001b[1;32m    552\u001b[0m     \u001b[38;5;124m\"\u001b[39m\u001b[38;5;124mformat_kwargs\u001b[39m\u001b[38;5;124m\"\u001b[39m: \u001b[38;5;28mself\u001b[39m\u001b[38;5;241m.\u001b[39m_format_kwargs,\n\u001b[1;32m    553\u001b[0m     \u001b[38;5;124m\"\u001b[39m\u001b[38;5;124mcolumns\u001b[39m\u001b[38;5;124m\"\u001b[39m: \u001b[38;5;28mself\u001b[39m\u001b[38;5;241m.\u001b[39m_format_columns,\n\u001b[1;32m    554\u001b[0m     \u001b[38;5;124m\"\u001b[39m\u001b[38;5;124moutput_all_columns\u001b[39m\u001b[38;5;124m\"\u001b[39m: \u001b[38;5;28mself\u001b[39m\u001b[38;5;241m.\u001b[39m_output_all_columns,\n\u001b[1;32m    555\u001b[0m }\n\u001b[1;32m    556\u001b[0m \u001b[38;5;66;03m# apply actual function\u001b[39;00m\n\u001b[0;32m--> 557\u001b[0m out: Union[\u001b[38;5;124m\"\u001b[39m\u001b[38;5;124mDataset\u001b[39m\u001b[38;5;124m\"\u001b[39m, \u001b[38;5;124m\"\u001b[39m\u001b[38;5;124mDatasetDict\u001b[39m\u001b[38;5;124m\"\u001b[39m] \u001b[38;5;241m=\u001b[39m \u001b[43mfunc\u001b[49m\u001b[43m(\u001b[49m\u001b[38;5;28;43mself\u001b[39;49m\u001b[43m,\u001b[49m\u001b[43m \u001b[49m\u001b[38;5;241;43m*\u001b[39;49m\u001b[43margs\u001b[49m\u001b[43m,\u001b[49m\u001b[43m \u001b[49m\u001b[38;5;241;43m*\u001b[39;49m\u001b[38;5;241;43m*\u001b[39;49m\u001b[43mkwargs\u001b[49m\u001b[43m)\u001b[49m\n\u001b[1;32m    558\u001b[0m datasets: List[\u001b[38;5;124m\"\u001b[39m\u001b[38;5;124mDataset\u001b[39m\u001b[38;5;124m\"\u001b[39m] \u001b[38;5;241m=\u001b[39m \u001b[38;5;28mlist\u001b[39m(out\u001b[38;5;241m.\u001b[39mvalues()) \u001b[38;5;28;01mif\u001b[39;00m \u001b[38;5;28misinstance\u001b[39m(out, \u001b[38;5;28mdict\u001b[39m) \u001b[38;5;28;01melse\u001b[39;00m [out]\n\u001b[1;32m    559\u001b[0m \u001b[38;5;66;03m# re-apply format to the output\u001b[39;00m\n",
      "File \u001b[0;32m~/py39/lib/python3.9/site-packages/datasets/arrow_dataset.py:3093\u001b[0m, in \u001b[0;36mDataset.map\u001b[0;34m(self, function, with_indices, with_rank, input_columns, batched, batch_size, drop_last_batch, remove_columns, keep_in_memory, load_from_cache_file, cache_file_name, writer_batch_size, features, disable_nullable, fn_kwargs, num_proc, suffix_template, new_fingerprint, desc)\u001b[0m\n\u001b[1;32m   3087\u001b[0m \u001b[38;5;28;01mif\u001b[39;00m transformed_dataset \u001b[38;5;129;01mis\u001b[39;00m \u001b[38;5;28;01mNone\u001b[39;00m:\n\u001b[1;32m   3088\u001b[0m     \u001b[38;5;28;01mwith\u001b[39;00m hf_tqdm(\n\u001b[1;32m   3089\u001b[0m         unit\u001b[38;5;241m=\u001b[39m\u001b[38;5;124m\"\u001b[39m\u001b[38;5;124m examples\u001b[39m\u001b[38;5;124m\"\u001b[39m,\n\u001b[1;32m   3090\u001b[0m         total\u001b[38;5;241m=\u001b[39mpbar_total,\n\u001b[1;32m   3091\u001b[0m         desc\u001b[38;5;241m=\u001b[39mdesc \u001b[38;5;129;01mor\u001b[39;00m \u001b[38;5;124m\"\u001b[39m\u001b[38;5;124mMap\u001b[39m\u001b[38;5;124m\"\u001b[39m,\n\u001b[1;32m   3092\u001b[0m     ) \u001b[38;5;28;01mas\u001b[39;00m pbar:\n\u001b[0;32m-> 3093\u001b[0m         \u001b[38;5;28;01mfor\u001b[39;00m rank, done, content \u001b[38;5;129;01min\u001b[39;00m Dataset\u001b[38;5;241m.\u001b[39m_map_single(\u001b[38;5;241m*\u001b[39m\u001b[38;5;241m*\u001b[39mdataset_kwargs):\n\u001b[1;32m   3094\u001b[0m             \u001b[38;5;28;01mif\u001b[39;00m done:\n\u001b[1;32m   3095\u001b[0m                 shards_done \u001b[38;5;241m+\u001b[39m\u001b[38;5;241m=\u001b[39m \u001b[38;5;241m1\u001b[39m\n",
      "File \u001b[0;32m~/py39/lib/python3.9/site-packages/datasets/arrow_dataset.py:3446\u001b[0m, in \u001b[0;36mDataset._map_single\u001b[0;34m(shard, function, with_indices, with_rank, input_columns, batched, batch_size, drop_last_batch, remove_columns, keep_in_memory, cache_file_name, writer_batch_size, features, disable_nullable, fn_kwargs, new_fingerprint, rank, offset)\u001b[0m\n\u001b[1;32m   3444\u001b[0m _time \u001b[38;5;241m=\u001b[39m time\u001b[38;5;241m.\u001b[39mtime()\n\u001b[1;32m   3445\u001b[0m \u001b[38;5;28;01mfor\u001b[39;00m i, example \u001b[38;5;129;01min\u001b[39;00m shard_iterable:\n\u001b[0;32m-> 3446\u001b[0m     example \u001b[38;5;241m=\u001b[39m \u001b[43mapply_function_on_filtered_inputs\u001b[49m\u001b[43m(\u001b[49m\u001b[43mexample\u001b[49m\u001b[43m,\u001b[49m\u001b[43m \u001b[49m\u001b[43mi\u001b[49m\u001b[43m,\u001b[49m\u001b[43m \u001b[49m\u001b[43moffset\u001b[49m\u001b[38;5;241;43m=\u001b[39;49m\u001b[43moffset\u001b[49m\u001b[43m)\u001b[49m\n\u001b[1;32m   3447\u001b[0m     \u001b[38;5;28;01mif\u001b[39;00m update_data:\n\u001b[1;32m   3448\u001b[0m         \u001b[38;5;28;01mif\u001b[39;00m i \u001b[38;5;241m==\u001b[39m \u001b[38;5;241m0\u001b[39m:\n",
      "File \u001b[0;32m~/py39/lib/python3.9/site-packages/datasets/arrow_dataset.py:3349\u001b[0m, in \u001b[0;36mDataset._map_single.<locals>.apply_function_on_filtered_inputs\u001b[0;34m(pa_inputs, indices, check_same_num_examples, offset)\u001b[0m\n\u001b[1;32m   3347\u001b[0m \u001b[38;5;28;01mif\u001b[39;00m with_rank:\n\u001b[1;32m   3348\u001b[0m     additional_args \u001b[38;5;241m+\u001b[39m\u001b[38;5;241m=\u001b[39m (rank,)\n\u001b[0;32m-> 3349\u001b[0m processed_inputs \u001b[38;5;241m=\u001b[39m \u001b[43mfunction\u001b[49m\u001b[43m(\u001b[49m\u001b[38;5;241;43m*\u001b[39;49m\u001b[43mfn_args\u001b[49m\u001b[43m,\u001b[49m\u001b[43m \u001b[49m\u001b[38;5;241;43m*\u001b[39;49m\u001b[43madditional_args\u001b[49m\u001b[43m,\u001b[49m\u001b[43m \u001b[49m\u001b[38;5;241;43m*\u001b[39;49m\u001b[38;5;241;43m*\u001b[39;49m\u001b[43mfn_kwargs\u001b[49m\u001b[43m)\u001b[49m\n\u001b[1;32m   3350\u001b[0m \u001b[38;5;28;01mif\u001b[39;00m \u001b[38;5;28misinstance\u001b[39m(processed_inputs, LazyDict):\n\u001b[1;32m   3351\u001b[0m     processed_inputs \u001b[38;5;241m=\u001b[39m {\n\u001b[1;32m   3352\u001b[0m         k: v \u001b[38;5;28;01mfor\u001b[39;00m k, v \u001b[38;5;129;01min\u001b[39;00m processed_inputs\u001b[38;5;241m.\u001b[39mdata\u001b[38;5;241m.\u001b[39mitems() \u001b[38;5;28;01mif\u001b[39;00m k \u001b[38;5;129;01mnot\u001b[39;00m \u001b[38;5;129;01min\u001b[39;00m processed_inputs\u001b[38;5;241m.\u001b[39mkeys_to_format\n\u001b[1;32m   3353\u001b[0m     }\n",
      "Cell \u001b[0;32mIn[33], line 2\u001b[0m, in \u001b[0;36mlowercase_condition\u001b[0;34m(example)\u001b[0m\n\u001b[1;32m      1\u001b[0m \u001b[38;5;28;01mdef\u001b[39;00m \u001b[38;5;21mlowercase_condition\u001b[39m(example):\n\u001b[0;32m----> 2\u001b[0m     \u001b[38;5;28;01mreturn\u001b[39;00m {\u001b[38;5;124m\"\u001b[39m\u001b[38;5;124mcondition\u001b[39m\u001b[38;5;124m\"\u001b[39m: \u001b[43mexample\u001b[49m\u001b[43m[\u001b[49m\u001b[38;5;124;43m\"\u001b[39;49m\u001b[38;5;124;43mcondition\u001b[39;49m\u001b[38;5;124;43m\"\u001b[39;49m\u001b[43m]\u001b[49m\u001b[38;5;241;43m.\u001b[39;49m\u001b[43mlower\u001b[49m()}\n",
      "\u001b[0;31mAttributeError\u001b[0m: 'NoneType' object has no attribute 'lower'"
     ]
    }
   ],
   "source": [
    "def lowercase_condition(example):\n",
    "    return {\"condition\": example[\"condition\"].lower()}\n",
    "\n",
    "\n",
    "drug_dataset.map(lowercase_condition)\n",
    "\n"
   ]
  },
  {
   "cell_type": "code",
   "execution_count": 34,
   "id": "3ef3b57d",
   "metadata": {},
   "outputs": [
    {
     "data": {
      "application/vnd.jupyter.widget-view+json": {
       "model_id": "b068a5d0e1bf46a192c055d6c8d06710",
       "version_major": 2,
       "version_minor": 0
      },
      "text/plain": [
       "Filter:   0%|          | 0/161297 [00:00<?, ? examples/s]"
      ]
     },
     "metadata": {},
     "output_type": "display_data"
    },
    {
     "data": {
      "application/vnd.jupyter.widget-view+json": {
       "model_id": "f8ced22437ec4fbf833701de5f3758e3",
       "version_major": 2,
       "version_minor": 0
      },
      "text/plain": [
       "Filter:   0%|          | 0/53766 [00:00<?, ? examples/s]"
      ]
     },
     "metadata": {},
     "output_type": "display_data"
    }
   ],
   "source": [
    "#some condition values are None. We filter them out\n",
    "drug_dataset = drug_dataset.filter(lambda x: x[\"condition\"] is not None)"
   ]
  },
  {
   "cell_type": "code",
   "execution_count": 35,
   "id": "3a5f7b60",
   "metadata": {},
   "outputs": [
    {
     "data": {
      "application/vnd.jupyter.widget-view+json": {
       "model_id": "ea85c94e76a4462fb6bb4d3519a42541",
       "version_major": 2,
       "version_minor": 0
      },
      "text/plain": [
       "Map:   0%|          | 0/160398 [00:00<?, ? examples/s]"
      ]
     },
     "metadata": {},
     "output_type": "display_data"
    },
    {
     "data": {
      "application/vnd.jupyter.widget-view+json": {
       "model_id": "ee9cf965a3ce47f89ccd2dc1689a70bf",
       "version_major": 2,
       "version_minor": 0
      },
      "text/plain": [
       "Map:   0%|          | 0/53471 [00:00<?, ? examples/s]"
      ]
     },
     "metadata": {},
     "output_type": "display_data"
    },
    {
     "data": {
      "text/plain": [
       "['left ventricular dysfunction', 'adhd', 'birth control']"
      ]
     },
     "execution_count": 35,
     "metadata": {},
     "output_type": "execute_result"
    }
   ],
   "source": [
    "drug_dataset = drug_dataset.map(lowercase_condition)\n",
    "# Check that lowercasing worked\n",
    "drug_dataset[\"train\"][\"condition\"][:3]"
   ]
  },
  {
   "cell_type": "markdown",
   "id": "92db2886",
   "metadata": {},
   "source": [
    "<h2>Creating new columns</h2>\n",
    "\n",
    "Whenever you’re dealing with customer reviews, a good practice is to check the number of words in each review. A review might be just a single word like “Great!” or a full-blown essay with thousands of words, and depending on the use case you’ll need to handle these extremes differently. To compute the number of words in each review, we’ll use a rough heuristic based on splitting each text by whitespace.\n",
    "\n",
    "Let’s define a simple function that counts the number of words in each review:\n",
    "\n",
    "Unlike our lowercase_condition() function, compute_review_length() returns a dictionary whose key does not correspond to one of the column names in the dataset. In this case, when compute_review_length() is passed to Dataset.map(), it will be applied to all the rows in the dataset to create a new review_length column:"
   ]
  },
  {
   "cell_type": "code",
   "execution_count": 36,
   "id": "d6fce06f",
   "metadata": {},
   "outputs": [
    {
     "data": {
      "application/vnd.jupyter.widget-view+json": {
       "model_id": "aaba58fee239420dad0794d040b89270",
       "version_major": 2,
       "version_minor": 0
      },
      "text/plain": [
       "Map:   0%|          | 0/160398 [00:00<?, ? examples/s]"
      ]
     },
     "metadata": {},
     "output_type": "display_data"
    },
    {
     "data": {
      "application/vnd.jupyter.widget-view+json": {
       "model_id": "9643bcaaede540c2bddcf7fd7d7b6187",
       "version_major": 2,
       "version_minor": 0
      },
      "text/plain": [
       "Map:   0%|          | 0/53471 [00:00<?, ? examples/s]"
      ]
     },
     "metadata": {},
     "output_type": "display_data"
    },
    {
     "data": {
      "text/plain": [
       "{'patient_id': 206461,\n",
       " 'drugName': 'Valsartan',\n",
       " 'condition': 'left ventricular dysfunction',\n",
       " 'review': '\"It has no side effect, I take it in combination of Bystolic 5 Mg and Fish Oil\"',\n",
       " 'rating': 9.0,\n",
       " 'date': 'May 20, 2012',\n",
       " 'usefulCount': 27,\n",
       " 'review_length': 17}"
      ]
     },
     "execution_count": 36,
     "metadata": {},
     "output_type": "execute_result"
    }
   ],
   "source": [
    "def compute_review_length(example):\n",
    "    return {\"review_length\": len(example[\"review\"].split())} #Counts number of words\n",
    "\n",
    "drug_dataset = drug_dataset.map(compute_review_length)\n",
    "# Inspect the first training example\n",
    "drug_dataset[\"train\"][0]"
   ]
  },
  {
   "cell_type": "code",
   "execution_count": 37,
   "id": "413d1464",
   "metadata": {},
   "outputs": [
    {
     "data": {
      "text/plain": [
       "{'patient_id': [111469, 13653, 53602],\n",
       " 'drugName': ['Ledipasvir / sofosbuvir',\n",
       "  'Amphetamine / dextroamphetamine',\n",
       "  'Alesse'],\n",
       " 'condition': ['hepatitis c', 'adhd', 'birth control'],\n",
       " 'review': ['\"Headache\"', '\"Great\"', '\"Awesome\"'],\n",
       " 'rating': [10.0, 10.0, 10.0],\n",
       " 'date': ['February 3, 2015', 'October 20, 2009', 'November 23, 2015'],\n",
       " 'usefulCount': [41, 3, 0],\n",
       " 'review_length': [1, 1, 1]}"
      ]
     },
     "execution_count": 37,
     "metadata": {},
     "output_type": "execute_result"
    }
   ],
   "source": [
    "drug_dataset[\"train\"].sort(\"review_length\")[:3]\n",
    "#As we suspected, some reviews contain just a single word \n",
    "#, which, although it may be okay for sentiment analysis, \n",
    "#would not be informative if we want to predict the condition."
   ]
  },
  {
   "cell_type": "code",
   "execution_count": 39,
   "id": "d90a4182",
   "metadata": {},
   "outputs": [
    {
     "data": {
      "text/plain": [
       "{'patient_id': [216072, 181160, 121004],\n",
       " 'drugName': ['Copper', 'Prozac', 'Venlafaxine'],\n",
       " 'condition': ['birth control', 'obsessive compulsive disorde', 'migraine'],\n",
       " 'review': ['\"My Complicated experience with the insertion of the copper IUD. It was &quot;one of the most difficult &amp; Complicated IUD insertions I&#039;ve had in a very long time&quot; quoting the words of my Gynecologist MD. Now I have not been sexually active for over a year and a half (by choice) &amp; I&#039;ve never had kids so that for one was a concern for my doctor since she said i might be very tight &amp; feel pain. Anywhom I am 23 and recently decided to date again &amp; wanted to have a convinient birth control that won&#039;t affect my weight or cause acne since acne has recently been a new battle for me, so my first step was hitting the Internet for options. After reading many reviews for multiple birth controls I decided on the copper para guard which is for 10-12 years. Now I went to my doctor and had a screening for STDs &amp; HIV which is protocol to any birth control procedure. Then pregnancy tests were taken a few days before the insertion and the day of the insertion, after everything came out negative I was ready for my IUD. I was schedule to go in on Tuesday September 1, 2015 so I went in with anticipation of pain and I was very nervous. Mostly because it was something new for me to have a speculum inside me since I just had my first Pap smear ,ever, two weeks prior to the IUD insertion. As my doctor placed the speculum I had some discomfort, she had trouble finding my cervix, after some time she had everything positioned right and began to try and dilate my cervix, right when she started I began to feel extreme cramping. My doctor could not get her tool that she used to dilate my cervix to stay in, I was too tight due to the fact that I&#039;ve never had kids so it wasn&#039;t easy, my cervix kept pushing the prob out. She attempted a few more times until I couldn&#039;t take the pain anymore because the cramping became so severe I began to cry. Now I know i sound ridiculous crying but I have a pretty high tolerance for pain &amp; I never understood how many woman couldn&#039;t take the cramping they had when on their period because I don&#039;t experience cramping on my periods, at least until now. I now have so much more sympathy for those who do have this pain every month. My doctor gave me other birth control options because she wasn&#039;t successful in Inserting the IUD but she knew I didn&#039;t want others so she offered to use an anesthetic on my cervix to help with the insertion (which is not normally a part of the procedure but since I had a special case she offered this option to me). I was not happy with the fact that I had to have a needle inserted in my cervix but this was the birth control I wanted and I was going to do whatever to get it. I was in too much pain that day so I had to come back the next morning. So here I go Wednesday morning into my doctors office, laying down ready to get a needle inserted into my cervix which terrified me because I already knew how painful it was but I didn&#039;t feel a thing when she put the anesthetic, I was told I would feel a slight sting and some burning sensation but I didn&#039;t feel anything. It took her about 15 min to position the IUD correctly, she had to dilate me 8cm to get a good view and make sure I had a successful insertion. I felt NOTHING &amp; then she was done. Right after she had me lay down for a few minutes then had me slowly sit up, I felt like I was going to faint, The MD said my eyes were not focusing on her and I was so pale. At that point my whole face and hands where numb. She stayed there with me until I regained full blood flow to my upper body. FYI my doctor said some woman actually faint after the procedure &amp; in some rare cases they even have seizure because the pain of dilating the cervix is so intense. I was lucky of not having any cramps because my cervix was numb. 8 hrs later the numbness began to fade &amp; the pain started, I got prescribed 600 Tylenol which helped a little. I spotted the next 3 days, I had to use pantie liners. Then my period came 1 week early just 4 days after I got my IUD placed, it was very heavy the first 3 days with medium cramping and my period lasted 5 1/2 days. My usual periods post the IUD was 4 days with only 1 heavy day. I have now had my IUD going on 3 weeks and I have little spotting every day so I use liners all the time. Now the part that I was most nervous about was the whole &quot;me checking if I can feel the IUD strings&quot; Its something I&#039;m a bit uncomfortable doing mostly because I&#039;ve never done it before so the first couple of times I tried to check for the strings I couldn&#039;t feel anything so I began to freak out and rushed to my doctors office after my unsuccessful attempts. She said to wait until my first period was over and then to try again. I tried again after my period and I still couldn&#039;t feel anything then I found a way to check that best fits me since I have small hands so I&#039;ll share my wisdom with you guys lol. I check in the shower every morning I lift one leg as if I&#039;m going to shave then I insert my pointer and I squat a little which helps and I&#039;m able to feel the tip of the strings. I have not had any cramping since my period and my discharge has reduced. I&#039;m very happy with my IUD &amp; I plan on using it safely and responsibly as I have heard many woman have got pregnant with the IUD. I still plan on using condoms because of STDs and I got the IUD as a backup just in case. I plan on keeping it for the full 10 year unless there are any complications. Sorry for the long story but I for one would have loved to hear the entire experience someone had so I decided to share mine. Hope it helps at least one person :)\"',\n",
       "  '\"I don&rsquo;t find a lot of positive stories about antidepressants, or I find stories where people are taking the antidepressant the wrong way.\\r\\n\\r\\nI wanted to share my experience.  A positive one.\\r\\n\\r\\nI&rsquo;ve had generalized anxiety disorder, SEVERE OCD, and panic disorder for as long as I can remember.  My first memory of having an episode was when I was 4 years old at my kindergarten interview.  I feel as though I was born with the illnesses mentioned above, right from the womb.  When I was a child I was extremely anxious, had bad separation anxiety from my parents and had extreme OCD, I was just a kid and thought that the way I was feeling is how all kids felt, I didn&rsquo;t realize that I was different.  This went on, and got even worse in middle school.  I began developing trichtilomania in middle school.  In high school I went from being a 90% above student, to failing every class within a couple of years.  I couldn&rsquo;t leave the house.  My panic disorder and gad caused debilitating physical symptoms.  I would be shaking when I had to leave the house, I wouldn&rsquo;t drink alcohol because I was afraid of vomiting, I was suffering so much, for my whole entire life with severe phobias, fears, and anxiety.  I prayed and prayed and prayed to God every night for it to go away.  I was a 16 year old living in a prison of her own mind.  It never went away.  Every single day was the worst day of my life, I would wake up and the thoughts just started,  I never had a break.  My life was exhausting.\\r\\n\\r\\nI am of east indian background and my parents didn&rsquo;t understand mental illness well.  It is very taboo in my culture.  I went to tons of doctors and they told me it was just growing pains,  no doctor ever told me that maybe I should see a therapist.  I didn&rsquo;t have any support.  When I was 22 I attempted suicide.  Luckily the attempt didn&rsquo;t work and I was forced to go on medication.  I was livid, I was so against antidepressants, I was so so so scared, it felt unnatural. My general practitioner put me on Effexor, I took it for almost 8 weeks, it helped me to not want to kill myself, but It also made me gain tons of weight which made me depressed, and it make me hear voices.  One evening a voice told me to choke my mom, and I started freaking out and my parents drove me immediately to the hospital.  At the hospital I talked to a psych nurse who calmed me down, and got me an appointment with a psychiatrist the next day.  This appointment and this psychiatrist saved my life, and changed my entire life.\\r\\n\\r\\nI want to really mention that you should not be going to a General Practitioner for mental illness medication, you should ALWAYS&hellip;ALWAYS go to a psychiatrist no matter what.  If your GP is the only person you are seeing to help you manage your meds for ocd, anxiety, etc, that is the WRONG MOVE.  That is such a common mistake people are making, you NEED a psychiatrist in order to get the meds right, please do not just go to your regular doctor, you&rsquo;ll be cheating yourself.\\r\\n\\r\\nI went to the psychiatrist appointment the next day.  It was the first time I had ever seen a psychiatrist.   I got into her room and we talked about everything, my childhood, my phobias, my ocd.  She then brought my parents into the room to explain the whole situation to them and the fact that I have a chemical imbalance in my brain and that I have been suffering for way too long.  My parents were so supportive.  The doctor told me I was on the wrong medication, that I never should have been placed on Effexor which is an SNRI, and that I should be on an SSRI considering my main problem is OCD and GAD.  We talked a lot about it and she told me she would like to place me on Prozac.  She said for me, because my neural pathways have been the same for 20 plus years, that I would need a higher dosage of Prozac especially for anxiety and OCD.   I see on this forum, that so many people are on 20mg, or 40mg for anxiety disorders.   You should be on 60mg at least, do not be afraid to go higher.  People that say Prozac or an SSRI didn&rsquo;t really do anything for their anxiety or ocd is because they are only taking a 20mg dose,  That is not an OCD dose.  40-80mg for anxiety and OCD.   Please up your dose.   Use the medication, REALLY USE IT.  Do not be afraid!\\r\\n\\r\\nMy doctor started me on 40mg, eventually took me to 100mg, and then I went back to 80mg.  Yes the side effects are insane, I was nauseated, I couldn&rsquo;t sleep, I was shaking, I had anxiety, but she prescribed me Ativan and said to use it until the Prozac kicked in.  That the Ativan would keep me comfortable until that happened.  Don&rsquo;t try to be a hero, use your Ativan or your Xanax or whatever to stay as comfortable as possible.\\r\\n\\r\\nI could write so much more, but I&rsquo;ll conclude with this.  4 months after being on 80mg of Prozac everyday, I woke up one day and I was cured.   Yes cured.  I had no OCD, I had no anxiety, I no longer had fears or phobias.   I was cured.   You have no idea how that day felt.  It was like the first day of my whole entire life.  I woke up being the real me, who is free spirited and isn&rsquo;t afraid of anything!  I was finally free, I was no longer a prisoner.  I didn&rsquo;t even have to go to therapy.  I just woke up one day a brand new person, from taking a high dose of Prozac every single day.\\r\\n\\r\\nDO NOT go off of the antidepressants.   Your ocd, your anxiety, depression etc will come back.  I WOULD never dream or even think to come off of my antidepressants,  I have an illness, that will return if I go off the medication, because I have a brain disorder.  OCD is a brain disorder.  Do not stop taking medication for your brain disorder, do not try to fix your brain disorder with just a 20mg or 40mg dose.  Own your medication, be on it for life.\\r\\n\\r\\nIt&rsquo;s been 5 years since I have been cured.  If it wasn&rsquo;t for Prozac, I would be dead.\\r\\n\\r\\n1)\\tYou need a psychiatrist\\r\\n2)\\tDo not be afraid to take more than 40mg of Prozac to treat panic attacks etc,  I am on 80mg a day and my life is a ball.  It is so wonderful and so carefree.\\r\\n3)\\tDo not stop the meds.  Be on the meds for life.\"',\n",
       "  '\"Two and a half months ago I was prescribed Venlafaxine to help prevent chronic migraines.\\r\\nIt did help the migraines (reduced them by almost half), but with it came a host of side effects that were far worse than the problem I was trying to get rid of.\\r\\nHaving now come off of the stuff, I would not recommend anyone ever use Venlafaxine unless they suffer from extreme / suicidal depression. I mean extreme in the most emphatic sense of the word. \\r\\nBefore trying Venlafaxine, I was a writer. While on Venlafaxine, I could barely write or speak or communicate at all. More than that, I just didn&#039;t want to. Not normal for a usually outgoing extrovert.\\r\\nNow, I&#039;m beginning to write again - but my ability to speak and converse with others has deteriorated by about 95%. Writing these words is taking forever; keeping up in conversation with even one person is impossible, and I barely see the point of trying either. On Venlafaxine, words pretty much left me - my conversational vocabulary  was whittled down to the following:\\r\\n&quot;Mmm&quot; for yes; a sharp and clipped &quot;Mm&quot; for &quot;No&quot;\\r\\n&quot;Okay.&quot;\\r\\n&quot;Really?&quot;\\r\\n&quot;Oh right.&quot;\\r\\n&quot;Cool.&quot;\\r\\n&quot;That sucks&quot;\\r\\nAt the moment, I&#039;m a week into withdrawal, and I have to try extremely hard just to make the most mundane small talk. Last night I went to a party with some close friends, cheesy &#039;90s music, and a barbecue. About half of them are academics, and I couldn&#039;t keep up with conversations I normally would be able to; the other half like to dance and party, but I felt glued to my seat (as well as practically mute) and eventually walked off and found a quiet sofa to lie down on.\\r\\nI have never felt so isolated and lonely in my life. Thanks Venlafaxine.\\r\\nIf you consider yourself a social, creative, and curious person, DO NOT TAKE EVEN ONE DOSE OF VENLAFAXINE. Unless of course you are extremely extremely depressed. I&#039;ve suffered from depression in the past, but only mildly. Venlafaxine has shown me what true depression feels like.\\r\\nAs for the other side effects:\\r\\n- About two days&#039; worth of total joyful euphoria during the first 48 hours of taking Venlafaxine. Anxiety of all kinds evaporated. This felt amazing - although I can&#039;t remember what it felt like now. At the time, this extremely brief effect was powerful enough to make me feel that pushing on with Venlafaxine would be a Good Idea.\\r\\n- After that, I started feeling very sleepy. All the time. I slept more. No euphoria; more anxiety.\\r\\n- A week later, the night sweats started. My room was pretty cold (it was only spring in the UK), but I sweated more than I ever have on any tropical holiday. This meant that despite being extremely sleepy, I couldn&#039;t sleep.\\r\\nSince the side effects were supposed to wear off after six weeks or so, I stuck with Venlafaxine for six weeks. Over that time I became so sleep deprived that I lived in a state of permanent exhaustion.\\r\\nEnter the writer&#039;s worst enemy: Brain fog. I spent entire days so braindead that the most challenging thing I could manage was staring blankly at a wall - or lifting my phone to read text messages and attempt to learn something from articles about Venlafaxine. I&#039;ve read the same articles countless times, but nothing sank in; every time I read the same article it felt like I was reading it for the first time. I recognised the layout and design of each webpage, and that way I was able to realise I&#039;d read it before, but the actual text went in one eye and out the other.\\r\\nIn conversation, I had a brain like a sieve. Words went in one ear and out the other. Normally, I could pump out a lot of writing on a regular basis; on Venlafaxine, I wrote a small and frankly pitiful handful of short and uninspired pieces, and that was it. If you love being productive and creative, do not go near Venlafaxine.\\r\\nThe above was my life for six weeks - and that was enough. I did see family and friends while on Venlafaxine, but I constantly forgot what was going on and must have seemed scatterbrained or borderline retarded at times. Although I did explain to people what was going on with my medication, it just seemed to make people uncomfortable - and I&#039;ve now become the butt of a lot of jokes relating to my consistent uselessness at everything from chatting to party games and my inability to work or do anything productive. Someone even compared me to Lenny from Of Mice And Men and asked when my family were going to take me into the back garden and shoot me in the head rather than continue to care for me. All of this contributed to the worst feeling of loneliness and isolation I have ever experienced in my life.\\r\\nVenlafaxine not only trapped me inside my head - it also emptied my head of anything worth remembering, and left me barely able to learn new things. \\r\\nI&#039;d sit around tables with people and realise I couldn&#039;t remember the names of people I&#039;d know for years - or even family members. \\r\\nI&#039;d hear a song playing and say &quot;Hey - what&#039;s the name of this dance?&quot;\\r\\nAny sentence longer than a few words requires a minute or so to compose when written. Spoken out loud? Forget about it. When I try to speak, I sound like the Goon from Popeye.\\r\\nAfter six weeks of hell, my doctor and I agreed to taper off my 75mg daily dose. This process lasted a month, not following a particular schedule (which might have been a better idea), and was mostly side effect free until I came down to 18.25mg a day - one half of one 37.5mg tablet.\\r\\nAfter three days of that, it really hit the fan. I got up one day, pottered around a bit, and suddenly decided that I wanted to kill myself. Literally out of nowhere.\\r\\nFortunately I was of sound enough mind to call the Samaritans, who recommended I call the emergency services, who sent an ambulance to take me to hospital. For suicidal thoughts. \\r\\nTo be honest, I&#039;d rather have gone to Disneyland.\\r\\nOnce I was in A&amp;E, I got to wait for several hours, just stewing in a room with a sofa and not much else. Then I met the most useless doctor of all time. After I refused his suggestion that I not only go back on Venlafaxine, but *try a higher dose* than the one that got me into this mess in the first place, he said there wasn&#039;t anything else they could do - and handed me a little leaflet for a local mental health charity meetup that happens every so often.\\r\\nBy this point I&#039;d decided that suicide would not be the best option - and nor would going on even more Venlafaxine than before. I also binned the leaflet on my way out, determined to keep going and just deal with the withdrawal.\\r\\nSince that time, my intelligence level has plummeted to the point of being humiliating. But that&#039;s not even the worst of it.\\r\\nAs I mentioned before, I started taking Venlafaxine for migraines. Now that I&#039;m not taking it, they&#039;re coming back again - but they&#039;ve also changed.\\r\\nA few days ago, days before the party I should probably have stayed home for only I couldn&#039;t stand sitting at home any longer so I went and ended up alone in a darkened room and felt more depressed than I have in my entire life, I was at home when I collapsed. The right side of my body gave way, I hit the wall, and fell on the floor where I lay frozen for God knows how long. Then when I did get up, I realised I couldn&#039;t speak at all, the right side of my body was almost paralysed, and the right side of my head was numb on the outside, and in agony on the inside.\\r\\nAfter calling the emergency services again, I was taken through the standard questions I guess they ask everyone when they think the person in question is having a stroke. Like the suicidal thoughts, stroke symptoms were a new experience for me. Thanks, Venlafaxine.\\r\\nWhen the ambulance arrived, they were able to reassure me that I wasn&#039;t having a stroke, as one side of my face wasn&#039;t drooping. This was good news - but since they couldn&#039;t explain what was actually going on, I was taking to hospital for a brain scan and blood tests and a meeting with a doctor who told me I&#039;d had a right-sided hemiplegic migraine. I&#039;d never had one before, and didn&#039;t know they existed until then; my migraines have always felt like my head is both in a vice and exploding at the same time, and I get them across my whole head, not just one side.\\r\\nAt this point, I&#039;m determined to continue fighting the withdrawal symptoms. The only thing that&#039;s really helped me in doing this was the discovery of a cognitive distortion called &quot;emotional reasoning&quot;. This involves assuming that because you feel bad, things must actually be bad.\\r\\nObviously emotional reasoning (which is worth Googling as it&#039;s quite an in depth subject, or at least feels like it given that my brain&#039;s been hopefully temporarily damaged by Venlafaxine) is pretty common in depression. It&#039;s also been my brain&#039;s default way of operating possibly for as long as I can remember, but definitely since I started taking Venlafaxine. The emotional and physical and psychological rollercoaster Venlafaxine puts you through is utterly exhausting - and while it&#039;s throwing you all over the place and especially during withdrawal it&#039;s tough to keep in mind that a lot of the negative thoughts your mind throws up are going to be based on how you feel (i.e. the levels and mix of different chemicals in your brain), NOT on any Real Life Stuff. You&#039;ll most likely unintentionally filter out all the good stuff in your brain and only remember the darkest and worst things you possibly can, and attach all kinds of apparently logical arguments to make a case against yourself / a case that argues that you and your life are awful.\\r\\nLooking back on this experience, my thoughts were similar to one of those films you see advertised as &quot;...based on a true story&quot;. Works of fiction based very loosely on facts.\\r\\nRather than a film you&#039;d give two stars and never watch again, emotional reasoning&#039;s end product is a lie - not to mention the most toxic thoughts a human being can think. Depression can definitely make people tell these lies to themselves - but Venlafaxine made my brain malfunction so badly that putting together an apparently sensible argument for any depressive thoughts suddenly seemed like the most obvious thing in the world one day.\\r\\nIf I hadn&#039;t had those thoughts, I would&#039;ve just made lunch.\\r\\nSo that&#039;s about it for now - if I don&#039;t update this story in the future, assume I got better and decided to never revisit this page again, preferring to leave Venlafaxine and its horrific toxicity behind me. Good luck with your own journey :)\"'],\n",
       " 'rating': [10.0, 10.0, 2.0],\n",
       " 'date': ['September 17, 2015', 'May 26, 2017', 'June 18, 2017'],\n",
       " 'usefulCount': [43, 148, 9],\n",
       " 'review_length': [1107, 1162, 1894]}"
      ]
     },
     "execution_count": 39,
     "metadata": {},
     "output_type": "execute_result"
    }
   ],
   "source": [
    "drug_dataset[\"train\"].sort(\"review_length\")[-3:]"
   ]
  },
  {
   "cell_type": "markdown",
   "id": "d93f7252",
   "metadata": {},
   "source": [
    "🙋 An alternative way to add new columns to a dataset is with the Dataset.add_column() function. This allows you to provide the column as a Python list or NumPy array and can be handy in situations where Dataset.map() is not well suited for your analysis."
   ]
  },
  {
   "cell_type": "code",
   "execution_count": 43,
   "id": "6b96ad36",
   "metadata": {},
   "outputs": [
    {
     "data": {
      "application/vnd.jupyter.widget-view+json": {
       "model_id": "f039844311bb44349b39b4afe5bf322d",
       "version_major": 2,
       "version_minor": 0
      },
      "text/plain": [
       "Filter:   0%|          | 0/138514 [00:00<?, ? examples/s]"
      ]
     },
     "metadata": {},
     "output_type": "display_data"
    },
    {
     "data": {
      "application/vnd.jupyter.widget-view+json": {
       "model_id": "c0e70a9d1f4e40e78a0796b71ea8e2cd",
       "version_major": 2,
       "version_minor": 0
      },
      "text/plain": [
       "Filter:   0%|          | 0/46108 [00:00<?, ? examples/s]"
      ]
     },
     "metadata": {},
     "output_type": "display_data"
    },
    {
     "name": "stdout",
     "output_type": "stream",
     "text": [
      "{'train': 138514, 'test': 46108}\n"
     ]
    }
   ],
   "source": [
    "#We filter the data by review length again\n",
    "drug_dataset = drug_dataset.filter(lambda x: x['review_length']>30)\n",
    "\n",
    "print(drug_dataset.num_rows)"
   ]
  },
  {
   "cell_type": "markdown",
   "id": "4010febb",
   "metadata": {},
   "source": [
    "The last thing we need to deal with is the presence of HTML character codes in our reviews. We can use Python’s html module to unescape these characters, like so:"
   ]
  },
  {
   "cell_type": "code",
   "execution_count": 44,
   "id": "6f463aec",
   "metadata": {},
   "outputs": [
    {
     "data": {
      "text/plain": [
       "\"I'm a transformer called BERT\""
      ]
     },
     "execution_count": 44,
     "metadata": {},
     "output_type": "execute_result"
    }
   ],
   "source": [
    "import html\n",
    "\n",
    "text = \"I&#039;m a transformer called BERT\"\n",
    "html.unescape(text)"
   ]
  },
  {
   "cell_type": "code",
   "execution_count": 45,
   "id": "3e57dc20",
   "metadata": {},
   "outputs": [
    {
     "data": {
      "application/vnd.jupyter.widget-view+json": {
       "model_id": "4386a718620b4465aca84c48dc1ded0a",
       "version_major": 2,
       "version_minor": 0
      },
      "text/plain": [
       "Map:   0%|          | 0/138514 [00:00<?, ? examples/s]"
      ]
     },
     "metadata": {},
     "output_type": "display_data"
    },
    {
     "data": {
      "application/vnd.jupyter.widget-view+json": {
       "model_id": "766b94eaf9e742bdb120ff5da6f954a2",
       "version_major": 2,
       "version_minor": 0
      },
      "text/plain": [
       "Map:   0%|          | 0/46108 [00:00<?, ? examples/s]"
      ]
     },
     "metadata": {},
     "output_type": "display_data"
    },
    {
     "data": {
      "text/plain": [
       "'\"My son is halfway through his fourth week of Intuniv. We became concerned when he began this last week, when he started taking the highest dose he will be on. For two days, he could hardly get out of bed, was very cranky, and slept for nearly 8 hours on a drive home from school vacation (very unusual for him.) I called his doctor on Monday morning and she said to stick it out a few days. See how he did at school, and with getting up in the morning. The last two days have been problem free. He is MUCH more agreeable than ever. He is less emotional (a good thing), less cranky. He is remembering all the things he should. Overall his behavior is better. \\r\\nWe have tried many different medications and so far this is the most effective.\"'"
      ]
     },
     "execution_count": 45,
     "metadata": {},
     "output_type": "execute_result"
    }
   ],
   "source": [
    "#We’ll use Dataset.map() to unescape all the HTML characters in our corpus:\n",
    "drug_dataset = drug_dataset.map(lambda x: {\"review\": html.unescape(x[\"review\"])})\n",
    "\n",
    "drug_dataset['train']['review'][0]"
   ]
  },
  {
   "cell_type": "markdown",
   "id": "3502dcfc",
   "metadata": {},
   "source": [
    "<h2>The map() method's superpowers</h2>\n",
    "\n",
    "The Dataset.map() method takes a batched argument that, if set to True, causes it to send a batch of examples to the map function at once (the batch size is configurable but defaults to 1,000). For instance, the previous map function that unescaped all the HTML took a bit of time to run (you can read the time taken from the progress bars). We can speed this up by processing several elements at the same time using a list comprehension.\n",
    "\n",
    "When you specify batched=True the function receives a dictionary with the fields of the dataset, but each value is now a list of values, and not just a single value. The return value of Dataset.map() should be the same: a dictionary with the fields we want to update or add to our dataset, and a list of values. For example, here is another way to unescape all HTML characters, but using batched=True:"
   ]
  },
  {
   "cell_type": "code",
   "execution_count": 54,
   "id": "8f5346fb",
   "metadata": {},
   "outputs": [
    {
     "data": {
      "text/plain": [
       "DatasetDict({\n",
       "    train: Dataset({\n",
       "        features: ['patient_id', 'drugName', 'condition', 'review', 'rating', 'date', 'usefulCount', 'review_length'],\n",
       "        num_rows: 138514\n",
       "    })\n",
       "    test: Dataset({\n",
       "        features: ['patient_id', 'drugName', 'condition', 'review', 'rating', 'date', 'usefulCount', 'review_length'],\n",
       "        num_rows: 46108\n",
       "    })\n",
       "})"
      ]
     },
     "execution_count": 54,
     "metadata": {},
     "output_type": "execute_result"
    }
   ],
   "source": [
    "drug_dataset\n",
    "\n",
    "#drug_dataset['train']['drugName']"
   ]
  },
  {
   "cell_type": "code",
   "execution_count": 46,
   "id": "2cb01800",
   "metadata": {},
   "outputs": [
    {
     "data": {
      "application/vnd.jupyter.widget-view+json": {
       "model_id": "314625ec4ca1400092e8f4f36f156f6e",
       "version_major": 2,
       "version_minor": 0
      },
      "text/plain": [
       "Map:   0%|          | 0/138514 [00:00<?, ? examples/s]"
      ]
     },
     "metadata": {},
     "output_type": "display_data"
    },
    {
     "data": {
      "application/vnd.jupyter.widget-view+json": {
       "model_id": "8c937639be3240eca40fbfac8ff5a192",
       "version_major": 2,
       "version_minor": 0
      },
      "text/plain": [
       "Map:   0%|          | 0/46108 [00:00<?, ? examples/s]"
      ]
     },
     "metadata": {},
     "output_type": "display_data"
    },
    {
     "data": {
      "text/plain": [
       "DatasetDict({\n",
       "    train: Dataset({\n",
       "        features: ['patient_id', 'drugName', 'condition', 'review', 'rating', 'date', 'usefulCount', 'review_length'],\n",
       "        num_rows: 138514\n",
       "    })\n",
       "    test: Dataset({\n",
       "        features: ['patient_id', 'drugName', 'condition', 'review', 'rating', 'date', 'usefulCount', 'review_length'],\n",
       "        num_rows: 46108\n",
       "    })\n",
       "})"
      ]
     },
     "execution_count": 46,
     "metadata": {},
     "output_type": "execute_result"
    }
   ],
   "source": [
    "new_drug_dataset = drug_dataset.map(\n",
    "    lambda x: {\"review\": [html.unescape(o) for o in x[\"review\"]]}, batched=True\n",
    ")\n",
    "\n",
    "new_drug_dataset\n",
    "\n",
    "#new_drug_dataset['train']['drugName']"
   ]
  },
  {
   "cell_type": "code",
   "execution_count": 55,
   "id": "3a0eb75a",
   "metadata": {},
   "outputs": [],
   "source": [
    "from transformers import AutoTokenizer\n",
    "\n",
    "tokenizer = AutoTokenizer.from_pretrained(\"bert-base-cased\")\n",
    "\n",
    "\n",
    "def tokenize_function(examples):\n",
    "    return tokenizer(examples[\"review\"], truncation=True)"
   ]
  },
  {
   "cell_type": "code",
   "execution_count": 56,
   "id": "e163f6ee",
   "metadata": {},
   "outputs": [
    {
     "data": {
      "application/vnd.jupyter.widget-view+json": {
       "model_id": "9e9b70b2188c44edb14b25b9ac89f4ab",
       "version_major": 2,
       "version_minor": 0
      },
      "text/plain": [
       "Map:   0%|          | 0/138514 [00:00<?, ? examples/s]"
      ]
     },
     "metadata": {},
     "output_type": "display_data"
    },
    {
     "data": {
      "application/vnd.jupyter.widget-view+json": {
       "model_id": "a3708fa1e5ad475682be7c8b3a731928",
       "version_major": 2,
       "version_minor": 0
      },
      "text/plain": [
       "Map:   0%|          | 0/46108 [00:00<?, ? examples/s]"
      ]
     },
     "metadata": {},
     "output_type": "display_data"
    },
    {
     "name": "stdout",
     "output_type": "stream",
     "text": [
      "CPU times: user 1min 45s, sys: 1.07 s, total: 1min 46s\n",
      "Wall time: 16.7 s\n"
     ]
    }
   ],
   "source": [
    "%time tokenized_dataset = drug_dataset.map(tokenize_function, batched=True)"
   ]
  },
  {
   "cell_type": "code",
   "execution_count": 72,
   "id": "52721ddd",
   "metadata": {},
   "outputs": [],
   "source": [
    "def tokenize_and_split(examples):\n",
    "    return tokenizer(\n",
    "        examples[\"review\"],\n",
    "        truncation=True,\n",
    "        max_length=128,\n",
    "        return_overflowing_tokens=True,\n",
    "    )"
   ]
  },
  {
   "cell_type": "code",
   "execution_count": 73,
   "id": "6ed3122f",
   "metadata": {},
   "outputs": [
    {
     "data": {
      "text/plain": [
       "[128, 49]"
      ]
     },
     "execution_count": 73,
     "metadata": {},
     "output_type": "execute_result"
    }
   ],
   "source": [
    "result = tokenize_and_split(drug_dataset[\"train\"][0])\n",
    "[len(inp) for inp in result[\"input_ids\"]]"
   ]
  },
  {
   "cell_type": "code",
   "execution_count": 74,
   "id": "ab7c2047",
   "metadata": {},
   "outputs": [
    {
     "name": "stdout",
     "output_type": "stream",
     "text": [
      "{'patient_id': 95260, 'drugName': 'Guanfacine', 'condition': 'adhd', 'review': '\"My son is halfway through his fourth week of Intuniv. We became concerned when he began this last week, when he started taking the highest dose he will be on. For two days, he could hardly get out of bed, was very cranky, and slept for nearly 8 hours on a drive home from school vacation (very unusual for him.) I called his doctor on Monday morning and she said to stick it out a few days. See how he did at school, and with getting up in the morning. The last two days have been problem free. He is MUCH more agreeable than ever. He is less emotional (a good thing), less cranky. He is remembering all the things he should. Overall his behavior is better. \\r\\nWe have tried many different medications and so far this is the most effective.\"', 'rating': 8.0, 'date': 'April 27, 2010', 'usefulCount': 192, 'review_length': 141}\n",
      "741\n"
     ]
    }
   ],
   "source": [
    "print(drug_dataset[\"train\"][0])\n",
    "print(len(drug_dataset[\"train\"][0]['review']))"
   ]
  },
  {
   "cell_type": "code",
   "execution_count": 75,
   "id": "b631137b",
   "metadata": {},
   "outputs": [
    {
     "data": {
      "text/plain": [
       "{'input_ids': [[101, 107, 1422, 1488, 1110, 9079, 1194, 1117, 2223, 1989, 1104, 1130, 19972, 11083, 119, 1284, 1245, 4264, 1165, 1119, 1310, 1142, 1314, 1989, 117, 1165, 1119, 1408, 1781, 1103, 2439, 13753, 1119, 1209, 1129, 1113, 119, 1370, 1160, 1552, 117, 1119, 1180, 6374, 1243, 1149, 1104, 1908, 117, 1108, 1304, 172, 14687, 1183, 117, 1105, 7362, 1111, 2212, 129, 2005, 1113, 170, 2797, 1313, 1121, 1278, 12020, 113, 1304, 5283, 1111, 1140, 119, 114, 146, 1270, 1117, 3995, 1113, 6356, 2106, 1105, 1131, 1163, 1106, 6166, 1122, 1149, 170, 1374, 1552, 119, 3969, 1293, 1119, 1225, 1120, 1278, 117, 1105, 1114, 2033, 1146, 1107, 1103, 2106, 119, 1109, 1314, 1160, 1552, 1138, 1151, 2463, 1714, 119, 1124, 1110, 150, 21986, 3048, 1167, 5340, 1895, 1190, 1518, 102], [101, 119, 1124, 1110, 1750, 6438, 113, 170, 1363, 1645, 114, 117, 1750, 172, 14687, 1183, 119, 1124, 1110, 11566, 1155, 1103, 1614, 1119, 1431, 119, 8007, 1117, 4658, 1110, 1618, 119, 1284, 1138, 1793, 1242, 1472, 23897, 1105, 1177, 1677, 1142, 1110, 1103, 1211, 3903, 119, 107, 102]], 'token_type_ids': [[0, 0, 0, 0, 0, 0, 0, 0, 0, 0, 0, 0, 0, 0, 0, 0, 0, 0, 0, 0, 0, 0, 0, 0, 0, 0, 0, 0, 0, 0, 0, 0, 0, 0, 0, 0, 0, 0, 0, 0, 0, 0, 0, 0, 0, 0, 0, 0, 0, 0, 0, 0, 0, 0, 0, 0, 0, 0, 0, 0, 0, 0, 0, 0, 0, 0, 0, 0, 0, 0, 0, 0, 0, 0, 0, 0, 0, 0, 0, 0, 0, 0, 0, 0, 0, 0, 0, 0, 0, 0, 0, 0, 0, 0, 0, 0, 0, 0, 0, 0, 0, 0, 0, 0, 0, 0, 0, 0, 0, 0, 0, 0, 0, 0, 0, 0, 0, 0, 0, 0, 0, 0, 0, 0, 0, 0, 0, 0], [0, 0, 0, 0, 0, 0, 0, 0, 0, 0, 0, 0, 0, 0, 0, 0, 0, 0, 0, 0, 0, 0, 0, 0, 0, 0, 0, 0, 0, 0, 0, 0, 0, 0, 0, 0, 0, 0, 0, 0, 0, 0, 0, 0, 0, 0, 0, 0, 0]], 'attention_mask': [[1, 1, 1, 1, 1, 1, 1, 1, 1, 1, 1, 1, 1, 1, 1, 1, 1, 1, 1, 1, 1, 1, 1, 1, 1, 1, 1, 1, 1, 1, 1, 1, 1, 1, 1, 1, 1, 1, 1, 1, 1, 1, 1, 1, 1, 1, 1, 1, 1, 1, 1, 1, 1, 1, 1, 1, 1, 1, 1, 1, 1, 1, 1, 1, 1, 1, 1, 1, 1, 1, 1, 1, 1, 1, 1, 1, 1, 1, 1, 1, 1, 1, 1, 1, 1, 1, 1, 1, 1, 1, 1, 1, 1, 1, 1, 1, 1, 1, 1, 1, 1, 1, 1, 1, 1, 1, 1, 1, 1, 1, 1, 1, 1, 1, 1, 1, 1, 1, 1, 1, 1, 1, 1, 1, 1, 1, 1, 1], [1, 1, 1, 1, 1, 1, 1, 1, 1, 1, 1, 1, 1, 1, 1, 1, 1, 1, 1, 1, 1, 1, 1, 1, 1, 1, 1, 1, 1, 1, 1, 1, 1, 1, 1, 1, 1, 1, 1, 1, 1, 1, 1, 1, 1, 1, 1, 1, 1]], 'overflow_to_sample_mapping': [0, 0]}"
      ]
     },
     "execution_count": 75,
     "metadata": {},
     "output_type": "execute_result"
    }
   ],
   "source": [
    "result"
   ]
  },
  {
   "cell_type": "code",
   "execution_count": 63,
   "id": "5c63a971",
   "metadata": {},
   "outputs": [
    {
     "data": {
      "application/vnd.jupyter.widget-view+json": {
       "model_id": "33fd8679fa274aacbaed5ee2de6d6e06",
       "version_major": 2,
       "version_minor": 0
      },
      "text/plain": [
       "Map:   0%|          | 0/138514 [00:00<?, ? examples/s]"
      ]
     },
     "metadata": {},
     "output_type": "display_data"
    },
    {
     "ename": "ArrowInvalid",
     "evalue": "Column 8 named input_ids expected length 1000 but got length 1463",
     "output_type": "error",
     "traceback": [
      "\u001b[0;31m---------------------------------------------------------------------------\u001b[0m",
      "\u001b[0;31mArrowInvalid\u001b[0m                              Traceback (most recent call last)",
      "Cell \u001b[0;32mIn[63], line 1\u001b[0m\n\u001b[0;32m----> 1\u001b[0m tokenized_dataset \u001b[38;5;241m=\u001b[39m \u001b[43mdrug_dataset\u001b[49m\u001b[38;5;241;43m.\u001b[39;49m\u001b[43mmap\u001b[49m\u001b[43m(\u001b[49m\u001b[43mtokenize_and_split\u001b[49m\u001b[43m,\u001b[49m\u001b[43m \u001b[49m\u001b[43mbatched\u001b[49m\u001b[38;5;241;43m=\u001b[39;49m\u001b[38;5;28;43;01mTrue\u001b[39;49;00m\u001b[43m)\u001b[49m\n",
      "File \u001b[0;32m~/py39/lib/python3.9/site-packages/datasets/dataset_dict.py:868\u001b[0m, in \u001b[0;36mDatasetDict.map\u001b[0;34m(self, function, with_indices, with_rank, input_columns, batched, batch_size, drop_last_batch, remove_columns, keep_in_memory, load_from_cache_file, cache_file_names, writer_batch_size, features, disable_nullable, fn_kwargs, num_proc, desc)\u001b[0m\n\u001b[1;32m    865\u001b[0m \u001b[38;5;28;01mif\u001b[39;00m cache_file_names \u001b[38;5;129;01mis\u001b[39;00m \u001b[38;5;28;01mNone\u001b[39;00m:\n\u001b[1;32m    866\u001b[0m     cache_file_names \u001b[38;5;241m=\u001b[39m {k: \u001b[38;5;28;01mNone\u001b[39;00m \u001b[38;5;28;01mfor\u001b[39;00m k \u001b[38;5;129;01min\u001b[39;00m \u001b[38;5;28mself\u001b[39m}\n\u001b[1;32m    867\u001b[0m \u001b[38;5;28;01mreturn\u001b[39;00m DatasetDict(\n\u001b[0;32m--> 868\u001b[0m     {\n\u001b[1;32m    869\u001b[0m         k: dataset\u001b[38;5;241m.\u001b[39mmap(\n\u001b[1;32m    870\u001b[0m             function\u001b[38;5;241m=\u001b[39mfunction,\n\u001b[1;32m    871\u001b[0m             with_indices\u001b[38;5;241m=\u001b[39mwith_indices,\n\u001b[1;32m    872\u001b[0m             with_rank\u001b[38;5;241m=\u001b[39mwith_rank,\n\u001b[1;32m    873\u001b[0m             input_columns\u001b[38;5;241m=\u001b[39minput_columns,\n\u001b[1;32m    874\u001b[0m             batched\u001b[38;5;241m=\u001b[39mbatched,\n\u001b[1;32m    875\u001b[0m             batch_size\u001b[38;5;241m=\u001b[39mbatch_size,\n\u001b[1;32m    876\u001b[0m             drop_last_batch\u001b[38;5;241m=\u001b[39mdrop_last_batch,\n\u001b[1;32m    877\u001b[0m             remove_columns\u001b[38;5;241m=\u001b[39mremove_columns,\n\u001b[1;32m    878\u001b[0m             keep_in_memory\u001b[38;5;241m=\u001b[39mkeep_in_memory,\n\u001b[1;32m    879\u001b[0m             load_from_cache_file\u001b[38;5;241m=\u001b[39mload_from_cache_file,\n\u001b[1;32m    880\u001b[0m             cache_file_name\u001b[38;5;241m=\u001b[39mcache_file_names[k],\n\u001b[1;32m    881\u001b[0m             writer_batch_size\u001b[38;5;241m=\u001b[39mwriter_batch_size,\n\u001b[1;32m    882\u001b[0m             features\u001b[38;5;241m=\u001b[39mfeatures,\n\u001b[1;32m    883\u001b[0m             disable_nullable\u001b[38;5;241m=\u001b[39mdisable_nullable,\n\u001b[1;32m    884\u001b[0m             fn_kwargs\u001b[38;5;241m=\u001b[39mfn_kwargs,\n\u001b[1;32m    885\u001b[0m             num_proc\u001b[38;5;241m=\u001b[39mnum_proc,\n\u001b[1;32m    886\u001b[0m             desc\u001b[38;5;241m=\u001b[39mdesc,\n\u001b[1;32m    887\u001b[0m         )\n\u001b[1;32m    888\u001b[0m         \u001b[38;5;28;01mfor\u001b[39;00m k, dataset \u001b[38;5;129;01min\u001b[39;00m \u001b[38;5;28mself\u001b[39m\u001b[38;5;241m.\u001b[39mitems()\n\u001b[1;32m    889\u001b[0m     }\n\u001b[1;32m    890\u001b[0m )\n",
      "File \u001b[0;32m~/py39/lib/python3.9/site-packages/datasets/dataset_dict.py:869\u001b[0m, in \u001b[0;36m<dictcomp>\u001b[0;34m(.0)\u001b[0m\n\u001b[1;32m    865\u001b[0m \u001b[38;5;28;01mif\u001b[39;00m cache_file_names \u001b[38;5;129;01mis\u001b[39;00m \u001b[38;5;28;01mNone\u001b[39;00m:\n\u001b[1;32m    866\u001b[0m     cache_file_names \u001b[38;5;241m=\u001b[39m {k: \u001b[38;5;28;01mNone\u001b[39;00m \u001b[38;5;28;01mfor\u001b[39;00m k \u001b[38;5;129;01min\u001b[39;00m \u001b[38;5;28mself\u001b[39m}\n\u001b[1;32m    867\u001b[0m \u001b[38;5;28;01mreturn\u001b[39;00m DatasetDict(\n\u001b[1;32m    868\u001b[0m     {\n\u001b[0;32m--> 869\u001b[0m         k: \u001b[43mdataset\u001b[49m\u001b[38;5;241;43m.\u001b[39;49m\u001b[43mmap\u001b[49m\u001b[43m(\u001b[49m\n\u001b[1;32m    870\u001b[0m \u001b[43m            \u001b[49m\u001b[43mfunction\u001b[49m\u001b[38;5;241;43m=\u001b[39;49m\u001b[43mfunction\u001b[49m\u001b[43m,\u001b[49m\n\u001b[1;32m    871\u001b[0m \u001b[43m            \u001b[49m\u001b[43mwith_indices\u001b[49m\u001b[38;5;241;43m=\u001b[39;49m\u001b[43mwith_indices\u001b[49m\u001b[43m,\u001b[49m\n\u001b[1;32m    872\u001b[0m \u001b[43m            \u001b[49m\u001b[43mwith_rank\u001b[49m\u001b[38;5;241;43m=\u001b[39;49m\u001b[43mwith_rank\u001b[49m\u001b[43m,\u001b[49m\n\u001b[1;32m    873\u001b[0m \u001b[43m            \u001b[49m\u001b[43minput_columns\u001b[49m\u001b[38;5;241;43m=\u001b[39;49m\u001b[43minput_columns\u001b[49m\u001b[43m,\u001b[49m\n\u001b[1;32m    874\u001b[0m \u001b[43m            \u001b[49m\u001b[43mbatched\u001b[49m\u001b[38;5;241;43m=\u001b[39;49m\u001b[43mbatched\u001b[49m\u001b[43m,\u001b[49m\n\u001b[1;32m    875\u001b[0m \u001b[43m            \u001b[49m\u001b[43mbatch_size\u001b[49m\u001b[38;5;241;43m=\u001b[39;49m\u001b[43mbatch_size\u001b[49m\u001b[43m,\u001b[49m\n\u001b[1;32m    876\u001b[0m \u001b[43m            \u001b[49m\u001b[43mdrop_last_batch\u001b[49m\u001b[38;5;241;43m=\u001b[39;49m\u001b[43mdrop_last_batch\u001b[49m\u001b[43m,\u001b[49m\n\u001b[1;32m    877\u001b[0m \u001b[43m            \u001b[49m\u001b[43mremove_columns\u001b[49m\u001b[38;5;241;43m=\u001b[39;49m\u001b[43mremove_columns\u001b[49m\u001b[43m,\u001b[49m\n\u001b[1;32m    878\u001b[0m \u001b[43m            \u001b[49m\u001b[43mkeep_in_memory\u001b[49m\u001b[38;5;241;43m=\u001b[39;49m\u001b[43mkeep_in_memory\u001b[49m\u001b[43m,\u001b[49m\n\u001b[1;32m    879\u001b[0m \u001b[43m            \u001b[49m\u001b[43mload_from_cache_file\u001b[49m\u001b[38;5;241;43m=\u001b[39;49m\u001b[43mload_from_cache_file\u001b[49m\u001b[43m,\u001b[49m\n\u001b[1;32m    880\u001b[0m \u001b[43m            \u001b[49m\u001b[43mcache_file_name\u001b[49m\u001b[38;5;241;43m=\u001b[39;49m\u001b[43mcache_file_names\u001b[49m\u001b[43m[\u001b[49m\u001b[43mk\u001b[49m\u001b[43m]\u001b[49m\u001b[43m,\u001b[49m\n\u001b[1;32m    881\u001b[0m \u001b[43m            \u001b[49m\u001b[43mwriter_batch_size\u001b[49m\u001b[38;5;241;43m=\u001b[39;49m\u001b[43mwriter_batch_size\u001b[49m\u001b[43m,\u001b[49m\n\u001b[1;32m    882\u001b[0m \u001b[43m            \u001b[49m\u001b[43mfeatures\u001b[49m\u001b[38;5;241;43m=\u001b[39;49m\u001b[43mfeatures\u001b[49m\u001b[43m,\u001b[49m\n\u001b[1;32m    883\u001b[0m \u001b[43m            \u001b[49m\u001b[43mdisable_nullable\u001b[49m\u001b[38;5;241;43m=\u001b[39;49m\u001b[43mdisable_nullable\u001b[49m\u001b[43m,\u001b[49m\n\u001b[1;32m    884\u001b[0m \u001b[43m            \u001b[49m\u001b[43mfn_kwargs\u001b[49m\u001b[38;5;241;43m=\u001b[39;49m\u001b[43mfn_kwargs\u001b[49m\u001b[43m,\u001b[49m\n\u001b[1;32m    885\u001b[0m \u001b[43m            \u001b[49m\u001b[43mnum_proc\u001b[49m\u001b[38;5;241;43m=\u001b[39;49m\u001b[43mnum_proc\u001b[49m\u001b[43m,\u001b[49m\n\u001b[1;32m    886\u001b[0m \u001b[43m            \u001b[49m\u001b[43mdesc\u001b[49m\u001b[38;5;241;43m=\u001b[39;49m\u001b[43mdesc\u001b[49m\u001b[43m,\u001b[49m\n\u001b[1;32m    887\u001b[0m \u001b[43m        \u001b[49m\u001b[43m)\u001b[49m\n\u001b[1;32m    888\u001b[0m         \u001b[38;5;28;01mfor\u001b[39;00m k, dataset \u001b[38;5;129;01min\u001b[39;00m \u001b[38;5;28mself\u001b[39m\u001b[38;5;241m.\u001b[39mitems()\n\u001b[1;32m    889\u001b[0m     }\n\u001b[1;32m    890\u001b[0m )\n",
      "File \u001b[0;32m~/py39/lib/python3.9/site-packages/datasets/arrow_dataset.py:592\u001b[0m, in \u001b[0;36mtransmit_tasks.<locals>.wrapper\u001b[0;34m(*args, **kwargs)\u001b[0m\n\u001b[1;32m    590\u001b[0m     \u001b[38;5;28mself\u001b[39m: \u001b[38;5;124m\"\u001b[39m\u001b[38;5;124mDataset\u001b[39m\u001b[38;5;124m\"\u001b[39m \u001b[38;5;241m=\u001b[39m kwargs\u001b[38;5;241m.\u001b[39mpop(\u001b[38;5;124m\"\u001b[39m\u001b[38;5;124mself\u001b[39m\u001b[38;5;124m\"\u001b[39m)\n\u001b[1;32m    591\u001b[0m \u001b[38;5;66;03m# apply actual function\u001b[39;00m\n\u001b[0;32m--> 592\u001b[0m out: Union[\u001b[38;5;124m\"\u001b[39m\u001b[38;5;124mDataset\u001b[39m\u001b[38;5;124m\"\u001b[39m, \u001b[38;5;124m\"\u001b[39m\u001b[38;5;124mDatasetDict\u001b[39m\u001b[38;5;124m\"\u001b[39m] \u001b[38;5;241m=\u001b[39m \u001b[43mfunc\u001b[49m\u001b[43m(\u001b[49m\u001b[38;5;28;43mself\u001b[39;49m\u001b[43m,\u001b[49m\u001b[43m \u001b[49m\u001b[38;5;241;43m*\u001b[39;49m\u001b[43margs\u001b[49m\u001b[43m,\u001b[49m\u001b[43m \u001b[49m\u001b[38;5;241;43m*\u001b[39;49m\u001b[38;5;241;43m*\u001b[39;49m\u001b[43mkwargs\u001b[49m\u001b[43m)\u001b[49m\n\u001b[1;32m    593\u001b[0m datasets: List[\u001b[38;5;124m\"\u001b[39m\u001b[38;5;124mDataset\u001b[39m\u001b[38;5;124m\"\u001b[39m] \u001b[38;5;241m=\u001b[39m \u001b[38;5;28mlist\u001b[39m(out\u001b[38;5;241m.\u001b[39mvalues()) \u001b[38;5;28;01mif\u001b[39;00m \u001b[38;5;28misinstance\u001b[39m(out, \u001b[38;5;28mdict\u001b[39m) \u001b[38;5;28;01melse\u001b[39;00m [out]\n\u001b[1;32m    594\u001b[0m \u001b[38;5;28;01mfor\u001b[39;00m dataset \u001b[38;5;129;01min\u001b[39;00m datasets:\n\u001b[1;32m    595\u001b[0m     \u001b[38;5;66;03m# Remove task templates if a column mapping of the template is no longer valid\u001b[39;00m\n",
      "File \u001b[0;32m~/py39/lib/python3.9/site-packages/datasets/arrow_dataset.py:557\u001b[0m, in \u001b[0;36mtransmit_format.<locals>.wrapper\u001b[0;34m(*args, **kwargs)\u001b[0m\n\u001b[1;32m    550\u001b[0m self_format \u001b[38;5;241m=\u001b[39m {\n\u001b[1;32m    551\u001b[0m     \u001b[38;5;124m\"\u001b[39m\u001b[38;5;124mtype\u001b[39m\u001b[38;5;124m\"\u001b[39m: \u001b[38;5;28mself\u001b[39m\u001b[38;5;241m.\u001b[39m_format_type,\n\u001b[1;32m    552\u001b[0m     \u001b[38;5;124m\"\u001b[39m\u001b[38;5;124mformat_kwargs\u001b[39m\u001b[38;5;124m\"\u001b[39m: \u001b[38;5;28mself\u001b[39m\u001b[38;5;241m.\u001b[39m_format_kwargs,\n\u001b[1;32m    553\u001b[0m     \u001b[38;5;124m\"\u001b[39m\u001b[38;5;124mcolumns\u001b[39m\u001b[38;5;124m\"\u001b[39m: \u001b[38;5;28mself\u001b[39m\u001b[38;5;241m.\u001b[39m_format_columns,\n\u001b[1;32m    554\u001b[0m     \u001b[38;5;124m\"\u001b[39m\u001b[38;5;124moutput_all_columns\u001b[39m\u001b[38;5;124m\"\u001b[39m: \u001b[38;5;28mself\u001b[39m\u001b[38;5;241m.\u001b[39m_output_all_columns,\n\u001b[1;32m    555\u001b[0m }\n\u001b[1;32m    556\u001b[0m \u001b[38;5;66;03m# apply actual function\u001b[39;00m\n\u001b[0;32m--> 557\u001b[0m out: Union[\u001b[38;5;124m\"\u001b[39m\u001b[38;5;124mDataset\u001b[39m\u001b[38;5;124m\"\u001b[39m, \u001b[38;5;124m\"\u001b[39m\u001b[38;5;124mDatasetDict\u001b[39m\u001b[38;5;124m\"\u001b[39m] \u001b[38;5;241m=\u001b[39m \u001b[43mfunc\u001b[49m\u001b[43m(\u001b[49m\u001b[38;5;28;43mself\u001b[39;49m\u001b[43m,\u001b[49m\u001b[43m \u001b[49m\u001b[38;5;241;43m*\u001b[39;49m\u001b[43margs\u001b[49m\u001b[43m,\u001b[49m\u001b[43m \u001b[49m\u001b[38;5;241;43m*\u001b[39;49m\u001b[38;5;241;43m*\u001b[39;49m\u001b[43mkwargs\u001b[49m\u001b[43m)\u001b[49m\n\u001b[1;32m    558\u001b[0m datasets: List[\u001b[38;5;124m\"\u001b[39m\u001b[38;5;124mDataset\u001b[39m\u001b[38;5;124m\"\u001b[39m] \u001b[38;5;241m=\u001b[39m \u001b[38;5;28mlist\u001b[39m(out\u001b[38;5;241m.\u001b[39mvalues()) \u001b[38;5;28;01mif\u001b[39;00m \u001b[38;5;28misinstance\u001b[39m(out, \u001b[38;5;28mdict\u001b[39m) \u001b[38;5;28;01melse\u001b[39;00m [out]\n\u001b[1;32m    559\u001b[0m \u001b[38;5;66;03m# re-apply format to the output\u001b[39;00m\n",
      "File \u001b[0;32m~/py39/lib/python3.9/site-packages/datasets/arrow_dataset.py:3093\u001b[0m, in \u001b[0;36mDataset.map\u001b[0;34m(self, function, with_indices, with_rank, input_columns, batched, batch_size, drop_last_batch, remove_columns, keep_in_memory, load_from_cache_file, cache_file_name, writer_batch_size, features, disable_nullable, fn_kwargs, num_proc, suffix_template, new_fingerprint, desc)\u001b[0m\n\u001b[1;32m   3087\u001b[0m \u001b[38;5;28;01mif\u001b[39;00m transformed_dataset \u001b[38;5;129;01mis\u001b[39;00m \u001b[38;5;28;01mNone\u001b[39;00m:\n\u001b[1;32m   3088\u001b[0m     \u001b[38;5;28;01mwith\u001b[39;00m hf_tqdm(\n\u001b[1;32m   3089\u001b[0m         unit\u001b[38;5;241m=\u001b[39m\u001b[38;5;124m\"\u001b[39m\u001b[38;5;124m examples\u001b[39m\u001b[38;5;124m\"\u001b[39m,\n\u001b[1;32m   3090\u001b[0m         total\u001b[38;5;241m=\u001b[39mpbar_total,\n\u001b[1;32m   3091\u001b[0m         desc\u001b[38;5;241m=\u001b[39mdesc \u001b[38;5;129;01mor\u001b[39;00m \u001b[38;5;124m\"\u001b[39m\u001b[38;5;124mMap\u001b[39m\u001b[38;5;124m\"\u001b[39m,\n\u001b[1;32m   3092\u001b[0m     ) \u001b[38;5;28;01mas\u001b[39;00m pbar:\n\u001b[0;32m-> 3093\u001b[0m         \u001b[38;5;28;01mfor\u001b[39;00m rank, done, content \u001b[38;5;129;01min\u001b[39;00m Dataset\u001b[38;5;241m.\u001b[39m_map_single(\u001b[38;5;241m*\u001b[39m\u001b[38;5;241m*\u001b[39mdataset_kwargs):\n\u001b[1;32m   3094\u001b[0m             \u001b[38;5;28;01mif\u001b[39;00m done:\n\u001b[1;32m   3095\u001b[0m                 shards_done \u001b[38;5;241m+\u001b[39m\u001b[38;5;241m=\u001b[39m \u001b[38;5;241m1\u001b[39m\n",
      "File \u001b[0;32m~/py39/lib/python3.9/site-packages/datasets/arrow_dataset.py:3489\u001b[0m, in \u001b[0;36mDataset._map_single\u001b[0;34m(shard, function, with_indices, with_rank, input_columns, batched, batch_size, drop_last_batch, remove_columns, keep_in_memory, cache_file_name, writer_batch_size, features, disable_nullable, fn_kwargs, new_fingerprint, rank, offset)\u001b[0m\n\u001b[1;32m   3487\u001b[0m         writer\u001b[38;5;241m.\u001b[39mwrite_table(pa\u001b[38;5;241m.\u001b[39mTable\u001b[38;5;241m.\u001b[39mfrom_pandas(batch))\n\u001b[1;32m   3488\u001b[0m     \u001b[38;5;28;01melse\u001b[39;00m:\n\u001b[0;32m-> 3489\u001b[0m         \u001b[43mwriter\u001b[49m\u001b[38;5;241;43m.\u001b[39;49m\u001b[43mwrite_batch\u001b[49m\u001b[43m(\u001b[49m\u001b[43mbatch\u001b[49m\u001b[43m)\u001b[49m\n\u001b[1;32m   3490\u001b[0m num_examples_progress_update \u001b[38;5;241m+\u001b[39m\u001b[38;5;241m=\u001b[39m num_examples_in_batch\n\u001b[1;32m   3491\u001b[0m \u001b[38;5;28;01mif\u001b[39;00m time\u001b[38;5;241m.\u001b[39mtime() \u001b[38;5;241m>\u001b[39m _time \u001b[38;5;241m+\u001b[39m config\u001b[38;5;241m.\u001b[39mPBAR_REFRESH_TIME_INTERVAL:\n",
      "File \u001b[0;32m~/py39/lib/python3.9/site-packages/datasets/arrow_writer.py:560\u001b[0m, in \u001b[0;36mArrowWriter.write_batch\u001b[0;34m(self, batch_examples, writer_batch_size)\u001b[0m\n\u001b[1;32m    558\u001b[0m         inferred_features[col] \u001b[38;5;241m=\u001b[39m typed_sequence\u001b[38;5;241m.\u001b[39mget_inferred_type()\n\u001b[1;32m    559\u001b[0m schema \u001b[38;5;241m=\u001b[39m inferred_features\u001b[38;5;241m.\u001b[39marrow_schema \u001b[38;5;28;01mif\u001b[39;00m \u001b[38;5;28mself\u001b[39m\u001b[38;5;241m.\u001b[39mpa_writer \u001b[38;5;129;01mis\u001b[39;00m \u001b[38;5;28;01mNone\u001b[39;00m \u001b[38;5;28;01melse\u001b[39;00m \u001b[38;5;28mself\u001b[39m\u001b[38;5;241m.\u001b[39mschema\n\u001b[0;32m--> 560\u001b[0m pa_table \u001b[38;5;241m=\u001b[39m \u001b[43mpa\u001b[49m\u001b[38;5;241;43m.\u001b[39;49m\u001b[43mTable\u001b[49m\u001b[38;5;241;43m.\u001b[39;49m\u001b[43mfrom_arrays\u001b[49m\u001b[43m(\u001b[49m\u001b[43marrays\u001b[49m\u001b[43m,\u001b[49m\u001b[43m \u001b[49m\u001b[43mschema\u001b[49m\u001b[38;5;241;43m=\u001b[39;49m\u001b[43mschema\u001b[49m\u001b[43m)\u001b[49m\n\u001b[1;32m    561\u001b[0m \u001b[38;5;28mself\u001b[39m\u001b[38;5;241m.\u001b[39mwrite_table(pa_table, writer_batch_size)\n",
      "File \u001b[0;32m~/py39/lib/python3.9/site-packages/pyarrow/table.pxi:3986\u001b[0m, in \u001b[0;36mpyarrow.lib.Table.from_arrays\u001b[0;34m()\u001b[0m\n",
      "File \u001b[0;32m~/py39/lib/python3.9/site-packages/pyarrow/table.pxi:3266\u001b[0m, in \u001b[0;36mpyarrow.lib.Table.validate\u001b[0;34m()\u001b[0m\n",
      "File \u001b[0;32m~/py39/lib/python3.9/site-packages/pyarrow/error.pxi:91\u001b[0m, in \u001b[0;36mpyarrow.lib.check_status\u001b[0;34m()\u001b[0m\n",
      "\u001b[0;31mArrowInvalid\u001b[0m: Column 8 named input_ids expected length 1000 but got length 1463"
     ]
    }
   ],
   "source": [
    "tokenized_dataset = drug_dataset.map(tokenize_and_split, batched=True)"
   ]
  },
  {
   "cell_type": "code",
   "execution_count": 76,
   "id": "455e7c39",
   "metadata": {},
   "outputs": [
    {
     "data": {
      "text/plain": [
       "DatasetDict({\n",
       "    train: Dataset({\n",
       "        features: ['patient_id', 'drugName', 'condition', 'review', 'rating', 'date', 'usefulCount', 'review_length'],\n",
       "        num_rows: 138514\n",
       "    })\n",
       "    test: Dataset({\n",
       "        features: ['patient_id', 'drugName', 'condition', 'review', 'rating', 'date', 'usefulCount', 'review_length'],\n",
       "        num_rows: 46108\n",
       "    })\n",
       "})"
      ]
     },
     "execution_count": 76,
     "metadata": {},
     "output_type": "execute_result"
    }
   ],
   "source": [
    "drug_dataset"
   ]
  },
  {
   "cell_type": "code",
   "execution_count": 77,
   "id": "39cd4e44",
   "metadata": {},
   "outputs": [
    {
     "data": {
      "text/plain": [
       "DatasetDict({\n",
       "    train: Dataset({\n",
       "        features: ['input_ids', 'token_type_ids', 'attention_mask', 'overflow_to_sample_mapping'],\n",
       "        num_rows: 206772\n",
       "    })\n",
       "    test: Dataset({\n",
       "        features: ['input_ids', 'token_type_ids', 'attention_mask', 'overflow_to_sample_mapping'],\n",
       "        num_rows: 68876\n",
       "    })\n",
       "})"
      ]
     },
     "execution_count": 77,
     "metadata": {},
     "output_type": "execute_result"
    }
   ],
   "source": [
    "tokenized_dataset = drug_dataset.map(\n",
    "    tokenize_and_split, batched=True, remove_columns=drug_dataset[\"train\"].column_names\n",
    ")\n",
    "tokenized_dataset"
   ]
  },
  {
   "cell_type": "code",
   "execution_count": 78,
   "id": "e397d7a9",
   "metadata": {},
   "outputs": [
    {
     "name": "stdout",
     "output_type": "stream",
     "text": [
      "206772 138514\n",
      "68258\n"
     ]
    }
   ],
   "source": [
    "print(len(tokenized_dataset[\"train\"]), len(drug_dataset[\"train\"]))\n",
    "print(len(tokenized_dataset[\"train\"])-len(drug_dataset[\"train\"]))"
   ]
  },
  {
   "cell_type": "code",
   "execution_count": 90,
   "id": "35dbd53e",
   "metadata": {},
   "outputs": [],
   "source": [
    "def tokenize_and_split(examples):\n",
    "    result = tokenizer(\n",
    "        examples[\"review\"],\n",
    "        truncation=True,\n",
    "        max_length=128,\n",
    "        return_overflowing_tokens=True,\n",
    "    )\n",
    "    # Extract mapping between new and old indices\n",
    "    sample_map = result.pop(\"overflow_to_sample_mapping\")\n",
    "    #print(result)\n",
    "    #print(sample_map)\n",
    "    for key, values in examples.items():\n",
    "        result[key] = [values[i] for i in sample_map]\n",
    "    return result\n",
    "\n"
   ]
  },
  {
   "cell_type": "code",
   "execution_count": 91,
   "id": "d2a89648",
   "metadata": {},
   "outputs": [],
   "source": [
    "#print(drug_dataset[\"train\"][0])#\n",
    "#result = tokenize_and_split(drug_dataset[\"train\"][0])\n",
    "#print(result)\n",
    "#[len(inp) for inp in result[\"input_ids\"]]"
   ]
  },
  {
   "cell_type": "code",
   "execution_count": 108,
   "id": "3fd0d6e2",
   "metadata": {},
   "outputs": [
    {
     "data": {
      "application/vnd.jupyter.widget-view+json": {
       "model_id": "7c34084315414d3fad738f8c78da500a",
       "version_major": 2,
       "version_minor": 0
      },
      "text/plain": [
       "Map:   0%|          | 0/138514 [00:00<?, ? examples/s]"
      ]
     },
     "metadata": {},
     "output_type": "display_data"
    },
    {
     "data": {
      "application/vnd.jupyter.widget-view+json": {
       "model_id": "509a1f7bd64b45e198cc3cfe71affe02",
       "version_major": 2,
       "version_minor": 0
      },
      "text/plain": [
       "Map:   0%|          | 0/46108 [00:00<?, ? examples/s]"
      ]
     },
     "metadata": {},
     "output_type": "display_data"
    },
    {
     "data": {
      "text/plain": [
       "DatasetDict({\n",
       "    train: Dataset({\n",
       "        features: ['patient_id', 'drugName', 'condition', 'review', 'rating', 'date', 'usefulCount', 'review_length', 'input_ids', 'token_type_ids', 'attention_mask'],\n",
       "        num_rows: 206772\n",
       "    })\n",
       "    test: Dataset({\n",
       "        features: ['patient_id', 'drugName', 'condition', 'review', 'rating', 'date', 'usefulCount', 'review_length', 'input_ids', 'token_type_ids', 'attention_mask'],\n",
       "        num_rows: 68876\n",
       "    })\n",
       "})"
      ]
     },
     "execution_count": 108,
     "metadata": {},
     "output_type": "execute_result"
    }
   ],
   "source": [
    "tokenized_dataset = drug_dataset.map(tokenize_and_split, batched=True)\n",
    "tokenized_dataset"
   ]
  },
  {
   "cell_type": "code",
   "execution_count": null,
   "id": "ecdfc3ec",
   "metadata": {},
   "outputs": [],
   "source": [
    "#def compute_review_length(example):\n",
    "#    return {\"review_length\": len(example[\"review\"].split())} #Counts number of words\n",
    "\n",
    "#drug_dataset = drug_dataset.map(compute_review_length)"
   ]
  },
  {
   "cell_type": "code",
   "execution_count": 111,
   "id": "01d2f377",
   "metadata": {},
   "outputs": [
    {
     "data": {
      "application/vnd.jupyter.widget-view+json": {
       "model_id": "960ce119db474178b3b351ea155ea485",
       "version_major": 2,
       "version_minor": 0
      },
      "text/plain": [
       "Map:   0%|          | 0/206772 [00:00<?, ? examples/s]"
      ]
     },
     "metadata": {},
     "output_type": "display_data"
    },
    {
     "data": {
      "application/vnd.jupyter.widget-view+json": {
       "model_id": "0b29ac8c08da4923899baefb0b85edf1",
       "version_major": 2,
       "version_minor": 0
      },
      "text/plain": [
       "Map:   0%|          | 0/68876 [00:00<?, ? examples/s]"
      ]
     },
     "metadata": {},
     "output_type": "display_data"
    }
   ],
   "source": [
    "def input_id_length(example):\n",
    "    return {\"input_ids_length\": len(example['input_ids'])}\n",
    "\n",
    "tkd2 = tokenized_dataset.map(input_id_length)"
   ]
  },
  {
   "cell_type": "code",
   "execution_count": 112,
   "id": "35edfecb",
   "metadata": {},
   "outputs": [
    {
     "data": {
      "text/plain": [
       "DatasetDict({\n",
       "    train: Dataset({\n",
       "        features: ['patient_id', 'drugName', 'condition', 'review', 'rating', 'date', 'usefulCount', 'review_length', 'input_ids', 'token_type_ids', 'attention_mask', 'input_ids_length'],\n",
       "        num_rows: 206772\n",
       "    })\n",
       "    test: Dataset({\n",
       "        features: ['patient_id', 'drugName', 'condition', 'review', 'rating', 'date', 'usefulCount', 'review_length', 'input_ids', 'token_type_ids', 'attention_mask', 'input_ids_length'],\n",
       "        num_rows: 68876\n",
       "    })\n",
       "})"
      ]
     },
     "execution_count": 112,
     "metadata": {},
     "output_type": "execute_result"
    }
   ],
   "source": [
    "tkd2"
   ]
  },
  {
   "cell_type": "markdown",
   "id": "4350951a",
   "metadata": {},
   "source": [
    "<h2>From Datasets to DataFrames and back</h2>"
   ]
  },
  {
   "cell_type": "code",
   "execution_count": 93,
   "id": "ce14f2ee",
   "metadata": {},
   "outputs": [
    {
     "data": {
      "text/html": [
       "<div>\n",
       "<style scoped>\n",
       "    .dataframe tbody tr th:only-of-type {\n",
       "        vertical-align: middle;\n",
       "    }\n",
       "\n",
       "    .dataframe tbody tr th {\n",
       "        vertical-align: top;\n",
       "    }\n",
       "\n",
       "    .dataframe thead th {\n",
       "        text-align: right;\n",
       "    }\n",
       "</style>\n",
       "<table border=\"1\" class=\"dataframe\">\n",
       "  <thead>\n",
       "    <tr style=\"text-align: right;\">\n",
       "      <th></th>\n",
       "      <th>patient_id</th>\n",
       "      <th>drugName</th>\n",
       "      <th>condition</th>\n",
       "      <th>review</th>\n",
       "      <th>rating</th>\n",
       "      <th>date</th>\n",
       "      <th>usefulCount</th>\n",
       "      <th>review_length</th>\n",
       "    </tr>\n",
       "  </thead>\n",
       "  <tbody>\n",
       "    <tr>\n",
       "      <th>0</th>\n",
       "      <td>95260</td>\n",
       "      <td>Guanfacine</td>\n",
       "      <td>adhd</td>\n",
       "      <td>\"My son is halfway through his fourth week of ...</td>\n",
       "      <td>8.0</td>\n",
       "      <td>April 27, 2010</td>\n",
       "      <td>192</td>\n",
       "      <td>141</td>\n",
       "    </tr>\n",
       "    <tr>\n",
       "      <th>1</th>\n",
       "      <td>92703</td>\n",
       "      <td>Lybrel</td>\n",
       "      <td>birth control</td>\n",
       "      <td>\"I used to take another oral contraceptive, wh...</td>\n",
       "      <td>5.0</td>\n",
       "      <td>December 14, 2009</td>\n",
       "      <td>17</td>\n",
       "      <td>134</td>\n",
       "    </tr>\n",
       "    <tr>\n",
       "      <th>2</th>\n",
       "      <td>138000</td>\n",
       "      <td>Ortho Evra</td>\n",
       "      <td>birth control</td>\n",
       "      <td>\"This is my first time using any form of birth...</td>\n",
       "      <td>8.0</td>\n",
       "      <td>November 3, 2015</td>\n",
       "      <td>10</td>\n",
       "      <td>89</td>\n",
       "    </tr>\n",
       "  </tbody>\n",
       "</table>\n",
       "</div>"
      ],
      "text/plain": [
       "   patient_id    drugName      condition  \\\n",
       "0       95260  Guanfacine           adhd   \n",
       "1       92703      Lybrel  birth control   \n",
       "2      138000  Ortho Evra  birth control   \n",
       "\n",
       "                                              review  rating  \\\n",
       "0  \"My son is halfway through his fourth week of ...     8.0   \n",
       "1  \"I used to take another oral contraceptive, wh...     5.0   \n",
       "2  \"This is my first time using any form of birth...     8.0   \n",
       "\n",
       "                date  usefulCount  review_length  \n",
       "0     April 27, 2010          192            141  \n",
       "1  December 14, 2009           17            134  \n",
       "2   November 3, 2015           10             89  "
      ]
     },
     "execution_count": 93,
     "metadata": {},
     "output_type": "execute_result"
    }
   ],
   "source": [
    "drug_dataset.set_format(\"pandas\")\n",
    "drug_dataset[\"train\"][:3]"
   ]
  },
  {
   "cell_type": "code",
   "execution_count": 113,
   "id": "580810eb",
   "metadata": {},
   "outputs": [
    {
     "data": {
      "text/html": [
       "<div>\n",
       "<style scoped>\n",
       "    .dataframe tbody tr th:only-of-type {\n",
       "        vertical-align: middle;\n",
       "    }\n",
       "\n",
       "    .dataframe tbody tr th {\n",
       "        vertical-align: top;\n",
       "    }\n",
       "\n",
       "    .dataframe thead th {\n",
       "        text-align: right;\n",
       "    }\n",
       "</style>\n",
       "<table border=\"1\" class=\"dataframe\">\n",
       "  <thead>\n",
       "    <tr style=\"text-align: right;\">\n",
       "      <th></th>\n",
       "      <th>patient_id</th>\n",
       "      <th>drugName</th>\n",
       "      <th>condition</th>\n",
       "      <th>review</th>\n",
       "      <th>rating</th>\n",
       "      <th>date</th>\n",
       "      <th>usefulCount</th>\n",
       "      <th>review_length</th>\n",
       "      <th>input_ids</th>\n",
       "      <th>token_type_ids</th>\n",
       "      <th>attention_mask</th>\n",
       "      <th>input_ids_length</th>\n",
       "    </tr>\n",
       "  </thead>\n",
       "  <tbody>\n",
       "    <tr>\n",
       "      <th>0</th>\n",
       "      <td>95260</td>\n",
       "      <td>Guanfacine</td>\n",
       "      <td>adhd</td>\n",
       "      <td>\"My son is halfway through his fourth week of ...</td>\n",
       "      <td>8.0</td>\n",
       "      <td>April 27, 2010</td>\n",
       "      <td>192</td>\n",
       "      <td>141</td>\n",
       "      <td>[101, 107, 1422, 1488, 1110, 9079, 1194, 1117,...</td>\n",
       "      <td>[0, 0, 0, 0, 0, 0, 0, 0, 0, 0, 0, 0, 0, 0, 0, ...</td>\n",
       "      <td>[1, 1, 1, 1, 1, 1, 1, 1, 1, 1, 1, 1, 1, 1, 1, ...</td>\n",
       "      <td>128</td>\n",
       "    </tr>\n",
       "    <tr>\n",
       "      <th>1</th>\n",
       "      <td>95260</td>\n",
       "      <td>Guanfacine</td>\n",
       "      <td>adhd</td>\n",
       "      <td>\"My son is halfway through his fourth week of ...</td>\n",
       "      <td>8.0</td>\n",
       "      <td>April 27, 2010</td>\n",
       "      <td>192</td>\n",
       "      <td>141</td>\n",
       "      <td>[101, 119, 1124, 1110, 1750, 6438, 113, 170, 1...</td>\n",
       "      <td>[0, 0, 0, 0, 0, 0, 0, 0, 0, 0, 0, 0, 0, 0, 0, ...</td>\n",
       "      <td>[1, 1, 1, 1, 1, 1, 1, 1, 1, 1, 1, 1, 1, 1, 1, ...</td>\n",
       "      <td>49</td>\n",
       "    </tr>\n",
       "    <tr>\n",
       "      <th>2</th>\n",
       "      <td>92703</td>\n",
       "      <td>Lybrel</td>\n",
       "      <td>birth control</td>\n",
       "      <td>\"I used to take another oral contraceptive, wh...</td>\n",
       "      <td>5.0</td>\n",
       "      <td>December 14, 2009</td>\n",
       "      <td>17</td>\n",
       "      <td>134</td>\n",
       "      <td>[101, 107, 146, 1215, 1106, 1321, 1330, 9619, ...</td>\n",
       "      <td>[0, 0, 0, 0, 0, 0, 0, 0, 0, 0, 0, 0, 0, 0, 0, ...</td>\n",
       "      <td>[1, 1, 1, 1, 1, 1, 1, 1, 1, 1, 1, 1, 1, 1, 1, ...</td>\n",
       "      <td>128</td>\n",
       "    </tr>\n",
       "  </tbody>\n",
       "</table>\n",
       "</div>"
      ],
      "text/plain": [
       "   patient_id    drugName      condition  \\\n",
       "0       95260  Guanfacine           adhd   \n",
       "1       95260  Guanfacine           adhd   \n",
       "2       92703      Lybrel  birth control   \n",
       "\n",
       "                                              review  rating  \\\n",
       "0  \"My son is halfway through his fourth week of ...     8.0   \n",
       "1  \"My son is halfway through his fourth week of ...     8.0   \n",
       "2  \"I used to take another oral contraceptive, wh...     5.0   \n",
       "\n",
       "                date  usefulCount  review_length  \\\n",
       "0     April 27, 2010          192            141   \n",
       "1     April 27, 2010          192            141   \n",
       "2  December 14, 2009           17            134   \n",
       "\n",
       "                                           input_ids  \\\n",
       "0  [101, 107, 1422, 1488, 1110, 9079, 1194, 1117,...   \n",
       "1  [101, 119, 1124, 1110, 1750, 6438, 113, 170, 1...   \n",
       "2  [101, 107, 146, 1215, 1106, 1321, 1330, 9619, ...   \n",
       "\n",
       "                                      token_type_ids  \\\n",
       "0  [0, 0, 0, 0, 0, 0, 0, 0, 0, 0, 0, 0, 0, 0, 0, ...   \n",
       "1  [0, 0, 0, 0, 0, 0, 0, 0, 0, 0, 0, 0, 0, 0, 0, ...   \n",
       "2  [0, 0, 0, 0, 0, 0, 0, 0, 0, 0, 0, 0, 0, 0, 0, ...   \n",
       "\n",
       "                                      attention_mask  input_ids_length  \n",
       "0  [1, 1, 1, 1, 1, 1, 1, 1, 1, 1, 1, 1, 1, 1, 1, ...               128  \n",
       "1  [1, 1, 1, 1, 1, 1, 1, 1, 1, 1, 1, 1, 1, 1, 1, ...                49  \n",
       "2  [1, 1, 1, 1, 1, 1, 1, 1, 1, 1, 1, 1, 1, 1, 1, ...               128  "
      ]
     },
     "execution_count": 113,
     "metadata": {},
     "output_type": "execute_result"
    }
   ],
   "source": [
    "tkd2.set_format(\"pandas\")\n",
    "tkd2[\"train\"][:3]"
   ]
  },
  {
   "cell_type": "code",
   "execution_count": 101,
   "id": "b1c80ca7",
   "metadata": {},
   "outputs": [],
   "source": [
    "#pandas.DataFrame for the whole training set\n",
    "train_df = drug_dataset[\"train\"][:]"
   ]
  },
  {
   "cell_type": "code",
   "execution_count": 106,
   "id": "1f7e7ea1",
   "metadata": {},
   "outputs": [
    {
     "data": {
      "text/html": [
       "<div>\n",
       "<style scoped>\n",
       "    .dataframe tbody tr th:only-of-type {\n",
       "        vertical-align: middle;\n",
       "    }\n",
       "\n",
       "    .dataframe tbody tr th {\n",
       "        vertical-align: top;\n",
       "    }\n",
       "\n",
       "    .dataframe thead th {\n",
       "        text-align: right;\n",
       "    }\n",
       "</style>\n",
       "<table border=\"1\" class=\"dataframe\">\n",
       "  <thead>\n",
       "    <tr style=\"text-align: right;\">\n",
       "      <th></th>\n",
       "      <th>frequency</th>\n",
       "      <th>count</th>\n",
       "    </tr>\n",
       "  </thead>\n",
       "  <tbody>\n",
       "    <tr>\n",
       "      <th>0</th>\n",
       "      <td>birth control</td>\n",
       "      <td>27655</td>\n",
       "    </tr>\n",
       "    <tr>\n",
       "      <th>1</th>\n",
       "      <td>depression</td>\n",
       "      <td>8023</td>\n",
       "    </tr>\n",
       "    <tr>\n",
       "      <th>2</th>\n",
       "      <td>acne</td>\n",
       "      <td>5209</td>\n",
       "    </tr>\n",
       "    <tr>\n",
       "      <th>3</th>\n",
       "      <td>anxiety</td>\n",
       "      <td>4991</td>\n",
       "    </tr>\n",
       "    <tr>\n",
       "      <th>4</th>\n",
       "      <td>pain</td>\n",
       "      <td>4744</td>\n",
       "    </tr>\n",
       "    <tr>\n",
       "      <th>...</th>\n",
       "      <td>...</td>\n",
       "      <td>...</td>\n",
       "    </tr>\n",
       "    <tr>\n",
       "      <th>814</th>\n",
       "      <td>parkinsonian trem</td>\n",
       "      <td>1</td>\n",
       "    </tr>\n",
       "    <tr>\n",
       "      <th>815</th>\n",
       "      <td>rabies prophylaxis</td>\n",
       "      <td>1</td>\n",
       "    </tr>\n",
       "    <tr>\n",
       "      <th>816</th>\n",
       "      <td>cerebral spasticity</td>\n",
       "      <td>1</td>\n",
       "    </tr>\n",
       "    <tr>\n",
       "      <th>817</th>\n",
       "      <td>myelofibrosis</td>\n",
       "      <td>1</td>\n",
       "    </tr>\n",
       "    <tr>\n",
       "      <th>818</th>\n",
       "      <td>neutropenia</td>\n",
       "      <td>1</td>\n",
       "    </tr>\n",
       "  </tbody>\n",
       "</table>\n",
       "<p>819 rows × 2 columns</p>\n",
       "</div>"
      ],
      "text/plain": [
       "               frequency  count\n",
       "0          birth control  27655\n",
       "1             depression   8023\n",
       "2                   acne   5209\n",
       "3                anxiety   4991\n",
       "4                   pain   4744\n",
       "..                   ...    ...\n",
       "814    parkinsonian trem      1\n",
       "815   rabies prophylaxis      1\n",
       "816  cerebral spasticity      1\n",
       "817        myelofibrosis      1\n",
       "818          neutropenia      1\n",
       "\n",
       "[819 rows x 2 columns]"
      ]
     },
     "execution_count": 106,
     "metadata": {},
     "output_type": "execute_result"
    }
   ],
   "source": [
    "frequencies = (\n",
    "    train_df[\"condition\"]\n",
    "    .value_counts()\n",
    "    .to_frame()\n",
    "    .reset_index()\n",
    "    .rename(columns={\"index\": \"condition\", \"condition\": \"frequency\"})\n",
    ")\n",
    "frequencies"
   ]
  },
  {
   "cell_type": "code",
   "execution_count": 103,
   "id": "11a87944",
   "metadata": {},
   "outputs": [
    {
     "data": {
      "text/plain": [
       "Dataset({\n",
       "    features: ['frequency', 'count'],\n",
       "    num_rows: 819\n",
       "})"
      ]
     },
     "execution_count": 103,
     "metadata": {},
     "output_type": "execute_result"
    }
   ],
   "source": [
    "from datasets import Dataset\n",
    "\n",
    "freq_dataset = Dataset.from_pandas(frequencies)\n",
    "freq_dataset"
   ]
  },
  {
   "cell_type": "code",
   "execution_count": 107,
   "id": "436adeea",
   "metadata": {},
   "outputs": [],
   "source": [
    "drug_dataset.reset_format()"
   ]
  },
  {
   "cell_type": "markdown",
   "id": "8188c5ff",
   "metadata": {},
   "source": [
    "<h2> Creating a validation set</h2>"
   ]
  },
  {
   "cell_type": "code",
   "execution_count": 114,
   "id": "0d19c8ba",
   "metadata": {},
   "outputs": [
    {
     "data": {
      "text/plain": [
       "DatasetDict({\n",
       "    train: Dataset({\n",
       "        features: ['patient_id', 'drugName', 'condition', 'review', 'rating', 'date', 'usefulCount', 'review_length'],\n",
       "        num_rows: 110811\n",
       "    })\n",
       "    validation: Dataset({\n",
       "        features: ['patient_id', 'drugName', 'condition', 'review', 'rating', 'date', 'usefulCount', 'review_length'],\n",
       "        num_rows: 27703\n",
       "    })\n",
       "    test: Dataset({\n",
       "        features: ['patient_id', 'drugName', 'condition', 'review', 'rating', 'date', 'usefulCount', 'review_length'],\n",
       "        num_rows: 46108\n",
       "    })\n",
       "})"
      ]
     },
     "execution_count": 114,
     "metadata": {},
     "output_type": "execute_result"
    }
   ],
   "source": [
    "drug_dataset_clean = drug_dataset[\"train\"].train_test_split(train_size=0.8, seed=42)\n",
    "# Rename the default \"test\" split to \"validation\"\n",
    "drug_dataset_clean[\"validation\"] = drug_dataset_clean.pop(\"test\")\n",
    "# Add the \"test\" set to our `DatasetDict`\n",
    "drug_dataset_clean[\"test\"] = drug_dataset[\"test\"]\n",
    "drug_dataset_clean"
   ]
  },
  {
   "cell_type": "markdown",
   "id": "69de62fe",
   "metadata": {},
   "source": [
    "<h2>Saving a dataset</h2>"
   ]
  },
  {
   "cell_type": "code",
   "execution_count": 115,
   "id": "8bd82560",
   "metadata": {},
   "outputs": [
    {
     "data": {
      "application/vnd.jupyter.widget-view+json": {
       "model_id": "c79b816c837f487bafaf01ec140a4f4a",
       "version_major": 2,
       "version_minor": 0
      },
      "text/plain": [
       "Saving the dataset (0/1 shards):   0%|          | 0/110811 [00:00<?, ? examples/s]"
      ]
     },
     "metadata": {},
     "output_type": "display_data"
    },
    {
     "data": {
      "application/vnd.jupyter.widget-view+json": {
       "model_id": "efceeae6cf1249c798259bc8ba34f58a",
       "version_major": 2,
       "version_minor": 0
      },
      "text/plain": [
       "Saving the dataset (0/1 shards):   0%|          | 0/27703 [00:00<?, ? examples/s]"
      ]
     },
     "metadata": {},
     "output_type": "display_data"
    },
    {
     "data": {
      "application/vnd.jupyter.widget-view+json": {
       "model_id": "3609e0cde19e45faa74afa0686ccc46e",
       "version_major": 2,
       "version_minor": 0
      },
      "text/plain": [
       "Saving the dataset (0/1 shards):   0%|          | 0/46108 [00:00<?, ? examples/s]"
      ]
     },
     "metadata": {},
     "output_type": "display_data"
    }
   ],
   "source": [
    "drug_dataset_clean.save_to_disk(\"drug-reviews\")"
   ]
  },
  {
   "cell_type": "code",
   "execution_count": 116,
   "id": "e259e075",
   "metadata": {},
   "outputs": [
    {
     "data": {
      "text/plain": [
       "DatasetDict({\n",
       "    train: Dataset({\n",
       "        features: ['patient_id', 'drugName', 'condition', 'review', 'rating', 'date', 'usefulCount', 'review_length'],\n",
       "        num_rows: 110811\n",
       "    })\n",
       "    validation: Dataset({\n",
       "        features: ['patient_id', 'drugName', 'condition', 'review', 'rating', 'date', 'usefulCount', 'review_length'],\n",
       "        num_rows: 27703\n",
       "    })\n",
       "    test: Dataset({\n",
       "        features: ['patient_id', 'drugName', 'condition', 'review', 'rating', 'date', 'usefulCount', 'review_length'],\n",
       "        num_rows: 46108\n",
       "    })\n",
       "})"
      ]
     },
     "execution_count": 116,
     "metadata": {},
     "output_type": "execute_result"
    }
   ],
   "source": [
    "from datasets import load_from_disk\n",
    "\n",
    "drug_dataset_reloaded = load_from_disk(\"drug-reviews\")\n",
    "drug_dataset_reloaded"
   ]
  },
  {
   "cell_type": "code",
   "execution_count": 117,
   "id": "62949013",
   "metadata": {},
   "outputs": [
    {
     "data": {
      "application/vnd.jupyter.widget-view+json": {
       "model_id": "a9fbf1bfd71b4dc59d8a5ed33fc4e533",
       "version_major": 2,
       "version_minor": 0
      },
      "text/plain": [
       "Creating json from Arrow format:   0%|          | 0/111 [00:00<?, ?ba/s]"
      ]
     },
     "metadata": {},
     "output_type": "display_data"
    },
    {
     "data": {
      "application/vnd.jupyter.widget-view+json": {
       "model_id": "8cf953d026924dcf83c3b4154410b1ce",
       "version_major": 2,
       "version_minor": 0
      },
      "text/plain": [
       "Creating json from Arrow format:   0%|          | 0/28 [00:00<?, ?ba/s]"
      ]
     },
     "metadata": {},
     "output_type": "display_data"
    },
    {
     "data": {
      "application/vnd.jupyter.widget-view+json": {
       "model_id": "3cc1905ca19f4592824b027ce1cb4771",
       "version_major": 2,
       "version_minor": 0
      },
      "text/plain": [
       "Creating json from Arrow format:   0%|          | 0/47 [00:00<?, ?ba/s]"
      ]
     },
     "metadata": {},
     "output_type": "display_data"
    }
   ],
   "source": [
    "#JSON Format\n",
    "\n",
    "for split, dataset in drug_dataset_clean.items():\n",
    "    dataset.to_json(f\"drug-reviews-{split}.jsonl\")"
   ]
  },
  {
   "cell_type": "code",
   "execution_count": 118,
   "id": "994b1269",
   "metadata": {},
   "outputs": [
    {
     "name": "stdout",
     "output_type": "stream",
     "text": [
      "{\"patient_id\":89879,\"drugName\":\"Cyclosporine\",\"condition\":\"keratoconjunctivitis sicca\",\"review\":\"\\\"I have used Restasis for about a year now and have seen almost no progress.  For most of my life I've had red and bothersome eyes. After trying various eye drops, my doctor recommended Restasis.  He said it typically takes 3 to 6 months for it to really kick in but it never did kick in.  When I put the drops in it burns my eyes for the first 30 - 40 minutes.  I've talked with my doctor about this and he said it is normal but should go away after some time, but it hasn't. Every year around spring time my eyes get terrible irritated  and this year has been the same (maybe even worse than other years) even though I've been using Restasis for a year now. The only difference I notice was for the first couple weeks, but now I'm ready to move on.\\\"\",\"rating\":2.0,\"date\":\"April 20, 2013\",\"usefulCount\":69,\"review_length\":147}\r\n"
     ]
    },
    {
     "name": "stderr",
     "output_type": "stream",
     "text": [
      "huggingface/tokenizers: The current process just got forked, after parallelism has already been used. Disabling parallelism to avoid deadlocks...\n",
      "To disable this warning, you can either:\n",
      "\t- Avoid using `tokenizers` before the fork if possible\n",
      "\t- Explicitly set the environment variable TOKENIZERS_PARALLELISM=(true | false)\n"
     ]
    }
   ],
   "source": [
    "!head -n 1 drug-reviews-train.jsonl"
   ]
  },
  {
   "cell_type": "code",
   "execution_count": 119,
   "id": "582f8e3a",
   "metadata": {},
   "outputs": [
    {
     "data": {
      "application/vnd.jupyter.widget-view+json": {
       "model_id": "cb2bce0b92634c59bd39939c5a28dd2d",
       "version_major": 2,
       "version_minor": 0
      },
      "text/plain": [
       "Generating train split: 0 examples [00:00, ? examples/s]"
      ]
     },
     "metadata": {},
     "output_type": "display_data"
    },
    {
     "data": {
      "application/vnd.jupyter.widget-view+json": {
       "model_id": "2e455b6b2b2c4056b3310df7092d4821",
       "version_major": 2,
       "version_minor": 0
      },
      "text/plain": [
       "Generating validation split: 0 examples [00:00, ? examples/s]"
      ]
     },
     "metadata": {},
     "output_type": "display_data"
    },
    {
     "data": {
      "application/vnd.jupyter.widget-view+json": {
       "model_id": "892e8cdcf983470092fa54f063fb3e8e",
       "version_major": 2,
       "version_minor": 0
      },
      "text/plain": [
       "Generating test split: 0 examples [00:00, ? examples/s]"
      ]
     },
     "metadata": {},
     "output_type": "display_data"
    }
   ],
   "source": [
    "data_files = {\n",
    "    \"train\": \"drug-reviews-train.jsonl\",\n",
    "    \"validation\": \"drug-reviews-validation.jsonl\",\n",
    "    \"test\": \"drug-reviews-test.jsonl\",\n",
    "}\n",
    "drug_dataset_reloaded = load_dataset(\"json\", data_files=data_files)"
   ]
  },
  {
   "cell_type": "code",
   "execution_count": 120,
   "id": "3bf1553b",
   "metadata": {},
   "outputs": [
    {
     "data": {
      "text/plain": [
       "DatasetDict({\n",
       "    train: Dataset({\n",
       "        features: ['patient_id', 'drugName', 'condition', 'review', 'rating', 'date', 'usefulCount', 'review_length'],\n",
       "        num_rows: 110811\n",
       "    })\n",
       "    validation: Dataset({\n",
       "        features: ['patient_id', 'drugName', 'condition', 'review', 'rating', 'date', 'usefulCount', 'review_length'],\n",
       "        num_rows: 27703\n",
       "    })\n",
       "    test: Dataset({\n",
       "        features: ['patient_id', 'drugName', 'condition', 'review', 'rating', 'date', 'usefulCount', 'review_length'],\n",
       "        num_rows: 46108\n",
       "    })\n",
       "})"
      ]
     },
     "execution_count": 120,
     "metadata": {},
     "output_type": "execute_result"
    }
   ],
   "source": [
    "drug_dataset_reloaded"
   ]
  },
  {
   "cell_type": "markdown",
   "id": "bbf8395d",
   "metadata": {},
   "source": [
    "<h1>Big data? 🤗 Datasets to the rescue!</h1>"
   ]
  },
  {
   "cell_type": "code",
   "execution_count": 121,
   "id": "25caf51b",
   "metadata": {},
   "outputs": [
    {
     "name": "stderr",
     "output_type": "stream",
     "text": [
      "huggingface/tokenizers: The current process just got forked, after parallelism has already been used. Disabling parallelism to avoid deadlocks...\n",
      "To disable this warning, you can either:\n",
      "\t- Avoid using `tokenizers` before the fork if possible\n",
      "\t- Explicitly set the environment variable TOKENIZERS_PARALLELISM=(true | false)\n"
     ]
    },
    {
     "name": "stdout",
     "output_type": "stream",
     "text": [
      "Collecting zstandard\n",
      "  Downloading zstandard-0.22.0-cp310-cp310-manylinux_2_17_x86_64.manylinux2014_x86_64.whl.metadata (2.9 kB)\n",
      "Downloading zstandard-0.22.0-cp310-cp310-manylinux_2_17_x86_64.manylinux2014_x86_64.whl (5.4 MB)\n",
      "\u001b[2K   \u001b[38;2;114;156;31m━━━━━━━━━━━━━━━━━━━━━━━━━━━━━━━━━━━━━━━━\u001b[0m \u001b[32m5.4/5.4 MB\u001b[0m \u001b[31m8.4 MB/s\u001b[0m eta \u001b[36m0:00:00\u001b[0m[31m8.6 MB/s\u001b[0m eta \u001b[36m0:00:01\u001b[0m\n",
      "\u001b[?25hInstalling collected packages: zstandard\n",
      "Successfully installed zstandard-0.22.0\n"
     ]
    }
   ],
   "source": [
    "!pip install zstandard"
   ]
  },
  {
   "cell_type": "code",
   "execution_count": 123,
   "id": "c97a4835",
   "metadata": {},
   "outputs": [
    {
     "ename": "FileNotFoundError",
     "evalue": "Unable to find 'https://mystic.the-eye.eu/public/AI/pile_preliminary_components/PUBMED_title_abstracts_2019_baseline.jsonl.zst'",
     "output_type": "error",
     "traceback": [
      "\u001b[0;31m---------------------------------------------------------------------------\u001b[0m",
      "\u001b[0;31mFileNotFoundError\u001b[0m                         Traceback (most recent call last)",
      "Cell \u001b[0;32mIn[123], line 5\u001b[0m\n\u001b[1;32m      3\u001b[0m \u001b[38;5;66;03m# This takes a few minutes to run, so go grab a tea or coffee while you wait :)\u001b[39;00m\n\u001b[1;32m      4\u001b[0m data_files \u001b[38;5;241m=\u001b[39m \u001b[38;5;124m\"\u001b[39m\u001b[38;5;124mhttps://mystic.the-eye.eu/public/AI/pile_preliminary_components/PUBMED_title_abstracts_2019_baseline.jsonl.zst\u001b[39m\u001b[38;5;124m\"\u001b[39m\n\u001b[0;32m----> 5\u001b[0m pubmed_dataset \u001b[38;5;241m=\u001b[39m \u001b[43mload_dataset\u001b[49m\u001b[43m(\u001b[49m\u001b[38;5;124;43m\"\u001b[39;49m\u001b[38;5;124;43mjson\u001b[39;49m\u001b[38;5;124;43m\"\u001b[39;49m\u001b[43m,\u001b[49m\u001b[43m \u001b[49m\u001b[43mdata_files\u001b[49m\u001b[38;5;241;43m=\u001b[39;49m\u001b[43mdata_files\u001b[49m\u001b[43m,\u001b[49m\u001b[43m \u001b[49m\u001b[43msplit\u001b[49m\u001b[38;5;241;43m=\u001b[39;49m\u001b[38;5;124;43m\"\u001b[39;49m\u001b[38;5;124;43mtrain\u001b[39;49m\u001b[38;5;124;43m\"\u001b[39;49m\u001b[43m)\u001b[49m\n\u001b[1;32m      6\u001b[0m pubmed_dataset\n",
      "File \u001b[0;32m~/py39/lib/python3.9/site-packages/datasets/load.py:2523\u001b[0m, in \u001b[0;36mload_dataset\u001b[0;34m(path, name, data_dir, data_files, split, cache_dir, features, download_config, download_mode, verification_mode, ignore_verifications, keep_in_memory, save_infos, revision, token, use_auth_token, task, streaming, num_proc, storage_options, trust_remote_code, **config_kwargs)\u001b[0m\n\u001b[1;32m   2518\u001b[0m verification_mode \u001b[38;5;241m=\u001b[39m VerificationMode(\n\u001b[1;32m   2519\u001b[0m     (verification_mode \u001b[38;5;129;01mor\u001b[39;00m VerificationMode\u001b[38;5;241m.\u001b[39mBASIC_CHECKS) \u001b[38;5;28;01mif\u001b[39;00m \u001b[38;5;129;01mnot\u001b[39;00m save_infos \u001b[38;5;28;01melse\u001b[39;00m VerificationMode\u001b[38;5;241m.\u001b[39mALL_CHECKS\n\u001b[1;32m   2520\u001b[0m )\n\u001b[1;32m   2522\u001b[0m \u001b[38;5;66;03m# Create a dataset builder\u001b[39;00m\n\u001b[0;32m-> 2523\u001b[0m builder_instance \u001b[38;5;241m=\u001b[39m \u001b[43mload_dataset_builder\u001b[49m\u001b[43m(\u001b[49m\n\u001b[1;32m   2524\u001b[0m \u001b[43m    \u001b[49m\u001b[43mpath\u001b[49m\u001b[38;5;241;43m=\u001b[39;49m\u001b[43mpath\u001b[49m\u001b[43m,\u001b[49m\n\u001b[1;32m   2525\u001b[0m \u001b[43m    \u001b[49m\u001b[43mname\u001b[49m\u001b[38;5;241;43m=\u001b[39;49m\u001b[43mname\u001b[49m\u001b[43m,\u001b[49m\n\u001b[1;32m   2526\u001b[0m \u001b[43m    \u001b[49m\u001b[43mdata_dir\u001b[49m\u001b[38;5;241;43m=\u001b[39;49m\u001b[43mdata_dir\u001b[49m\u001b[43m,\u001b[49m\n\u001b[1;32m   2527\u001b[0m \u001b[43m    \u001b[49m\u001b[43mdata_files\u001b[49m\u001b[38;5;241;43m=\u001b[39;49m\u001b[43mdata_files\u001b[49m\u001b[43m,\u001b[49m\n\u001b[1;32m   2528\u001b[0m \u001b[43m    \u001b[49m\u001b[43mcache_dir\u001b[49m\u001b[38;5;241;43m=\u001b[39;49m\u001b[43mcache_dir\u001b[49m\u001b[43m,\u001b[49m\n\u001b[1;32m   2529\u001b[0m \u001b[43m    \u001b[49m\u001b[43mfeatures\u001b[49m\u001b[38;5;241;43m=\u001b[39;49m\u001b[43mfeatures\u001b[49m\u001b[43m,\u001b[49m\n\u001b[1;32m   2530\u001b[0m \u001b[43m    \u001b[49m\u001b[43mdownload_config\u001b[49m\u001b[38;5;241;43m=\u001b[39;49m\u001b[43mdownload_config\u001b[49m\u001b[43m,\u001b[49m\n\u001b[1;32m   2531\u001b[0m \u001b[43m    \u001b[49m\u001b[43mdownload_mode\u001b[49m\u001b[38;5;241;43m=\u001b[39;49m\u001b[43mdownload_mode\u001b[49m\u001b[43m,\u001b[49m\n\u001b[1;32m   2532\u001b[0m \u001b[43m    \u001b[49m\u001b[43mrevision\u001b[49m\u001b[38;5;241;43m=\u001b[39;49m\u001b[43mrevision\u001b[49m\u001b[43m,\u001b[49m\n\u001b[1;32m   2533\u001b[0m \u001b[43m    \u001b[49m\u001b[43mtoken\u001b[49m\u001b[38;5;241;43m=\u001b[39;49m\u001b[43mtoken\u001b[49m\u001b[43m,\u001b[49m\n\u001b[1;32m   2534\u001b[0m \u001b[43m    \u001b[49m\u001b[43mstorage_options\u001b[49m\u001b[38;5;241;43m=\u001b[39;49m\u001b[43mstorage_options\u001b[49m\u001b[43m,\u001b[49m\n\u001b[1;32m   2535\u001b[0m \u001b[43m    \u001b[49m\u001b[43mtrust_remote_code\u001b[49m\u001b[38;5;241;43m=\u001b[39;49m\u001b[43mtrust_remote_code\u001b[49m\u001b[43m,\u001b[49m\n\u001b[1;32m   2536\u001b[0m \u001b[43m    \u001b[49m\u001b[43m_require_default_config_name\u001b[49m\u001b[38;5;241;43m=\u001b[39;49m\u001b[43mname\u001b[49m\u001b[43m \u001b[49m\u001b[38;5;129;43;01mis\u001b[39;49;00m\u001b[43m \u001b[49m\u001b[38;5;28;43;01mNone\u001b[39;49;00m\u001b[43m,\u001b[49m\n\u001b[1;32m   2537\u001b[0m \u001b[43m    \u001b[49m\u001b[38;5;241;43m*\u001b[39;49m\u001b[38;5;241;43m*\u001b[39;49m\u001b[43mconfig_kwargs\u001b[49m\u001b[43m,\u001b[49m\n\u001b[1;32m   2538\u001b[0m \u001b[43m\u001b[49m\u001b[43m)\u001b[49m\n\u001b[1;32m   2540\u001b[0m \u001b[38;5;66;03m# Return iterable dataset in case of streaming\u001b[39;00m\n\u001b[1;32m   2541\u001b[0m \u001b[38;5;28;01mif\u001b[39;00m streaming:\n",
      "File \u001b[0;32m~/py39/lib/python3.9/site-packages/datasets/load.py:2195\u001b[0m, in \u001b[0;36mload_dataset_builder\u001b[0;34m(path, name, data_dir, data_files, cache_dir, features, download_config, download_mode, revision, token, use_auth_token, storage_options, trust_remote_code, _require_default_config_name, **config_kwargs)\u001b[0m\n\u001b[1;32m   2193\u001b[0m     download_config \u001b[38;5;241m=\u001b[39m download_config\u001b[38;5;241m.\u001b[39mcopy() \u001b[38;5;28;01mif\u001b[39;00m download_config \u001b[38;5;28;01melse\u001b[39;00m DownloadConfig()\n\u001b[1;32m   2194\u001b[0m     download_config\u001b[38;5;241m.\u001b[39mstorage_options\u001b[38;5;241m.\u001b[39mupdate(storage_options)\n\u001b[0;32m-> 2195\u001b[0m dataset_module \u001b[38;5;241m=\u001b[39m \u001b[43mdataset_module_factory\u001b[49m\u001b[43m(\u001b[49m\n\u001b[1;32m   2196\u001b[0m \u001b[43m    \u001b[49m\u001b[43mpath\u001b[49m\u001b[43m,\u001b[49m\n\u001b[1;32m   2197\u001b[0m \u001b[43m    \u001b[49m\u001b[43mrevision\u001b[49m\u001b[38;5;241;43m=\u001b[39;49m\u001b[43mrevision\u001b[49m\u001b[43m,\u001b[49m\n\u001b[1;32m   2198\u001b[0m \u001b[43m    \u001b[49m\u001b[43mdownload_config\u001b[49m\u001b[38;5;241;43m=\u001b[39;49m\u001b[43mdownload_config\u001b[49m\u001b[43m,\u001b[49m\n\u001b[1;32m   2199\u001b[0m \u001b[43m    \u001b[49m\u001b[43mdownload_mode\u001b[49m\u001b[38;5;241;43m=\u001b[39;49m\u001b[43mdownload_mode\u001b[49m\u001b[43m,\u001b[49m\n\u001b[1;32m   2200\u001b[0m \u001b[43m    \u001b[49m\u001b[43mdata_dir\u001b[49m\u001b[38;5;241;43m=\u001b[39;49m\u001b[43mdata_dir\u001b[49m\u001b[43m,\u001b[49m\n\u001b[1;32m   2201\u001b[0m \u001b[43m    \u001b[49m\u001b[43mdata_files\u001b[49m\u001b[38;5;241;43m=\u001b[39;49m\u001b[43mdata_files\u001b[49m\u001b[43m,\u001b[49m\n\u001b[1;32m   2202\u001b[0m \u001b[43m    \u001b[49m\u001b[43mcache_dir\u001b[49m\u001b[38;5;241;43m=\u001b[39;49m\u001b[43mcache_dir\u001b[49m\u001b[43m,\u001b[49m\n\u001b[1;32m   2203\u001b[0m \u001b[43m    \u001b[49m\u001b[43mtrust_remote_code\u001b[49m\u001b[38;5;241;43m=\u001b[39;49m\u001b[43mtrust_remote_code\u001b[49m\u001b[43m,\u001b[49m\n\u001b[1;32m   2204\u001b[0m \u001b[43m    \u001b[49m\u001b[43m_require_default_config_name\u001b[49m\u001b[38;5;241;43m=\u001b[39;49m\u001b[43m_require_default_config_name\u001b[49m\u001b[43m,\u001b[49m\n\u001b[1;32m   2205\u001b[0m \u001b[43m    \u001b[49m\u001b[43m_require_custom_configs\u001b[49m\u001b[38;5;241;43m=\u001b[39;49m\u001b[38;5;28;43mbool\u001b[39;49m\u001b[43m(\u001b[49m\u001b[43mconfig_kwargs\u001b[49m\u001b[43m)\u001b[49m\u001b[43m,\u001b[49m\n\u001b[1;32m   2206\u001b[0m \u001b[43m\u001b[49m\u001b[43m)\u001b[49m\n\u001b[1;32m   2207\u001b[0m \u001b[38;5;66;03m# Get dataset builder class from the processing script\u001b[39;00m\n\u001b[1;32m   2208\u001b[0m builder_kwargs \u001b[38;5;241m=\u001b[39m dataset_module\u001b[38;5;241m.\u001b[39mbuilder_kwargs\n",
      "File \u001b[0;32m~/py39/lib/python3.9/site-packages/datasets/load.py:1730\u001b[0m, in \u001b[0;36mdataset_module_factory\u001b[0;34m(path, revision, download_config, download_mode, dynamic_modules_path, data_dir, data_files, cache_dir, trust_remote_code, _require_default_config_name, _require_custom_configs, **download_kwargs)\u001b[0m\n\u001b[1;32m   1713\u001b[0m \u001b[38;5;66;03m# We have several ways to get a dataset builder:\u001b[39;00m\n\u001b[1;32m   1714\u001b[0m \u001b[38;5;66;03m#\u001b[39;00m\n\u001b[1;32m   1715\u001b[0m \u001b[38;5;66;03m# - if path is the name of a packaged dataset module\u001b[39;00m\n\u001b[0;32m   (...)\u001b[0m\n\u001b[1;32m   1727\u001b[0m \n\u001b[1;32m   1728\u001b[0m \u001b[38;5;66;03m# Try packaged\u001b[39;00m\n\u001b[1;32m   1729\u001b[0m \u001b[38;5;28;01mif\u001b[39;00m path \u001b[38;5;129;01min\u001b[39;00m _PACKAGED_DATASETS_MODULES:\n\u001b[0;32m-> 1730\u001b[0m     \u001b[38;5;28;01mreturn\u001b[39;00m \u001b[43mPackagedDatasetModuleFactory\u001b[49m\u001b[43m(\u001b[49m\n\u001b[1;32m   1731\u001b[0m \u001b[43m        \u001b[49m\u001b[43mpath\u001b[49m\u001b[43m,\u001b[49m\n\u001b[1;32m   1732\u001b[0m \u001b[43m        \u001b[49m\u001b[43mdata_dir\u001b[49m\u001b[38;5;241;43m=\u001b[39;49m\u001b[43mdata_dir\u001b[49m\u001b[43m,\u001b[49m\n\u001b[1;32m   1733\u001b[0m \u001b[43m        \u001b[49m\u001b[43mdata_files\u001b[49m\u001b[38;5;241;43m=\u001b[39;49m\u001b[43mdata_files\u001b[49m\u001b[43m,\u001b[49m\n\u001b[1;32m   1734\u001b[0m \u001b[43m        \u001b[49m\u001b[43mdownload_config\u001b[49m\u001b[38;5;241;43m=\u001b[39;49m\u001b[43mdownload_config\u001b[49m\u001b[43m,\u001b[49m\n\u001b[1;32m   1735\u001b[0m \u001b[43m        \u001b[49m\u001b[43mdownload_mode\u001b[49m\u001b[38;5;241;43m=\u001b[39;49m\u001b[43mdownload_mode\u001b[49m\u001b[43m,\u001b[49m\n\u001b[1;32m   1736\u001b[0m \u001b[43m    \u001b[49m\u001b[43m)\u001b[49m\u001b[38;5;241;43m.\u001b[39;49m\u001b[43mget_module\u001b[49m\u001b[43m(\u001b[49m\u001b[43m)\u001b[49m\n\u001b[1;32m   1737\u001b[0m \u001b[38;5;66;03m# Try locally\u001b[39;00m\n\u001b[1;32m   1738\u001b[0m \u001b[38;5;28;01melif\u001b[39;00m path\u001b[38;5;241m.\u001b[39mendswith(filename):\n",
      "File \u001b[0;32m~/py39/lib/python3.9/site-packages/datasets/load.py:1120\u001b[0m, in \u001b[0;36mPackagedDatasetModuleFactory.get_module\u001b[0;34m(self)\u001b[0m\n\u001b[1;32m   1118\u001b[0m base_path \u001b[38;5;241m=\u001b[39m Path(\u001b[38;5;28mself\u001b[39m\u001b[38;5;241m.\u001b[39mdata_dir \u001b[38;5;129;01mor\u001b[39;00m \u001b[38;5;124m\"\u001b[39m\u001b[38;5;124m\"\u001b[39m)\u001b[38;5;241m.\u001b[39mexpanduser()\u001b[38;5;241m.\u001b[39mresolve()\u001b[38;5;241m.\u001b[39mas_posix()\n\u001b[1;32m   1119\u001b[0m patterns \u001b[38;5;241m=\u001b[39m sanitize_patterns(\u001b[38;5;28mself\u001b[39m\u001b[38;5;241m.\u001b[39mdata_files) \u001b[38;5;28;01mif\u001b[39;00m \u001b[38;5;28mself\u001b[39m\u001b[38;5;241m.\u001b[39mdata_files \u001b[38;5;129;01mis\u001b[39;00m \u001b[38;5;129;01mnot\u001b[39;00m \u001b[38;5;28;01mNone\u001b[39;00m \u001b[38;5;28;01melse\u001b[39;00m get_data_patterns(base_path)\n\u001b[0;32m-> 1120\u001b[0m data_files \u001b[38;5;241m=\u001b[39m \u001b[43mDataFilesDict\u001b[49m\u001b[38;5;241;43m.\u001b[39;49m\u001b[43mfrom_patterns\u001b[49m\u001b[43m(\u001b[49m\n\u001b[1;32m   1121\u001b[0m \u001b[43m    \u001b[49m\u001b[43mpatterns\u001b[49m\u001b[43m,\u001b[49m\n\u001b[1;32m   1122\u001b[0m \u001b[43m    \u001b[49m\u001b[43mdownload_config\u001b[49m\u001b[38;5;241;43m=\u001b[39;49m\u001b[38;5;28;43mself\u001b[39;49m\u001b[38;5;241;43m.\u001b[39;49m\u001b[43mdownload_config\u001b[49m\u001b[43m,\u001b[49m\n\u001b[1;32m   1123\u001b[0m \u001b[43m    \u001b[49m\u001b[43mbase_path\u001b[49m\u001b[38;5;241;43m=\u001b[39;49m\u001b[43mbase_path\u001b[49m\u001b[43m,\u001b[49m\n\u001b[1;32m   1124\u001b[0m \u001b[43m\u001b[49m\u001b[43m)\u001b[49m\n\u001b[1;32m   1125\u001b[0m supports_metadata \u001b[38;5;241m=\u001b[39m \u001b[38;5;28mself\u001b[39m\u001b[38;5;241m.\u001b[39mname \u001b[38;5;129;01min\u001b[39;00m _MODULE_SUPPORTS_METADATA\n\u001b[1;32m   1126\u001b[0m \u001b[38;5;28;01mif\u001b[39;00m \u001b[38;5;28mself\u001b[39m\u001b[38;5;241m.\u001b[39mdata_files \u001b[38;5;129;01mis\u001b[39;00m \u001b[38;5;28;01mNone\u001b[39;00m \u001b[38;5;129;01mand\u001b[39;00m supports_metadata \u001b[38;5;129;01mand\u001b[39;00m patterns \u001b[38;5;241m!=\u001b[39m DEFAULT_PATTERNS_ALL:\n",
      "File \u001b[0;32m~/py39/lib/python3.9/site-packages/datasets/data_files.py:689\u001b[0m, in \u001b[0;36mDataFilesDict.from_patterns\u001b[0;34m(cls, patterns, base_path, allowed_extensions, download_config)\u001b[0m\n\u001b[1;32m    686\u001b[0m out \u001b[38;5;241m=\u001b[39m \u001b[38;5;28mcls\u001b[39m()\n\u001b[1;32m    687\u001b[0m \u001b[38;5;28;01mfor\u001b[39;00m key, patterns_for_key \u001b[38;5;129;01min\u001b[39;00m patterns\u001b[38;5;241m.\u001b[39mitems():\n\u001b[1;32m    688\u001b[0m     out[key] \u001b[38;5;241m=\u001b[39m (\n\u001b[0;32m--> 689\u001b[0m         \u001b[43mDataFilesList\u001b[49m\u001b[38;5;241;43m.\u001b[39;49m\u001b[43mfrom_patterns\u001b[49m\u001b[43m(\u001b[49m\n\u001b[1;32m    690\u001b[0m \u001b[43m            \u001b[49m\u001b[43mpatterns_for_key\u001b[49m\u001b[43m,\u001b[49m\n\u001b[1;32m    691\u001b[0m \u001b[43m            \u001b[49m\u001b[43mbase_path\u001b[49m\u001b[38;5;241;43m=\u001b[39;49m\u001b[43mbase_path\u001b[49m\u001b[43m,\u001b[49m\n\u001b[1;32m    692\u001b[0m \u001b[43m            \u001b[49m\u001b[43mallowed_extensions\u001b[49m\u001b[38;5;241;43m=\u001b[39;49m\u001b[43mallowed_extensions\u001b[49m\u001b[43m,\u001b[49m\n\u001b[1;32m    693\u001b[0m \u001b[43m            \u001b[49m\u001b[43mdownload_config\u001b[49m\u001b[38;5;241;43m=\u001b[39;49m\u001b[43mdownload_config\u001b[49m\u001b[43m,\u001b[49m\n\u001b[1;32m    694\u001b[0m \u001b[43m        \u001b[49m\u001b[43m)\u001b[49m\n\u001b[1;32m    695\u001b[0m         \u001b[38;5;28;01mif\u001b[39;00m \u001b[38;5;129;01mnot\u001b[39;00m \u001b[38;5;28misinstance\u001b[39m(patterns_for_key, DataFilesList)\n\u001b[1;32m    696\u001b[0m         \u001b[38;5;28;01melse\u001b[39;00m patterns_for_key\n\u001b[1;32m    697\u001b[0m     )\n\u001b[1;32m    698\u001b[0m \u001b[38;5;28;01mreturn\u001b[39;00m out\n",
      "File \u001b[0;32m~/py39/lib/python3.9/site-packages/datasets/data_files.py:594\u001b[0m, in \u001b[0;36mDataFilesList.from_patterns\u001b[0;34m(cls, patterns, base_path, allowed_extensions, download_config)\u001b[0m\n\u001b[1;32m    591\u001b[0m \u001b[38;5;28;01mfor\u001b[39;00m pattern \u001b[38;5;129;01min\u001b[39;00m patterns:\n\u001b[1;32m    592\u001b[0m     \u001b[38;5;28;01mtry\u001b[39;00m:\n\u001b[1;32m    593\u001b[0m         data_files\u001b[38;5;241m.\u001b[39mextend(\n\u001b[0;32m--> 594\u001b[0m             \u001b[43mresolve_pattern\u001b[49m\u001b[43m(\u001b[49m\n\u001b[1;32m    595\u001b[0m \u001b[43m                \u001b[49m\u001b[43mpattern\u001b[49m\u001b[43m,\u001b[49m\n\u001b[1;32m    596\u001b[0m \u001b[43m                \u001b[49m\u001b[43mbase_path\u001b[49m\u001b[38;5;241;43m=\u001b[39;49m\u001b[43mbase_path\u001b[49m\u001b[43m,\u001b[49m\n\u001b[1;32m    597\u001b[0m \u001b[43m                \u001b[49m\u001b[43mallowed_extensions\u001b[49m\u001b[38;5;241;43m=\u001b[39;49m\u001b[43mallowed_extensions\u001b[49m\u001b[43m,\u001b[49m\n\u001b[1;32m    598\u001b[0m \u001b[43m                \u001b[49m\u001b[43mdownload_config\u001b[49m\u001b[38;5;241;43m=\u001b[39;49m\u001b[43mdownload_config\u001b[49m\u001b[43m,\u001b[49m\n\u001b[1;32m    599\u001b[0m \u001b[43m            \u001b[49m\u001b[43m)\u001b[49m\n\u001b[1;32m    600\u001b[0m         )\n\u001b[1;32m    601\u001b[0m     \u001b[38;5;28;01mexcept\u001b[39;00m \u001b[38;5;167;01mFileNotFoundError\u001b[39;00m:\n\u001b[1;32m    602\u001b[0m         \u001b[38;5;28;01mif\u001b[39;00m \u001b[38;5;129;01mnot\u001b[39;00m has_magic(pattern):\n",
      "File \u001b[0;32m~/py39/lib/python3.9/site-packages/datasets/data_files.py:383\u001b[0m, in \u001b[0;36mresolve_pattern\u001b[0;34m(pattern, base_path, allowed_extensions, download_config)\u001b[0m\n\u001b[1;32m    381\u001b[0m     \u001b[38;5;28;01mif\u001b[39;00m allowed_extensions \u001b[38;5;129;01mis\u001b[39;00m \u001b[38;5;129;01mnot\u001b[39;00m \u001b[38;5;28;01mNone\u001b[39;00m:\n\u001b[1;32m    382\u001b[0m         error_msg \u001b[38;5;241m+\u001b[39m\u001b[38;5;241m=\u001b[39m \u001b[38;5;124mf\u001b[39m\u001b[38;5;124m\"\u001b[39m\u001b[38;5;124m with any supported extension \u001b[39m\u001b[38;5;132;01m{\u001b[39;00m\u001b[38;5;28mlist\u001b[39m(allowed_extensions)\u001b[38;5;132;01m}\u001b[39;00m\u001b[38;5;124m\"\u001b[39m\n\u001b[0;32m--> 383\u001b[0m     \u001b[38;5;28;01mraise\u001b[39;00m \u001b[38;5;167;01mFileNotFoundError\u001b[39;00m(error_msg)\n\u001b[1;32m    384\u001b[0m \u001b[38;5;28;01mreturn\u001b[39;00m out\n",
      "\u001b[0;31mFileNotFoundError\u001b[0m: Unable to find 'https://mystic.the-eye.eu/public/AI/pile_preliminary_components/PUBMED_title_abstracts_2019_baseline.jsonl.zst'"
     ]
    }
   ],
   "source": [
    "from datasets import load_dataset\n",
    "\n",
    "# This takes a few minutes to run, so go grab a tea or coffee while you wait :)\n",
    "data_files = \"https://mystic.the-eye.eu/public/AI/pile_preliminary_components/PUBMED_title_abstracts_2019_baseline.jsonl.zst\"\n",
    "pubmed_dataset = load_dataset(\"json\", data_files=data_files, split=\"train\")\n",
    "pubmed_dataset"
   ]
  },
  {
   "cell_type": "code",
   "execution_count": 124,
   "id": "f79efebf",
   "metadata": {},
   "outputs": [
    {
     "name": "stderr",
     "output_type": "stream",
     "text": [
      "huggingface/tokenizers: The current process just got forked, after parallelism has already been used. Disabling parallelism to avoid deadlocks...\n",
      "To disable this warning, you can either:\n",
      "\t- Avoid using `tokenizers` before the fork if possible\n",
      "\t- Explicitly set the environment variable TOKENIZERS_PARALLELISM=(true | false)\n"
     ]
    },
    {
     "name": "stdout",
     "output_type": "stream",
     "text": [
      "Requirement already satisfied: psutil in /home/ponir/pyTorch3.11/lib/python3.10/site-packages (5.9.1)\r\n"
     ]
    }
   ],
   "source": [
    "!pip install psutil"
   ]
  },
  {
   "cell_type": "markdown",
   "id": "28adf163",
   "metadata": {},
   "source": [
    "<h1> Creating your own dataset</h1>\n",
    "\n",
    "<h2>Getting the data</h2>"
   ]
  },
  {
   "cell_type": "code",
   "execution_count": 125,
   "id": "b70824ca",
   "metadata": {},
   "outputs": [
    {
     "name": "stderr",
     "output_type": "stream",
     "text": [
      "huggingface/tokenizers: The current process just got forked, after parallelism has already been used. Disabling parallelism to avoid deadlocks...\n",
      "To disable this warning, you can either:\n",
      "\t- Avoid using `tokenizers` before the fork if possible\n",
      "\t- Explicitly set the environment variable TOKENIZERS_PARALLELISM=(true | false)\n"
     ]
    },
    {
     "name": "stdout",
     "output_type": "stream",
     "text": [
      "Requirement already satisfied: requests in /home/ponir/pyTorch3.11/lib/python3.10/site-packages (2.28.1)\r\n",
      "Requirement already satisfied: charset-normalizer<3,>=2 in /home/ponir/pyTorch3.11/lib/python3.10/site-packages (from requests) (2.1.0)\r\n",
      "Requirement already satisfied: idna<4,>=2.5 in /home/ponir/pyTorch3.11/lib/python3.10/site-packages (from requests) (3.3)\r\n",
      "Requirement already satisfied: urllib3<1.27,>=1.21.1 in /home/ponir/pyTorch3.11/lib/python3.10/site-packages (from requests) (1.26.9)\r\n",
      "Requirement already satisfied: certifi>=2017.4.17 in /home/ponir/pyTorch3.11/lib/python3.10/site-packages (from requests) (2022.6.15)\r\n"
     ]
    }
   ],
   "source": [
    "!pip install requests"
   ]
  },
  {
   "cell_type": "code",
   "execution_count": 126,
   "id": "9aa2ba9f",
   "metadata": {},
   "outputs": [],
   "source": [
    "import requests\n",
    "\n",
    "url = \"https://api.github.com/repos/huggingface/datasets/issues?page=1&per_page=1\"\n",
    "response = requests.get(url)"
   ]
  },
  {
   "cell_type": "code",
   "execution_count": 127,
   "id": "fd7657ac",
   "metadata": {},
   "outputs": [
    {
     "data": {
      "text/plain": [
       "200"
      ]
     },
     "execution_count": 127,
     "metadata": {},
     "output_type": "execute_result"
    }
   ],
   "source": [
    "response.status_code"
   ]
  },
  {
   "cell_type": "code",
   "execution_count": 128,
   "id": "81f640bd",
   "metadata": {},
   "outputs": [
    {
     "data": {
      "text/plain": [
       "<Response [200]>"
      ]
     },
     "execution_count": 128,
     "metadata": {},
     "output_type": "execute_result"
    }
   ],
   "source": [
    "response"
   ]
  },
  {
   "cell_type": "code",
   "execution_count": 129,
   "id": "15522473",
   "metadata": {},
   "outputs": [
    {
     "data": {
      "text/plain": [
       "[{'url': 'https://api.github.com/repos/huggingface/datasets/issues/6565',\n",
       "  'repository_url': 'https://api.github.com/repos/huggingface/datasets',\n",
       "  'labels_url': 'https://api.github.com/repos/huggingface/datasets/issues/6565/labels{/name}',\n",
       "  'comments_url': 'https://api.github.com/repos/huggingface/datasets/issues/6565/comments',\n",
       "  'events_url': 'https://api.github.com/repos/huggingface/datasets/issues/6565/events',\n",
       "  'html_url': 'https://github.com/huggingface/datasets/issues/6565',\n",
       "  'id': 2068939670,\n",
       "  'node_id': 'I_kwDODunzps57UYOW',\n",
       "  'number': 6565,\n",
       "  'title': ' `drop_last_batch=True` for IterableDataset map function is ignored with multiprocessing DataLoader ',\n",
       "  'user': {'login': 'naba89',\n",
       "   'id': 12119806,\n",
       "   'node_id': 'MDQ6VXNlcjEyMTE5ODA2',\n",
       "   'avatar_url': 'https://avatars.githubusercontent.com/u/12119806?v=4',\n",
       "   'gravatar_id': '',\n",
       "   'url': 'https://api.github.com/users/naba89',\n",
       "   'html_url': 'https://github.com/naba89',\n",
       "   'followers_url': 'https://api.github.com/users/naba89/followers',\n",
       "   'following_url': 'https://api.github.com/users/naba89/following{/other_user}',\n",
       "   'gists_url': 'https://api.github.com/users/naba89/gists{/gist_id}',\n",
       "   'starred_url': 'https://api.github.com/users/naba89/starred{/owner}{/repo}',\n",
       "   'subscriptions_url': 'https://api.github.com/users/naba89/subscriptions',\n",
       "   'organizations_url': 'https://api.github.com/users/naba89/orgs',\n",
       "   'repos_url': 'https://api.github.com/users/naba89/repos',\n",
       "   'events_url': 'https://api.github.com/users/naba89/events{/privacy}',\n",
       "   'received_events_url': 'https://api.github.com/users/naba89/received_events',\n",
       "   'type': 'User',\n",
       "   'site_admin': False},\n",
       "  'labels': [],\n",
       "  'state': 'open',\n",
       "  'locked': False,\n",
       "  'assignee': None,\n",
       "  'assignees': [],\n",
       "  'milestone': None,\n",
       "  'comments': 1,\n",
       "  'created_at': '2024-01-07T02:46:50Z',\n",
       "  'updated_at': '2024-01-07T03:03:05Z',\n",
       "  'closed_at': None,\n",
       "  'author_association': 'NONE',\n",
       "  'active_lock_reason': None,\n",
       "  'body': '### Describe the bug\\r\\n\\r\\nScenario:\\r\\n- Interleaving two iterable datasets of unequal lengths (`all_exhausted`), followed by a batch mapping with batch size 2 to effectively merge the two datasets and get a sample from each dataset in a single batch, with `drop_last_batch=True` to skip the last batch in case it doesn\\'t have two samples.\\r\\n\\r\\nWhat works:\\r\\n- Using DataLoader with `num_workers=0`\\r\\n\\r\\nWhat does not work:\\r\\n- Using DataLoader with `num_workers=1`, errors in the last batch.\\r\\n\\r\\nBasically, `drop_last_batch=True` is ignored when using multiple dataloading workers.\\r\\n\\r\\nPlease take a look at the minimal repro script below.\\r\\n\\r\\n### Steps to reproduce the bug\\r\\n\\r\\n```python\\r\\nfrom datasets import Dataset, interleave_datasets\\r\\nfrom torch.utils.data import DataLoader\\r\\n\\r\\n\\r\\ndef merge_samples(batch):\\r\\n    assert len(batch[\\'a\\']) == 2, \"Batch size must be 2\"\\r\\n    batch[\\'c\\'] = [batch[\\'a\\'][0]]\\r\\n    batch[\\'d\\'] = [batch[\\'a\\'][1]]\\r\\n    return batch\\r\\n\\r\\n\\r\\ndef gen1():\\r\\n    for ii in range(1, 8385):\\r\\n        yield {\"a\": ii}\\r\\n\\r\\n\\r\\ndef gen2():\\r\\n    for ii in range(1, 5302):\\r\\n        yield {\"a\": ii}\\r\\n\\r\\n\\r\\nif __name__ == \\'__main__\\':\\r\\n\\r\\n    dataset1 = Dataset.from_generator(gen1).to_iterable_dataset(num_shards=1024)\\r\\n    dataset2 = Dataset.from_generator(gen2).to_iterable_dataset(num_shards=1024)\\r\\n\\r\\n    interleaved = interleave_datasets([dataset1, dataset2], stopping_strategy=\"all_exhausted\")\\r\\n    mapped = interleaved.map(merge_samples, batched=True, batch_size=2, remove_columns=interleaved.column_names,\\r\\n                             drop_last_batch=True)\\r\\n\\r\\n    # Works\\r\\n    loader = DataLoader(mapped, batch_size=32, num_workers=0)\\r\\n    i = 0\\r\\n    for b in loader:\\r\\n        print(i, b[\\'c\\'].shape, b[\\'d\\'].shape)\\r\\n        i += 1\\r\\n\\r\\n    print(\"DataLoader with num_workers=0 works\")\\r\\n\\r\\n    # Doesn\\'t work\\r\\n    loader = DataLoader(mapped, batch_size=32, num_workers=1)\\r\\n    i = 0\\r\\n    for b in loader:\\r\\n        print(i, b[\\'c\\'].shape, b[\\'d\\'].shape)\\r\\n        i += 1\\r\\n\\r\\n\\r\\n```\\r\\n\\r\\n### Expected behavior\\r\\n\\r\\n `drop_last_batch=True` should have same behaviour for `num_workers=0` and `num_workers>=1`\\r\\n\\r\\n### Environment info\\r\\n\\r\\n- `datasets` version: 2.16.1\\r\\n- Platform: macOS-10.16-x86_64-i386-64bit\\r\\n- Python version: 3.10.12\\r\\n- `huggingface_hub` version: 0.20.2\\r\\n- PyArrow version: 12.0.1\\r\\n- Pandas version: 2.0.3\\r\\n- `fsspec` version: 2023.6.0\\r\\n\\r\\nI have also tested on Linux and got the same behavior.',\n",
       "  'reactions': {'url': 'https://api.github.com/repos/huggingface/datasets/issues/6565/reactions',\n",
       "   'total_count': 0,\n",
       "   '+1': 0,\n",
       "   '-1': 0,\n",
       "   'laugh': 0,\n",
       "   'hooray': 0,\n",
       "   'confused': 0,\n",
       "   'heart': 0,\n",
       "   'rocket': 0,\n",
       "   'eyes': 0},\n",
       "  'timeline_url': 'https://api.github.com/repos/huggingface/datasets/issues/6565/timeline',\n",
       "  'performed_via_github_app': None,\n",
       "  'state_reason': None}]"
      ]
     },
     "execution_count": 129,
     "metadata": {},
     "output_type": "execute_result"
    }
   ],
   "source": [
    "response.json()"
   ]
  },
  {
   "cell_type": "code",
   "execution_count": 131,
   "id": "6001d985",
   "metadata": {},
   "outputs": [],
   "source": [
    "#GITHUB_TOKEN = \"xxx\"\n",
    "headers = {\"Authorization\": f\"token {GITHUB_TOKEN}\"}"
   ]
  },
  {
   "cell_type": "code",
   "execution_count": 132,
   "id": "22f7311d",
   "metadata": {},
   "outputs": [],
   "source": [
    "import time\n",
    "import math\n",
    "from pathlib import Path\n",
    "import pandas as pd\n",
    "from tqdm.notebook import tqdm\n",
    "\n",
    "\n",
    "def fetch_issues(\n",
    "    owner=\"huggingface\",\n",
    "    repo=\"datasets\",\n",
    "    num_issues=10_000,\n",
    "    rate_limit=5_000,\n",
    "    issues_path=Path(\".\"),\n",
    "):\n",
    "    if not issues_path.is_dir():\n",
    "        issues_path.mkdir(exist_ok=True)\n",
    "\n",
    "    batch = []\n",
    "    all_issues = []\n",
    "    per_page = 100  # Number of issues to return per page\n",
    "    num_pages = math.ceil(num_issues / per_page)\n",
    "    base_url = \"https://api.github.com/repos\"\n",
    "\n",
    "    for page in tqdm(range(num_pages)):\n",
    "        # Query with state=all to get both open and closed issues\n",
    "        query = f\"issues?page={page}&per_page={per_page}&state=all\"\n",
    "        issues = requests.get(f\"{base_url}/{owner}/{repo}/{query}\", headers=headers)\n",
    "        batch.extend(issues.json())\n",
    "\n",
    "        if len(batch) > rate_limit and len(all_issues) < num_issues:\n",
    "            all_issues.extend(batch)\n",
    "            batch = []  # Flush batch for next time period\n",
    "            print(f\"Reached GitHub rate limit. Sleeping for one hour ...\")\n",
    "            time.sleep(60 * 60 + 1)\n",
    "\n",
    "    all_issues.extend(batch)\n",
    "    df = pd.DataFrame.from_records(all_issues)\n",
    "    df.to_json(f\"{issues_path}/{repo}-issues.jsonl\", orient=\"records\", lines=True)\n",
    "    print(\n",
    "        f\"Downloaded all the issues for {repo}! Dataset stored at {issues_path}/{repo}-issues.jsonl\"\n",
    "    )"
   ]
  },
  {
   "cell_type": "code",
   "execution_count": 133,
   "id": "41e45b71",
   "metadata": {},
   "outputs": [
    {
     "data": {
      "application/vnd.jupyter.widget-view+json": {
       "model_id": "e0c5ba2c2279444183b79c9d614e0206",
       "version_major": 2,
       "version_minor": 0
      },
      "text/plain": [
       "  0%|          | 0/100 [00:00<?, ?it/s]"
      ]
     },
     "metadata": {},
     "output_type": "display_data"
    },
    {
     "name": "stdout",
     "output_type": "stream",
     "text": [
      "Reached GitHub rate limit. Sleeping for one hour ...\n",
      "Downloaded all the issues for datasets! Dataset stored at ./datasets-issues.jsonl\n"
     ]
    }
   ],
   "source": [
    "# Depending on your internet connection, this can take several minutes to run...\n",
    "fetch_issues()"
   ]
  },
  {
   "cell_type": "code",
   "execution_count": 135,
   "id": "7c362a3d",
   "metadata": {},
   "outputs": [
    {
     "data": {
      "application/vnd.jupyter.widget-view+json": {
       "model_id": "5d30c9aa9a464bedb2f4bb3cfc15704c",
       "version_major": 2,
       "version_minor": 0
      },
      "text/plain": [
       "Generating train split: 0 examples [00:00, ? examples/s]"
      ]
     },
     "metadata": {},
     "output_type": "display_data"
    },
    {
     "ename": "DatasetGenerationError",
     "evalue": "An error occurred while generating the dataset",
     "output_type": "error",
     "traceback": [
      "\u001b[0;31m---------------------------------------------------------------------------\u001b[0m",
      "\u001b[0;31mTypeError\u001b[0m                                 Traceback (most recent call last)",
      "File \u001b[0;32m~/py39/lib/python3.9/site-packages/datasets/builder.py:1989\u001b[0m, in \u001b[0;36mArrowBasedBuilder._prepare_split_single\u001b[0;34m(self, gen_kwargs, fpath, file_format, max_shard_size, job_id)\u001b[0m\n\u001b[1;32m   1988\u001b[0m \u001b[38;5;28;01mtry\u001b[39;00m:\n\u001b[0;32m-> 1989\u001b[0m     \u001b[43mwriter\u001b[49m\u001b[38;5;241;43m.\u001b[39;49m\u001b[43mwrite_table\u001b[49m\u001b[43m(\u001b[49m\u001b[43mtable\u001b[49m\u001b[43m)\u001b[49m\n\u001b[1;32m   1990\u001b[0m \u001b[38;5;28;01mexcept\u001b[39;00m CastError \u001b[38;5;28;01mas\u001b[39;00m cast_error:\n",
      "File \u001b[0;32m~/py39/lib/python3.9/site-packages/datasets/arrow_writer.py:574\u001b[0m, in \u001b[0;36mArrowWriter.write_table\u001b[0;34m(self, pa_table, writer_batch_size)\u001b[0m\n\u001b[1;32m    573\u001b[0m pa_table \u001b[38;5;241m=\u001b[39m pa_table\u001b[38;5;241m.\u001b[39mcombine_chunks()\n\u001b[0;32m--> 574\u001b[0m pa_table \u001b[38;5;241m=\u001b[39m \u001b[43mtable_cast\u001b[49m\u001b[43m(\u001b[49m\u001b[43mpa_table\u001b[49m\u001b[43m,\u001b[49m\u001b[43m \u001b[49m\u001b[38;5;28;43mself\u001b[39;49m\u001b[38;5;241;43m.\u001b[39;49m\u001b[43m_schema\u001b[49m\u001b[43m)\u001b[49m\n\u001b[1;32m    575\u001b[0m \u001b[38;5;28;01mif\u001b[39;00m \u001b[38;5;28mself\u001b[39m\u001b[38;5;241m.\u001b[39membed_local_files:\n",
      "File \u001b[0;32m~/py39/lib/python3.9/site-packages/datasets/table.py:2322\u001b[0m, in \u001b[0;36mtable_cast\u001b[0;34m(table, schema)\u001b[0m\n\u001b[1;32m   2321\u001b[0m \u001b[38;5;28;01mif\u001b[39;00m table\u001b[38;5;241m.\u001b[39mschema \u001b[38;5;241m!=\u001b[39m schema:\n\u001b[0;32m-> 2322\u001b[0m     \u001b[38;5;28;01mreturn\u001b[39;00m \u001b[43mcast_table_to_schema\u001b[49m\u001b[43m(\u001b[49m\u001b[43mtable\u001b[49m\u001b[43m,\u001b[49m\u001b[43m \u001b[49m\u001b[43mschema\u001b[49m\u001b[43m)\u001b[49m\n\u001b[1;32m   2323\u001b[0m \u001b[38;5;28;01melif\u001b[39;00m table\u001b[38;5;241m.\u001b[39mschema\u001b[38;5;241m.\u001b[39mmetadata \u001b[38;5;241m!=\u001b[39m schema\u001b[38;5;241m.\u001b[39mmetadata:\n",
      "File \u001b[0;32m~/py39/lib/python3.9/site-packages/datasets/table.py:2281\u001b[0m, in \u001b[0;36mcast_table_to_schema\u001b[0;34m(table, schema)\u001b[0m\n\u001b[1;32m   2276\u001b[0m     \u001b[38;5;28;01mraise\u001b[39;00m CastError(\n\u001b[1;32m   2277\u001b[0m         \u001b[38;5;124mf\u001b[39m\u001b[38;5;124m\"\u001b[39m\u001b[38;5;124mCouldn\u001b[39m\u001b[38;5;124m'\u001b[39m\u001b[38;5;124mt cast\u001b[39m\u001b[38;5;130;01m\\n\u001b[39;00m\u001b[38;5;132;01m{\u001b[39;00mtable\u001b[38;5;241m.\u001b[39mschema\u001b[38;5;132;01m}\u001b[39;00m\u001b[38;5;130;01m\\n\u001b[39;00m\u001b[38;5;124mto\u001b[39m\u001b[38;5;130;01m\\n\u001b[39;00m\u001b[38;5;132;01m{\u001b[39;00mfeatures\u001b[38;5;132;01m}\u001b[39;00m\u001b[38;5;130;01m\\n\u001b[39;00m\u001b[38;5;124mbecause column names don\u001b[39m\u001b[38;5;124m'\u001b[39m\u001b[38;5;124mt match\u001b[39m\u001b[38;5;124m\"\u001b[39m,\n\u001b[1;32m   2278\u001b[0m         table_column_names\u001b[38;5;241m=\u001b[39mtable\u001b[38;5;241m.\u001b[39mcolumn_names,\n\u001b[1;32m   2279\u001b[0m         requested_column_names\u001b[38;5;241m=\u001b[39m\u001b[38;5;28mlist\u001b[39m(features),\n\u001b[1;32m   2280\u001b[0m     )\n\u001b[0;32m-> 2281\u001b[0m arrays \u001b[38;5;241m=\u001b[39m [cast_array_to_feature(table[name], feature) \u001b[38;5;28;01mfor\u001b[39;00m name, feature \u001b[38;5;129;01min\u001b[39;00m features\u001b[38;5;241m.\u001b[39mitems()]\n\u001b[1;32m   2282\u001b[0m \u001b[38;5;28;01mreturn\u001b[39;00m pa\u001b[38;5;241m.\u001b[39mTable\u001b[38;5;241m.\u001b[39mfrom_arrays(arrays, schema\u001b[38;5;241m=\u001b[39mschema)\n",
      "File \u001b[0;32m~/py39/lib/python3.9/site-packages/datasets/table.py:2281\u001b[0m, in \u001b[0;36m<listcomp>\u001b[0;34m(.0)\u001b[0m\n\u001b[1;32m   2276\u001b[0m     \u001b[38;5;28;01mraise\u001b[39;00m CastError(\n\u001b[1;32m   2277\u001b[0m         \u001b[38;5;124mf\u001b[39m\u001b[38;5;124m\"\u001b[39m\u001b[38;5;124mCouldn\u001b[39m\u001b[38;5;124m'\u001b[39m\u001b[38;5;124mt cast\u001b[39m\u001b[38;5;130;01m\\n\u001b[39;00m\u001b[38;5;132;01m{\u001b[39;00mtable\u001b[38;5;241m.\u001b[39mschema\u001b[38;5;132;01m}\u001b[39;00m\u001b[38;5;130;01m\\n\u001b[39;00m\u001b[38;5;124mto\u001b[39m\u001b[38;5;130;01m\\n\u001b[39;00m\u001b[38;5;132;01m{\u001b[39;00mfeatures\u001b[38;5;132;01m}\u001b[39;00m\u001b[38;5;130;01m\\n\u001b[39;00m\u001b[38;5;124mbecause column names don\u001b[39m\u001b[38;5;124m'\u001b[39m\u001b[38;5;124mt match\u001b[39m\u001b[38;5;124m\"\u001b[39m,\n\u001b[1;32m   2278\u001b[0m         table_column_names\u001b[38;5;241m=\u001b[39mtable\u001b[38;5;241m.\u001b[39mcolumn_names,\n\u001b[1;32m   2279\u001b[0m         requested_column_names\u001b[38;5;241m=\u001b[39m\u001b[38;5;28mlist\u001b[39m(features),\n\u001b[1;32m   2280\u001b[0m     )\n\u001b[0;32m-> 2281\u001b[0m arrays \u001b[38;5;241m=\u001b[39m [\u001b[43mcast_array_to_feature\u001b[49m\u001b[43m(\u001b[49m\u001b[43mtable\u001b[49m\u001b[43m[\u001b[49m\u001b[43mname\u001b[49m\u001b[43m]\u001b[49m\u001b[43m,\u001b[49m\u001b[43m \u001b[49m\u001b[43mfeature\u001b[49m\u001b[43m)\u001b[49m \u001b[38;5;28;01mfor\u001b[39;00m name, feature \u001b[38;5;129;01min\u001b[39;00m features\u001b[38;5;241m.\u001b[39mitems()]\n\u001b[1;32m   2282\u001b[0m \u001b[38;5;28;01mreturn\u001b[39;00m pa\u001b[38;5;241m.\u001b[39mTable\u001b[38;5;241m.\u001b[39mfrom_arrays(arrays, schema\u001b[38;5;241m=\u001b[39mschema)\n",
      "File \u001b[0;32m~/py39/lib/python3.9/site-packages/datasets/table.py:1797\u001b[0m, in \u001b[0;36m_wrap_for_chunked_arrays.<locals>.wrapper\u001b[0;34m(array, *args, **kwargs)\u001b[0m\n\u001b[1;32m   1796\u001b[0m \u001b[38;5;28;01mif\u001b[39;00m \u001b[38;5;28misinstance\u001b[39m(array, pa\u001b[38;5;241m.\u001b[39mChunkedArray):\n\u001b[0;32m-> 1797\u001b[0m     \u001b[38;5;28;01mreturn\u001b[39;00m pa\u001b[38;5;241m.\u001b[39mchunked_array([func(chunk, \u001b[38;5;241m*\u001b[39margs, \u001b[38;5;241m*\u001b[39m\u001b[38;5;241m*\u001b[39mkwargs) \u001b[38;5;28;01mfor\u001b[39;00m chunk \u001b[38;5;129;01min\u001b[39;00m array\u001b[38;5;241m.\u001b[39mchunks])\n\u001b[1;32m   1798\u001b[0m \u001b[38;5;28;01melse\u001b[39;00m:\n",
      "File \u001b[0;32m~/py39/lib/python3.9/site-packages/datasets/table.py:1797\u001b[0m, in \u001b[0;36m<listcomp>\u001b[0;34m(.0)\u001b[0m\n\u001b[1;32m   1796\u001b[0m \u001b[38;5;28;01mif\u001b[39;00m \u001b[38;5;28misinstance\u001b[39m(array, pa\u001b[38;5;241m.\u001b[39mChunkedArray):\n\u001b[0;32m-> 1797\u001b[0m     \u001b[38;5;28;01mreturn\u001b[39;00m pa\u001b[38;5;241m.\u001b[39mchunked_array([\u001b[43mfunc\u001b[49m\u001b[43m(\u001b[49m\u001b[43mchunk\u001b[49m\u001b[43m,\u001b[49m\u001b[43m \u001b[49m\u001b[38;5;241;43m*\u001b[39;49m\u001b[43margs\u001b[49m\u001b[43m,\u001b[49m\u001b[43m \u001b[49m\u001b[38;5;241;43m*\u001b[39;49m\u001b[38;5;241;43m*\u001b[39;49m\u001b[43mkwargs\u001b[49m\u001b[43m)\u001b[49m \u001b[38;5;28;01mfor\u001b[39;00m chunk \u001b[38;5;129;01min\u001b[39;00m array\u001b[38;5;241m.\u001b[39mchunks])\n\u001b[1;32m   1798\u001b[0m \u001b[38;5;28;01melse\u001b[39;00m:\n",
      "File \u001b[0;32m~/py39/lib/python3.9/site-packages/datasets/table.py:2040\u001b[0m, in \u001b[0;36mcast_array_to_feature\u001b[0;34m(array, feature, allow_number_to_str)\u001b[0m\n\u001b[1;32m   2039\u001b[0m     \u001b[38;5;28;01mreturn\u001b[39;00m array\n\u001b[0;32m-> 2040\u001b[0m arrays \u001b[38;5;241m=\u001b[39m [_c(array\u001b[38;5;241m.\u001b[39mfield(name), subfeature) \u001b[38;5;28;01mfor\u001b[39;00m name, subfeature \u001b[38;5;129;01min\u001b[39;00m feature\u001b[38;5;241m.\u001b[39mitems()]\n\u001b[1;32m   2041\u001b[0m \u001b[38;5;28;01mreturn\u001b[39;00m pa\u001b[38;5;241m.\u001b[39mStructArray\u001b[38;5;241m.\u001b[39mfrom_arrays(arrays, names\u001b[38;5;241m=\u001b[39m\u001b[38;5;28mlist\u001b[39m(feature), mask\u001b[38;5;241m=\u001b[39marray\u001b[38;5;241m.\u001b[39mis_null())\n",
      "File \u001b[0;32m~/py39/lib/python3.9/site-packages/datasets/table.py:2040\u001b[0m, in \u001b[0;36m<listcomp>\u001b[0;34m(.0)\u001b[0m\n\u001b[1;32m   2039\u001b[0m     \u001b[38;5;28;01mreturn\u001b[39;00m array\n\u001b[0;32m-> 2040\u001b[0m arrays \u001b[38;5;241m=\u001b[39m [\u001b[43m_c\u001b[49m\u001b[43m(\u001b[49m\u001b[43marray\u001b[49m\u001b[38;5;241;43m.\u001b[39;49m\u001b[43mfield\u001b[49m\u001b[43m(\u001b[49m\u001b[43mname\u001b[49m\u001b[43m)\u001b[49m\u001b[43m,\u001b[49m\u001b[43m \u001b[49m\u001b[43msubfeature\u001b[49m\u001b[43m)\u001b[49m \u001b[38;5;28;01mfor\u001b[39;00m name, subfeature \u001b[38;5;129;01min\u001b[39;00m feature\u001b[38;5;241m.\u001b[39mitems()]\n\u001b[1;32m   2041\u001b[0m \u001b[38;5;28;01mreturn\u001b[39;00m pa\u001b[38;5;241m.\u001b[39mStructArray\u001b[38;5;241m.\u001b[39mfrom_arrays(arrays, names\u001b[38;5;241m=\u001b[39m\u001b[38;5;28mlist\u001b[39m(feature), mask\u001b[38;5;241m=\u001b[39marray\u001b[38;5;241m.\u001b[39mis_null())\n",
      "File \u001b[0;32m~/py39/lib/python3.9/site-packages/datasets/table.py:1799\u001b[0m, in \u001b[0;36m_wrap_for_chunked_arrays.<locals>.wrapper\u001b[0;34m(array, *args, **kwargs)\u001b[0m\n\u001b[1;32m   1798\u001b[0m \u001b[38;5;28;01melse\u001b[39;00m:\n\u001b[0;32m-> 1799\u001b[0m     \u001b[38;5;28;01mreturn\u001b[39;00m \u001b[43mfunc\u001b[49m\u001b[43m(\u001b[49m\u001b[43marray\u001b[49m\u001b[43m,\u001b[49m\u001b[43m \u001b[49m\u001b[38;5;241;43m*\u001b[39;49m\u001b[43margs\u001b[49m\u001b[43m,\u001b[49m\u001b[43m \u001b[49m\u001b[38;5;241;43m*\u001b[39;49m\u001b[38;5;241;43m*\u001b[39;49m\u001b[43mkwargs\u001b[49m\u001b[43m)\u001b[49m\n",
      "File \u001b[0;32m~/py39/lib/python3.9/site-packages/datasets/table.py:2110\u001b[0m, in \u001b[0;36mcast_array_to_feature\u001b[0;34m(array, feature, allow_number_to_str)\u001b[0m\n\u001b[1;32m   2109\u001b[0m \u001b[38;5;28;01melif\u001b[39;00m \u001b[38;5;129;01mnot\u001b[39;00m \u001b[38;5;28misinstance\u001b[39m(feature, (Sequence, \u001b[38;5;28mdict\u001b[39m, \u001b[38;5;28mlist\u001b[39m, \u001b[38;5;28mtuple\u001b[39m)):\n\u001b[0;32m-> 2110\u001b[0m     \u001b[38;5;28;01mreturn\u001b[39;00m \u001b[43marray_cast\u001b[49m\u001b[43m(\u001b[49m\u001b[43marray\u001b[49m\u001b[43m,\u001b[49m\u001b[43m \u001b[49m\u001b[43mfeature\u001b[49m\u001b[43m(\u001b[49m\u001b[43m)\u001b[49m\u001b[43m,\u001b[49m\u001b[43m \u001b[49m\u001b[43mallow_number_to_str\u001b[49m\u001b[38;5;241;43m=\u001b[39;49m\u001b[43mallow_number_to_str\u001b[49m\u001b[43m)\u001b[49m\n\u001b[1;32m   2111\u001b[0m \u001b[38;5;28;01mraise\u001b[39;00m \u001b[38;5;167;01mTypeError\u001b[39;00m(\u001b[38;5;124mf\u001b[39m\u001b[38;5;124m\"\u001b[39m\u001b[38;5;124mCouldn\u001b[39m\u001b[38;5;124m'\u001b[39m\u001b[38;5;124mt cast array of type\u001b[39m\u001b[38;5;130;01m\\n\u001b[39;00m\u001b[38;5;132;01m{\u001b[39;00marray\u001b[38;5;241m.\u001b[39mtype\u001b[38;5;132;01m}\u001b[39;00m\u001b[38;5;130;01m\\n\u001b[39;00m\u001b[38;5;124mto\u001b[39m\u001b[38;5;130;01m\\n\u001b[39;00m\u001b[38;5;132;01m{\u001b[39;00mfeature\u001b[38;5;132;01m}\u001b[39;00m\u001b[38;5;124m\"\u001b[39m)\n",
      "File \u001b[0;32m~/py39/lib/python3.9/site-packages/datasets/table.py:1799\u001b[0m, in \u001b[0;36m_wrap_for_chunked_arrays.<locals>.wrapper\u001b[0;34m(array, *args, **kwargs)\u001b[0m\n\u001b[1;32m   1798\u001b[0m \u001b[38;5;28;01melse\u001b[39;00m:\n\u001b[0;32m-> 1799\u001b[0m     \u001b[38;5;28;01mreturn\u001b[39;00m \u001b[43mfunc\u001b[49m\u001b[43m(\u001b[49m\u001b[43marray\u001b[49m\u001b[43m,\u001b[49m\u001b[43m \u001b[49m\u001b[38;5;241;43m*\u001b[39;49m\u001b[43margs\u001b[49m\u001b[43m,\u001b[49m\u001b[43m \u001b[49m\u001b[38;5;241;43m*\u001b[39;49m\u001b[38;5;241;43m*\u001b[39;49m\u001b[43mkwargs\u001b[49m\u001b[43m)\u001b[49m\n",
      "File \u001b[0;32m~/py39/lib/python3.9/site-packages/datasets/table.py:1992\u001b[0m, in \u001b[0;36marray_cast\u001b[0;34m(array, pa_type, allow_number_to_str)\u001b[0m\n\u001b[1;32m   1991\u001b[0m \u001b[38;5;28;01mif\u001b[39;00m pa\u001b[38;5;241m.\u001b[39mtypes\u001b[38;5;241m.\u001b[39mis_null(pa_type) \u001b[38;5;129;01mand\u001b[39;00m \u001b[38;5;129;01mnot\u001b[39;00m pa\u001b[38;5;241m.\u001b[39mtypes\u001b[38;5;241m.\u001b[39mis_null(array\u001b[38;5;241m.\u001b[39mtype):\n\u001b[0;32m-> 1992\u001b[0m     \u001b[38;5;28;01mraise\u001b[39;00m \u001b[38;5;167;01mTypeError\u001b[39;00m(\u001b[38;5;124mf\u001b[39m\u001b[38;5;124m\"\u001b[39m\u001b[38;5;124mCouldn\u001b[39m\u001b[38;5;124m'\u001b[39m\u001b[38;5;124mt cast array of type \u001b[39m\u001b[38;5;132;01m{\u001b[39;00marray\u001b[38;5;241m.\u001b[39mtype\u001b[38;5;132;01m}\u001b[39;00m\u001b[38;5;124m to \u001b[39m\u001b[38;5;132;01m{\u001b[39;00mpa_type\u001b[38;5;132;01m}\u001b[39;00m\u001b[38;5;124m\"\u001b[39m)\n\u001b[1;32m   1993\u001b[0m \u001b[38;5;28;01mreturn\u001b[39;00m array\u001b[38;5;241m.\u001b[39mcast(pa_type)\n",
      "\u001b[0;31mTypeError\u001b[0m: Couldn't cast array of type timestamp[s] to null",
      "\nThe above exception was the direct cause of the following exception:\n",
      "\u001b[0;31mDatasetGenerationError\u001b[0m                    Traceback (most recent call last)",
      "Cell \u001b[0;32mIn[135], line 1\u001b[0m\n\u001b[0;32m----> 1\u001b[0m issues_dataset \u001b[38;5;241m=\u001b[39m \u001b[43mload_dataset\u001b[49m\u001b[43m(\u001b[49m\u001b[38;5;124;43m\"\u001b[39;49m\u001b[38;5;124;43mjson\u001b[39;49m\u001b[38;5;124;43m\"\u001b[39;49m\u001b[43m,\u001b[49m\u001b[43m \u001b[49m\u001b[43mdata_files\u001b[49m\u001b[38;5;241;43m=\u001b[39;49m\u001b[38;5;124;43m\"\u001b[39;49m\u001b[38;5;124;43mdatasets-issues.jsonl\u001b[39;49m\u001b[38;5;124;43m\"\u001b[39;49m\u001b[43m,\u001b[49m\u001b[43m \u001b[49m\u001b[43msplit\u001b[49m\u001b[38;5;241;43m=\u001b[39;49m\u001b[38;5;124;43m\"\u001b[39;49m\u001b[38;5;124;43mtrain\u001b[39;49m\u001b[38;5;124;43m\"\u001b[39;49m\u001b[43m)\u001b[49m\n\u001b[1;32m      2\u001b[0m issues_dataset\n",
      "File \u001b[0;32m~/py39/lib/python3.9/site-packages/datasets/load.py:2549\u001b[0m, in \u001b[0;36mload_dataset\u001b[0;34m(path, name, data_dir, data_files, split, cache_dir, features, download_config, download_mode, verification_mode, ignore_verifications, keep_in_memory, save_infos, revision, token, use_auth_token, task, streaming, num_proc, storage_options, trust_remote_code, **config_kwargs)\u001b[0m\n\u001b[1;32m   2546\u001b[0m try_from_hf_gcs \u001b[38;5;241m=\u001b[39m path \u001b[38;5;129;01mnot\u001b[39;00m \u001b[38;5;129;01min\u001b[39;00m _PACKAGED_DATASETS_MODULES\n\u001b[1;32m   2548\u001b[0m \u001b[38;5;66;03m# Download and prepare data\u001b[39;00m\n\u001b[0;32m-> 2549\u001b[0m \u001b[43mbuilder_instance\u001b[49m\u001b[38;5;241;43m.\u001b[39;49m\u001b[43mdownload_and_prepare\u001b[49m\u001b[43m(\u001b[49m\n\u001b[1;32m   2550\u001b[0m \u001b[43m    \u001b[49m\u001b[43mdownload_config\u001b[49m\u001b[38;5;241;43m=\u001b[39;49m\u001b[43mdownload_config\u001b[49m\u001b[43m,\u001b[49m\n\u001b[1;32m   2551\u001b[0m \u001b[43m    \u001b[49m\u001b[43mdownload_mode\u001b[49m\u001b[38;5;241;43m=\u001b[39;49m\u001b[43mdownload_mode\u001b[49m\u001b[43m,\u001b[49m\n\u001b[1;32m   2552\u001b[0m \u001b[43m    \u001b[49m\u001b[43mverification_mode\u001b[49m\u001b[38;5;241;43m=\u001b[39;49m\u001b[43mverification_mode\u001b[49m\u001b[43m,\u001b[49m\n\u001b[1;32m   2553\u001b[0m \u001b[43m    \u001b[49m\u001b[43mtry_from_hf_gcs\u001b[49m\u001b[38;5;241;43m=\u001b[39;49m\u001b[43mtry_from_hf_gcs\u001b[49m\u001b[43m,\u001b[49m\n\u001b[1;32m   2554\u001b[0m \u001b[43m    \u001b[49m\u001b[43mnum_proc\u001b[49m\u001b[38;5;241;43m=\u001b[39;49m\u001b[43mnum_proc\u001b[49m\u001b[43m,\u001b[49m\n\u001b[1;32m   2555\u001b[0m \u001b[43m    \u001b[49m\u001b[43mstorage_options\u001b[49m\u001b[38;5;241;43m=\u001b[39;49m\u001b[43mstorage_options\u001b[49m\u001b[43m,\u001b[49m\n\u001b[1;32m   2556\u001b[0m \u001b[43m\u001b[49m\u001b[43m)\u001b[49m\n\u001b[1;32m   2558\u001b[0m \u001b[38;5;66;03m# Build dataset for splits\u001b[39;00m\n\u001b[1;32m   2559\u001b[0m keep_in_memory \u001b[38;5;241m=\u001b[39m (\n\u001b[1;32m   2560\u001b[0m     keep_in_memory \u001b[38;5;28;01mif\u001b[39;00m keep_in_memory \u001b[38;5;129;01mis\u001b[39;00m \u001b[38;5;129;01mnot\u001b[39;00m \u001b[38;5;28;01mNone\u001b[39;00m \u001b[38;5;28;01melse\u001b[39;00m is_small_dataset(builder_instance\u001b[38;5;241m.\u001b[39minfo\u001b[38;5;241m.\u001b[39mdataset_size)\n\u001b[1;32m   2561\u001b[0m )\n",
      "File \u001b[0;32m~/py39/lib/python3.9/site-packages/datasets/builder.py:1005\u001b[0m, in \u001b[0;36mDatasetBuilder.download_and_prepare\u001b[0;34m(self, output_dir, download_config, download_mode, verification_mode, ignore_verifications, try_from_hf_gcs, dl_manager, base_path, use_auth_token, file_format, max_shard_size, num_proc, storage_options, **download_and_prepare_kwargs)\u001b[0m\n\u001b[1;32m   1003\u001b[0m     \u001b[38;5;28;01mif\u001b[39;00m num_proc \u001b[38;5;129;01mis\u001b[39;00m \u001b[38;5;129;01mnot\u001b[39;00m \u001b[38;5;28;01mNone\u001b[39;00m:\n\u001b[1;32m   1004\u001b[0m         prepare_split_kwargs[\u001b[38;5;124m\"\u001b[39m\u001b[38;5;124mnum_proc\u001b[39m\u001b[38;5;124m\"\u001b[39m] \u001b[38;5;241m=\u001b[39m num_proc\n\u001b[0;32m-> 1005\u001b[0m     \u001b[38;5;28;43mself\u001b[39;49m\u001b[38;5;241;43m.\u001b[39;49m\u001b[43m_download_and_prepare\u001b[49m\u001b[43m(\u001b[49m\n\u001b[1;32m   1006\u001b[0m \u001b[43m        \u001b[49m\u001b[43mdl_manager\u001b[49m\u001b[38;5;241;43m=\u001b[39;49m\u001b[43mdl_manager\u001b[49m\u001b[43m,\u001b[49m\n\u001b[1;32m   1007\u001b[0m \u001b[43m        \u001b[49m\u001b[43mverification_mode\u001b[49m\u001b[38;5;241;43m=\u001b[39;49m\u001b[43mverification_mode\u001b[49m\u001b[43m,\u001b[49m\n\u001b[1;32m   1008\u001b[0m \u001b[43m        \u001b[49m\u001b[38;5;241;43m*\u001b[39;49m\u001b[38;5;241;43m*\u001b[39;49m\u001b[43mprepare_split_kwargs\u001b[49m\u001b[43m,\u001b[49m\n\u001b[1;32m   1009\u001b[0m \u001b[43m        \u001b[49m\u001b[38;5;241;43m*\u001b[39;49m\u001b[38;5;241;43m*\u001b[39;49m\u001b[43mdownload_and_prepare_kwargs\u001b[49m\u001b[43m,\u001b[49m\n\u001b[1;32m   1010\u001b[0m \u001b[43m    \u001b[49m\u001b[43m)\u001b[49m\n\u001b[1;32m   1011\u001b[0m \u001b[38;5;66;03m# Sync info\u001b[39;00m\n\u001b[1;32m   1012\u001b[0m \u001b[38;5;28mself\u001b[39m\u001b[38;5;241m.\u001b[39minfo\u001b[38;5;241m.\u001b[39mdataset_size \u001b[38;5;241m=\u001b[39m \u001b[38;5;28msum\u001b[39m(split\u001b[38;5;241m.\u001b[39mnum_bytes \u001b[38;5;28;01mfor\u001b[39;00m split \u001b[38;5;129;01min\u001b[39;00m \u001b[38;5;28mself\u001b[39m\u001b[38;5;241m.\u001b[39minfo\u001b[38;5;241m.\u001b[39msplits\u001b[38;5;241m.\u001b[39mvalues())\n",
      "File \u001b[0;32m~/py39/lib/python3.9/site-packages/datasets/builder.py:1100\u001b[0m, in \u001b[0;36mDatasetBuilder._download_and_prepare\u001b[0;34m(self, dl_manager, verification_mode, **prepare_split_kwargs)\u001b[0m\n\u001b[1;32m   1096\u001b[0m split_dict\u001b[38;5;241m.\u001b[39madd(split_generator\u001b[38;5;241m.\u001b[39msplit_info)\n\u001b[1;32m   1098\u001b[0m \u001b[38;5;28;01mtry\u001b[39;00m:\n\u001b[1;32m   1099\u001b[0m     \u001b[38;5;66;03m# Prepare split will record examples associated to the split\u001b[39;00m\n\u001b[0;32m-> 1100\u001b[0m     \u001b[38;5;28;43mself\u001b[39;49m\u001b[38;5;241;43m.\u001b[39;49m\u001b[43m_prepare_split\u001b[49m\u001b[43m(\u001b[49m\u001b[43msplit_generator\u001b[49m\u001b[43m,\u001b[49m\u001b[43m \u001b[49m\u001b[38;5;241;43m*\u001b[39;49m\u001b[38;5;241;43m*\u001b[39;49m\u001b[43mprepare_split_kwargs\u001b[49m\u001b[43m)\u001b[49m\n\u001b[1;32m   1101\u001b[0m \u001b[38;5;28;01mexcept\u001b[39;00m \u001b[38;5;167;01mOSError\u001b[39;00m \u001b[38;5;28;01mas\u001b[39;00m e:\n\u001b[1;32m   1102\u001b[0m     \u001b[38;5;28;01mraise\u001b[39;00m \u001b[38;5;167;01mOSError\u001b[39;00m(\n\u001b[1;32m   1103\u001b[0m         \u001b[38;5;124m\"\u001b[39m\u001b[38;5;124mCannot find data file. \u001b[39m\u001b[38;5;124m\"\u001b[39m\n\u001b[1;32m   1104\u001b[0m         \u001b[38;5;241m+\u001b[39m (\u001b[38;5;28mself\u001b[39m\u001b[38;5;241m.\u001b[39mmanual_download_instructions \u001b[38;5;129;01mor\u001b[39;00m \u001b[38;5;124m\"\u001b[39m\u001b[38;5;124m\"\u001b[39m)\n\u001b[1;32m   1105\u001b[0m         \u001b[38;5;241m+\u001b[39m \u001b[38;5;124m\"\u001b[39m\u001b[38;5;130;01m\\n\u001b[39;00m\u001b[38;5;124mOriginal error:\u001b[39m\u001b[38;5;130;01m\\n\u001b[39;00m\u001b[38;5;124m\"\u001b[39m\n\u001b[1;32m   1106\u001b[0m         \u001b[38;5;241m+\u001b[39m \u001b[38;5;28mstr\u001b[39m(e)\n\u001b[1;32m   1107\u001b[0m     ) \u001b[38;5;28;01mfrom\u001b[39;00m \u001b[38;5;28;01mNone\u001b[39;00m\n",
      "File \u001b[0;32m~/py39/lib/python3.9/site-packages/datasets/builder.py:1860\u001b[0m, in \u001b[0;36mArrowBasedBuilder._prepare_split\u001b[0;34m(self, split_generator, file_format, num_proc, max_shard_size)\u001b[0m\n\u001b[1;32m   1858\u001b[0m job_id \u001b[38;5;241m=\u001b[39m \u001b[38;5;241m0\u001b[39m\n\u001b[1;32m   1859\u001b[0m \u001b[38;5;28;01mwith\u001b[39;00m pbar:\n\u001b[0;32m-> 1860\u001b[0m     \u001b[38;5;28;01mfor\u001b[39;00m job_id, done, content \u001b[38;5;129;01min\u001b[39;00m \u001b[38;5;28mself\u001b[39m\u001b[38;5;241m.\u001b[39m_prepare_split_single(\n\u001b[1;32m   1861\u001b[0m         gen_kwargs\u001b[38;5;241m=\u001b[39mgen_kwargs, job_id\u001b[38;5;241m=\u001b[39mjob_id, \u001b[38;5;241m*\u001b[39m\u001b[38;5;241m*\u001b[39m_prepare_split_args\n\u001b[1;32m   1862\u001b[0m     ):\n\u001b[1;32m   1863\u001b[0m         \u001b[38;5;28;01mif\u001b[39;00m done:\n\u001b[1;32m   1864\u001b[0m             result \u001b[38;5;241m=\u001b[39m content\n",
      "File \u001b[0;32m~/py39/lib/python3.9/site-packages/datasets/builder.py:2016\u001b[0m, in \u001b[0;36mArrowBasedBuilder._prepare_split_single\u001b[0;34m(self, gen_kwargs, fpath, file_format, max_shard_size, job_id)\u001b[0m\n\u001b[1;32m   2014\u001b[0m     \u001b[38;5;28;01mif\u001b[39;00m \u001b[38;5;28misinstance\u001b[39m(e, DatasetGenerationError):\n\u001b[1;32m   2015\u001b[0m         \u001b[38;5;28;01mraise\u001b[39;00m\n\u001b[0;32m-> 2016\u001b[0m     \u001b[38;5;28;01mraise\u001b[39;00m DatasetGenerationError(\u001b[38;5;124m\"\u001b[39m\u001b[38;5;124mAn error occurred while generating the dataset\u001b[39m\u001b[38;5;124m\"\u001b[39m) \u001b[38;5;28;01mfrom\u001b[39;00m \u001b[38;5;21;01me\u001b[39;00m\n\u001b[1;32m   2018\u001b[0m \u001b[38;5;28;01myield\u001b[39;00m job_id, \u001b[38;5;28;01mTrue\u001b[39;00m, (total_num_examples, total_num_bytes, writer\u001b[38;5;241m.\u001b[39m_features, num_shards, shard_lengths)\n",
      "\u001b[0;31mDatasetGenerationError\u001b[0m: An error occurred while generating the dataset"
     ]
    }
   ],
   "source": [
    "issues_dataset = load_dataset(\"json\", data_files=\"datasets-issues.jsonl\", split=\"train\")\n",
    "issues_dataset"
   ]
  },
  {
   "cell_type": "markdown",
   "id": "275ac6c7",
   "metadata": {},
   "source": [
    "<h2>Augmenting the Dataset</h2>"
   ]
  },
  {
   "cell_type": "code",
   "execution_count": 136,
   "id": "5977e330",
   "metadata": {},
   "outputs": [
    {
     "data": {
      "text/plain": [
       "[{'url': 'https://api.github.com/repos/huggingface/datasets/issues/comments/897594128',\n",
       "  'html_url': 'https://github.com/huggingface/datasets/pull/2792#issuecomment-897594128',\n",
       "  'issue_url': 'https://api.github.com/repos/huggingface/datasets/issues/2792',\n",
       "  'id': 897594128,\n",
       "  'node_id': 'IC_kwDODunzps41gDMQ',\n",
       "  'user': {'login': 'bhavitvyamalik',\n",
       "   'id': 19718818,\n",
       "   'node_id': 'MDQ6VXNlcjE5NzE4ODE4',\n",
       "   'avatar_url': 'https://avatars.githubusercontent.com/u/19718818?v=4',\n",
       "   'gravatar_id': '',\n",
       "   'url': 'https://api.github.com/users/bhavitvyamalik',\n",
       "   'html_url': 'https://github.com/bhavitvyamalik',\n",
       "   'followers_url': 'https://api.github.com/users/bhavitvyamalik/followers',\n",
       "   'following_url': 'https://api.github.com/users/bhavitvyamalik/following{/other_user}',\n",
       "   'gists_url': 'https://api.github.com/users/bhavitvyamalik/gists{/gist_id}',\n",
       "   'starred_url': 'https://api.github.com/users/bhavitvyamalik/starred{/owner}{/repo}',\n",
       "   'subscriptions_url': 'https://api.github.com/users/bhavitvyamalik/subscriptions',\n",
       "   'organizations_url': 'https://api.github.com/users/bhavitvyamalik/orgs',\n",
       "   'repos_url': 'https://api.github.com/users/bhavitvyamalik/repos',\n",
       "   'events_url': 'https://api.github.com/users/bhavitvyamalik/events{/privacy}',\n",
       "   'received_events_url': 'https://api.github.com/users/bhavitvyamalik/received_events',\n",
       "   'type': 'User',\n",
       "   'site_admin': False},\n",
       "  'created_at': '2021-08-12T12:21:52Z',\n",
       "  'updated_at': '2021-08-12T12:31:17Z',\n",
       "  'author_association': 'CONTRIBUTOR',\n",
       "  'body': \"@albertvillanova my tests are failing here:\\r\\n```\\r\\ndataset_name = 'gooaq'\\r\\n\\r\\n    def test_load_dataset(self, dataset_name):\\r\\n        configs = self.dataset_tester.load_all_configs(dataset_name, is_local=True)[:1]\\r\\n>       self.dataset_tester.check_load_dataset(dataset_name, configs, is_local=True, use_local_dummy_data=True)\\r\\n\\r\\ntests/test_dataset_common.py:234: \\r\\n_ _ _ _ _ _ _ _ _ _ _ _ _ _ _ _ _ _ _ _ _ _ _ _ _ _ _ _ _ _ _ _ _ _ _ _ _ _ _ _ \\r\\ntests/test_dataset_common.py:187: in check_load_dataset\\r\\n    self.parent.assertTrue(len(dataset[split]) > 0)\\r\\nE   AssertionError: False is not true\\r\\n```\\r\\nWhen I try loading dataset on local machine it works fine. Any suggestions on how can I avoid this error?\",\n",
       "  'reactions': {'url': 'https://api.github.com/repos/huggingface/datasets/issues/comments/897594128/reactions',\n",
       "   'total_count': 0,\n",
       "   '+1': 0,\n",
       "   '-1': 0,\n",
       "   'laugh': 0,\n",
       "   'hooray': 0,\n",
       "   'confused': 0,\n",
       "   'heart': 0,\n",
       "   'rocket': 0,\n",
       "   'eyes': 0},\n",
       "  'performed_via_github_app': None},\n",
       " {'url': 'https://api.github.com/repos/huggingface/datasets/issues/comments/898644889',\n",
       "  'html_url': 'https://github.com/huggingface/datasets/pull/2792#issuecomment-898644889',\n",
       "  'issue_url': 'https://api.github.com/repos/huggingface/datasets/issues/2792',\n",
       "  'id': 898644889,\n",
       "  'node_id': 'IC_kwDODunzps41kDuZ',\n",
       "  'user': {'login': 'bhavitvyamalik',\n",
       "   'id': 19718818,\n",
       "   'node_id': 'MDQ6VXNlcjE5NzE4ODE4',\n",
       "   'avatar_url': 'https://avatars.githubusercontent.com/u/19718818?v=4',\n",
       "   'gravatar_id': '',\n",
       "   'url': 'https://api.github.com/users/bhavitvyamalik',\n",
       "   'html_url': 'https://github.com/bhavitvyamalik',\n",
       "   'followers_url': 'https://api.github.com/users/bhavitvyamalik/followers',\n",
       "   'following_url': 'https://api.github.com/users/bhavitvyamalik/following{/other_user}',\n",
       "   'gists_url': 'https://api.github.com/users/bhavitvyamalik/gists{/gist_id}',\n",
       "   'starred_url': 'https://api.github.com/users/bhavitvyamalik/starred{/owner}{/repo}',\n",
       "   'subscriptions_url': 'https://api.github.com/users/bhavitvyamalik/subscriptions',\n",
       "   'organizations_url': 'https://api.github.com/users/bhavitvyamalik/orgs',\n",
       "   'repos_url': 'https://api.github.com/users/bhavitvyamalik/repos',\n",
       "   'events_url': 'https://api.github.com/users/bhavitvyamalik/events{/privacy}',\n",
       "   'received_events_url': 'https://api.github.com/users/bhavitvyamalik/received_events',\n",
       "   'type': 'User',\n",
       "   'site_admin': False},\n",
       "  'created_at': '2021-08-13T18:28:27Z',\n",
       "  'updated_at': '2021-08-13T18:28:27Z',\n",
       "  'author_association': 'CONTRIBUTOR',\n",
       "  'body': 'Thanks for the help, @albertvillanova! All tests are passing now.',\n",
       "  'reactions': {'url': 'https://api.github.com/repos/huggingface/datasets/issues/comments/898644889/reactions',\n",
       "   'total_count': 0,\n",
       "   '+1': 0,\n",
       "   '-1': 0,\n",
       "   'laugh': 0,\n",
       "   'hooray': 0,\n",
       "   'confused': 0,\n",
       "   'heart': 0,\n",
       "   'rocket': 0,\n",
       "   'eyes': 0},\n",
       "  'performed_via_github_app': None}]"
      ]
     },
     "execution_count": 136,
     "metadata": {},
     "output_type": "execute_result"
    }
   ],
   "source": [
    "issue_number = 2792\n",
    "url = f\"https://api.github.com/repos/huggingface/datasets/issues/{issue_number}/comments\"\n",
    "response = requests.get(url, headers=headers)\n",
    "response.json()"
   ]
  },
  {
   "cell_type": "code",
   "execution_count": 137,
   "id": "1e1e5af3",
   "metadata": {},
   "outputs": [
    {
     "data": {
      "text/plain": [
       "[\"@albertvillanova my tests are failing here:\\r\\n```\\r\\ndataset_name = 'gooaq'\\r\\n\\r\\n    def test_load_dataset(self, dataset_name):\\r\\n        configs = self.dataset_tester.load_all_configs(dataset_name, is_local=True)[:1]\\r\\n>       self.dataset_tester.check_load_dataset(dataset_name, configs, is_local=True, use_local_dummy_data=True)\\r\\n\\r\\ntests/test_dataset_common.py:234: \\r\\n_ _ _ _ _ _ _ _ _ _ _ _ _ _ _ _ _ _ _ _ _ _ _ _ _ _ _ _ _ _ _ _ _ _ _ _ _ _ _ _ \\r\\ntests/test_dataset_common.py:187: in check_load_dataset\\r\\n    self.parent.assertTrue(len(dataset[split]) > 0)\\r\\nE   AssertionError: False is not true\\r\\n```\\r\\nWhen I try loading dataset on local machine it works fine. Any suggestions on how can I avoid this error?\",\n",
       " 'Thanks for the help, @albertvillanova! All tests are passing now.']"
      ]
     },
     "execution_count": 137,
     "metadata": {},
     "output_type": "execute_result"
    }
   ],
   "source": [
    "def get_comments(issue_number):\n",
    "    url = f\"https://api.github.com/repos/huggingface/datasets/issues/{issue_number}/comments\"\n",
    "    response = requests.get(url, headers=headers)\n",
    "    return [r[\"body\"] for r in response.json()]\n",
    "\n",
    "\n",
    "# Test our function works as expected\n",
    "get_comments(2792)"
   ]
  },
  {
   "cell_type": "markdown",
   "id": "bfddbef5",
   "metadata": {},
   "source": [
    "<h1> Semantic search with FAISS</h1>"
   ]
  },
  {
   "cell_type": "code",
   "execution_count": 1,
   "id": "b003aca5",
   "metadata": {},
   "outputs": [
    {
     "name": "stderr",
     "output_type": "stream",
     "text": [
      "/home/ponir/py39/lib/python3.9/site-packages/huggingface_hub/repocard.py:105: UserWarning: Repo card metadata block was not found. Setting CardData to empty.\n",
      "  warnings.warn(\"Repo card metadata block was not found. Setting CardData to empty.\")\n"
     ]
    },
    {
     "data": {
      "text/plain": [
       "Dataset({\n",
       "    features: ['url', 'repository_url', 'labels_url', 'comments_url', 'events_url', 'html_url', 'id', 'node_id', 'number', 'title', 'user', 'labels', 'state', 'locked', 'assignee', 'assignees', 'milestone', 'comments', 'created_at', 'updated_at', 'closed_at', 'author_association', 'active_lock_reason', 'pull_request', 'body', 'timeline_url', 'performed_via_github_app', 'is_pull_request'],\n",
       "    num_rows: 3019\n",
       "})"
      ]
     },
     "execution_count": 1,
     "metadata": {},
     "output_type": "execute_result"
    }
   ],
   "source": [
    "from datasets import load_dataset\n",
    "\n",
    "issues_dataset = load_dataset(\"lewtun/github-issues\", split=\"train\")\n",
    "issues_dataset"
   ]
  },
  {
   "cell_type": "code",
   "execution_count": 2,
   "id": "48a2c6a2",
   "metadata": {},
   "outputs": [
    {
     "data": {
      "text/plain": [
       "Dataset({\n",
       "    features: ['html_url', 'title', 'comments', 'body'],\n",
       "    num_rows: 3019\n",
       "})"
      ]
     },
     "execution_count": 2,
     "metadata": {},
     "output_type": "execute_result"
    }
   ],
   "source": [
    "columns = issues_dataset.column_names\n",
    "columns_to_keep = [\"title\", \"body\", \"html_url\", \"comments\"]\n",
    "columns_to_remove = set(columns_to_keep).symmetric_difference(columns)\n",
    "issues_dataset = issues_dataset.remove_columns(columns_to_remove)\n",
    "issues_dataset"
   ]
  },
  {
   "cell_type": "code",
   "execution_count": 3,
   "id": "63af8337",
   "metadata": {},
   "outputs": [],
   "source": [
    "issues_dataset.set_format(\"pandas\")\n",
    "df = issues_dataset[:]"
   ]
  },
  {
   "cell_type": "code",
   "execution_count": 4,
   "id": "dc97892f",
   "metadata": {},
   "outputs": [
    {
     "data": {
      "text/plain": [
       "['There is a speed up in Windows machines:\\r\\n- From `13m 52s` to `11m 10s`\\r\\n\\r\\nIn Linux machines, some workers crash with error message:\\r\\n```\\r\\nOSError: [Errno 12] Cannot allocate memory\\r\\n```',\n",
       " 'There is also a speed up in Linux machines:\\r\\n- From `7m 30s` to `5m 32s`']"
      ]
     },
     "execution_count": 4,
     "metadata": {},
     "output_type": "execute_result"
    }
   ],
   "source": [
    "df[\"comments\"][1].tolist()"
   ]
  },
  {
   "cell_type": "code",
   "execution_count": 5,
   "id": "7f140189",
   "metadata": {},
   "outputs": [
    {
     "data": {
      "text/html": [
       "<div>\n",
       "<style scoped>\n",
       "    .dataframe tbody tr th:only-of-type {\n",
       "        vertical-align: middle;\n",
       "    }\n",
       "\n",
       "    .dataframe tbody tr th {\n",
       "        vertical-align: top;\n",
       "    }\n",
       "\n",
       "    .dataframe thead th {\n",
       "        text-align: right;\n",
       "    }\n",
       "</style>\n",
       "<table border=\"1\" class=\"dataframe\">\n",
       "  <thead>\n",
       "    <tr style=\"text-align: right;\">\n",
       "      <th></th>\n",
       "      <th>html_url</th>\n",
       "      <th>title</th>\n",
       "      <th>comments</th>\n",
       "      <th>body</th>\n",
       "    </tr>\n",
       "  </thead>\n",
       "  <tbody>\n",
       "    <tr>\n",
       "      <th>0</th>\n",
       "      <td>https://github.com/huggingface/datasets/pull/2955</td>\n",
       "      <td>Update legacy Python image for CI tests in Linux</td>\n",
       "      <td>NaN</td>\n",
       "      <td>Instead of legacy, use next-generation conveni...</td>\n",
       "    </tr>\n",
       "    <tr>\n",
       "      <th>1</th>\n",
       "      <td>https://github.com/huggingface/datasets/pull/2954</td>\n",
       "      <td>Run tests in parallel</td>\n",
       "      <td>There is a speed up in Windows machines:\\r\\n- ...</td>\n",
       "      <td>Run CI tests in parallel to speed up the test ...</td>\n",
       "    </tr>\n",
       "    <tr>\n",
       "      <th>2</th>\n",
       "      <td>https://github.com/huggingface/datasets/pull/2954</td>\n",
       "      <td>Run tests in parallel</td>\n",
       "      <td>There is also a speed up in Linux machines:\\r\\...</td>\n",
       "      <td>Run CI tests in parallel to speed up the test ...</td>\n",
       "    </tr>\n",
       "    <tr>\n",
       "      <th>3</th>\n",
       "      <td>https://github.com/huggingface/datasets/pull/2952</td>\n",
       "      <td>Fix missing conda deps</td>\n",
       "      <td>NaN</td>\n",
       "      <td>`aiohttp` was added as a dependency in #2662 b...</td>\n",
       "    </tr>\n",
       "  </tbody>\n",
       "</table>\n",
       "</div>"
      ],
      "text/plain": [
       "                                            html_url  \\\n",
       "0  https://github.com/huggingface/datasets/pull/2955   \n",
       "1  https://github.com/huggingface/datasets/pull/2954   \n",
       "2  https://github.com/huggingface/datasets/pull/2954   \n",
       "3  https://github.com/huggingface/datasets/pull/2952   \n",
       "\n",
       "                                              title  \\\n",
       "0  Update legacy Python image for CI tests in Linux   \n",
       "1                             Run tests in parallel   \n",
       "2                             Run tests in parallel   \n",
       "3                            Fix missing conda deps   \n",
       "\n",
       "                                            comments  \\\n",
       "0                                                NaN   \n",
       "1  There is a speed up in Windows machines:\\r\\n- ...   \n",
       "2  There is also a speed up in Linux machines:\\r\\...   \n",
       "3                                                NaN   \n",
       "\n",
       "                                                body  \n",
       "0  Instead of legacy, use next-generation conveni...  \n",
       "1  Run CI tests in parallel to speed up the test ...  \n",
       "2  Run CI tests in parallel to speed up the test ...  \n",
       "3  `aiohttp` was added as a dependency in #2662 b...  "
      ]
     },
     "execution_count": 5,
     "metadata": {},
     "output_type": "execute_result"
    }
   ],
   "source": [
    "comments_df = df.explode(\"comments\", ignore_index=True)\n",
    "comments_df.head(4)"
   ]
  },
  {
   "cell_type": "code",
   "execution_count": 6,
   "id": "08ca7fa5",
   "metadata": {},
   "outputs": [
    {
     "data": {
      "text/plain": [
       "Dataset({\n",
       "    features: ['html_url', 'title', 'comments', 'body'],\n",
       "    num_rows: 7238\n",
       "})"
      ]
     },
     "execution_count": 6,
     "metadata": {},
     "output_type": "execute_result"
    }
   ],
   "source": [
    "from datasets import Dataset\n",
    "\n",
    "comments_dataset = Dataset.from_pandas(comments_df)\n",
    "comments_dataset"
   ]
  },
  {
   "cell_type": "code",
   "execution_count": 7,
   "id": "358e5b4f",
   "metadata": {},
   "outputs": [
    {
     "data": {
      "application/vnd.jupyter.widget-view+json": {
       "model_id": "01e85a8ef6134c6fbae4543d3480b38b",
       "version_major": 2,
       "version_minor": 0
      },
      "text/plain": [
       "Filter:   0%|          | 0/7238 [00:00<?, ? examples/s]"
      ]
     },
     "metadata": {},
     "output_type": "display_data"
    },
    {
     "data": {
      "application/vnd.jupyter.widget-view+json": {
       "model_id": "8bec3e42fb5a47b4ae8e8ee26ff43e7a",
       "version_major": 2,
       "version_minor": 0
      },
      "text/plain": [
       "Filter:   0%|          | 0/6061 [00:00<?, ? examples/s]"
      ]
     },
     "metadata": {},
     "output_type": "display_data"
    },
    {
     "data": {
      "application/vnd.jupyter.widget-view+json": {
       "model_id": "e6cf56eea3c242c4848e23558ad89bc5",
       "version_major": 2,
       "version_minor": 0
      },
      "text/plain": [
       "Filter:   0%|          | 0/6061 [00:00<?, ? examples/s]"
      ]
     },
     "metadata": {},
     "output_type": "display_data"
    },
    {
     "data": {
      "text/plain": [
       "Dataset({\n",
       "    features: ['html_url', 'title', 'comments', 'body'],\n",
       "    num_rows: 6049\n",
       "})"
      ]
     },
     "execution_count": 7,
     "metadata": {},
     "output_type": "execute_result"
    }
   ],
   "source": [
    "comments_dataset = comments_dataset.filter(lambda x: x[\"comments\"] is not None)\n",
    "comments_dataset = comments_dataset.filter(lambda x: x[\"title\"] is not None)\n",
    "comments_dataset = comments_dataset.filter(lambda x: x[\"body\"] is not None)\n",
    "comments_dataset"
   ]
  },
  {
   "cell_type": "code",
   "execution_count": 8,
   "id": "e4eb920b",
   "metadata": {},
   "outputs": [
    {
     "data": {
      "application/vnd.jupyter.widget-view+json": {
       "model_id": "0a257d64b63c4d4b9d474847c308c155",
       "version_major": 2,
       "version_minor": 0
      },
      "text/plain": [
       "Map:   0%|          | 0/6049 [00:00<?, ? examples/s]"
      ]
     },
     "metadata": {},
     "output_type": "display_data"
    }
   ],
   "source": [
    "comments_dataset = comments_dataset.map(\n",
    "    lambda x: {\"comment_length\": len(x[\"comments\"].split())}\n",
    ")"
   ]
  },
  {
   "cell_type": "code",
   "execution_count": 9,
   "id": "0ce8bab2",
   "metadata": {},
   "outputs": [
    {
     "data": {
      "text/plain": [
       "Dataset({\n",
       "    features: ['html_url', 'title', 'comments', 'body', 'comment_length'],\n",
       "    num_rows: 6049\n",
       "})"
      ]
     },
     "execution_count": 9,
     "metadata": {},
     "output_type": "execute_result"
    }
   ],
   "source": [
    "comments_dataset"
   ]
  },
  {
   "cell_type": "code",
   "execution_count": 10,
   "id": "03f94f0c",
   "metadata": {},
   "outputs": [
    {
     "data": {
      "application/vnd.jupyter.widget-view+json": {
       "model_id": "cf6bc6fb76194db1b299756ce4e8787a",
       "version_major": 2,
       "version_minor": 0
      },
      "text/plain": [
       "Map:   0%|          | 0/6049 [00:00<?, ? examples/s]"
      ]
     },
     "metadata": {},
     "output_type": "display_data"
    }
   ],
   "source": [
    "def concatenate_text(examples):\n",
    "    return {\n",
    "        \"text\": examples[\"title\"]\n",
    "        + \" \\n \"\n",
    "        + examples[\"body\"]\n",
    "        + \" \\n \"\n",
    "        + examples[\"comments\"]\n",
    "    }\n",
    "\n",
    "\n",
    "comments_dataset = comments_dataset.map(concatenate_text)"
   ]
  },
  {
   "cell_type": "markdown",
   "id": "4b76a801",
   "metadata": {},
   "source": [
    "<h2>Let's create embeddings</h2>"
   ]
  },
  {
   "cell_type": "code",
   "execution_count": 11,
   "id": "eb83efa2",
   "metadata": {},
   "outputs": [],
   "source": [
    "from transformers import AutoTokenizer, AutoModel\n",
    "\n",
    "model_ckpt = \"sentence-transformers/multi-qa-mpnet-base-dot-v1\"\n",
    "tokenizer = AutoTokenizer.from_pretrained(model_ckpt)\n",
    "model = AutoModel.from_pretrained(model_ckpt)"
   ]
  },
  {
   "cell_type": "code",
   "execution_count": 12,
   "id": "00705e19",
   "metadata": {},
   "outputs": [
    {
     "data": {
      "text/plain": [
       "MPNetModel(\n",
       "  (embeddings): MPNetEmbeddings(\n",
       "    (word_embeddings): Embedding(30527, 768, padding_idx=1)\n",
       "    (position_embeddings): Embedding(514, 768, padding_idx=1)\n",
       "    (LayerNorm): LayerNorm((768,), eps=1e-05, elementwise_affine=True)\n",
       "    (dropout): Dropout(p=0.1, inplace=False)\n",
       "  )\n",
       "  (encoder): MPNetEncoder(\n",
       "    (layer): ModuleList(\n",
       "      (0): MPNetLayer(\n",
       "        (attention): MPNetAttention(\n",
       "          (attn): MPNetSelfAttention(\n",
       "            (q): Linear(in_features=768, out_features=768, bias=True)\n",
       "            (k): Linear(in_features=768, out_features=768, bias=True)\n",
       "            (v): Linear(in_features=768, out_features=768, bias=True)\n",
       "            (o): Linear(in_features=768, out_features=768, bias=True)\n",
       "            (dropout): Dropout(p=0.1, inplace=False)\n",
       "          )\n",
       "          (LayerNorm): LayerNorm((768,), eps=1e-05, elementwise_affine=True)\n",
       "          (dropout): Dropout(p=0.1, inplace=False)\n",
       "        )\n",
       "        (intermediate): MPNetIntermediate(\n",
       "          (dense): Linear(in_features=768, out_features=3072, bias=True)\n",
       "          (intermediate_act_fn): GELUActivation()\n",
       "        )\n",
       "        (output): MPNetOutput(\n",
       "          (dense): Linear(in_features=3072, out_features=768, bias=True)\n",
       "          (LayerNorm): LayerNorm((768,), eps=1e-05, elementwise_affine=True)\n",
       "          (dropout): Dropout(p=0.1, inplace=False)\n",
       "        )\n",
       "      )\n",
       "      (1): MPNetLayer(\n",
       "        (attention): MPNetAttention(\n",
       "          (attn): MPNetSelfAttention(\n",
       "            (q): Linear(in_features=768, out_features=768, bias=True)\n",
       "            (k): Linear(in_features=768, out_features=768, bias=True)\n",
       "            (v): Linear(in_features=768, out_features=768, bias=True)\n",
       "            (o): Linear(in_features=768, out_features=768, bias=True)\n",
       "            (dropout): Dropout(p=0.1, inplace=False)\n",
       "          )\n",
       "          (LayerNorm): LayerNorm((768,), eps=1e-05, elementwise_affine=True)\n",
       "          (dropout): Dropout(p=0.1, inplace=False)\n",
       "        )\n",
       "        (intermediate): MPNetIntermediate(\n",
       "          (dense): Linear(in_features=768, out_features=3072, bias=True)\n",
       "          (intermediate_act_fn): GELUActivation()\n",
       "        )\n",
       "        (output): MPNetOutput(\n",
       "          (dense): Linear(in_features=3072, out_features=768, bias=True)\n",
       "          (LayerNorm): LayerNorm((768,), eps=1e-05, elementwise_affine=True)\n",
       "          (dropout): Dropout(p=0.1, inplace=False)\n",
       "        )\n",
       "      )\n",
       "      (2): MPNetLayer(\n",
       "        (attention): MPNetAttention(\n",
       "          (attn): MPNetSelfAttention(\n",
       "            (q): Linear(in_features=768, out_features=768, bias=True)\n",
       "            (k): Linear(in_features=768, out_features=768, bias=True)\n",
       "            (v): Linear(in_features=768, out_features=768, bias=True)\n",
       "            (o): Linear(in_features=768, out_features=768, bias=True)\n",
       "            (dropout): Dropout(p=0.1, inplace=False)\n",
       "          )\n",
       "          (LayerNorm): LayerNorm((768,), eps=1e-05, elementwise_affine=True)\n",
       "          (dropout): Dropout(p=0.1, inplace=False)\n",
       "        )\n",
       "        (intermediate): MPNetIntermediate(\n",
       "          (dense): Linear(in_features=768, out_features=3072, bias=True)\n",
       "          (intermediate_act_fn): GELUActivation()\n",
       "        )\n",
       "        (output): MPNetOutput(\n",
       "          (dense): Linear(in_features=3072, out_features=768, bias=True)\n",
       "          (LayerNorm): LayerNorm((768,), eps=1e-05, elementwise_affine=True)\n",
       "          (dropout): Dropout(p=0.1, inplace=False)\n",
       "        )\n",
       "      )\n",
       "      (3): MPNetLayer(\n",
       "        (attention): MPNetAttention(\n",
       "          (attn): MPNetSelfAttention(\n",
       "            (q): Linear(in_features=768, out_features=768, bias=True)\n",
       "            (k): Linear(in_features=768, out_features=768, bias=True)\n",
       "            (v): Linear(in_features=768, out_features=768, bias=True)\n",
       "            (o): Linear(in_features=768, out_features=768, bias=True)\n",
       "            (dropout): Dropout(p=0.1, inplace=False)\n",
       "          )\n",
       "          (LayerNorm): LayerNorm((768,), eps=1e-05, elementwise_affine=True)\n",
       "          (dropout): Dropout(p=0.1, inplace=False)\n",
       "        )\n",
       "        (intermediate): MPNetIntermediate(\n",
       "          (dense): Linear(in_features=768, out_features=3072, bias=True)\n",
       "          (intermediate_act_fn): GELUActivation()\n",
       "        )\n",
       "        (output): MPNetOutput(\n",
       "          (dense): Linear(in_features=3072, out_features=768, bias=True)\n",
       "          (LayerNorm): LayerNorm((768,), eps=1e-05, elementwise_affine=True)\n",
       "          (dropout): Dropout(p=0.1, inplace=False)\n",
       "        )\n",
       "      )\n",
       "      (4): MPNetLayer(\n",
       "        (attention): MPNetAttention(\n",
       "          (attn): MPNetSelfAttention(\n",
       "            (q): Linear(in_features=768, out_features=768, bias=True)\n",
       "            (k): Linear(in_features=768, out_features=768, bias=True)\n",
       "            (v): Linear(in_features=768, out_features=768, bias=True)\n",
       "            (o): Linear(in_features=768, out_features=768, bias=True)\n",
       "            (dropout): Dropout(p=0.1, inplace=False)\n",
       "          )\n",
       "          (LayerNorm): LayerNorm((768,), eps=1e-05, elementwise_affine=True)\n",
       "          (dropout): Dropout(p=0.1, inplace=False)\n",
       "        )\n",
       "        (intermediate): MPNetIntermediate(\n",
       "          (dense): Linear(in_features=768, out_features=3072, bias=True)\n",
       "          (intermediate_act_fn): GELUActivation()\n",
       "        )\n",
       "        (output): MPNetOutput(\n",
       "          (dense): Linear(in_features=3072, out_features=768, bias=True)\n",
       "          (LayerNorm): LayerNorm((768,), eps=1e-05, elementwise_affine=True)\n",
       "          (dropout): Dropout(p=0.1, inplace=False)\n",
       "        )\n",
       "      )\n",
       "      (5): MPNetLayer(\n",
       "        (attention): MPNetAttention(\n",
       "          (attn): MPNetSelfAttention(\n",
       "            (q): Linear(in_features=768, out_features=768, bias=True)\n",
       "            (k): Linear(in_features=768, out_features=768, bias=True)\n",
       "            (v): Linear(in_features=768, out_features=768, bias=True)\n",
       "            (o): Linear(in_features=768, out_features=768, bias=True)\n",
       "            (dropout): Dropout(p=0.1, inplace=False)\n",
       "          )\n",
       "          (LayerNorm): LayerNorm((768,), eps=1e-05, elementwise_affine=True)\n",
       "          (dropout): Dropout(p=0.1, inplace=False)\n",
       "        )\n",
       "        (intermediate): MPNetIntermediate(\n",
       "          (dense): Linear(in_features=768, out_features=3072, bias=True)\n",
       "          (intermediate_act_fn): GELUActivation()\n",
       "        )\n",
       "        (output): MPNetOutput(\n",
       "          (dense): Linear(in_features=3072, out_features=768, bias=True)\n",
       "          (LayerNorm): LayerNorm((768,), eps=1e-05, elementwise_affine=True)\n",
       "          (dropout): Dropout(p=0.1, inplace=False)\n",
       "        )\n",
       "      )\n",
       "      (6): MPNetLayer(\n",
       "        (attention): MPNetAttention(\n",
       "          (attn): MPNetSelfAttention(\n",
       "            (q): Linear(in_features=768, out_features=768, bias=True)\n",
       "            (k): Linear(in_features=768, out_features=768, bias=True)\n",
       "            (v): Linear(in_features=768, out_features=768, bias=True)\n",
       "            (o): Linear(in_features=768, out_features=768, bias=True)\n",
       "            (dropout): Dropout(p=0.1, inplace=False)\n",
       "          )\n",
       "          (LayerNorm): LayerNorm((768,), eps=1e-05, elementwise_affine=True)\n",
       "          (dropout): Dropout(p=0.1, inplace=False)\n",
       "        )\n",
       "        (intermediate): MPNetIntermediate(\n",
       "          (dense): Linear(in_features=768, out_features=3072, bias=True)\n",
       "          (intermediate_act_fn): GELUActivation()\n",
       "        )\n",
       "        (output): MPNetOutput(\n",
       "          (dense): Linear(in_features=3072, out_features=768, bias=True)\n",
       "          (LayerNorm): LayerNorm((768,), eps=1e-05, elementwise_affine=True)\n",
       "          (dropout): Dropout(p=0.1, inplace=False)\n",
       "        )\n",
       "      )\n",
       "      (7): MPNetLayer(\n",
       "        (attention): MPNetAttention(\n",
       "          (attn): MPNetSelfAttention(\n",
       "            (q): Linear(in_features=768, out_features=768, bias=True)\n",
       "            (k): Linear(in_features=768, out_features=768, bias=True)\n",
       "            (v): Linear(in_features=768, out_features=768, bias=True)\n",
       "            (o): Linear(in_features=768, out_features=768, bias=True)\n",
       "            (dropout): Dropout(p=0.1, inplace=False)\n",
       "          )\n",
       "          (LayerNorm): LayerNorm((768,), eps=1e-05, elementwise_affine=True)\n",
       "          (dropout): Dropout(p=0.1, inplace=False)\n",
       "        )\n",
       "        (intermediate): MPNetIntermediate(\n",
       "          (dense): Linear(in_features=768, out_features=3072, bias=True)\n",
       "          (intermediate_act_fn): GELUActivation()\n",
       "        )\n",
       "        (output): MPNetOutput(\n",
       "          (dense): Linear(in_features=3072, out_features=768, bias=True)\n",
       "          (LayerNorm): LayerNorm((768,), eps=1e-05, elementwise_affine=True)\n",
       "          (dropout): Dropout(p=0.1, inplace=False)\n",
       "        )\n",
       "      )\n",
       "      (8): MPNetLayer(\n",
       "        (attention): MPNetAttention(\n",
       "          (attn): MPNetSelfAttention(\n",
       "            (q): Linear(in_features=768, out_features=768, bias=True)\n",
       "            (k): Linear(in_features=768, out_features=768, bias=True)\n",
       "            (v): Linear(in_features=768, out_features=768, bias=True)\n",
       "            (o): Linear(in_features=768, out_features=768, bias=True)\n",
       "            (dropout): Dropout(p=0.1, inplace=False)\n",
       "          )\n",
       "          (LayerNorm): LayerNorm((768,), eps=1e-05, elementwise_affine=True)\n",
       "          (dropout): Dropout(p=0.1, inplace=False)\n",
       "        )\n",
       "        (intermediate): MPNetIntermediate(\n",
       "          (dense): Linear(in_features=768, out_features=3072, bias=True)\n",
       "          (intermediate_act_fn): GELUActivation()\n",
       "        )\n",
       "        (output): MPNetOutput(\n",
       "          (dense): Linear(in_features=3072, out_features=768, bias=True)\n",
       "          (LayerNorm): LayerNorm((768,), eps=1e-05, elementwise_affine=True)\n",
       "          (dropout): Dropout(p=0.1, inplace=False)\n",
       "        )\n",
       "      )\n",
       "      (9): MPNetLayer(\n",
       "        (attention): MPNetAttention(\n",
       "          (attn): MPNetSelfAttention(\n",
       "            (q): Linear(in_features=768, out_features=768, bias=True)\n",
       "            (k): Linear(in_features=768, out_features=768, bias=True)\n",
       "            (v): Linear(in_features=768, out_features=768, bias=True)\n",
       "            (o): Linear(in_features=768, out_features=768, bias=True)\n",
       "            (dropout): Dropout(p=0.1, inplace=False)\n",
       "          )\n",
       "          (LayerNorm): LayerNorm((768,), eps=1e-05, elementwise_affine=True)\n",
       "          (dropout): Dropout(p=0.1, inplace=False)\n",
       "        )\n",
       "        (intermediate): MPNetIntermediate(\n",
       "          (dense): Linear(in_features=768, out_features=3072, bias=True)\n",
       "          (intermediate_act_fn): GELUActivation()\n",
       "        )\n",
       "        (output): MPNetOutput(\n",
       "          (dense): Linear(in_features=3072, out_features=768, bias=True)\n",
       "          (LayerNorm): LayerNorm((768,), eps=1e-05, elementwise_affine=True)\n",
       "          (dropout): Dropout(p=0.1, inplace=False)\n",
       "        )\n",
       "      )\n",
       "      (10): MPNetLayer(\n",
       "        (attention): MPNetAttention(\n",
       "          (attn): MPNetSelfAttention(\n",
       "            (q): Linear(in_features=768, out_features=768, bias=True)\n",
       "            (k): Linear(in_features=768, out_features=768, bias=True)\n",
       "            (v): Linear(in_features=768, out_features=768, bias=True)\n",
       "            (o): Linear(in_features=768, out_features=768, bias=True)\n",
       "            (dropout): Dropout(p=0.1, inplace=False)\n",
       "          )\n",
       "          (LayerNorm): LayerNorm((768,), eps=1e-05, elementwise_affine=True)\n",
       "          (dropout): Dropout(p=0.1, inplace=False)\n",
       "        )\n",
       "        (intermediate): MPNetIntermediate(\n",
       "          (dense): Linear(in_features=768, out_features=3072, bias=True)\n",
       "          (intermediate_act_fn): GELUActivation()\n",
       "        )\n",
       "        (output): MPNetOutput(\n",
       "          (dense): Linear(in_features=3072, out_features=768, bias=True)\n",
       "          (LayerNorm): LayerNorm((768,), eps=1e-05, elementwise_affine=True)\n",
       "          (dropout): Dropout(p=0.1, inplace=False)\n",
       "        )\n",
       "      )\n",
       "      (11): MPNetLayer(\n",
       "        (attention): MPNetAttention(\n",
       "          (attn): MPNetSelfAttention(\n",
       "            (q): Linear(in_features=768, out_features=768, bias=True)\n",
       "            (k): Linear(in_features=768, out_features=768, bias=True)\n",
       "            (v): Linear(in_features=768, out_features=768, bias=True)\n",
       "            (o): Linear(in_features=768, out_features=768, bias=True)\n",
       "            (dropout): Dropout(p=0.1, inplace=False)\n",
       "          )\n",
       "          (LayerNorm): LayerNorm((768,), eps=1e-05, elementwise_affine=True)\n",
       "          (dropout): Dropout(p=0.1, inplace=False)\n",
       "        )\n",
       "        (intermediate): MPNetIntermediate(\n",
       "          (dense): Linear(in_features=768, out_features=3072, bias=True)\n",
       "          (intermediate_act_fn): GELUActivation()\n",
       "        )\n",
       "        (output): MPNetOutput(\n",
       "          (dense): Linear(in_features=3072, out_features=768, bias=True)\n",
       "          (LayerNorm): LayerNorm((768,), eps=1e-05, elementwise_affine=True)\n",
       "          (dropout): Dropout(p=0.1, inplace=False)\n",
       "        )\n",
       "      )\n",
       "    )\n",
       "    (relative_attention_bias): Embedding(32, 12)\n",
       "  )\n",
       "  (pooler): MPNetPooler(\n",
       "    (dense): Linear(in_features=768, out_features=768, bias=True)\n",
       "    (activation): Tanh()\n",
       "  )\n",
       ")"
      ]
     },
     "execution_count": 12,
     "metadata": {},
     "output_type": "execute_result"
    }
   ],
   "source": [
    "import torch\n",
    "\n",
    "device = torch.device(\"cuda\")\n",
    "model.to(device)"
   ]
  },
  {
   "cell_type": "code",
   "execution_count": 13,
   "id": "4c3239f7",
   "metadata": {},
   "outputs": [],
   "source": [
    "def cls_pooling(model_output):\n",
    "    return model_output.last_hidden_state[:, 0]"
   ]
  },
  {
   "cell_type": "code",
   "execution_count": 14,
   "id": "de0c3d95",
   "metadata": {},
   "outputs": [],
   "source": [
    "def get_embeddings(text_list):\n",
    "    encoded_input = tokenizer(\n",
    "        text_list, padding=True, truncation=True, return_tensors=\"pt\"\n",
    "    )\n",
    "    encoded_input = {k: v.to(device) for k, v in encoded_input.items()}\n",
    "    model_output = model(**encoded_input)\n",
    "    return cls_pooling(model_output)"
   ]
  },
  {
   "cell_type": "code",
   "execution_count": 15,
   "id": "0b1687e8",
   "metadata": {},
   "outputs": [
    {
     "data": {
      "text/plain": [
       "torch.Size([1, 768])"
      ]
     },
     "execution_count": 15,
     "metadata": {},
     "output_type": "execute_result"
    }
   ],
   "source": [
    "embedding = get_embeddings(comments_dataset[\"text\"][0])\n",
    "embedding.shape"
   ]
  },
  {
   "cell_type": "code",
   "execution_count": 16,
   "id": "800632fc",
   "metadata": {},
   "outputs": [
    {
     "data": {
      "application/vnd.jupyter.widget-view+json": {
       "model_id": "8e33544a7432499fad4ad6dbdfcaff60",
       "version_major": 2,
       "version_minor": 0
      },
      "text/plain": [
       "Map:   0%|          | 0/6049 [00:00<?, ? examples/s]"
      ]
     },
     "metadata": {},
     "output_type": "display_data"
    }
   ],
   "source": [
    "embeddings_dataset = comments_dataset.map(\n",
    "    lambda x: {\"embeddings\": get_embeddings(x[\"text\"]).detach().cpu().numpy()[0]}\n",
    ")"
   ]
  },
  {
   "cell_type": "markdown",
   "id": "53feb9f2",
   "metadata": {},
   "source": [
    "<h2> Using FAISS for efficient similarity search</h2>"
   ]
  },
  {
   "cell_type": "code",
   "execution_count": 169,
   "id": "3f8f9a96",
   "metadata": {},
   "outputs": [
    {
     "name": "stderr",
     "output_type": "stream",
     "text": [
      "huggingface/tokenizers: The current process just got forked, after parallelism has already been used. Disabling parallelism to avoid deadlocks...\n",
      "To disable this warning, you can either:\n",
      "\t- Avoid using `tokenizers` before the fork if possible\n",
      "\t- Explicitly set the environment variable TOKENIZERS_PARALLELISM=(true | false)\n"
     ]
    },
    {
     "name": "stdout",
     "output_type": "stream",
     "text": [
      "Collecting faiss-cpu\n",
      "  Downloading faiss_cpu-1.7.4-cp310-cp310-manylinux_2_17_x86_64.manylinux2014_x86_64.whl (17.6 MB)\n",
      "\u001b[2K     \u001b[38;2;114;156;31m━━━━━━━━━━━━━━━━━━━━━━━━━━━━━━━━━━━━━━━━\u001b[0m \u001b[32m17.6/17.6 MB\u001b[0m \u001b[31m9.4 MB/s\u001b[0m eta \u001b[36m0:00:00\u001b[0m0m eta \u001b[36m0:00:01\u001b[0m36m0:00:01\u001b[0m\n",
      "\u001b[?25hInstalling collected packages: faiss-cpu\n",
      "Successfully installed faiss-cpu-1.7.4\n"
     ]
    },
    {
     "name": "stderr",
     "output_type": "stream",
     "text": [
      "huggingface/tokenizers: The current process just got forked, after parallelism has already been used. Disabling parallelism to avoid deadlocks...\n",
      "To disable this warning, you can either:\n",
      "\t- Avoid using `tokenizers` before the fork if possible\n",
      "\t- Explicitly set the environment variable TOKENIZERS_PARALLELISM=(true | false)\n"
     ]
    },
    {
     "name": "stdout",
     "output_type": "stream",
     "text": [
      "Collecting faiss-gpu\n",
      "  Downloading faiss_gpu-1.7.2-cp310-cp310-manylinux_2_17_x86_64.manylinux2014_x86_64.whl (85.5 MB)\n",
      "\u001b[2K     \u001b[38;2;114;156;31m━━━━━━━━━━━━━━━━━━━━━━━━━━━━━━━━━━━━━━━━\u001b[0m \u001b[32m85.5/85.5 MB\u001b[0m \u001b[31m7.3 MB/s\u001b[0m eta \u001b[36m0:00:00\u001b[0mm eta \u001b[36m0:00:01\u001b[0m[36m0:00:01\u001b[0mm\n",
      "\u001b[?25hInstalling collected packages: faiss-gpu\n",
      "Successfully installed faiss-gpu-1.7.2\n"
     ]
    }
   ],
   "source": [
    "#!pip install faiss-cpu\n",
    "#!pip install faiss-gpu"
   ]
  },
  {
   "cell_type": "code",
   "execution_count": 17,
   "id": "4e1c129e",
   "metadata": {},
   "outputs": [
    {
     "ename": "ImportError",
     "evalue": "You must install Faiss to use FaissIndex. To do so you can run `conda install -c pytorch faiss-cpu` or `conda install -c pytorch faiss-gpu`. A community supported package is also available on pypi: `pip install faiss-cpu` or `pip install faiss-gpu`. Note that pip may not have the latest version of FAISS, and thus, some of the latest features and bug fixes may not be available.",
     "output_type": "error",
     "traceback": [
      "\u001b[0;31m---------------------------------------------------------------------------\u001b[0m",
      "\u001b[0;31mImportError\u001b[0m                               Traceback (most recent call last)",
      "Cell \u001b[0;32mIn[17], line 1\u001b[0m\n\u001b[0;32m----> 1\u001b[0m \u001b[43membeddings_dataset\u001b[49m\u001b[38;5;241;43m.\u001b[39;49m\u001b[43madd_faiss_index\u001b[49m\u001b[43m(\u001b[49m\u001b[43mcolumn\u001b[49m\u001b[38;5;241;43m=\u001b[39;49m\u001b[38;5;124;43m\"\u001b[39;49m\u001b[38;5;124;43membeddings\u001b[39;49m\u001b[38;5;124;43m\"\u001b[39;49m\u001b[43m)\u001b[49m\n",
      "File \u001b[0;32m~/py39/lib/python3.9/site-packages/datasets/arrow_dataset.py:5673\u001b[0m, in \u001b[0;36mDataset.add_faiss_index\u001b[0;34m(self, column, index_name, device, string_factory, metric_type, custom_index, batch_size, train_size, faiss_verbose, dtype)\u001b[0m\n\u001b[1;32m   5619\u001b[0m \u001b[38;5;250m\u001b[39m\u001b[38;5;124;03m\"\"\"Add a dense index using Faiss for fast retrieval.\u001b[39;00m\n\u001b[1;32m   5620\u001b[0m \u001b[38;5;124;03mBy default the index is done over the vectors of the specified column.\u001b[39;00m\n\u001b[1;32m   5621\u001b[0m \u001b[38;5;124;03mYou can specify `device` if you want to run it on GPU (`device` must be the GPU index).\u001b[39;00m\n\u001b[0;32m   (...)\u001b[0m\n\u001b[1;32m   5670\u001b[0m \u001b[38;5;124;03m```\u001b[39;00m\n\u001b[1;32m   5671\u001b[0m \u001b[38;5;124;03m\"\"\"\u001b[39;00m\n\u001b[1;32m   5672\u001b[0m \u001b[38;5;28;01mwith\u001b[39;00m \u001b[38;5;28mself\u001b[39m\u001b[38;5;241m.\u001b[39mformatted_as(\u001b[38;5;28mtype\u001b[39m\u001b[38;5;241m=\u001b[39m\u001b[38;5;124m\"\u001b[39m\u001b[38;5;124mnumpy\u001b[39m\u001b[38;5;124m\"\u001b[39m, columns\u001b[38;5;241m=\u001b[39m[column], dtype\u001b[38;5;241m=\u001b[39mdtype):\n\u001b[0;32m-> 5673\u001b[0m     \u001b[38;5;28;43msuper\u001b[39;49m\u001b[43m(\u001b[49m\u001b[43m)\u001b[49m\u001b[38;5;241;43m.\u001b[39;49m\u001b[43madd_faiss_index\u001b[49m\u001b[43m(\u001b[49m\n\u001b[1;32m   5674\u001b[0m \u001b[43m        \u001b[49m\u001b[43mcolumn\u001b[49m\u001b[38;5;241;43m=\u001b[39;49m\u001b[43mcolumn\u001b[49m\u001b[43m,\u001b[49m\n\u001b[1;32m   5675\u001b[0m \u001b[43m        \u001b[49m\u001b[43mindex_name\u001b[49m\u001b[38;5;241;43m=\u001b[39;49m\u001b[43mindex_name\u001b[49m\u001b[43m,\u001b[49m\n\u001b[1;32m   5676\u001b[0m \u001b[43m        \u001b[49m\u001b[43mdevice\u001b[49m\u001b[38;5;241;43m=\u001b[39;49m\u001b[43mdevice\u001b[49m\u001b[43m,\u001b[49m\n\u001b[1;32m   5677\u001b[0m \u001b[43m        \u001b[49m\u001b[43mstring_factory\u001b[49m\u001b[38;5;241;43m=\u001b[39;49m\u001b[43mstring_factory\u001b[49m\u001b[43m,\u001b[49m\n\u001b[1;32m   5678\u001b[0m \u001b[43m        \u001b[49m\u001b[43mmetric_type\u001b[49m\u001b[38;5;241;43m=\u001b[39;49m\u001b[43mmetric_type\u001b[49m\u001b[43m,\u001b[49m\n\u001b[1;32m   5679\u001b[0m \u001b[43m        \u001b[49m\u001b[43mcustom_index\u001b[49m\u001b[38;5;241;43m=\u001b[39;49m\u001b[43mcustom_index\u001b[49m\u001b[43m,\u001b[49m\n\u001b[1;32m   5680\u001b[0m \u001b[43m        \u001b[49m\u001b[43mbatch_size\u001b[49m\u001b[38;5;241;43m=\u001b[39;49m\u001b[43mbatch_size\u001b[49m\u001b[43m,\u001b[49m\n\u001b[1;32m   5681\u001b[0m \u001b[43m        \u001b[49m\u001b[43mtrain_size\u001b[49m\u001b[38;5;241;43m=\u001b[39;49m\u001b[43mtrain_size\u001b[49m\u001b[43m,\u001b[49m\n\u001b[1;32m   5682\u001b[0m \u001b[43m        \u001b[49m\u001b[43mfaiss_verbose\u001b[49m\u001b[38;5;241;43m=\u001b[39;49m\u001b[43mfaiss_verbose\u001b[49m\u001b[43m,\u001b[49m\n\u001b[1;32m   5683\u001b[0m \u001b[43m    \u001b[49m\u001b[43m)\u001b[49m\n\u001b[1;32m   5684\u001b[0m \u001b[38;5;28;01mreturn\u001b[39;00m \u001b[38;5;28mself\u001b[39m\n",
      "File \u001b[0;32m~/py39/lib/python3.9/site-packages/datasets/search.py:481\u001b[0m, in \u001b[0;36mIndexableMixin.add_faiss_index\u001b[0;34m(self, column, index_name, device, string_factory, metric_type, custom_index, batch_size, train_size, faiss_verbose)\u001b[0m\n\u001b[1;32m    460\u001b[0m \u001b[38;5;250m\u001b[39m\u001b[38;5;124;03m\"\"\"Add a dense index using Faiss for fast retrieval.\u001b[39;00m\n\u001b[1;32m    461\u001b[0m \u001b[38;5;124;03mThe index is created using the vectors of the specified column.\u001b[39;00m\n\u001b[1;32m    462\u001b[0m \u001b[38;5;124;03mYou can specify `device` if you want to run it on GPU (`device` must be the GPU index, see more below).\u001b[39;00m\n\u001b[0;32m   (...)\u001b[0m\n\u001b[1;32m    478\u001b[0m \u001b[38;5;124;03m    faiss_verbose (`bool`, defaults to False): Enable the verbosity of the Faiss index.\u001b[39;00m\n\u001b[1;32m    479\u001b[0m \u001b[38;5;124;03m\"\"\"\u001b[39;00m\n\u001b[1;32m    480\u001b[0m index_name \u001b[38;5;241m=\u001b[39m index_name \u001b[38;5;28;01mif\u001b[39;00m index_name \u001b[38;5;129;01mis\u001b[39;00m \u001b[38;5;129;01mnot\u001b[39;00m \u001b[38;5;28;01mNone\u001b[39;00m \u001b[38;5;28;01melse\u001b[39;00m column\n\u001b[0;32m--> 481\u001b[0m faiss_index \u001b[38;5;241m=\u001b[39m \u001b[43mFaissIndex\u001b[49m\u001b[43m(\u001b[49m\n\u001b[1;32m    482\u001b[0m \u001b[43m    \u001b[49m\u001b[43mdevice\u001b[49m\u001b[38;5;241;43m=\u001b[39;49m\u001b[43mdevice\u001b[49m\u001b[43m,\u001b[49m\u001b[43m \u001b[49m\u001b[43mstring_factory\u001b[49m\u001b[38;5;241;43m=\u001b[39;49m\u001b[43mstring_factory\u001b[49m\u001b[43m,\u001b[49m\u001b[43m \u001b[49m\u001b[43mmetric_type\u001b[49m\u001b[38;5;241;43m=\u001b[39;49m\u001b[43mmetric_type\u001b[49m\u001b[43m,\u001b[49m\u001b[43m \u001b[49m\u001b[43mcustom_index\u001b[49m\u001b[38;5;241;43m=\u001b[39;49m\u001b[43mcustom_index\u001b[49m\n\u001b[1;32m    483\u001b[0m \u001b[43m\u001b[49m\u001b[43m)\u001b[49m\n\u001b[1;32m    484\u001b[0m faiss_index\u001b[38;5;241m.\u001b[39madd_vectors(\n\u001b[1;32m    485\u001b[0m     \u001b[38;5;28mself\u001b[39m, column\u001b[38;5;241m=\u001b[39mcolumn, batch_size\u001b[38;5;241m=\u001b[39mbatch_size, train_size\u001b[38;5;241m=\u001b[39mtrain_size, faiss_verbose\u001b[38;5;241m=\u001b[39mfaiss_verbose\n\u001b[1;32m    486\u001b[0m )\n\u001b[1;32m    487\u001b[0m \u001b[38;5;28mself\u001b[39m\u001b[38;5;241m.\u001b[39m_indexes[index_name] \u001b[38;5;241m=\u001b[39m faiss_index\n",
      "File \u001b[0;32m~/py39/lib/python3.9/site-packages/datasets/search.py:248\u001b[0m, in \u001b[0;36mFaissIndex.__init__\u001b[0;34m(self, device, string_factory, metric_type, custom_index)\u001b[0m\n\u001b[1;32m    246\u001b[0m \u001b[38;5;28mself\u001b[39m\u001b[38;5;241m.\u001b[39mfaiss_index \u001b[38;5;241m=\u001b[39m custom_index\n\u001b[1;32m    247\u001b[0m \u001b[38;5;28;01mif\u001b[39;00m \u001b[38;5;129;01mnot\u001b[39;00m _has_faiss:\n\u001b[0;32m--> 248\u001b[0m     \u001b[38;5;28;01mraise\u001b[39;00m \u001b[38;5;167;01mImportError\u001b[39;00m(\n\u001b[1;32m    249\u001b[0m         \u001b[38;5;124m\"\u001b[39m\u001b[38;5;124mYou must install Faiss to use FaissIndex. To do so you can run `conda install -c pytorch faiss-cpu` or `conda install -c pytorch faiss-gpu`. \u001b[39m\u001b[38;5;124m\"\u001b[39m\n\u001b[1;32m    250\u001b[0m         \u001b[38;5;124m\"\u001b[39m\u001b[38;5;124mA community supported package is also available on pypi: `pip install faiss-cpu` or `pip install faiss-gpu`. \u001b[39m\u001b[38;5;124m\"\u001b[39m\n\u001b[1;32m    251\u001b[0m         \u001b[38;5;124m\"\u001b[39m\u001b[38;5;124mNote that pip may not have the latest version of FAISS, and thus, some of the latest features and bug fixes may not be available.\u001b[39m\u001b[38;5;124m\"\u001b[39m\n\u001b[1;32m    252\u001b[0m     )\n",
      "\u001b[0;31mImportError\u001b[0m: You must install Faiss to use FaissIndex. To do so you can run `conda install -c pytorch faiss-cpu` or `conda install -c pytorch faiss-gpu`. A community supported package is also available on pypi: `pip install faiss-cpu` or `pip install faiss-gpu`. Note that pip may not have the latest version of FAISS, and thus, some of the latest features and bug fixes may not be available."
     ]
    }
   ],
   "source": [
    "embeddings_dataset.add_faiss_index(column=\"embeddings\")\n",
    "\n",
    "#Faiss is not working. We can use Annoy or pynndescent instead!"
   ]
  },
  {
   "cell_type": "code",
   "execution_count": 167,
   "id": "ef44bc27",
   "metadata": {},
   "outputs": [
    {
     "data": {
      "text/plain": [
       "(1, 768)"
      ]
     },
     "execution_count": 167,
     "metadata": {},
     "output_type": "execute_result"
    }
   ],
   "source": [
    "question = \"How can I load a dataset offline?\"\n",
    "question_embedding = get_embeddings([question]).cpu().detach().numpy()\n",
    "question_embedding.shape"
   ]
  },
  {
   "cell_type": "code",
   "execution_count": 18,
   "id": "b9ef3878",
   "metadata": {},
   "outputs": [
    {
     "ename": "NameError",
     "evalue": "name 'samples_df' is not defined",
     "output_type": "error",
     "traceback": [
      "\u001b[0;31m---------------------------------------------------------------------------\u001b[0m",
      "\u001b[0;31mNameError\u001b[0m                                 Traceback (most recent call last)",
      "Cell \u001b[0;32mIn[18], line 1\u001b[0m\n\u001b[0;32m----> 1\u001b[0m \u001b[38;5;28;01mfor\u001b[39;00m _, row \u001b[38;5;129;01min\u001b[39;00m \u001b[43msamples_df\u001b[49m\u001b[38;5;241m.\u001b[39miterrows():\n\u001b[1;32m      2\u001b[0m     \u001b[38;5;28mprint\u001b[39m(\u001b[38;5;124mf\u001b[39m\u001b[38;5;124m\"\u001b[39m\u001b[38;5;124mCOMMENT: \u001b[39m\u001b[38;5;132;01m{\u001b[39;00mrow\u001b[38;5;241m.\u001b[39mcomments\u001b[38;5;132;01m}\u001b[39;00m\u001b[38;5;124m\"\u001b[39m)\n\u001b[1;32m      3\u001b[0m     \u001b[38;5;28mprint\u001b[39m(\u001b[38;5;124mf\u001b[39m\u001b[38;5;124m\"\u001b[39m\u001b[38;5;124mSCORE: \u001b[39m\u001b[38;5;132;01m{\u001b[39;00mrow\u001b[38;5;241m.\u001b[39mscores\u001b[38;5;132;01m}\u001b[39;00m\u001b[38;5;124m\"\u001b[39m)\n",
      "\u001b[0;31mNameError\u001b[0m: name 'samples_df' is not defined"
     ]
    }
   ],
   "source": [
    "for _, row in samples_df.iterrows():\n",
    "    print(f\"COMMENT: {row.comments}\")\n",
    "    print(f\"SCORE: {row.scores}\")\n",
    "    print(f\"TITLE: {row.title}\")\n",
    "    print(f\"URL: {row.html_url}\")\n",
    "    print(\"=\" * 50)\n",
    "    print()"
   ]
  },
  {
   "cell_type": "markdown",
   "id": "b86f3ffc",
   "metadata": {},
   "source": [
    "<h1>QUIZ</h1>"
   ]
  },
  {
   "cell_type": "code",
   "execution_count": 19,
   "id": "1109c7de",
   "metadata": {},
   "outputs": [
    {
     "name": "stderr",
     "output_type": "stream",
     "text": [
      "/home/ponir/py39/lib/python3.9/site-packages/datasets/load.py:1429: FutureWarning: The repository for allocine contains custom code which must be executed to correctly load the dataset. You can inspect the repository content at https://hf.co/datasets/allocine\n",
      "You can avoid this message in future by passing the argument `trust_remote_code=True`.\n",
      "Passing `trust_remote_code=True` will be mandatory to load this dataset from the next major release of `datasets`.\n",
      "  warnings.warn(\n"
     ]
    },
    {
     "data": {
      "application/vnd.jupyter.widget-view+json": {
       "model_id": "e9b21399649e45a48171d84fc2d52fd1",
       "version_major": 2,
       "version_minor": 0
      },
      "text/plain": [
       "Downloading builder script:   0%|          | 0.00/3.68k [00:00<?, ?B/s]"
      ]
     },
     "metadata": {},
     "output_type": "display_data"
    },
    {
     "data": {
      "application/vnd.jupyter.widget-view+json": {
       "model_id": "3e00ca034ccf435bbcc06b2eff2fa179",
       "version_major": 2,
       "version_minor": 0
      },
      "text/plain": [
       "Downloading metadata:   0%|          | 0.00/1.96k [00:00<?, ?B/s]"
      ]
     },
     "metadata": {},
     "output_type": "display_data"
    },
    {
     "data": {
      "application/vnd.jupyter.widget-view+json": {
       "model_id": "7947cbd95b46496d98e8226989b4d700",
       "version_major": 2,
       "version_minor": 0
      },
      "text/plain": [
       "Downloading readme:   0%|          | 0.00/9.11k [00:00<?, ?B/s]"
      ]
     },
     "metadata": {},
     "output_type": "display_data"
    },
    {
     "ename": "NotImplementedError",
     "evalue": "",
     "output_type": "error",
     "traceback": [
      "\u001b[0;31m---------------------------------------------------------------------------\u001b[0m",
      "\u001b[0;31mNotImplementedError\u001b[0m                       Traceback (most recent call last)",
      "Cell \u001b[0;32mIn[19], line 4\u001b[0m\n\u001b[1;32m      1\u001b[0m \u001b[38;5;28;01mfrom\u001b[39;00m \u001b[38;5;21;01mdatasets\u001b[39;00m \u001b[38;5;28;01mimport\u001b[39;00m load_dataset\n\u001b[1;32m      3\u001b[0m dataset \u001b[38;5;241m=\u001b[39m load_dataset(\u001b[38;5;124m\"\u001b[39m\u001b[38;5;124mallocine\u001b[39m\u001b[38;5;124m\"\u001b[39m, streaming\u001b[38;5;241m=\u001b[39m\u001b[38;5;28;01mTrue\u001b[39;00m, split\u001b[38;5;241m=\u001b[39m\u001b[38;5;124m\"\u001b[39m\u001b[38;5;124mtrain\u001b[39m\u001b[38;5;124m\"\u001b[39m)\n\u001b[0;32m----> 4\u001b[0m \u001b[43mdataset\u001b[49m\u001b[43m[\u001b[49m\u001b[38;5;241;43m0\u001b[39;49m\u001b[43m]\u001b[49m\n",
      "File \u001b[0;32m~/py39/lib/python3.9/site-packages/torch/utils/data/dataset.py:53\u001b[0m, in \u001b[0;36mDataset.__getitem__\u001b[0;34m(self, index)\u001b[0m\n\u001b[1;32m     52\u001b[0m \u001b[38;5;28;01mdef\u001b[39;00m \u001b[38;5;21m__getitem__\u001b[39m(\u001b[38;5;28mself\u001b[39m, index) \u001b[38;5;241m-\u001b[39m\u001b[38;5;241m>\u001b[39m T_co:\n\u001b[0;32m---> 53\u001b[0m     \u001b[38;5;28;01mraise\u001b[39;00m \u001b[38;5;167;01mNotImplementedError\u001b[39;00m\n",
      "\u001b[0;31mNotImplementedError\u001b[0m: "
     ]
    }
   ],
   "source": [
    "from datasets import load_dataset\n",
    "\n",
    "dataset = load_dataset(\"allocine\", streaming=True, split=\"train\")\n",
    "dataset[0]"
   ]
  },
  {
   "cell_type": "code",
   "execution_count": null,
   "id": "2789b9d6",
   "metadata": {},
   "outputs": [],
   "source": []
  }
 ],
 "metadata": {
  "kernelspec": {
   "display_name": "Python3.9 (igwn-py39)",
   "language": "python",
   "name": "py39"
  },
  "language_info": {
   "codemirror_mode": {
    "name": "ipython",
    "version": 3
   },
   "file_extension": ".py",
   "mimetype": "text/x-python",
   "name": "python",
   "nbconvert_exporter": "python",
   "pygments_lexer": "ipython3",
   "version": "3.9.16"
  }
 },
 "nbformat": 4,
 "nbformat_minor": 5
}
